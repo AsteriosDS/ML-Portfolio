{
 "cells": [
  {
   "cell_type": "code",
   "execution_count": 1,
   "id": "b4403ec2",
   "metadata": {},
   "outputs": [],
   "source": [
    "import requests\n",
    "from bs4 import BeautifulSoup\n",
    "from tqdm.notebook import tqdm\n",
    "import pandas as pd\n",
    "from datetime import datetime\n",
    "import numpy as np\n",
    "from requests_html import HTMLSession\n",
    "import psycopg2 as pg2"
   ]
  },
  {
   "cell_type": "code",
   "execution_count": 2,
   "id": "fc487547",
   "metadata": {},
   "outputs": [],
   "source": [
    "main_link = 'https://www.kariera.gr/en/jobs?title=&page=0&limit=20'"
   ]
  },
  {
   "cell_type": "code",
   "execution_count": 3,
   "id": "e87b3d5d",
   "metadata": {},
   "outputs": [
    {
     "data": {
      "text/plain": [
       "<Response [200]>"
      ]
     },
     "execution_count": 3,
     "metadata": {},
     "output_type": "execute_result"
    }
   ],
   "source": [
    "main_link = 'https://www.kariera.gr/en/jobs?title=&page=0&limit=20'\n",
    "headers = {'User-agent':'Mozilla/5.0 (Windows NT 6.1; Win64; x64; rv:47.0) Gecko/20100101 Firefox/47.0'}\n",
    "r = requests.get(main_link, headers=headers)\n",
    "r"
   ]
  },
  {
   "cell_type": "markdown",
   "id": "ae2992d6",
   "metadata": {},
   "source": [
    "## Main Idea\n",
    "### scrape all main_link + sub_links where sub_links=data%20analyst,data%20scientist,data%20engineer"
   ]
  },
  {
   "cell_type": "code",
   "execution_count": 4,
   "id": "061921b6",
   "metadata": {},
   "outputs": [],
   "source": [
    "soup = BeautifulSoup(r.content, 'html.parser')"
   ]
  },
  {
   "cell_type": "code",
   "execution_count": 5,
   "id": "4130ee50",
   "metadata": {},
   "outputs": [],
   "source": [
    "max_page = soup.find('li',class_='ant-pagination-next').previous_sibling.text\n",
    "max_pages = int(max_page)"
   ]
  },
  {
   "cell_type": "code",
   "execution_count": 6,
   "id": "10eff259",
   "metadata": {},
   "outputs": [
    {
     "data": {
      "text/plain": [
       "155"
      ]
     },
     "execution_count": 6,
     "metadata": {},
     "output_type": "execute_result"
    }
   ],
   "source": [
    "max_pages"
   ]
  },
  {
   "cell_type": "markdown",
   "id": "f0538f8e",
   "metadata": {},
   "source": [
    "### working out how to turn pages:"
   ]
  },
  {
   "cell_type": "code",
   "execution_count": 7,
   "id": "6b13b490",
   "metadata": {},
   "outputs": [],
   "source": [
    "main_link = 'https://www.kariera.gr/en/jobs?title=&page=0&limit=20'"
   ]
  },
  {
   "cell_type": "code",
   "execution_count": 8,
   "id": "9556a425",
   "metadata": {},
   "outputs": [
    {
     "data": {
      "text/plain": [
       "'0'"
      ]
     },
     "execution_count": 8,
     "metadata": {},
     "output_type": "execute_result"
    }
   ],
   "source": [
    "main_link.split('&')[-2][-1]"
   ]
  },
  {
   "cell_type": "code",
   "execution_count": 9,
   "id": "dd324dc6",
   "metadata": {},
   "outputs": [],
   "source": [
    "page_link_list=[]\n",
    "for i in range(0,max_pages+1):\n",
    "    page_link_list.append('https://www.kariera.gr/en/jobs?title=&page={}&limit=20'.format(i))"
   ]
  },
  {
   "cell_type": "markdown",
   "id": "1e8121db",
   "metadata": {},
   "source": [
    "## getting all sub-links from all links"
   ]
  },
  {
   "cell_type": "code",
   "execution_count": 10,
   "id": "025944c0",
   "metadata": {},
   "outputs": [
    {
     "data": {
      "application/vnd.jupyter.widget-view+json": {
       "model_id": "133a9dfcca7a40ecbcdf68a65746602d",
       "version_major": 2,
       "version_minor": 0
      },
      "text/plain": [
       "  0%|          | 0/156 [00:00<?, ?it/s]"
      ]
     },
     "metadata": {},
     "output_type": "display_data"
    }
   ],
   "source": [
    "link_list=[]\n",
    "session = HTMLSession()\n",
    "for i in tqdm(page_link_list):\n",
    "    for y in session.get(i).html.links:\n",
    "        if '/en/jobs/' in y:\n",
    "            link_list.append(y)"
   ]
  },
  {
   "cell_type": "code",
   "execution_count": 11,
   "id": "5a934603",
   "metadata": {},
   "outputs": [
    {
     "data": {
      "text/plain": [
       "3089"
      ]
     },
     "execution_count": 11,
     "metadata": {},
     "output_type": "execute_result"
    }
   ],
   "source": [
    "len(link_list)"
   ]
  },
  {
   "cell_type": "code",
   "execution_count": 12,
   "id": "d2c76032",
   "metadata": {},
   "outputs": [],
   "source": [
    "final_list=[]\n",
    "main = 'https://www.kariera.gr/'\n",
    "for i in link_list:\n",
    "    final_list.append(main + i)"
   ]
  },
  {
   "cell_type": "code",
   "execution_count": 17,
   "id": "53348403",
   "metadata": {},
   "outputs": [],
   "source": [
    "test_link = final_list[1]"
   ]
  },
  {
   "cell_type": "code",
   "execution_count": 18,
   "id": "82b7189d",
   "metadata": {},
   "outputs": [
    {
     "data": {
      "text/plain": [
       "<!DOCTYPE html>\n",
       "<html lang=\"en\"><head><meta charset=\"utf-8\"/><meta content=\"initial-scale=1.0, width=device-width\" name=\"viewport\"/><meta content=\"website\" property=\"og:type\"/><meta content=\"0kddlwbsdagaz58pjd2fj7p4wuuroo\" name=\"facebook-domain-verification\"/><link as=\"image\" imagesrcset=\"/_next/image?url=%2Fassets%2Fimages%2Fflag-en.png&amp;w=32&amp;q=75 1x, /_next/image?url=%2Fassets%2Fimages%2Fflag-en.png&amp;w=48&amp;q=75 2x\" rel=\"preload\"/><title>Real Estate University: Εργάζεσαι &amp; Εκπαιδεύεσαι ταυτόχρονα στη Νο1 Εταιρεία Real Estate Παγκοσμίως (Βόρεια, Δυτικά Προάστια, Πειραιάς ή Προάστια Πειραιά) - 41833</title><script type=\"application/ld+json\">{\"@context\":\"http://schema.org\",\"@type\":\"JobPosting\",\"datePosted\":\"2023-01-08T04:24:28.000Z\",\"description\":\"<p>Καριέρα στο real estate; Θέλεις να εργάζεσαι με ελεύθερο ωράριο, πολλαπλές δυνατότητες εξέλιξης και αμοιβές που αγγίζουν το 100% (!) της προμήθειας; Έλα τότε στη No1 Εταιρεία Real Estate παγκοσμίως!</p>\\n<h3><strong data-stringify-type=\\\"bold\\\">Ποιοι είμαστε:</strong></h3>\\n<p>Η<strong data-stringify-type=\\\"bold\\\"> <a href=\\\"https://solutionsgroup.gr/real-estate/\\\" target=\\\"_blank\\\" rel=\\\"noopener\\\">Keller Williams Solutions Group</a>*</strong> έχει καταφέρει μέσα σε 6 χρόνια λειτουργίας να αριθμεί 25 Συμβούλους και να εντάσσεται στις πρώτες θέσεις πανελλαδικά σε πωλήσεις. Βασικός πυλώνας της επιτυχίας μας είναι η φροντίδα και προσοχή που δίνουμε στην ανάπτυξη των συνεργατών/Συμβούλων μας.</p>\\n<p>Τα αποτελέσματά μας μιλούν από μόνα τους:</p>\\n<ul>\\n<li><strong>1 Πώληση / 4 ημέρες</strong> για τα έτη 2017-2022</li>\\n<li>Οι Σύμβουλοί μας κατατάσσονται στους <strong>κορυφαίους πανελλαδικά</strong> μέσα σε 2-3 χρόνια στο χώρο.</li>\\n<li>Για το 2021: <strong><span style=\\\"text-decoration: underline;\\\">Οι 2 πρώτοι Σύμβουλοι πανελλαδικά ανήκουν στο γραφείο μας</span></strong></li>\\n</ul>\\n<p>Αποστολή μας είναι να «Ενδυναμώνουμε τους ανθρώπους να παίρνουν συνειδητοποιημένες αποφάσεις σχετικά με την ακίνητη περιουσία τους», υιοθετώντας ταυτόχρονα μια σύγχρονη προσέγγιση στον κλάδο του real estate και στοχεύοντας να γίνουμε το Νο.1 Γραφείο πανελλαδικά.</p>\\n<h2> </h2>\\n<h2>Γιατί μαζί μας;</h2>\\n<h3><strong data-stringify-type=\\\"bold\\\">Υψηλές Προμήθειες</strong></h3>\\n<p>Πιστεύουμε πως οι Σύμβουλοί μας αξίζουν τα καλύτερα για αυτό και τους ανταμοίβουμε μέχρι και με το <strong>100% (!) των συνολικών προμηθειών</strong>. Έτσι, όλοι έχουν κίνητρο να πετύχουν και εξελιχθούν περισσότερο, χτίζοντας ταυτόχρονα μια καριέρα με υψηλά εισοδήματα.</p>\\n<h3> </h3>\\n<h3><strong data-stringify-type=\\\"bold\\\">Συνεχής Εκπαίδευση</strong></h3>\\n<p><img src=\\\"https://solutionsgroup.gr/real-estate/wp-content/uploads/2020/09/1DM2_2058_NEW.jpg\\\" alt=\\\"Συνεχής Εκπαίδευση\\\" width=\\\"500\\\" height=\\\"371\\\" /><img src=\\\"https://drive.google.com/file/d/1bXGj_NGd_7WCaLs2J83lcl0cT7rkD9sa/view?usp=sharing\\\" alt=\\\"\\\" /></p>\\n<p>Η εκπαίδευση στο γραφείο μας ξεκινά με το… καλημέρα αφού θα περάσεις από <strong>100 ώρες βιωματικής εκπαίδευσης</strong> πριν καν βγεις στην αγορά! Σεμιναριακά μαθήματα, παιχνίδια ρόλων (role playing), παρακολούθηση έμπειρων συνεργατών (shadowing), υποστήριξη στα πρώτα σου ραντεβού: χρησιμοποιούμε όλους τους σύγχρονους τρόπους εκμάθησης. Τα ολοκληρωμένα προγράμματα κατάρτισης της Keller Williams αποτελούν ευκαιρία εκμάθησης του αντικειμένου, για επαγγελματίες του χώρου και μη. Για το λόγο αυτό οι Σύμβουλοι μας αποπνέουν επαγγελματισμό, κερδίζουν την εμπιστοσύνη των πελατών τους και κλείνουν πολλές συμφωνίες.</p>\\n<h3> </h3>\\n<h3><strong data-stringify-type=\\\"bold\\\">Πλήρης Υποστήριξη</strong></h3>\\n<p><strong data-stringify-type=\\\"bold\\\"><img src=\\\"https://solutionsgroup.gr/real-estate/wp-content/uploads/2019/11/DM2_1984.jpg\\\" alt=\\\"Πλήρης Υποστήριξη\\\" width=\\\"500\\\" height=\\\"371\\\" /></strong></p>\\n<p>Φροντίζουμε να σου παρέχουμε ότι χρειαστείς για την ομαλή διεξαγωγή της εργασίας σου: από χώρο εργασίας και γραμματειακή υποστήριξη, μέχρι καθοδήγηση στη διαφήμιση των ακινήτων, τη διαπραγμάτευση και τη διεκπεραίωση των συμβολαίων σου. Αναλαμβάνοντας λοιπόν εμείς όλη τη γραφειοκρατία, εσύ μπορείς να εστιάζεις στη πιο σημαντική ενέργεια: να γίνεσαι ο/η έμπιστος/η Σύμβουλος Ακινήτων των ανθρώπων που σκέφτονται να πουλήσουν ή εκμισθώσουν το ακίνητό τους.</p>\\n<h3> </h3>\\n<h3><strong data-stringify-type=\\\"bold\\\">Πρωτοποριακό Marketing &amp; Τεχνολογία</strong></h3>\\n<p>Με <a href=\\\"https://www.youtube.com/watch?v=bBsPTu1tPVU&amp;list=PL-D1LR7TTqHKPvVp_Ms_B1_xuftPzgIFK&amp;index=91\\\" target=\\\"_blank\\\" rel=\\\"noopener\\\">Βίντεο Παρουσίασης Ακινήτων</a> (η σειρά μας <a href=\\\"https://www.youtube.com/watch?v=bBsPTu1tPVU&amp;list=PL-D1LR7TTqHKPvVp_Ms_B1_xuftPzgIFK&amp;index=91\\\" target=\\\"_blank\\\" rel=\\\"noopener\\\">#hotAkinita</a> έχει περισσότερες από 2.300.000 προβολές στο YouTube), Gold &amp; VIP Αγγελίες, Επαγγελματική Φωτογράφιση Ακινήτων, Ενεργή Παρουσία στα Social Media (6.000 Followers), το Νο.1 Vlog στην Ελλάδα <a href=\\\"https://www.youtube.com/watch?v=0NUnE8lr6Dk&amp;list=PL-D1LR7TTqHLNvu0LYoqU5HglM9iTkcRB&amp;index=6\\\" target=\\\"_blank\\\" rel=\\\"noopener\\\">#Mesitis4U</a> και πολλά άλλα, αποκτάς μεγάλο πλεονέκτημα στην ανάθεση ακινήτων. Στόχος μας να σε αναδείξουμε στον/στην ειδικό της περιοχής σου και να σε βοηθήσουμε να προωθήσεις τα ακίνητά σου σε ολόκληρο το αγοραστικό κοινό, χτίζοντας ένα δυνατό brand για το μέλλον. Επενδύουμε επίσης και στην τεχνολογία προσελκύοντας περισσότερους πελάτες, τους οποίους και εξυπηρετούμε γρηγορότερα. Αποτέλεσμα: ολοκληρώνουμε περισσότερες πωλήσεις.</p>\\n<h3> </h3>\\n<h3><strong data-stringify-type=\\\"bold\\\">Ολοκληρωμένες Λύσεις στο χώρο του Ακινήτου</strong></h3>\\n<p>Η KW Solutions Group ανήκει στον όμιλο επιχειρήσεων, Solutions Group. Μέλος του ομίλου και η «<a href=\\\"https://solutionsgroup.gr/resolutions/\\\" target=\\\"_blank\\\" rel=\\\"noopener\\\">Resolutions - Ανακαίνιση Σπιτιού</a>» η οποία δραστηριοποιείται στο χώρο των ανακαινίσεων επί 25 χρόνια, καθώς και η «<a href=\\\"https://solutionsgroup.gr/insolutions/\\\" target=\\\"_blank\\\" rel=\\\"noopener\\\">Insolutions - Ασφαλιστικές Υπηρεσίες</a>». Οι 3 αυτές εταιρείες, έρχονται να καλύψουν τις ανάγκες του πελάτη σε real estate, ανακαινίσεις και ασφαλιστικά και να σου δώσουν τη δυνατότητα να μεγαλώσεις περαιτέρω το εισόδημά σου συστήνοντας κάθε φορά την αντίστοιχη υπηρεσία. Ταυτόχρονα, επιλεγμένοι εξωτερικοί συνεργάτες (πχ Δικηγόροι, Μηχανικοί, Συμβολαιογράφοι) βρίσκονται δίπλα σου για να σε βοηθήσουν να εξυπηρετήσεις ολοκληρωμένα τους πελάτες σου.</p>\\n<h3> </h3>\\n<h3><strong data-stringify-type=\\\"bold\\\">Ανθρωποκεντρική Κουλτούρα</strong></h3>\\n<p>Φροντίζουμε και νοιαζόμαστε για τους ανθρώπους μας. Χτίζουμε μια επιτυχημένη ομάδα συνεργατών που εστιάζει εξίσου στην παραγωγικότητα και τις ανθρώπινες σχέσεις. Το οικογενειακό κλίμα, η διασκέδαση, η επιβράβευση της αριστείας, το εταιρικό όραμα και οι αξίες μας σου επιτρέπουν να εργάζεσαι σε ένα υγιές εργασιακό περιβάλλον, με ξεκάθαρη κατεύθυνση &amp; να αποδίδεις στο μέγιστο των δυνατοτήτων σου.</p>\\n<h3> </h3>\\n<h3><strong data-stringify-type=\\\"bold\\\">Keller Williams - Η Νο.1 Εταιρεία στο Real Estate</strong></h3>\\n<p>Με 200.000 Συμβούλους Ακινήτων σε 50+ χώρες, η Keller Williams είναι η #1 εταιρεία του χώρου, αφού, έχει την πρωτοκαθεδρία στους 3 βασικούς δείκτες:</p>\\n<ul>\\n<li><strong>Νο.1 σε Αριθμό Συμβούλων Ακινήτων</strong></li>\\n<li><strong>Νο.1 σε Όγκο Πωληθέντων Ακινήτων</strong></li>\\n<li><strong>Νο.1 σε Τζίρο</strong></li>\\n</ul>\\n<p>Κι όλα αυτά, ενώ έχει καταφέρει να διατηρήσει την ανθρωποκεντρική κουλτούρα της σε τέτοιο βαθμό, που οι Σύμβουλοι Ακινήτων μένουν μαζί της για 20 χρόνια κατά μέσο όρο!</p>\\n<h3> </h3>\\n<h3><strong data-stringify-type=\\\"bold\\\">Συνέδρια &amp; Εκδηλώσεις</strong></h3>\\n<p>Κορυφαίοι επαγγελματίες του χώρου από Ελλάδα και εξωτερικό μεταφέρουν τις γνώσεις &amp; εμπειρία τους για να σε βοηθήσουν να πας ψηλότερα. Στη Νο.1 εταιρεία παγκοσμίως η ανάπτυξη είναι μονόδρομος!</p>\\n<h3> </h3>\\n<h3><strong data-stringify-type=\\\"bold\\\">Μεγάλο Δίκτυο</strong></h3>\\n<p>Με πανελλαδικό δίκτυο γραφείων μπορείς να εξυπηρετείς τους πελάτες σου όπου και να βρίσκονται. Αναλαμβάνεις περισσότερα ακίνητα, ολοκληρώνεις περισσότερες πωλήσεις, χτίζεις συμμάχους σε κάθε γωνιά της γης.</p>\\n<h2> </h2>\\n<h2><strong data-stringify-type=\\\"bold\\\">Τι παρέχουμε:</strong></h2>\\n<p>1. Εκπαίδευση Υψηλού Επιπέδου<br />2. Υποστήριξη σε όλα τα στάδια της εργασίας σου<br />3. Το πιο Πρωτοποριακό Marketing για τα ακίνητά σου<br />4. Αμοιβές που αγγίζουν το 100% (!) της προμήθειας<br />5. Ευχάριστο Περιβάλλον εργασίας με οργάνωση πολυεθνικής<br />6. Πανελλαδικό Δίκτυο Γραφείων για την κάλυψη των αναγκών των πελατών σου<br />7. Παροχή Ολοκληρωμένων Υπηρεσιών (ανακαινίσεις, ασφαλιστικές υπηρεσίες, δάνεια κτλ.)<br />8. Ευέλικτο ωράριο &amp; Ελευθερία Κινήσεων<br />9. Μεγάλες Προοπτικές εξέλιξης και δημιουργίας ομάδων<br />10. Αποδεδειγμένα συστήματα και μοντέλα ανάπτυξης</p>\\n<h3> </h3>\\n<h3><strong data-stringify-type=\\\"bold\\\">Τυπικά προσόντα:</strong></h3>\\n<p> - 5ετη Προϋπηρεσία (<span style=\\\"text-decoration: underline;\\\">ανεξαρτήτως</span> κλάδου)<br /> - Επικοινωνιακές Ικανότητες<br /> - Ήθος και Ακεραιότητα<br /> - Μεταφορικό Μέσο<br /> - Προϋπηρεσία στις Πωλήσεις θα εκτιμηθεί</p>\\n<p>Αν είσαι μεσίτης/τρια ή έχεις εργαστεί σε μεσιτικό γραφείο στην εξυπηρέτηση πελατών, εάν έχεις προϋπηρεσία ως Πωλητής, Ελεύθερος Επαγγελματίας, Επιχειρηματίας, Ασφαλιστικός Σύμβουλος, Πολιτικός Μηχανικός, Αρχιτέκτονας, Τραπεζικός, τότε έχεις πλεονέκτημα αφού έχεις ήδη αποκτήσει δεξιότητες που θα σε βοηθήσουν στο χώρο μας.</p>\\n<p>Εάν δεν σου αρκεί να είσαι υπάλληλος, εάν επιθυμείς να ρυθμίζεις εσύ το πρόγραμμά σου, εάν θέλεις τα εισοδήματά σου να εξαρτώνται από τις ενέργειές σου κι αν έχεις φιλοδοξίες να φτάσεις ψηλά, μην χάνεις άλλο χρόνο.</p>\\n<p>Έλα μαζί μας και ξεκίνα να χτίζεις το μέλλον σου τώρα!</p>\\n<p><em>*Κάθε γραφείο Keller Williams είναι ανεξάρτητη ιδιόκτητη επιχείρηση.</em></p>\\n<p> </p>\\n<p>ΥΓ: Αν θες να μάθεις <strong>ποια είναι η καθημερινότητα των Real Estate Agent</strong>, απλώς <a title=\\\"RealEstateUniversity\\\" href=\\\"https://youtu.be/nS9FDs4WYVk\\\" target=\\\"_blank\\\" rel=\\\"noopener\\\">δες αυτό εδώ το βίντεο.</a></p>\",\"title\":\"Real Estate University: Εργάζεσαι & Εκπαιδεύεσαι ταυτόχρονα στη Νο1 Εταιρεία Real Estate Παγκοσμίως (Βόρεια, Δυτικά Προάστια, Πειραιάς ή Προάστια Πειραιά)\",\"validThrough\":\"2023-02-07T04:24:28.000Z\",\"employmentType\":\"CONTRACT_FREELANCE_SELF_EMPLOYED\",\"hiringOrganization\":{\"@type\":\"Organization\",\"name\":\"KELLER WILLIAMS SOLUTIONS GROUP\",\"sameAs\":\"https://solutionsgroup.gr/\",\"logo\":\"https://employerfilesprod.blob.core.windows.net/useruploads/272405/company/2478/img-1655209038029\"},\"jobLocation\":{\"@type\":\"Place\",\"address\":\"Marousi\"}}</script><meta content=\"Καριέρα στο real estate; Θέλεις να εργάζεσαι με ελεύθερο ωράριο, πολλαπλές δυνατότητες εξέλιξης και αμοιβές που αγγίζουν το 100% (!) της προμήθειας; Έλα τότε στη No1 Εταιρεία Real Estate παγκοσμίως! Αν οι φιλοδοξίες σου είναι υψηλές και έχεις μεγάλους...\" name=\"description\"/><meta content=\"unavailable_after: 2023 02 07\" name=\"robots\"/><meta content=\"Real Estate University: Εργάζεσαι &amp; Εκπαιδεύεσαι ταυτόχρονα στη Νο1 Εταιρεία Real Estate Παγκοσμίως (Βόρεια, Δυτικά Προάστια, Πειραιάς ή Προάστια Πειραιά)\" property=\"og:title\"/><meta content=\"https://www.kariera.gr/jobs/41833\" property=\"og:url\"/><meta content=\"Καριέρα στο real estate; Θέλεις να εργάζεσαι με ελεύθερο ωράριο, πολλαπλές δυνατότητες εξέλιξης και αμοιβές που αγγίζουν το 100% (!) της προμήθειας; Έλα τότε στη No1 Εταιρεία Real Estate παγκοσμίως! Αν οι φιλοδοξίες σου είναι υψηλές και έχεις μεγάλους...\" property=\"og:description\"/><meta content=\"https://www.kariera.gr/assets/images/kariera_job-post.png\" property=\"og:image\"/><link href=\"https://www.kariera.gr/jobs/41833\" rel=\"canonical\"/><meta content=\"14\" name=\"next-head-count\"/><link href=\"https://fonts.gstatic.com\" rel=\"preconnect\"/><link href=\"/assets/favicon/apple-touch-icon.png?v=1\" rel=\"apple-touch-icon\" sizes=\"180x180\"/><link href=\"/assets/favicon/favicon-32x32.png?v=1\" rel=\"icon\" sizes=\"32x32\" type=\"image/png\"/><link href=\"/assets/favicon/favicon-16x16.png?v=1\" rel=\"icon\" sizes=\"16x16\" type=\"image/png\"/><link href=\"/assets/favicon/site.webmanifest?v=1\" rel=\"manifest\"/><link color=\"#1c2964\" href=\"/assets/favicon/safari-pinned-tab.svg?v=1\" rel=\"mask-icon\"/><link href=\"/assets/favicon/favicon.ico?v=1\" rel=\"shortcut icon\"/><meta content=\"#1c2964\" name=\"msapplication-TileColor\"/><meta content=\"/assets/favicon/mstile-144x144.png?v=1\" name=\"msapplication-TileImage\"/><meta content=\"#ffffff\" name=\"theme-color\"/><link as=\"font\" crossorigin=\"\" href=\"/fonts/Cera-Pro-Bold.otf\" rel=\"preload\"/><link crossorigin=\"\" href=\"https://fonts.gstatic.com\" rel=\"preconnect\"/><link as=\"style\" href=\"/_next/static/css/99a66afcece73014.css\" rel=\"preload\"/><link data-n-g=\"\" href=\"/_next/static/css/99a66afcece73014.css\" rel=\"stylesheet\"/><link as=\"style\" href=\"/_next/static/css/e87020463fcb714a.css\" rel=\"preload\"/><link data-n-p=\"\" href=\"/_next/static/css/e87020463fcb714a.css\" rel=\"stylesheet\"/><link as=\"style\" href=\"/_next/static/css/4df0c2f498db2304.css\" rel=\"preload\"/><link data-n-p=\"\" href=\"/_next/static/css/4df0c2f498db2304.css\" rel=\"stylesheet\"/><noscript data-n-css=\"\"></noscript><script defer=\"\" nomodule=\"\" src=\"/_next/static/chunks/polyfills-5cd94c89d3acac5f.js\"></script><script defer=\"\" src=\"/_next/static/chunks/webpack-3b4bec7d8b131d48.js\"></script><script defer=\"\" src=\"/_next/static/chunks/framework-560765ab0625ba27.js\"></script><script defer=\"\" src=\"/_next/static/chunks/main-aa52c08b211275c1.js\"></script><script defer=\"\" src=\"/_next/static/chunks/pages/_app-982e32db87d8f496.js\"></script><script defer=\"\" src=\"/_next/static/chunks/1036-5087720225176fdc.js\"></script><script defer=\"\" src=\"/_next/static/chunks/7213-8901126960b1cd9c.js\"></script><script defer=\"\" src=\"/_next/static/chunks/7307-9887a249e1679ba1.js\"></script><script defer=\"\" src=\"/_next/static/chunks/51-9e1845b734b9eaef.js\"></script><script defer=\"\" src=\"/_next/static/chunks/5338-e8188655cb0bb21e.js\"></script><script defer=\"\" src=\"/_next/static/chunks/pages/jobs/%5Bid%5D-ddf954862b5bb38b.js\"></script><script defer=\"\" src=\"/_next/static/rX9rJqlMwwXjDRJChjnEe/_buildManifest.js\"></script><script defer=\"\" src=\"/_next/static/rX9rJqlMwwXjDRJChjnEe/_ssgManifest.js\"></script><script defer=\"\" src=\"/_next/static/rX9rJqlMwwXjDRJChjnEe/_middlewareManifest.js\"></script><style data-href=\"https://fonts.googleapis.com/css2?family=Source+Sans+Pro:ital,wght@0,200;0,300;0,400;0,600;0,700;0,900;1,200;1,300;1,400;1,600;1,700;1,900&amp;display=swap\">@font-face{font-family:'Source Sans Pro';font-style:italic;font-weight:200;font-display:swap;src:url(https://fonts.gstatic.com/s/sourcesanspro/v21/6xKwdSBYKcSV-LCoeQqfX1RYOo3qPZYokRdo.woff) format('woff')}@font-face{font-family:'Source Sans Pro';font-style:italic;font-weight:300;font-display:swap;src:url(https://fonts.gstatic.com/s/sourcesanspro/v21/6xKwdSBYKcSV-LCoeQqfX1RYOo3qPZZMkhdo.woff) format('woff')}@font-face{font-family:'Source Sans Pro';font-style:italic;font-weight:400;font-display:swap;src:url(https://fonts.gstatic.com/s/sourcesanspro/v21/6xK1dSBYKcSV-LCoeQqfX1RYOo3qPa7j.woff) format('woff')}@font-face{font-family:'Source Sans Pro';font-style:italic;font-weight:600;font-display:swap;src:url(https://fonts.gstatic.com/s/sourcesanspro/v21/6xKwdSBYKcSV-LCoeQqfX1RYOo3qPZY4lBdo.woff) format('woff')}@font-face{font-family:'Source Sans Pro';font-style:italic;font-weight:700;font-display:swap;src:url(https://fonts.gstatic.com/s/sourcesanspro/v21/6xKwdSBYKcSV-LCoeQqfX1RYOo3qPZZclRdo.woff) format('woff')}@font-face{font-family:'Source Sans Pro';font-style:italic;font-weight:900;font-display:swap;src:url(https://fonts.gstatic.com/s/sourcesanspro/v21/6xKwdSBYKcSV-LCoeQqfX1RYOo3qPZZklxdo.woff) format('woff')}@font-face{font-family:'Source Sans Pro';font-style:normal;font-weight:200;font-display:swap;src:url(https://fonts.gstatic.com/s/sourcesanspro/v21/6xKydSBYKcSV-LCoeQqfX1RYOo3i94_Akw.woff) format('woff')}@font-face{font-family:'Source Sans Pro';font-style:normal;font-weight:300;font-display:swap;src:url(https://fonts.gstatic.com/s/sourcesanspro/v21/6xKydSBYKcSV-LCoeQqfX1RYOo3ik4zAkw.woff) format('woff')}@font-face{font-family:'Source Sans Pro';font-style:normal;font-weight:400;font-display:swap;src:url(https://fonts.gstatic.com/s/sourcesanspro/v21/6xK3dSBYKcSV-LCoeQqfX1RYOo3aPA.woff) format('woff')}@font-face{font-family:'Source Sans Pro';font-style:normal;font-weight:600;font-display:swap;src:url(https://fonts.gstatic.com/s/sourcesanspro/v21/6xKydSBYKcSV-LCoeQqfX1RYOo3i54rAkw.woff) format('woff')}@font-face{font-family:'Source Sans Pro';font-style:normal;font-weight:700;font-display:swap;src:url(https://fonts.gstatic.com/s/sourcesanspro/v21/6xKydSBYKcSV-LCoeQqfX1RYOo3ig4vAkw.woff) format('woff')}@font-face{font-family:'Source Sans Pro';font-style:normal;font-weight:900;font-display:swap;src:url(https://fonts.gstatic.com/s/sourcesanspro/v21/6xKydSBYKcSV-LCoeQqfX1RYOo3iu4nAkw.woff) format('woff')}@font-face{font-family:'Source Sans Pro';font-style:italic;font-weight:200;font-display:swap;src:url(https://fonts.gstatic.com/s/sourcesanspro/v21/6xKwdSBYKcSV-LCoeQqfX1RYOo3qPZYokSdh18S0xR41YDw.woff2) format('woff2');unicode-range:U+0460-052F,U+1C80-1C88,U+20B4,U+2DE0-2DFF,U+A640-A69F,U+FE2E-FE2F}@font-face{font-family:'Source Sans Pro';font-style:italic;font-weight:200;font-display:swap;src:url(https://fonts.gstatic.com/s/sourcesanspro/v21/6xKwdSBYKcSV-LCoeQqfX1RYOo3qPZYokSdo18S0xR41YDw.woff2) format('woff2');unicode-range:U+0301,U+0400-045F,U+0490-0491,U+04B0-04B1,U+2116}@font-face{font-family:'Source Sans Pro';font-style:italic;font-weight:200;font-display:swap;src:url(https://fonts.gstatic.com/s/sourcesanspro/v21/6xKwdSBYKcSV-LCoeQqfX1RYOo3qPZYokSdg18S0xR41YDw.woff2) format('woff2');unicode-range:U+1F00-1FFF}@font-face{font-family:'Source Sans Pro';font-style:italic;font-weight:200;font-display:swap;src:url(https://fonts.gstatic.com/s/sourcesanspro/v21/6xKwdSBYKcSV-LCoeQqfX1RYOo3qPZYokSdv18S0xR41YDw.woff2) format('woff2');unicode-range:U+0370-03FF}@font-face{font-family:'Source Sans Pro';font-style:italic;font-weight:200;font-display:swap;src:url(https://fonts.gstatic.com/s/sourcesanspro/v21/6xKwdSBYKcSV-LCoeQqfX1RYOo3qPZYokSdj18S0xR41YDw.woff2) format('woff2');unicode-range:U+0102-0103,U+0110-0111,U+0128-0129,U+0168-0169,U+01A0-01A1,U+01AF-01B0,U+1EA0-1EF9,U+20AB}@font-face{font-family:'Source Sans Pro';font-style:italic;font-weight:200;font-display:swap;src:url(https://fonts.gstatic.com/s/sourcesanspro/v21/6xKwdSBYKcSV-LCoeQqfX1RYOo3qPZYokSdi18S0xR41YDw.woff2) format('woff2');unicode-range:U+0100-024F,U+0259,U+1E00-1EFF,U+2020,U+20A0-20AB,U+20AD-20CF,U+2113,U+2C60-2C7F,U+A720-A7FF}@font-face{font-family:'Source Sans Pro';font-style:italic;font-weight:200;font-display:swap;src:url(https://fonts.gstatic.com/s/sourcesanspro/v21/6xKwdSBYKcSV-LCoeQqfX1RYOo3qPZYokSds18S0xR41.woff2) format('woff2');unicode-range:U+0000-00FF,U+0131,U+0152-0153,U+02BB-02BC,U+02C6,U+02DA,U+02DC,U+2000-206F,U+2074,U+20AC,U+2122,U+2191,U+2193,U+2212,U+2215,U+FEFF,U+FFFD}@font-face{font-family:'Source Sans Pro';font-style:italic;font-weight:300;font-display:swap;src:url(https://fonts.gstatic.com/s/sourcesanspro/v21/6xKwdSBYKcSV-LCoeQqfX1RYOo3qPZZMkidh18S0xR41YDw.woff2) format('woff2');unicode-range:U+0460-052F,U+1C80-1C88,U+20B4,U+2DE0-2DFF,U+A640-A69F,U+FE2E-FE2F}@font-face{font-family:'Source Sans Pro';font-style:italic;font-weight:300;font-display:swap;src:url(https://fonts.gstatic.com/s/sourcesanspro/v21/6xKwdSBYKcSV-LCoeQqfX1RYOo3qPZZMkido18S0xR41YDw.woff2) format('woff2');unicode-range:U+0301,U+0400-045F,U+0490-0491,U+04B0-04B1,U+2116}@font-face{font-family:'Source Sans Pro';font-style:italic;font-weight:300;font-display:swap;src:url(https://fonts.gstatic.com/s/sourcesanspro/v21/6xKwdSBYKcSV-LCoeQqfX1RYOo3qPZZMkidg18S0xR41YDw.woff2) format('woff2');unicode-range:U+1F00-1FFF}@font-face{font-family:'Source Sans Pro';font-style:italic;font-weight:300;font-display:swap;src:url(https://fonts.gstatic.com/s/sourcesanspro/v21/6xKwdSBYKcSV-LCoeQqfX1RYOo3qPZZMkidv18S0xR41YDw.woff2) format('woff2');unicode-range:U+0370-03FF}@font-face{font-family:'Source Sans Pro';font-style:italic;font-weight:300;font-display:swap;src:url(https://fonts.gstatic.com/s/sourcesanspro/v21/6xKwdSBYKcSV-LCoeQqfX1RYOo3qPZZMkidj18S0xR41YDw.woff2) format('woff2');unicode-range:U+0102-0103,U+0110-0111,U+0128-0129,U+0168-0169,U+01A0-01A1,U+01AF-01B0,U+1EA0-1EF9,U+20AB}@font-face{font-family:'Source Sans Pro';font-style:italic;font-weight:300;font-display:swap;src:url(https://fonts.gstatic.com/s/sourcesanspro/v21/6xKwdSBYKcSV-LCoeQqfX1RYOo3qPZZMkidi18S0xR41YDw.woff2) format('woff2');unicode-range:U+0100-024F,U+0259,U+1E00-1EFF,U+2020,U+20A0-20AB,U+20AD-20CF,U+2113,U+2C60-2C7F,U+A720-A7FF}@font-face{font-family:'Source Sans Pro';font-style:italic;font-weight:300;font-display:swap;src:url(https://fonts.gstatic.com/s/sourcesanspro/v21/6xKwdSBYKcSV-LCoeQqfX1RYOo3qPZZMkids18S0xR41.woff2) format('woff2');unicode-range:U+0000-00FF,U+0131,U+0152-0153,U+02BB-02BC,U+02C6,U+02DA,U+02DC,U+2000-206F,U+2074,U+20AC,U+2122,U+2191,U+2193,U+2212,U+2215,U+FEFF,U+FFFD}@font-face{font-family:'Source Sans Pro';font-style:italic;font-weight:400;font-display:swap;src:url(https://fonts.gstatic.com/s/sourcesanspro/v21/6xK1dSBYKcSV-LCoeQqfX1RYOo3qPZ7qsDJB9cme_xc.woff2) format('woff2');unicode-range:U+0460-052F,U+1C80-1C88,U+20B4,U+2DE0-2DFF,U+A640-A69F,U+FE2E-FE2F}@font-face{font-family:'Source Sans Pro';font-style:italic;font-weight:400;font-display:swap;src:url(https://fonts.gstatic.com/s/sourcesanspro/v21/6xK1dSBYKcSV-LCoeQqfX1RYOo3qPZ7jsDJB9cme_xc.woff2) format('woff2');unicode-range:U+0301,U+0400-045F,U+0490-0491,U+04B0-04B1,U+2116}@font-face{font-family:'Source Sans Pro';font-style:italic;font-weight:400;font-display:swap;src:url(https://fonts.gstatic.com/s/sourcesanspro/v21/6xK1dSBYKcSV-LCoeQqfX1RYOo3qPZ7rsDJB9cme_xc.woff2) format('woff2');unicode-range:U+1F00-1FFF}@font-face{font-family:'Source Sans Pro';font-style:italic;font-weight:400;font-display:swap;src:url(https://fonts.gstatic.com/s/sourcesanspro/v21/6xK1dSBYKcSV-LCoeQqfX1RYOo3qPZ7ksDJB9cme_xc.woff2) format('woff2');unicode-range:U+0370-03FF}@font-face{font-family:'Source Sans Pro';font-style:italic;font-weight:400;font-display:swap;src:url(https://fonts.gstatic.com/s/sourcesanspro/v21/6xK1dSBYKcSV-LCoeQqfX1RYOo3qPZ7osDJB9cme_xc.woff2) format('woff2');unicode-range:U+0102-0103,U+0110-0111,U+0128-0129,U+0168-0169,U+01A0-01A1,U+01AF-01B0,U+1EA0-1EF9,U+20AB}@font-face{font-family:'Source Sans Pro';font-style:italic;font-weight:400;font-display:swap;src:url(https://fonts.gstatic.com/s/sourcesanspro/v21/6xK1dSBYKcSV-LCoeQqfX1RYOo3qPZ7psDJB9cme_xc.woff2) format('woff2');unicode-range:U+0100-024F,U+0259,U+1E00-1EFF,U+2020,U+20A0-20AB,U+20AD-20CF,U+2113,U+2C60-2C7F,U+A720-A7FF}@font-face{font-family:'Source Sans Pro';font-style:italic;font-weight:400;font-display:swap;src:url(https://fonts.gstatic.com/s/sourcesanspro/v21/6xK1dSBYKcSV-LCoeQqfX1RYOo3qPZ7nsDJB9cme.woff2) format('woff2');unicode-range:U+0000-00FF,U+0131,U+0152-0153,U+02BB-02BC,U+02C6,U+02DA,U+02DC,U+2000-206F,U+2074,U+20AC,U+2122,U+2191,U+2193,U+2212,U+2215,U+FEFF,U+FFFD}@font-face{font-family:'Source Sans Pro';font-style:italic;font-weight:600;font-display:swap;src:url(https://fonts.gstatic.com/s/sourcesanspro/v21/6xKwdSBYKcSV-LCoeQqfX1RYOo3qPZY4lCdh18S0xR41YDw.woff2) format('woff2');unicode-range:U+0460-052F,U+1C80-1C88,U+20B4,U+2DE0-2DFF,U+A640-A69F,U+FE2E-FE2F}@font-face{font-family:'Source Sans Pro';font-style:italic;font-weight:600;font-display:swap;src:url(https://fonts.gstatic.com/s/sourcesanspro/v21/6xKwdSBYKcSV-LCoeQqfX1RYOo3qPZY4lCdo18S0xR41YDw.woff2) format('woff2');unicode-range:U+0301,U+0400-045F,U+0490-0491,U+04B0-04B1,U+2116}@font-face{font-family:'Source Sans Pro';font-style:italic;font-weight:600;font-display:swap;src:url(https://fonts.gstatic.com/s/sourcesanspro/v21/6xKwdSBYKcSV-LCoeQqfX1RYOo3qPZY4lCdg18S0xR41YDw.woff2) format('woff2');unicode-range:U+1F00-1FFF}@font-face{font-family:'Source Sans Pro';font-style:italic;font-weight:600;font-display:swap;src:url(https://fonts.gstatic.com/s/sourcesanspro/v21/6xKwdSBYKcSV-LCoeQqfX1RYOo3qPZY4lCdv18S0xR41YDw.woff2) format('woff2');unicode-range:U+0370-03FF}@font-face{font-family:'Source Sans Pro';font-style:italic;font-weight:600;font-display:swap;src:url(https://fonts.gstatic.com/s/sourcesanspro/v21/6xKwdSBYKcSV-LCoeQqfX1RYOo3qPZY4lCdj18S0xR41YDw.woff2) format('woff2');unicode-range:U+0102-0103,U+0110-0111,U+0128-0129,U+0168-0169,U+01A0-01A1,U+01AF-01B0,U+1EA0-1EF9,U+20AB}@font-face{font-family:'Source Sans Pro';font-style:italic;font-weight:600;font-display:swap;src:url(https://fonts.gstatic.com/s/sourcesanspro/v21/6xKwdSBYKcSV-LCoeQqfX1RYOo3qPZY4lCdi18S0xR41YDw.woff2) format('woff2');unicode-range:U+0100-024F,U+0259,U+1E00-1EFF,U+2020,U+20A0-20AB,U+20AD-20CF,U+2113,U+2C60-2C7F,U+A720-A7FF}@font-face{font-family:'Source Sans Pro';font-style:italic;font-weight:600;font-display:swap;src:url(https://fonts.gstatic.com/s/sourcesanspro/v21/6xKwdSBYKcSV-LCoeQqfX1RYOo3qPZY4lCds18S0xR41.woff2) format('woff2');unicode-range:U+0000-00FF,U+0131,U+0152-0153,U+02BB-02BC,U+02C6,U+02DA,U+02DC,U+2000-206F,U+2074,U+20AC,U+2122,U+2191,U+2193,U+2212,U+2215,U+FEFF,U+FFFD}@font-face{font-family:'Source Sans Pro';font-style:italic;font-weight:700;font-display:swap;src:url(https://fonts.gstatic.com/s/sourcesanspro/v21/6xKwdSBYKcSV-LCoeQqfX1RYOo3qPZZclSdh18S0xR41YDw.woff2) format('woff2');unicode-range:U+0460-052F,U+1C80-1C88,U+20B4,U+2DE0-2DFF,U+A640-A69F,U+FE2E-FE2F}@font-face{font-family:'Source Sans Pro';font-style:italic;font-weight:700;font-display:swap;src:url(https://fonts.gstatic.com/s/sourcesanspro/v21/6xKwdSBYKcSV-LCoeQqfX1RYOo3qPZZclSdo18S0xR41YDw.woff2) format('woff2');unicode-range:U+0301,U+0400-045F,U+0490-0491,U+04B0-04B1,U+2116}@font-face{font-family:'Source Sans Pro';font-style:italic;font-weight:700;font-display:swap;src:url(https://fonts.gstatic.com/s/sourcesanspro/v21/6xKwdSBYKcSV-LCoeQqfX1RYOo3qPZZclSdg18S0xR41YDw.woff2) format('woff2');unicode-range:U+1F00-1FFF}@font-face{font-family:'Source Sans Pro';font-style:italic;font-weight:700;font-display:swap;src:url(https://fonts.gstatic.com/s/sourcesanspro/v21/6xKwdSBYKcSV-LCoeQqfX1RYOo3qPZZclSdv18S0xR41YDw.woff2) format('woff2');unicode-range:U+0370-03FF}@font-face{font-family:'Source Sans Pro';font-style:italic;font-weight:700;font-display:swap;src:url(https://fonts.gstatic.com/s/sourcesanspro/v21/6xKwdSBYKcSV-LCoeQqfX1RYOo3qPZZclSdj18S0xR41YDw.woff2) format('woff2');unicode-range:U+0102-0103,U+0110-0111,U+0128-0129,U+0168-0169,U+01A0-01A1,U+01AF-01B0,U+1EA0-1EF9,U+20AB}@font-face{font-family:'Source Sans Pro';font-style:italic;font-weight:700;font-display:swap;src:url(https://fonts.gstatic.com/s/sourcesanspro/v21/6xKwdSBYKcSV-LCoeQqfX1RYOo3qPZZclSdi18S0xR41YDw.woff2) format('woff2');unicode-range:U+0100-024F,U+0259,U+1E00-1EFF,U+2020,U+20A0-20AB,U+20AD-20CF,U+2113,U+2C60-2C7F,U+A720-A7FF}@font-face{font-family:'Source Sans Pro';font-style:italic;font-weight:700;font-display:swap;src:url(https://fonts.gstatic.com/s/sourcesanspro/v21/6xKwdSBYKcSV-LCoeQqfX1RYOo3qPZZclSds18S0xR41.woff2) format('woff2');unicode-range:U+0000-00FF,U+0131,U+0152-0153,U+02BB-02BC,U+02C6,U+02DA,U+02DC,U+2000-206F,U+2074,U+20AC,U+2122,U+2191,U+2193,U+2212,U+2215,U+FEFF,U+FFFD}@font-face{font-family:'Source Sans Pro';font-style:italic;font-weight:900;font-display:swap;src:url(https://fonts.gstatic.com/s/sourcesanspro/v21/6xKwdSBYKcSV-LCoeQqfX1RYOo3qPZZklydh18S0xR41YDw.woff2) format('woff2');unicode-range:U+0460-052F,U+1C80-1C88,U+20B4,U+2DE0-2DFF,U+A640-A69F,U+FE2E-FE2F}@font-face{font-family:'Source Sans Pro';font-style:italic;font-weight:900;font-display:swap;src:url(https://fonts.gstatic.com/s/sourcesanspro/v21/6xKwdSBYKcSV-LCoeQqfX1RYOo3qPZZklydo18S0xR41YDw.woff2) format('woff2');unicode-range:U+0301,U+0400-045F,U+0490-0491,U+04B0-04B1,U+2116}@font-face{font-family:'Source Sans Pro';font-style:italic;font-weight:900;font-display:swap;src:url(https://fonts.gstatic.com/s/sourcesanspro/v21/6xKwdSBYKcSV-LCoeQqfX1RYOo3qPZZklydg18S0xR41YDw.woff2) format('woff2');unicode-range:U+1F00-1FFF}@font-face{font-family:'Source Sans Pro';font-style:italic;font-weight:900;font-display:swap;src:url(https://fonts.gstatic.com/s/sourcesanspro/v21/6xKwdSBYKcSV-LCoeQqfX1RYOo3qPZZklydv18S0xR41YDw.woff2) format('woff2');unicode-range:U+0370-03FF}@font-face{font-family:'Source Sans Pro';font-style:italic;font-weight:900;font-display:swap;src:url(https://fonts.gstatic.com/s/sourcesanspro/v21/6xKwdSBYKcSV-LCoeQqfX1RYOo3qPZZklydj18S0xR41YDw.woff2) format('woff2');unicode-range:U+0102-0103,U+0110-0111,U+0128-0129,U+0168-0169,U+01A0-01A1,U+01AF-01B0,U+1EA0-1EF9,U+20AB}@font-face{font-family:'Source Sans Pro';font-style:italic;font-weight:900;font-display:swap;src:url(https://fonts.gstatic.com/s/sourcesanspro/v21/6xKwdSBYKcSV-LCoeQqfX1RYOo3qPZZklydi18S0xR41YDw.woff2) format('woff2');unicode-range:U+0100-024F,U+0259,U+1E00-1EFF,U+2020,U+20A0-20AB,U+20AD-20CF,U+2113,U+2C60-2C7F,U+A720-A7FF}@font-face{font-family:'Source Sans Pro';font-style:italic;font-weight:900;font-display:swap;src:url(https://fonts.gstatic.com/s/sourcesanspro/v21/6xKwdSBYKcSV-LCoeQqfX1RYOo3qPZZklyds18S0xR41.woff2) format('woff2');unicode-range:U+0000-00FF,U+0131,U+0152-0153,U+02BB-02BC,U+02C6,U+02DA,U+02DC,U+2000-206F,U+2074,U+20AC,U+2122,U+2191,U+2193,U+2212,U+2215,U+FEFF,U+FFFD}@font-face{font-family:'Source Sans Pro';font-style:normal;font-weight:200;font-display:swap;src:url(https://fonts.gstatic.com/s/sourcesanspro/v21/6xKydSBYKcSV-LCoeQqfX1RYOo3i94_wmhdu3cOWxy40.woff2) format('woff2');unicode-range:U+0460-052F,U+1C80-1C88,U+20B4,U+2DE0-2DFF,U+A640-A69F,U+FE2E-FE2F}@font-face{font-family:'Source Sans Pro';font-style:normal;font-weight:200;font-display:swap;src:url(https://fonts.gstatic.com/s/sourcesanspro/v21/6xKydSBYKcSV-LCoeQqfX1RYOo3i94_wkxdu3cOWxy40.woff2) format('woff2');unicode-range:U+0301,U+0400-045F,U+0490-0491,U+04B0-04B1,U+2116}@font-face{font-family:'Source Sans Pro';font-style:normal;font-weight:200;font-display:swap;src:url(https://fonts.gstatic.com/s/sourcesanspro/v21/6xKydSBYKcSV-LCoeQqfX1RYOo3i94_wmxdu3cOWxy40.woff2) format('woff2');unicode-range:U+1F00-1FFF}@font-face{font-family:'Source Sans Pro';font-style:normal;font-weight:200;font-display:swap;src:url(https://fonts.gstatic.com/s/sourcesanspro/v21/6xKydSBYKcSV-LCoeQqfX1RYOo3i94_wlBdu3cOWxy40.woff2) format('woff2');unicode-range:U+0370-03FF}@font-face{font-family:'Source Sans Pro';font-style:normal;font-weight:200;font-display:swap;src:url(https://fonts.gstatic.com/s/sourcesanspro/v21/6xKydSBYKcSV-LCoeQqfX1RYOo3i94_wmBdu3cOWxy40.woff2) format('woff2');unicode-range:U+0102-0103,U+0110-0111,U+0128-0129,U+0168-0169,U+01A0-01A1,U+01AF-01B0,U+1EA0-1EF9,U+20AB}@font-face{font-family:'Source Sans Pro';font-style:normal;font-weight:200;font-display:swap;src:url(https://fonts.gstatic.com/s/sourcesanspro/v21/6xKydSBYKcSV-LCoeQqfX1RYOo3i94_wmRdu3cOWxy40.woff2) format('woff2');unicode-range:U+0100-024F,U+0259,U+1E00-1EFF,U+2020,U+20A0-20AB,U+20AD-20CF,U+2113,U+2C60-2C7F,U+A720-A7FF}@font-face{font-family:'Source Sans Pro';font-style:normal;font-weight:200;font-display:swap;src:url(https://fonts.gstatic.com/s/sourcesanspro/v21/6xKydSBYKcSV-LCoeQqfX1RYOo3i94_wlxdu3cOWxw.woff2) format('woff2');unicode-range:U+0000-00FF,U+0131,U+0152-0153,U+02BB-02BC,U+02C6,U+02DA,U+02DC,U+2000-206F,U+2074,U+20AC,U+2122,U+2191,U+2193,U+2212,U+2215,U+FEFF,U+FFFD}@font-face{font-family:'Source Sans Pro';font-style:normal;font-weight:300;font-display:swap;src:url(https://fonts.gstatic.com/s/sourcesanspro/v21/6xKydSBYKcSV-LCoeQqfX1RYOo3ik4zwmhdu3cOWxy40.woff2) format('woff2');unicode-range:U+0460-052F,U+1C80-1C88,U+20B4,U+2DE0-2DFF,U+A640-A69F,U+FE2E-FE2F}@font-face{font-family:'Source Sans Pro';font-style:normal;font-weight:300;font-display:swap;src:url(https://fonts.gstatic.com/s/sourcesanspro/v21/6xKydSBYKcSV-LCoeQqfX1RYOo3ik4zwkxdu3cOWxy40.woff2) format('woff2');unicode-range:U+0301,U+0400-045F,U+0490-0491,U+04B0-04B1,U+2116}@font-face{font-family:'Source Sans Pro';font-style:normal;font-weight:300;font-display:swap;src:url(https://fonts.gstatic.com/s/sourcesanspro/v21/6xKydSBYKcSV-LCoeQqfX1RYOo3ik4zwmxdu3cOWxy40.woff2) format('woff2');unicode-range:U+1F00-1FFF}@font-face{font-family:'Source Sans Pro';font-style:normal;font-weight:300;font-display:swap;src:url(https://fonts.gstatic.com/s/sourcesanspro/v21/6xKydSBYKcSV-LCoeQqfX1RYOo3ik4zwlBdu3cOWxy40.woff2) format('woff2');unicode-range:U+0370-03FF}@font-face{font-family:'Source Sans Pro';font-style:normal;font-weight:300;font-display:swap;src:url(https://fonts.gstatic.com/s/sourcesanspro/v21/6xKydSBYKcSV-LCoeQqfX1RYOo3ik4zwmBdu3cOWxy40.woff2) format('woff2');unicode-range:U+0102-0103,U+0110-0111,U+0128-0129,U+0168-0169,U+01A0-01A1,U+01AF-01B0,U+1EA0-1EF9,U+20AB}@font-face{font-family:'Source Sans Pro';font-style:normal;font-weight:300;font-display:swap;src:url(https://fonts.gstatic.com/s/sourcesanspro/v21/6xKydSBYKcSV-LCoeQqfX1RYOo3ik4zwmRdu3cOWxy40.woff2) format('woff2');unicode-range:U+0100-024F,U+0259,U+1E00-1EFF,U+2020,U+20A0-20AB,U+20AD-20CF,U+2113,U+2C60-2C7F,U+A720-A7FF}@font-face{font-family:'Source Sans Pro';font-style:normal;font-weight:300;font-display:swap;src:url(https://fonts.gstatic.com/s/sourcesanspro/v21/6xKydSBYKcSV-LCoeQqfX1RYOo3ik4zwlxdu3cOWxw.woff2) format('woff2');unicode-range:U+0000-00FF,U+0131,U+0152-0153,U+02BB-02BC,U+02C6,U+02DA,U+02DC,U+2000-206F,U+2074,U+20AC,U+2122,U+2191,U+2193,U+2212,U+2215,U+FEFF,U+FFFD}@font-face{font-family:'Source Sans Pro';font-style:normal;font-weight:400;font-display:swap;src:url(https://fonts.gstatic.com/s/sourcesanspro/v21/6xK3dSBYKcSV-LCoeQqfX1RYOo3qNa7lujVj9_mf.woff2) format('woff2');unicode-range:U+0460-052F,U+1C80-1C88,U+20B4,U+2DE0-2DFF,U+A640-A69F,U+FE2E-FE2F}@font-face{font-family:'Source Sans Pro';font-style:normal;font-weight:400;font-display:swap;src:url(https://fonts.gstatic.com/s/sourcesanspro/v21/6xK3dSBYKcSV-LCoeQqfX1RYOo3qPK7lujVj9_mf.woff2) format('woff2');unicode-range:U+0301,U+0400-045F,U+0490-0491,U+04B0-04B1,U+2116}@font-face{font-family:'Source Sans Pro';font-style:normal;font-weight:400;font-display:swap;src:url(https://fonts.gstatic.com/s/sourcesanspro/v21/6xK3dSBYKcSV-LCoeQqfX1RYOo3qNK7lujVj9_mf.woff2) format('woff2');unicode-range:U+1F00-1FFF}@font-face{font-family:'Source Sans Pro';font-style:normal;font-weight:400;font-display:swap;src:url(https://fonts.gstatic.com/s/sourcesanspro/v21/6xK3dSBYKcSV-LCoeQqfX1RYOo3qO67lujVj9_mf.woff2) format('woff2');unicode-range:U+0370-03FF}@font-face{font-family:'Source Sans Pro';font-style:normal;font-weight:400;font-display:swap;src:url(https://fonts.gstatic.com/s/sourcesanspro/v21/6xK3dSBYKcSV-LCoeQqfX1RYOo3qN67lujVj9_mf.woff2) format('woff2');unicode-range:U+0102-0103,U+0110-0111,U+0128-0129,U+0168-0169,U+01A0-01A1,U+01AF-01B0,U+1EA0-1EF9,U+20AB}@font-face{font-family:'Source Sans Pro';font-style:normal;font-weight:400;font-display:swap;src:url(https://fonts.gstatic.com/s/sourcesanspro/v21/6xK3dSBYKcSV-LCoeQqfX1RYOo3qNq7lujVj9_mf.woff2) format('woff2');unicode-range:U+0100-024F,U+0259,U+1E00-1EFF,U+2020,U+20A0-20AB,U+20AD-20CF,U+2113,U+2C60-2C7F,U+A720-A7FF}@font-face{font-family:'Source Sans Pro';font-style:normal;font-weight:400;font-display:swap;src:url(https://fonts.gstatic.com/s/sourcesanspro/v21/6xK3dSBYKcSV-LCoeQqfX1RYOo3qOK7lujVj9w.woff2) format('woff2');unicode-range:U+0000-00FF,U+0131,U+0152-0153,U+02BB-02BC,U+02C6,U+02DA,U+02DC,U+2000-206F,U+2074,U+20AC,U+2122,U+2191,U+2193,U+2212,U+2215,U+FEFF,U+FFFD}@font-face{font-family:'Source Sans Pro';font-style:normal;font-weight:600;font-display:swap;src:url(https://fonts.gstatic.com/s/sourcesanspro/v21/6xKydSBYKcSV-LCoeQqfX1RYOo3i54rwmhdu3cOWxy40.woff2) format('woff2');unicode-range:U+0460-052F,U+1C80-1C88,U+20B4,U+2DE0-2DFF,U+A640-A69F,U+FE2E-FE2F}@font-face{font-family:'Source Sans Pro';font-style:normal;font-weight:600;font-display:swap;src:url(https://fonts.gstatic.com/s/sourcesanspro/v21/6xKydSBYKcSV-LCoeQqfX1RYOo3i54rwkxdu3cOWxy40.woff2) format('woff2');unicode-range:U+0301,U+0400-045F,U+0490-0491,U+04B0-04B1,U+2116}@font-face{font-family:'Source Sans Pro';font-style:normal;font-weight:600;font-display:swap;src:url(https://fonts.gstatic.com/s/sourcesanspro/v21/6xKydSBYKcSV-LCoeQqfX1RYOo3i54rwmxdu3cOWxy40.woff2) format('woff2');unicode-range:U+1F00-1FFF}@font-face{font-family:'Source Sans Pro';font-style:normal;font-weight:600;font-display:swap;src:url(https://fonts.gstatic.com/s/sourcesanspro/v21/6xKydSBYKcSV-LCoeQqfX1RYOo3i54rwlBdu3cOWxy40.woff2) format('woff2');unicode-range:U+0370-03FF}@font-face{font-family:'Source Sans Pro';font-style:normal;font-weight:600;font-display:swap;src:url(https://fonts.gstatic.com/s/sourcesanspro/v21/6xKydSBYKcSV-LCoeQqfX1RYOo3i54rwmBdu3cOWxy40.woff2) format('woff2');unicode-range:U+0102-0103,U+0110-0111,U+0128-0129,U+0168-0169,U+01A0-01A1,U+01AF-01B0,U+1EA0-1EF9,U+20AB}@font-face{font-family:'Source Sans Pro';font-style:normal;font-weight:600;font-display:swap;src:url(https://fonts.gstatic.com/s/sourcesanspro/v21/6xKydSBYKcSV-LCoeQqfX1RYOo3i54rwmRdu3cOWxy40.woff2) format('woff2');unicode-range:U+0100-024F,U+0259,U+1E00-1EFF,U+2020,U+20A0-20AB,U+20AD-20CF,U+2113,U+2C60-2C7F,U+A720-A7FF}@font-face{font-family:'Source Sans Pro';font-style:normal;font-weight:600;font-display:swap;src:url(https://fonts.gstatic.com/s/sourcesanspro/v21/6xKydSBYKcSV-LCoeQqfX1RYOo3i54rwlxdu3cOWxw.woff2) format('woff2');unicode-range:U+0000-00FF,U+0131,U+0152-0153,U+02BB-02BC,U+02C6,U+02DA,U+02DC,U+2000-206F,U+2074,U+20AC,U+2122,U+2191,U+2193,U+2212,U+2215,U+FEFF,U+FFFD}@font-face{font-family:'Source Sans Pro';font-style:normal;font-weight:700;font-display:swap;src:url(https://fonts.gstatic.com/s/sourcesanspro/v21/6xKydSBYKcSV-LCoeQqfX1RYOo3ig4vwmhdu3cOWxy40.woff2) format('woff2');unicode-range:U+0460-052F,U+1C80-1C88,U+20B4,U+2DE0-2DFF,U+A640-A69F,U+FE2E-FE2F}@font-face{font-family:'Source Sans Pro';font-style:normal;font-weight:700;font-display:swap;src:url(https://fonts.gstatic.com/s/sourcesanspro/v21/6xKydSBYKcSV-LCoeQqfX1RYOo3ig4vwkxdu3cOWxy40.woff2) format('woff2');unicode-range:U+0301,U+0400-045F,U+0490-0491,U+04B0-04B1,U+2116}@font-face{font-family:'Source Sans Pro';font-style:normal;font-weight:700;font-display:swap;src:url(https://fonts.gstatic.com/s/sourcesanspro/v21/6xKydSBYKcSV-LCoeQqfX1RYOo3ig4vwmxdu3cOWxy40.woff2) format('woff2');unicode-range:U+1F00-1FFF}@font-face{font-family:'Source Sans Pro';font-style:normal;font-weight:700;font-display:swap;src:url(https://fonts.gstatic.com/s/sourcesanspro/v21/6xKydSBYKcSV-LCoeQqfX1RYOo3ig4vwlBdu3cOWxy40.woff2) format('woff2');unicode-range:U+0370-03FF}@font-face{font-family:'Source Sans Pro';font-style:normal;font-weight:700;font-display:swap;src:url(https://fonts.gstatic.com/s/sourcesanspro/v21/6xKydSBYKcSV-LCoeQqfX1RYOo3ig4vwmBdu3cOWxy40.woff2) format('woff2');unicode-range:U+0102-0103,U+0110-0111,U+0128-0129,U+0168-0169,U+01A0-01A1,U+01AF-01B0,U+1EA0-1EF9,U+20AB}@font-face{font-family:'Source Sans Pro';font-style:normal;font-weight:700;font-display:swap;src:url(https://fonts.gstatic.com/s/sourcesanspro/v21/6xKydSBYKcSV-LCoeQqfX1RYOo3ig4vwmRdu3cOWxy40.woff2) format('woff2');unicode-range:U+0100-024F,U+0259,U+1E00-1EFF,U+2020,U+20A0-20AB,U+20AD-20CF,U+2113,U+2C60-2C7F,U+A720-A7FF}@font-face{font-family:'Source Sans Pro';font-style:normal;font-weight:700;font-display:swap;src:url(https://fonts.gstatic.com/s/sourcesanspro/v21/6xKydSBYKcSV-LCoeQqfX1RYOo3ig4vwlxdu3cOWxw.woff2) format('woff2');unicode-range:U+0000-00FF,U+0131,U+0152-0153,U+02BB-02BC,U+02C6,U+02DA,U+02DC,U+2000-206F,U+2074,U+20AC,U+2122,U+2191,U+2193,U+2212,U+2215,U+FEFF,U+FFFD}@font-face{font-family:'Source Sans Pro';font-style:normal;font-weight:900;font-display:swap;src:url(https://fonts.gstatic.com/s/sourcesanspro/v21/6xKydSBYKcSV-LCoeQqfX1RYOo3iu4nwmhdu3cOWxy40.woff2) format('woff2');unicode-range:U+0460-052F,U+1C80-1C88,U+20B4,U+2DE0-2DFF,U+A640-A69F,U+FE2E-FE2F}@font-face{font-family:'Source Sans Pro';font-style:normal;font-weight:900;font-display:swap;src:url(https://fonts.gstatic.com/s/sourcesanspro/v21/6xKydSBYKcSV-LCoeQqfX1RYOo3iu4nwkxdu3cOWxy40.woff2) format('woff2');unicode-range:U+0301,U+0400-045F,U+0490-0491,U+04B0-04B1,U+2116}@font-face{font-family:'Source Sans Pro';font-style:normal;font-weight:900;font-display:swap;src:url(https://fonts.gstatic.com/s/sourcesanspro/v21/6xKydSBYKcSV-LCoeQqfX1RYOo3iu4nwmxdu3cOWxy40.woff2) format('woff2');unicode-range:U+1F00-1FFF}@font-face{font-family:'Source Sans Pro';font-style:normal;font-weight:900;font-display:swap;src:url(https://fonts.gstatic.com/s/sourcesanspro/v21/6xKydSBYKcSV-LCoeQqfX1RYOo3iu4nwlBdu3cOWxy40.woff2) format('woff2');unicode-range:U+0370-03FF}@font-face{font-family:'Source Sans Pro';font-style:normal;font-weight:900;font-display:swap;src:url(https://fonts.gstatic.com/s/sourcesanspro/v21/6xKydSBYKcSV-LCoeQqfX1RYOo3iu4nwmBdu3cOWxy40.woff2) format('woff2');unicode-range:U+0102-0103,U+0110-0111,U+0128-0129,U+0168-0169,U+01A0-01A1,U+01AF-01B0,U+1EA0-1EF9,U+20AB}@font-face{font-family:'Source Sans Pro';font-style:normal;font-weight:900;font-display:swap;src:url(https://fonts.gstatic.com/s/sourcesanspro/v21/6xKydSBYKcSV-LCoeQqfX1RYOo3iu4nwmRdu3cOWxy40.woff2) format('woff2');unicode-range:U+0100-024F,U+0259,U+1E00-1EFF,U+2020,U+20A0-20AB,U+20AD-20CF,U+2113,U+2C60-2C7F,U+A720-A7FF}@font-face{font-family:'Source Sans Pro';font-style:normal;font-weight:900;font-display:swap;src:url(https://fonts.gstatic.com/s/sourcesanspro/v21/6xKydSBYKcSV-LCoeQqfX1RYOo3iu4nwlxdu3cOWxw.woff2) format('woff2');unicode-range:U+0000-00FF,U+0131,U+0152-0153,U+02BB-02BC,U+02C6,U+02DA,U+02DC,U+2000-206F,U+2074,U+20AC,U+2122,U+2191,U+2193,U+2212,U+2215,U+FEFF,U+FFFD}</style></head><body class=\"antd-overwrite\"><noscript><iframe height=\"0\" src=\"https://www.googletagmanager.com/ns.html?id=GTM-MLNMNZW\" style=\"display:none;visibility:hidden\" title=\"google-tag-manager\" width=\"0\"></iframe></noscript><div data-reactroot=\"\" id=\"__next\"><section class=\"ant-layout\"><div class=\"tqY87QSF\"><div class=\"__9WvikN9E sQQWNNho\" data-testid=\"user-switch\" role=\"button\" tabindex=\"0\"><svg class=\"n6wZ2vE6\" data-testid=\"arrow-icon\" height=\"8\" width=\"14\" xmlns=\"http://www.w3.org/2000/svg\"><path d=\"M1.414 0h11.172a1 1 0 01.707 1.707L7.707 7.293a1 1 0 01-1.414 0L.707 1.707A1 1 0 011.414 0z\"></path></svg><svg class=\"iVsbdoc4 An3aCSuu\" data-testid=\"building-icon\" fill=\"none\" height=\"12\" viewbox=\"0 0 12 13\" width=\"12\" xmlns=\"http://www.w3.org/2000/svg\"><g clip-path=\"url(#building-icon_svg__clip0)\"><path d=\"M3.5 7.5A.5.5 0 013 8h-.5a.5.5 0 110-1H3a.5.5 0 01.5.5zm2-.5H5a.5.5 0 100 1h.5a.5.5 0 100-1zM3 9h-.5a.5.5 0 100 1H3a.5.5 0 100-1zm2.5 0H5a.5.5 0 100 1h.5a.5.5 0 100-1zM3 3h-.5a.5.5 0 100 1H3a.5.5 0 100-1zm2.5 0H5a.5.5 0 100 1h.5a.5.5 0 100-1zM3 5h-.5a.5.5 0 100 1H3a.5.5 0 100-1zm2.5 0H5a.5.5 0 100 1h.5a.5.5 0 100-1zm6.5.5V10a2.503 2.503 0 01-2.5 2.5h-7A2.503 2.503 0 010 10V3A2.503 2.503 0 012.5.5h3A2.503 2.503 0 018 3h1.5A2.503 2.503 0 0112 5.5zm-9.5 6H7V3a1.5 1.5 0 00-1.5-1.5h-3A1.5 1.5 0 001 3v7a1.5 1.5 0 001.5 1.5zm8.5-6A1.5 1.5 0 009.5 4H8v7.5h1.5A1.5 1.5 0 0011 10V5.5zM9.5 7a.5.5 0 100 1 .5.5 0 000-1zm0 2a.5.5 0 100 1 .5.5 0 000-1zm0-4a.5.5 0 100 1 .5.5 0 000-1z\" fill=\"#596980\"></path></g><defs><clippath id=\"building-icon_svg__clip0\"><path d=\"M0 0h12v12H0z\" fill=\"#fff\" transform=\"translate(0 .5)\"></path></clippath></defs></svg><span class=\"h5 _CiXk8Hd neYF8Mpr\">For Employers</span></div></div><header class=\"BSWR0acm\"><div class=\"NmRYLONJ\"><div class=\"Kn7FT6Na __7VIZqLPR\"><div class=\"bzkQwRgF\"><svg class=\"HYEqXnTe\" data-testid=\"mobile-logo\" fill=\"none\" viewbox=\"0 0 21 24\" xmlns=\"http://www.w3.org/2000/svg\"><g clip-path=\"url(#kariera_mini_logo_svg__clip0)\"><path d=\"M15.111 23.933h-4.737l-6.208-8.576v8.576H0V.082h4.166V15.03L9.72 7.678h4.983l-5.8 7.597 6.208 8.658z\" fill=\"#1C2964\"></path><path d=\"M15.438 21.256c0-.774.26-1.42.78-1.939a2.591 2.591 0 011.9-.774 2.65 2.65 0 011.917.774c.53.516.794 1.163.794 1.939a2.552 2.552 0 01-.794 1.903 2.65 2.65 0 01-1.917.774 2.653 2.653 0 01-2.68-2.677z\" fill=\"#FF2458\"></path></g><defs><clippath id=\"kariera_mini_logo_svg__clip0\"><path d=\"M0 0h20.911v23.926H0z\" fill=\"#fff\"></path></clippath></defs></svg></div><div class=\"T3jFlaL7\"><div class=\"ant-select ant-select-auto-complete pOgpyvsz ant-select-single ant-select-customize-input ant-select-show-search\" data-testid=\"nav-bar-search-autocomplete\"><div class=\"ant-select-selector\"><span class=\"ant-select-selection-search\"><span class=\"ant-input-affix-wrapper ant-input-affix-wrapper-sm ant-select-selection-search-input\"><input aria-activedescendant=\"undefined_list_0\" aria-autocomplete=\"list\" aria-controls=\"undefined_list\" aria-expanded=\"false\" aria-haspopup=\"listbox\" aria-owns=\"undefined_list\" autocomplete=\"off\" class=\"ant-input ant-input-sm\" data-testid=\"nav-bar-search-input\" name=\"search\" placeholder=\"Search for jobs or companies\" role=\"combobox\" type=\"search\" value=\"\"/><span class=\"ant-input-suffix\"><span aria-label=\"close-circle\" class=\"anticon anticon-close-circle ant-input-clear-icon-hidden ant-input-clear-icon\" role=\"button\" tabindex=\"-1\"><svg aria-hidden=\"true\" data-icon=\"close-circle\" fill=\"currentColor\" focusable=\"false\" height=\"1em\" viewbox=\"64 64 896 896\" width=\"1em\"><path d=\"M512 64C264.6 64 64 264.6 64 512s200.6 448 448 448 448-200.6 448-448S759.4 64 512 64zm165.4 618.2l-66-.3L512 563.4l-99.3 118.4-66.1.3c-4.4 0-8-3.5-8-8 0-1.9.7-3.7 1.9-5.2l130.1-155L340.5 359a8.32 8.32 0 01-1.9-5.2c0-4.4 3.6-8 8-8l66.1.3L512 464.6l99.3-118.4 66-.3c4.4 0 8 3.5 8 8 0 1.9-.7 3.7-1.9 5.2L553.5 514l130 155c1.2 1.5 1.9 3.3 1.9 5.2 0 4.4-3.6 8-8 8z\"></path></svg></span><svg class=\"ThCYRjFl\" data-testid=\"nav-bar-search-input-icon\" fill=\"none\" viewbox=\"0 0 24 24\" xmlns=\"http://www.w3.org/2000/svg\"><g clip-path=\"url(#search-icon_svg__clip0)\"><path d=\"M23.707 22.293l-5.969-5.97a10.016 10.016 0 10-1.414 1.415l5.969 5.969a1 1 0 001.414-1.414zM10 18a8 8 0 118-8 8.009 8.009 0 01-8 8z\" fill=\"#000\"></path></g><defs><clippath id=\"search-icon_svg__clip0\"><path d=\"M0 0h24v24H0z\" fill=\"#fff\"></path></clippath></defs></svg></span></span></span><span class=\"ant-select-selection-placeholder\"></span></div></div></div><div class=\"h8I3j9qJ\"><div class=\"ant-dropdown-trigger As1re0vg\" data-testid=\"language-toggle\"><svg fill=\"none\" height=\"24\" width=\"24\" xmlns=\"http://www.w3.org/2000/svg\"><path d=\"M12 0a12 12 0 1012 12A12.013 12.013 0 0012 0zm8.647 7h-3.221a19.674 19.674 0 00-2.821-4.644A10.031 10.031 0 0120.647 7zM16.5 12a10.21 10.21 0 01-.476 3H7.976a10.211 10.211 0 01-.476-3 10.21 10.21 0 01.476-3h8.048c.307.97.468 1.982.476 3zm-7.722 5h6.444A19.615 19.615 0 0112 21.588 19.572 19.572 0 018.778 17zm0-10A19.615 19.615 0 0112 2.412 19.57 19.57 0 0115.222 7H8.778zM9.4 2.356A19.676 19.676 0 006.574 7H3.353A10.03 10.03 0 019.4 2.356zM2.461 9H5.9c-.26.98-.394 1.987-.4 3 .006 1.013.14 2.02.4 3H2.461a9.992 9.992 0 010-6zm.892 8h3.221A19.676 19.676 0 009.4 21.644 10.031 10.031 0 013.353 17zm11.252 4.644c1.15-1.41 2.1-2.973 2.821-4.644h3.221a10.031 10.031 0 01-6.042 4.644zM21.539 15H18.1c.26-.98.394-1.987.4-3a12.02 12.02 0 00-.4-3h3.437a9.991 9.991 0 010 6h.002z\" fill=\"#B4B2BF\"></path></svg><div class=\"nA5WxYcU\" data-testid=\"current-language\"><span style=\"box-sizing:border-box;display:inline-block;overflow:hidden;width:initial;height:initial;background:none;opacity:1;border:0;margin:0;padding:0;position:relative;max-width:100%\"><span style=\"box-sizing:border-box;display:block;width:initial;height:initial;background:none;opacity:1;border:0;margin:0;padding:0;max-width:100%\"><img alt=\"\" aria-hidden=\"true\" src=\"data:image/svg+xml,%3csvg%20xmlns=%27http://www.w3.org/2000/svg%27%20version=%271.1%27%20width=%2720%27%20height=%2715%27/%3e\" style=\"display:block;max-width:100%;width:initial;height:initial;background:none;opacity:1;border:0;margin:0;padding:0\"/></span><img data-nimg=\"intrinsic\" decoding=\"async\" src=\"/_next/image?url=%2Fassets%2Fimages%2Fflag-en.png&amp;w=48&amp;q=75\" srcset=\"/_next/image?url=%2Fassets%2Fimages%2Fflag-en.png&amp;w=32&amp;q=75 1x, /_next/image?url=%2Fassets%2Fimages%2Fflag-en.png&amp;w=48&amp;q=75 2x\" style=\"position:absolute;top:0;left:0;bottom:0;right:0;box-sizing:border-box;padding:0;border:none;margin:auto;display:block;width:0;height:0;min-width:100%;max-width:100%;min-height:100%;max-height:100%\"/></span></div></div></div></div><div class=\"Oz1VE8Xn\"><div class=\"Kn7FT6Na A4v_uV0L\"><div class=\"bzkQwRgF\"><svg class=\"HYEqXnTe\" data-testid=\"mobile-logo\" fill=\"none\" viewbox=\"0 0 21 24\" xmlns=\"http://www.w3.org/2000/svg\"><g clip-path=\"url(#kariera_mini_logo_svg__clip0)\"><path d=\"M15.111 23.933h-4.737l-6.208-8.576v8.576H0V.082h4.166V15.03L9.72 7.678h4.983l-5.8 7.597 6.208 8.658z\" fill=\"#1C2964\"></path><path d=\"M15.438 21.256c0-.774.26-1.42.78-1.939a2.591 2.591 0 011.9-.774 2.65 2.65 0 011.917.774c.53.516.794 1.163.794 1.939a2.552 2.552 0 01-.794 1.903 2.65 2.65 0 01-1.917.774 2.653 2.653 0 01-2.68-2.677z\" fill=\"#FF2458\"></path></g><defs><clippath id=\"kariera_mini_logo_svg__clip0\"><path d=\"M0 0h20.911v23.926H0z\" fill=\"#fff\"></path></clippath></defs></svg><svg class=\"TTjjkuPt\" data-testid=\"desktop-logo\" fill=\"none\" viewbox=\"0 0 238 53\" xmlns=\"http://www.w3.org/2000/svg\"><g clip-path=\"url(#karieragr_logo_svg__clip0)\"><path d=\"M27.283 43.185h-8.61L7.549 27.71v15.486H0V0h7.548v27.146L17.5 13.74h8.945L16.052 27.597l11.231 15.588zM54.813 25.902v17.283H47.77v-3.39c-2.195 2.26-5.054 3.39-8.576 3.39-2.954 0-5.311-.772-7.072-2.316-1.762-1.544-2.642-3.558-2.642-6.042 0-2.523.956-4.509 2.869-5.958 1.913-1.45 4.497-2.177 7.754-2.181h7.044v-1.244c0-1.58-.446-2.794-1.336-3.642-.891-.848-2.19-1.27-3.898-1.27a7.994 7.994 0 00-3.802.91c-1.136.602-2.348 1.58-3.636 2.936l-3.973-4.687c3.256-3.84 7.347-5.76 12.27-5.76 3.712 0 6.647 1.044 8.805 3.134 2.158 2.09 3.237 5.035 3.237 8.837zm-7.667 6.16v-.338h-6.022c-2.613 0-3.92.94-3.92 2.822a2.633 2.633 0 001.11 2.231c.738.545 1.714.818 2.925.818 1.705 0 3.115-.518 4.23-1.553 1.117-1.035 1.675-2.362 1.677-3.98zM169.792 25.902v17.283h-7.044v-3.39c-2.195 2.26-5.054 3.39-8.577 3.39-2.953 0-5.31-.772-7.071-2.316-1.762-1.544-2.642-3.558-2.642-6.042 0-2.523.956-4.509 2.869-5.958 1.913-1.45 4.497-2.177 7.754-2.181h7.044v-1.244c0-1.58-.446-2.794-1.336-3.642-.891-.848-2.19-1.27-3.898-1.27a7.994 7.994 0 00-3.802.91c-1.136.602-2.348 1.58-3.636 2.936l-3.973-4.687c3.257-3.84 7.347-5.76 12.271-5.76 3.711 0 6.646 1.044 8.804 3.134 2.158 2.09 3.237 5.035 3.237 8.837zm-7.667 6.16v-.338h-6.022c-2.613 0-3.919.94-3.919 2.822a2.63 2.63 0 001.108 2.231c.739.545 1.715.818 2.926.818 1.705 0 3.115-.518 4.231-1.553 1.116-1.035 1.674-2.362 1.676-3.98zM76.25 14.094v6.993h-2.077c-2.386 0-4.262.646-5.63 1.939-1.367 1.292-2.05 3.173-2.048 5.642v14.517H58.7V13.741h7.145v3.821c2.008-2.548 4.63-3.821 7.867-3.821a8.271 8.271 0 012.538.353zM140.56 14.094v6.993h-2.076c-2.387 0-4.263.646-5.63 1.939-1.367 1.292-2.05 3.173-2.049 5.642v14.517h-7.795V13.741h7.146v3.821c2.008-2.548 4.63-3.821 7.866-3.821a8.274 8.274 0 012.538.353zM238 14.094v6.993h-2.077c-2.386 0-4.262.646-5.629 1.939-1.367 1.292-2.05 3.173-2.049 5.642v14.517h-7.795V13.741h7.146v3.821c2.008-2.548 4.63-3.821 7.866-3.821a8.274 8.274 0 012.538.353zM79.173 4.938a4.798 4.798 0 011.41-3.527A4.656 4.656 0 0184.015 0a4.751 4.751 0 013.464 1.411 4.755 4.755 0 011.436 3.527 4.68 4.68 0 01-1.436 3.466 4.76 4.76 0 01-3.464 1.41 4.647 4.647 0 01-3.434-1.41 4.72 4.72 0 01-1.407-3.466z\" fill=\"#1C2964\"></path><path d=\"M173.69 38.306a4.854 4.854 0 011.385-3.5 4.772 4.772 0 013.459-1.436 4.774 4.774 0 013.464 1.411 4.736 4.736 0 011.436 3.525 4.66 4.66 0 01-1.436 3.468 4.774 4.774 0 01-3.464 1.411 4.791 4.791 0 01-3.439-1.415 4.833 4.833 0 01-1.405-3.464z\" fill=\"#FF2458\"></path><path d=\"M87.943 13.74h-7.796v29.445h7.796V13.741zM118.625 31.021H99.389c.443 1.78 1.339 3.153 2.689 4.12 1.35.967 3.022 1.45 5.017 1.449 2.698 0 5.249-.946 7.652-2.836l3.105 5.235c-3.292 2.797-6.953 4.196-10.982 4.196-4.214.074-7.79-1.338-10.73-4.236-2.938-2.898-4.37-6.393-4.295-10.486-.077-4.056 1.309-7.54 4.157-10.456 2.848-2.916 6.249-4.338 10.203-4.266 3.771 0 6.866 1.25 9.287 3.751 2.421 2.501 3.631 5.608 3.631 9.32a18.702 18.702 0 01-.498 4.21zm-19.236-5.4h12.472c-.039-1.706-.622-3.08-1.748-4.12-1.125-1.041-2.521-1.563-4.185-1.564a6.16 6.16 0 00-4.16 1.527c-1.182 1.03-1.975 2.415-2.38 4.157zM209.703 13.74h6.953v25.366c0 4.463-1.289 7.895-3.869 10.295-2.58 2.4-6.075 3.6-10.485 3.599-5.196 0-9.738-1.725-13.624-5.176l3.98-5.293c3.216 2.399 6.225 3.6 9.027 3.6 2.281 0 4.086-.562 5.414-1.687 1.328-1.126 1.991-2.757 1.99-4.893v-1.526c-2.021 2.213-4.844 3.32-8.467 3.32-3.85 0-7.026-1.294-9.527-3.88-2.502-2.588-3.754-5.907-3.757-9.958 0-4.087 1.252-7.405 3.757-9.954 2.504-2.549 5.68-3.824 9.527-3.826 4.042 0 7.074 1.37 9.094 4.107l-.013-4.093zm-.504 13.667c0-2.285-.663-4.057-1.99-5.313-1.327-1.256-3-1.884-5.019-1.884-2.093 0-3.813.654-5.158 1.963-1.345 1.308-2.018 3.07-2.018 5.287 0 2.213.682 4.013 2.046 5.4 1.364 1.387 3.074 2.08 5.13 2.08a6.75 6.75 0 002.697-.495 6.793 6.793 0 002.283-1.528c1.353-1.347 2.029-3.183 2.029-5.51z\" fill=\"#1C2964\"></path></g><defs><clippath id=\"karieragr_logo_svg__clip0\"><path d=\"M0 0h238v53H0z\" fill=\"#fff\"></path></clippath></defs></svg></div><div class=\"T3jFlaL7\"><div class=\"ant-select ant-select-auto-complete pOgpyvsz ant-select-single ant-select-customize-input ant-select-show-search\" data-testid=\"nav-bar-search-autocomplete\"><div class=\"ant-select-selector\"><span class=\"ant-select-selection-search\"><span class=\"ant-input-affix-wrapper ant-input-affix-wrapper-sm ant-select-selection-search-input\"><input aria-activedescendant=\"undefined_list_0\" aria-autocomplete=\"list\" aria-controls=\"undefined_list\" aria-expanded=\"false\" aria-haspopup=\"listbox\" aria-owns=\"undefined_list\" autocomplete=\"off\" class=\"ant-input ant-input-sm\" data-testid=\"nav-bar-search-input\" name=\"search\" placeholder=\"Search for jobs or companies\" role=\"combobox\" type=\"search\" value=\"\"/><span class=\"ant-input-suffix\"><span aria-label=\"close-circle\" class=\"anticon anticon-close-circle ant-input-clear-icon-hidden ant-input-clear-icon\" role=\"button\" tabindex=\"-1\"><svg aria-hidden=\"true\" data-icon=\"close-circle\" fill=\"currentColor\" focusable=\"false\" height=\"1em\" viewbox=\"64 64 896 896\" width=\"1em\"><path d=\"M512 64C264.6 64 64 264.6 64 512s200.6 448 448 448 448-200.6 448-448S759.4 64 512 64zm165.4 618.2l-66-.3L512 563.4l-99.3 118.4-66.1.3c-4.4 0-8-3.5-8-8 0-1.9.7-3.7 1.9-5.2l130.1-155L340.5 359a8.32 8.32 0 01-1.9-5.2c0-4.4 3.6-8 8-8l66.1.3L512 464.6l99.3-118.4 66-.3c4.4 0 8 3.5 8 8 0 1.9-.7 3.7-1.9 5.2L553.5 514l130 155c1.2 1.5 1.9 3.3 1.9 5.2 0 4.4-3.6 8-8 8z\"></path></svg></span><svg class=\"ThCYRjFl\" data-testid=\"nav-bar-search-input-icon\" fill=\"none\" viewbox=\"0 0 24 24\" xmlns=\"http://www.w3.org/2000/svg\"><g clip-path=\"url(#search-icon_svg__clip0)\"><path d=\"M23.707 22.293l-5.969-5.97a10.016 10.016 0 10-1.414 1.415l5.969 5.969a1 1 0 001.414-1.414zM10 18a8 8 0 118-8 8.009 8.009 0 01-8 8z\" fill=\"#000\"></path></g><defs><clippath id=\"search-icon_svg__clip0\"><path d=\"M0 0h24v24H0z\" fill=\"#fff\"></path></clippath></defs></svg></span></span></span><span class=\"ant-select-selection-placeholder\"></span></div></div></div><div class=\"h8I3j9qJ\"><div class=\"ant-dropdown-trigger As1re0vg\" data-testid=\"language-toggle\"><svg fill=\"none\" height=\"24\" width=\"24\" xmlns=\"http://www.w3.org/2000/svg\"><path d=\"M12 0a12 12 0 1012 12A12.013 12.013 0 0012 0zm8.647 7h-3.221a19.674 19.674 0 00-2.821-4.644A10.031 10.031 0 0120.647 7zM16.5 12a10.21 10.21 0 01-.476 3H7.976a10.211 10.211 0 01-.476-3 10.21 10.21 0 01.476-3h8.048c.307.97.468 1.982.476 3zm-7.722 5h6.444A19.615 19.615 0 0112 21.588 19.572 19.572 0 018.778 17zm0-10A19.615 19.615 0 0112 2.412 19.57 19.57 0 0115.222 7H8.778zM9.4 2.356A19.676 19.676 0 006.574 7H3.353A10.03 10.03 0 019.4 2.356zM2.461 9H5.9c-.26.98-.394 1.987-.4 3 .006 1.013.14 2.02.4 3H2.461a9.992 9.992 0 010-6zm.892 8h3.221A19.676 19.676 0 009.4 21.644 10.031 10.031 0 013.353 17zm11.252 4.644c1.15-1.41 2.1-2.973 2.821-4.644h3.221a10.031 10.031 0 01-6.042 4.644zM21.539 15H18.1c.26-.98.394-1.987.4-3a12.02 12.02 0 00-.4-3h3.437a9.991 9.991 0 010 6h.002z\" fill=\"#B4B2BF\"></path></svg><div class=\"nA5WxYcU\" data-testid=\"current-language\"><span style=\"box-sizing:border-box;display:inline-block;overflow:hidden;width:initial;height:initial;background:none;opacity:1;border:0;margin:0;padding:0;position:relative;max-width:100%\"><span style=\"box-sizing:border-box;display:block;width:initial;height:initial;background:none;opacity:1;border:0;margin:0;padding:0;max-width:100%\"><img alt=\"\" aria-hidden=\"true\" src=\"data:image/svg+xml,%3csvg%20xmlns=%27http://www.w3.org/2000/svg%27%20version=%271.1%27%20width=%2720%27%20height=%2715%27/%3e\" style=\"display:block;max-width:100%;width:initial;height:initial;background:none;opacity:1;border:0;margin:0;padding:0\"/></span><img data-nimg=\"intrinsic\" decoding=\"async\" src=\"/_next/image?url=%2Fassets%2Fimages%2Fflag-en.png&amp;w=48&amp;q=75\" srcset=\"/_next/image?url=%2Fassets%2Fimages%2Fflag-en.png&amp;w=32&amp;q=75 1x, /_next/image?url=%2Fassets%2Fimages%2Fflag-en.png&amp;w=48&amp;q=75 2x\" style=\"position:absolute;top:0;left:0;bottom:0;right:0;box-sizing:border-box;padding:0;border:none;margin:auto;display:block;width:0;height:0;min-width:100%;max-width:100%;min-height:100%;max-height:100%\"/></span></div></div><div class=\"VRQzqR04\"></div><div class=\"n_NL0Le8\"><button class=\"ant-btn ant-btn-sm ui-button T8L4xgZ9\" data-testid=\"desktop-login-button\" type=\"button\"><span>Log in</span></button><button class=\"ant-btn ant-btn-primary ant-btn-sm ui-button\" data-testid=\"desktop-signup-button\" type=\"button\"><span>Sign up</span></button></div></div></div><div class=\"__9WvikN9E sQQWNNho\" data-testid=\"user-switch\" role=\"button\" tabindex=\"0\"><svg class=\"n6wZ2vE6\" data-testid=\"arrow-icon\" height=\"8\" width=\"14\" xmlns=\"http://www.w3.org/2000/svg\"><path d=\"M1.414 0h11.172a1 1 0 01.707 1.707L7.707 7.293a1 1 0 01-1.414 0L.707 1.707A1 1 0 011.414 0z\"></path></svg><svg class=\"iVsbdoc4 An3aCSuu\" data-testid=\"building-icon\" fill=\"none\" height=\"12\" viewbox=\"0 0 12 13\" width=\"12\" xmlns=\"http://www.w3.org/2000/svg\"><g clip-path=\"url(#building-icon_svg__clip0)\"><path d=\"M3.5 7.5A.5.5 0 013 8h-.5a.5.5 0 110-1H3a.5.5 0 01.5.5zm2-.5H5a.5.5 0 100 1h.5a.5.5 0 100-1zM3 9h-.5a.5.5 0 100 1H3a.5.5 0 100-1zm2.5 0H5a.5.5 0 100 1h.5a.5.5 0 100-1zM3 3h-.5a.5.5 0 100 1H3a.5.5 0 100-1zm2.5 0H5a.5.5 0 100 1h.5a.5.5 0 100-1zM3 5h-.5a.5.5 0 100 1H3a.5.5 0 100-1zm2.5 0H5a.5.5 0 100 1h.5a.5.5 0 100-1zm6.5.5V10a2.503 2.503 0 01-2.5 2.5h-7A2.503 2.503 0 010 10V3A2.503 2.503 0 012.5.5h3A2.503 2.503 0 018 3h1.5A2.503 2.503 0 0112 5.5zm-9.5 6H7V3a1.5 1.5 0 00-1.5-1.5h-3A1.5 1.5 0 001 3v7a1.5 1.5 0 001.5 1.5zm8.5-6A1.5 1.5 0 009.5 4H8v7.5h1.5A1.5 1.5 0 0011 10V5.5zM9.5 7a.5.5 0 100 1 .5.5 0 000-1zm0 2a.5.5 0 100 1 .5.5 0 000-1zm0-4a.5.5 0 100 1 .5.5 0 000-1z\" fill=\"#596980\"></path></g><defs><clippath id=\"building-icon_svg__clip0\"><path d=\"M0 0h12v12H0z\" fill=\"#fff\" transform=\"translate(0 .5)\"></path></clippath></defs></svg><span class=\"h5 _CiXk8Hd neYF8Mpr\">For Employers</span></div></div></div></header><section class=\"ant-layout __5daahB19\"><aside class=\"ant-layout-sider ant-layout-sider-dark ant-layout-sider-collapsed ant-layout-sider-zero-width layout-sider-menu layout-sider-menu-collapsed\" style=\"flex:0 0 0px;max-width:0px;min-width:0px;width:0px\"><div class=\"ant-layout-sider-children\"><ul class=\"ant-menu ant-menu-light ant-menu-inline-collapsed menu-container ant-menu-root ant-menu-vertical\" role=\"menu\"><li class=\"ant-menu-item\" data-testid=\"home-route\" role=\"menuitem\"><svg class=\"ant-menu-item-icon\" fill=\"none\" height=\"24\" width=\"24\" xmlns=\"http://www.w3.org/2000/svg\"><path d=\"M23.121 9.069l-7.585-7.586a5.008 5.008 0 00-7.072 0L.879 9.069A2.978 2.978 0 000 11.19v9.817a3 3 0 003 3h18a3 3 0 003-3V11.19a2.978 2.978 0 00-.879-2.121zM15 22.007H9v-3.934a3 3 0 116 0v3.934zm7-1a1 1 0 01-1 1h-4v-3.934a5 5 0 10-10 0v3.934H3a1 1 0 01-1-1V11.19c0-.265.106-.519.293-.707L9.878 2.9a3.008 3.008 0 014.244 0l7.585 7.586c.186.187.291.44.293.704v9.817z\" fill=\"#FF2458\"></path></svg><span>Home</span></li><li class=\"ant-menu-item\" data-testid=\"feed-route\" role=\"menuitem\"><svg class=\"ant-menu-item-icon\" fill=\"none\" viewbox=\"0 0 24 24\" xmlns=\"http://www.w3.org/2000/svg\"><g clip-path=\"url(#megaphone_svg__clip0)\"><path d=\"M17 0a1 1 0 00-1 1c0 2.949-2.583 4-5 4H4a4 4 0 00-4 4v2a3.98 3.98 0 001.514 3.109l3.572 7.972A3.233 3.233 0 008.039 24a2.982 2.982 0 002.72-4.2l-2.2-4.8H11c2.417 0 5 1.051 5 4a1 1 0 002 0V1a1 1 0 00-1-1zM8.937 20.619A.983.983 0 018.039 22a1.232 1.232 0 01-1.126-.734L4.105 15h2.254l2.578 5.619zM16 14.6a7.723 7.723 0 00-5-1.6H4a2 2 0 01-2-2V9a2 2 0 012-2h7a7.723 7.723 0 005-1.595V14.6zm7.9.852a1 1 0 01-1.342.448l-2-1a1 1 0 11.894-1.79l2 1a1 1 0 01.448 1.337v.005zm-3.79-9a1 1 0 01.448-1.342l2-1a1 1 0 01.894 1.79l-2 1a1 1 0 01-1.342-.448zM20 10a1 1 0 011-1h2a1 1 0 110 2h-2a1 1 0 01-1-1z\" fill=\"#000\"></path></g><defs><clippath id=\"megaphone_svg__clip0\"><path d=\"M0 0h24v24H0z\" fill=\"#fff\"></path></clippath></defs></svg><span>Feed</span></li><li class=\"ant-menu-item\" data-testid=\"jobs-route\" role=\"menuitem\"><svg class=\"ant-menu-item-icon\" fill=\"none\" viewbox=\"0 0 24 24\" xmlns=\"http://www.w3.org/2000/svg\"><g clip-path=\"url(#search-icon_svg__clip0)\"><path d=\"M23.707 22.293l-5.969-5.97a10.016 10.016 0 10-1.414 1.415l5.969 5.969a1 1 0 001.414-1.414zM10 18a8 8 0 118-8 8.009 8.009 0 01-8 8z\" fill=\"#000\"></path></g><defs><clippath id=\"search-icon_svg__clip0\"><path d=\"M0 0h24v24H0z\" fill=\"#fff\"></path></clippath></defs></svg><span>Search</span></li><li class=\"ant-menu-item\" data-testid=\"favourites-route\" role=\"menuitem\"><svg class=\"ant-menu-item-icon\" fill=\"none\" height=\"24\" width=\"24\" xmlns=\"http://www.w3.org/2000/svg\"><g clip-path=\"url(#saved_svg__clip0_883_3589)\" fill=\"#000\"><path d=\"M19.95 5.536L16.464 2.05A6.954 6.954 0 0011.515 0H7a5.006 5.006 0 00-5 5v14a5.006 5.006 0 005 5h10a5.006 5.006 0 005-5v-8.515a6.955 6.955 0 00-2.05-4.949zM18.536 6.95c.305.314.568.667.781 1.05H15a1 1 0 01-1-1V2.683c.383.213.736.476 1.05.781l3.486 3.486zM20 19a3 3 0 01-3 3H7a3 3 0 01-3-3V5a3 3 0 013-3h4.515c.165 0 .323.032.485.047V7a3 3 0 003 3h4.953c.015.162.047.32.047.485V19z\"></path><path d=\"M14.29 12a2.865 2.865 0 00-1.33.346c-.401.22-.733.532-.96.905a2.547 2.547 0 00-.96-.905A2.865 2.865 0 009.71 12a2.957 2.957 0 00-1.96.828 2.449 2.449 0 00-.748 1.846c0 1.724 1.993 3.607 3.665 4.884.373.285.845.442 1.333.442s.96-.157 1.333-.442c1.672-1.277 3.665-3.16 3.665-4.884a2.449 2.449 0 00-.748-1.846A2.956 2.956 0 0014.29 12z\"></path></g><defs><clippath id=\"saved_svg__clip0_883_3589\"><path d=\"M0 0h24v24H0z\" fill=\"#fff\"></path></clippath></defs></svg><span>Favourites</span></li><li class=\"ant-menu-item\" data-testid=\"profile-logged-user\" role=\"menuitem\"><svg class=\"ant-menu-item-icon\" viewbox=\"0 0 16 16\" xmlns=\"http://www.w3.org/2000/svg\"><g clip-path=\"url(#user-icon_svg__clip0)\"><path clip-rule=\"evenodd\" d=\"M10.222 7.326A4 4 0 115.778.674a4 4 0 014.444 6.652zm-.74-5.543a2.667 2.667 0 10-2.963 4.434 2.667 2.667 0 002.963-4.434zm-5.723 9.31A6.007 6.007 0 018 9.333a6.007 6.007 0 016 6 .666.666 0 11-1.333 0 4.667 4.667 0 00-9.334 0 .667.667 0 11-1.333 0 6.007 6.007 0 011.76-4.24z\" fill-rule=\"evenodd\"></path></g><defs><clippath id=\"user-icon_svg__clip0\"><path d=\"M0 8a8 8 0 1116 0A8 8 0 010 8z\" fill=\"#fff\"></path></clippath></defs></svg><span>My Profile</span></li></ul><div class=\"hb6ZMyhh GH_bAerE\" role=\"button\" tabindex=\"0\"><svg fill=\"none\" viewbox=\"0 0 12 12\" xmlns=\"http://www.w3.org/2000/svg\"><path d=\"M5.3 6.353a.5.5 0 010-.707l2.292-2.293a.5.5 0 00-.707-.707L4.595 4.94a1.5 1.5 0 000 2.121l2.292 2.293a.5.5 0 00.707-.707L5.3 6.353z\" fill=\"#fff\"></path></svg></div></div></aside><section class=\"ant-layout layout-main layout-main-collapsed layout-main-without-filters false\"><main class=\"ant-layout-content\"><section class=\"_83buvzx\"><div class=\"wpUrCtQf\"><div class=\"__9RfVpO1m\" style=\"background-image:linear-gradient(rgba(28, 41, 100, 0.6), rgba(28, 41, 100, 0.6))\"><div class=\"ESGJ2eWU\"><div class=\"xhd8ffL4\"><div><div class=\"h4 UGhAL2CE\">Real Estate University: Εργάζεσαι &amp; Εκπαιδεύεσαι ταυτόχρονα στη Νο1 Εταιρεία Real Estate Παγκοσμίως (Βόρεια, Δυτικά Προάστια, Πειραιάς ή Προάστια Πειραιά)</div></div><svg class=\"P6813aTk Yxjrv2Ej\" data-testid=\"heart\" height=\"12\" viewbox=\"0 0 24 24\" width=\"12\" xmlns=\"http://www.w3.org/2000/svg\"><g clip-path=\"url(#heart-icon_svg__clip0)\"><path d=\"M17.5.917a6.4 6.4 0 00-5.5 3.3 6.4 6.4 0 00-5.5-3.3A6.8 6.8 0 000 7.967c0 4.547 4.786 9.513 8.8 12.88a4.974 4.974 0 006.4 0c4.014-3.367 8.8-8.333 8.8-12.88a6.8 6.8 0 00-6.5-7.05zm-3.585 18.4a2.973 2.973 0 01-3.83 0C4.947 15.006 2 10.87 2 7.967a4.8 4.8 0 014.5-5.05 4.8 4.8 0 014.5 5.05 1 1 0 002 0 4.8 4.8 0 014.5-5.05 4.8 4.8 0 014.5 5.05c0 2.903-2.947 7.039-8.085 11.346v.004z\"></path></g><defs><clippath id=\"heart-icon_svg__clip0\"><path d=\"M0 0h24v24H0z\" fill=\"#fff\"></path></clippath></defs></svg></div><div class=\"MsIWlpkC FBcTkhmK\"><button class=\"ant-btn ant-btn-primary ui-button\" data-testid=\"jobtitle-apply\" type=\"button\"><span>Apply now</span></button><div class=\"__3UUmP9fx\"><svg class=\"gXdJ3dEH pfjVW111\" height=\"12\" viewbox=\"0 0 24 24\" width=\"12\" xmlns=\"http://www.w3.org/2000/svg\"><g clip-path=\"url(#share-icon_svg__clip0)\"><path d=\"M19.333 14.667a4.66 4.66 0 00-3.839 2.024l-6.509-2.94a4.574 4.574 0 00.005-3.487l6.5-2.954a4.66 4.66 0 10-.827-2.643c.004.264.031.527.08.786l-6.91 3.14a4.668 4.668 0 10-.015 6.827l6.928 3.128a4.732 4.732 0 00-.079.785 4.667 4.667 0 104.666-4.666zm0-12.667a2.667 2.667 0 11.002 5.334A2.667 2.667 0 0119.333 2zM4.667 14.667a2.667 2.667 0 11-.002-5.335 2.667 2.667 0 01.002 5.335zM19.333 22a2.667 2.667 0 110-5.335 2.667 2.667 0 010 5.335z\"></path></g><defs><clippath id=\"share-icon_svg__clip0\"><path d=\"M0 0h24v24H0z\" fill=\"#fff\"></path></clippath></defs></svg><svg class=\"gXdJ3dEH\" data-testid=\"jobtitle-facebook\" fill=\"none\" height=\"12\" viewbox=\"0 0 48 48\" width=\"12\" xmlns=\"http://www.w3.org/2000/svg\"><path d=\"M48 24C48 10.744 37.256 0 24 0S0 10.744 0 24c0 11.981 8.775 21.91 20.25 23.71V30.936h-6.094V24h6.094v-5.288c0-6.014 3.581-9.337 9.066-9.337 2.625 0 5.372.469 5.372.469v5.906h-3.029c-2.98 0-3.909 1.852-3.909 3.75V24h6.656l-1.064 6.938H27.75v16.771C39.225 45.91 48 35.981 48 24z\" fill=\"#1877F2\"></path><path d=\"M33.342 30.938L34.406 24H27.75v-4.5c0-1.898.928-3.75 3.91-3.75h3.027V9.844s-2.746-.469-5.371-.469c-5.485 0-9.066 3.323-9.066 9.337V24h-6.094v6.938h6.094v16.771c1.223.193 2.475.291 3.75.291s2.527-.098 3.75-.29V30.936h5.592z\" fill=\"#fff\"></path></svg><svg class=\"gXdJ3dEH\" data-testid=\"jobtitle-linkedin\" fill=\"none\" height=\"12\" viewbox=\"0 0 48 48\" width=\"12\" xmlns=\"http://www.w3.org/2000/svg\"><path d=\"M0 24C0 10.745 10.745 0 24 0s24 10.745 24 24-10.745 24-24 24S0 37.255 0 24z\" fill=\"#0077B5\"></path><path clip-rule=\"evenodd\" d=\"M17.319 14.823c0 1.569-1.181 2.824-3.078 2.824h-.035c-1.825 0-3.006-1.255-3.006-2.824C11.2 13.22 12.416 12 14.277 12c1.86 0 3.007 1.22 3.042 2.823zm-.358 5.055V36.22h-5.44V19.878h5.44zM36.575 36.22v-9.37c0-5.02-2.683-7.356-6.262-7.356-2.888 0-4.18 1.586-4.902 2.699v-2.315h-5.44c.072 1.534 0 16.342 0 16.342h5.44v-9.127c0-.488.035-.975.179-1.325.393-.976 1.288-1.986 2.79-1.986 1.97 0 2.757 1.499 2.757 3.695v8.743h5.438z\" fill=\"#fff\" fill-rule=\"evenodd\"></path></svg><svg class=\"gXdJ3dEH\" data-testid=\"jobtitle-gmail\" fill=\"none\" viewbox=\"0 0 50 50\" xmlns=\"http://www.w3.org/2000/svg\"><path d=\"M1 25C1 11.745 11.745 1 25 1s24 10.745 24 24-10.745 24-24 24S1 38.255 1 25z\" fill=\"#fff\" stroke=\"#F0EDFF\"></path><path clip-rule=\"evenodd\" d=\"M25.555 16.572a1 1 0 00-1.11 0l-7 4.666a1 1 0 00-.304.32l7.304 4.87a1 1 0 001.11 0l7.304-4.87a1 1 0 00-.304-.32l-7-4.666zm9.44 5.328a3 3 0 00-1.33-2.326l-7-4.667a3 3 0 00-3.33 0l-7 4.667A3 3 0 0015 22.07V31a3 3 0 003 3h14a3 3 0 003-3v-8.93a3.028 3.028 0 00-.005-.17zM33 23.869L29.053 26.5 33 29.131V23.87zm-.112 7.591l-5.638-3.758-.586.39a3 3 0 01-3.328 0l-.586-.39-5.638 3.758A1 1 0 0018 32h14a1 1 0 00.888-.54zM17 29.131l3.947-2.631L17 23.869v5.262z\" fill=\"#96949F\" fill-rule=\"evenodd\"></path></svg><svg class=\"gXdJ3dEH\" data-testid=\"jobtitle-link\" fill=\"none\" height=\"24\" width=\"24\" xmlns=\"http://www.w3.org/2000/svg\"><circle cx=\"12\" cy=\"12\" fill=\"#fff\" r=\"12\"></circle><g clip-path=\"url(#link-icon-with-bg_svg__clip0)\" fill=\"#FF2458\"><path d=\"M12.922 14.633l-1.63 1.632a2.514 2.514 0 01-3.556-3.555l1.631-1.633a.5.5 0 10-.707-.707l-1.631 1.633A3.514 3.514 0 1012 16.971l1.631-1.63a.5.5 0 00-.707-.707h-.002zM16.972 7.03A3.49 3.49 0 0014.487 6a3.492 3.492 0 00-2.483 1.029L10.37 8.66a.5.5 0 10.707.708l1.633-1.631A2.497 2.497 0 0114.486 7a2.514 2.514 0 011.777 4.291l-1.63 1.631a.5.5 0 00.707.708L16.971 12a3.518 3.518 0 00.001-4.97z\"></path><path d=\"M13.146 10.146l-3 3a.5.5 0 10.707.707l3-3a.5.5 0 00-.707-.707z\"></path></g><defs><clippath id=\"link-icon-with-bg_svg__clip0\"><path d=\"M0 0h12v12H0z\" fill=\"#fff\" transform=\"translate(6 6)\"></path></clippath></defs></svg></div></div></div></div></div><div class=\"lMrDqtuv\"><div class=\"_Gn0UWhn\" style=\"top:0px\"><div class=\"ZbnZegP3\"><section class=\"v4zUUjfK\"><div class=\"dUZpm_xf\"><a class=\"__8_RJM1pE\" data-testid=\"companyName\" href=\"/en/companies/2478\">KELLER WILLIAMS SOLUTIONS GROUP</a></div><div class=\"KE_pbXHx\"><div class=\"__9f1ArBox GwU4NvbD __7EhrkN2M\" role=\"button\" tabindex=\"0\"><a class=\"kEVdqbh8\" data-testid=\"job-card-company-img-link\" href=\"/en/companies/2478\"><span style=\"box-sizing:border-box;display:block;overflow:hidden;width:initial;height:initial;background:none;opacity:1;border:0;margin:0;padding:0;position:absolute;top:0;left:0;bottom:0;right:0\"><img alt=\"company logo\" class=\"__0xwq94A_\" data-nimg=\"fill\" data-testid=\"imageIdTest\" decoding=\"async\" src=\"data:image/gif;base64,R0lGODlhAQABAIAAAAAAAP///yH5BAEAAAAALAAAAAABAAEAAAIBRAA7\" style='position:absolute;top:0;left:0;bottom:0;right:0;box-sizing:border-box;padding:0;border:none;margin:auto;display:block;width:0;height:0;min-width:100%;max-width:100%;min-height:100%;max-height:100%;object-fit:contain;filter:blur(20px);background-size:contain;background-image:url(\"data:image/gif;base64,R0lGODlhAQABAIAAAP///wAAACH5BAEAAAAALAAAAAABAAEAAAICRAEAOw==\");background-position:0% 0%'/><noscript><img alt=\"company logo\" class=\"__0xwq94A_\" data-nimg=\"fill\" data-testid=\"imageIdTest\" decoding=\"async\" loading=\"lazy\" sizes=\"100vw\" src=\"/_next/image?url=https%3A%2F%2Femployerfilesprod.blob.core.windows.net%2Fuseruploads%2F272405%2Fcompany%2F2478%2Fimg-1655209038029&amp;w=3840&amp;q=75\" srcset=\"/_next/image?url=https%3A%2F%2Femployerfilesprod.blob.core.windows.net%2Fuseruploads%2F272405%2Fcompany%2F2478%2Fimg-1655209038029&amp;w=640&amp;q=75 640w, /_next/image?url=https%3A%2F%2Femployerfilesprod.blob.core.windows.net%2Fuseruploads%2F272405%2Fcompany%2F2478%2Fimg-1655209038029&amp;w=750&amp;q=75 750w, /_next/image?url=https%3A%2F%2Femployerfilesprod.blob.core.windows.net%2Fuseruploads%2F272405%2Fcompany%2F2478%2Fimg-1655209038029&amp;w=828&amp;q=75 828w, /_next/image?url=https%3A%2F%2Femployerfilesprod.blob.core.windows.net%2Fuseruploads%2F272405%2Fcompany%2F2478%2Fimg-1655209038029&amp;w=1080&amp;q=75 1080w, /_next/image?url=https%3A%2F%2Femployerfilesprod.blob.core.windows.net%2Fuseruploads%2F272405%2Fcompany%2F2478%2Fimg-1655209038029&amp;w=1200&amp;q=75 1200w, /_next/image?url=https%3A%2F%2Femployerfilesprod.blob.core.windows.net%2Fuseruploads%2F272405%2Fcompany%2F2478%2Fimg-1655209038029&amp;w=1920&amp;q=75 1920w, /_next/image?url=https%3A%2F%2Femployerfilesprod.blob.core.windows.net%2Fuseruploads%2F272405%2Fcompany%2F2478%2Fimg-1655209038029&amp;w=2048&amp;q=75 2048w, /_next/image?url=https%3A%2F%2Femployerfilesprod.blob.core.windows.net%2Fuseruploads%2F272405%2Fcompany%2F2478%2Fimg-1655209038029&amp;w=3840&amp;q=75 3840w\" style=\"position:absolute;top:0;left:0;bottom:0;right:0;box-sizing:border-box;padding:0;border:none;margin:auto;display:block;width:0;height:0;min-width:100%;max-width:100%;min-height:100%;max-height:100%;object-fit:contain\"/></noscript></span></a></div><section><div class=\"dRXv4E9A\"><div><svg class=\"JemuN732\" fill=\"none\" viewbox=\"0 0 13 12\" xmlns=\"http://www.w3.org/2000/svg\"><g clip-path=\"url(#users-icon_svg__clip0)\"><path d=\"M4.25 6.5a2.25 2.25 0 110-4.5 2.25 2.25 0 010 4.5zm0-3.5a1.25 1.25 0 100 2.5 1.25 1.25 0 000-2.5zM8 11.5v-.25a3.75 3.75 0 10-7.5 0v.25a.5.5 0 001 0v-.25a2.75 2.75 0 015.5 0v.25a.5.5 0 001 0zM12.5 9a3.5 3.5 0 00-5.833-2.609.5.5 0 10.667.745A2.5 2.5 0 0111.5 9a.5.5 0 001 0zM9.25 4.5a2.25 2.25 0 110-4.5 2.25 2.25 0 010 4.5zm0-3.5a1.25 1.25 0 100 2.5 1.25 1.25 0 000-2.5z\" fill=\"#B4B2BF\"></path></g><defs><clippath id=\"users-icon_svg__clip0\"><path d=\"M0 0h12v12H0z\" fill=\"#fff\" transform=\"translate(.5)\"></path></clippath></defs></svg><span class=\"__6clWOFuR M7AHbT3P\" data-testid=\"companySize\">1-15</span></div><div><svg fill=\"none\" height=\"12\" width=\"13\" xmlns=\"http://www.w3.org/2000/svg\"><g clip-path=\"url(#world-icon_svg__clip0)\"><path d=\"M6.5 0a6 6 0 106 6 6.006 6.006 0 00-6-6zm5 6c0 .98-.289 1.938-.831 2.754l-.596-.596A.25.25 0 0110 7.98V7.5A1.5 1.5 0 008.5 6H7a.5.5 0 01-.5-.5v-.25A.25.25 0 016.75 5 1.25 1.25 0 008 3.75v-.5A.25.25 0 018.25 3h.69c.33 0 .648-.132.883-.366l.188-.188A4.983 4.983 0 0111.5 6zm-9.976.481l1.58 1.58a1.489 1.489 0 001.06.439H5.5A.5.5 0 016 9v1.975A5.008 5.008 0 011.524 6.48zM7 10.976V9a1.5 1.5 0 00-1.5-1.5H4.165a.5.5 0 01-.354-.146l-2.23-2.23a4.989 4.989 0 017.647-3.309l-.112.112A.254.254 0 018.94 2h-.69A1.25 1.25 0 007 3.25v.5a.25.25 0 01-.25.25A1.25 1.25 0 005.5 5.25v.25A1.5 1.5 0 007 7h1.5a.5.5 0 01.5.5v.481c0 .331.132.649.366.883l.668.669A4.986 4.986 0 017 10.975z\" fill=\"#B4B2BF\"></path></g><defs><clippath id=\"world-icon_svg__clip0\"><path d=\"M0 0h12v12H0z\" fill=\"#fff\" transform=\"translate(.5)\"></path></clippath></defs></svg><span class=\"__6clWOFuR M7AHbT3P\" data-testid=\"companySection\">Consulting</span></div></div><div class=\"dRXv4E9A\"><div><a data-testid=\"companyLink\" href=\"https://solutionsgroup.gr/\" rel=\"noreferrer noopener\" target=\"_blank\"><svg class=\"aS_HPtWq\" fill=\"none\" viewbox=\"0 0 8 8\" xmlns=\"http://www.w3.org/2000/svg\"><path clip-rule=\"evenodd\" d=\"M0 1.667C0 .747.746 0 1.667 0H3a.333.333 0 110 .667H1.667a1 1 0 00-1 1v4.666a1 1 0 001 1h4.666a1 1 0 001-1V5.167a.333.333 0 11.667 0v1.166C8 7.253 7.254 8 6.333 8H1.667C.747 8 0 7.254 0 6.333V1.667z\"></path><path clip-rule=\"evenodd\" d=\"M4.667 0a.333.333 0 100 .667h2.195L3.764 3.764a.333.333 0 10.472.472l3.097-3.098v2.195a.333.333 0 10.667 0V0H4.667z\"></path></svg><span class=\"__6clWOFuR\">Visit the website</span></a></div><a class=\"small-body-text\" data-testid=\"numOfJobs\" href=\"/en/companies/2478\">View 1 jobs</a></div></section></div></section></div><div class=\"__0mHHouvJ\"><div class=\"z97rDrCT\"><div class=\"__97cVPU9g\"><div class=\"__2Xw5o5k5\"><svg class=\"B6gDQqTZ\" data-testid=\"jobdetails-location\" height=\"12\" viewbox=\"0 0 24 24\" width=\"12\" xmlns=\"http://www.w3.org/2000/svg\"><g clip-path=\"url(#location-icon_svg__clip0)\"><path d=\"M12 16a3 3 0 001.342-.314l2-1A2.986 2.986 0 0017 12V9.033a2.985 2.985 0 00-1.658-2.683l-2-1a3.014 3.014 0 00-2.683 0l-2 1A2.985 2.985 0 007 9.033V12a2.986 2.986 0 001.658 2.684l2 1A3 3 0 0012 16zm-3-4V9.033a1 1 0 01.051-.3l2.18 1.09a1.72 1.72 0 001.538 0l2.18-1.09a1 1 0 01.051.3V12a.994.994 0 01-.553.895l-2 1a1.008 1.008 0 01-.895 0l-2-1A.994.994 0 019 12zm10 10h-2.709l3.487-3.222a11 11 0 10-15.528.028L7.709 22H5a1 1 0 000 2h14a1 1 0 100-2zM5.636 4.636a9 9 0 0112.757 12.7l-3.985 3.68A3.514 3.514 0 019.571 21l-3.935-3.636a9.01 9.01 0 010-12.728z\"></path></g><defs><clippath id=\"location-icon_svg__clip0\"><path d=\"M0 0h24v24H0z\" fill=\"#fff\"></path></clippath></defs></svg><a class=\"hhulNeRC main-body-text\" href=\"https://www.kariera.gr/jobs?cities=23\" target=\"_blank\">Marousi</a><span class=\"_u73Cv_w h6\">Location</span></div><a class=\"V_oVSppD main-body-text\" href=\"https://www.kariera.gr/jobs?cities=23\" target=\"_blank\">Marousi</a></div><div class=\"__97cVPU9g\"><div class=\"__2Xw5o5k5\"><svg class=\"B6gDQqTZ\" data-testid=\"jobdetails-calendar\" height=\"12\" viewbox=\"0 0 24 24\" width=\"12\" xmlns=\"http://www.w3.org/2000/svg\"><g clip-path=\"url(#calendar-icon_svg__clip0)\"><path d=\"M19 2h-1V1a1 1 0 00-2 0v1H8V1a1 1 0 00-2 0v1H5a5.006 5.006 0 00-5 5v12a5.006 5.006 0 005 5h14a5.006 5.006 0 005-5V7a5.006 5.006 0 00-5-5zM2 7a3 3 0 013-3h14a3 3 0 013 3v1H2V7zm17 15H5a3 3 0 01-3-3v-9h20v9a3 3 0 01-3 3z\"></path><path d=\"M12 16.5a1.5 1.5 0 100-3 1.5 1.5 0 000 3zM7 16.5a1.5 1.5 0 100-3 1.5 1.5 0 000 3zM17 16.5a1.5 1.5 0 100-3 1.5 1.5 0 000 3z\"></path></g><defs><clippath id=\"calendar-icon_svg__clip0\"><path d=\"M0 0h24v24H0z\" fill=\"#fff\"></path></clippath></defs></svg><div class=\"hhulNeRC main-body-text\">Jan 8</div><span class=\"_u73Cv_w h6\">Posted date</span></div><div class=\"V_oVSppD main-body-text\">Jan 8</div></div><div class=\"__97cVPU9g\"><div class=\"__2Xw5o5k5\"><svg class=\"B6gDQqTZ\" data-testid=\"jobdetails-diploma\" height=\"12\" viewbox=\"0 0 24 24\" width=\"12\" xmlns=\"http://www.w3.org/2000/svg\"><path d=\"M11 12a1 1 0 010 2H8a1 1 0 010-2h3zm6-3a1 1 0 00-1-1H8a1 1 0 000 2h8a1 1 0 001-1zM8 6h8a1 1 0 100-2H8a1 1 0 000 2zm12 13.444v3.833a.72.72 0 01-1.231.51L18 23.019l-.769.768a.721.721 0 01-1.231-.51v-3.833A3.987 3.987 0 0118 12c.338.004.674.052 1 .142V5a3 3 0 00-3-3H8a3 3 0 00-3 3v12a3 3 0 003 3h5a1 1 0 010 2H8a5.006 5.006 0 01-5-5V5a5.006 5.006 0 015-5h8a5.006 5.006 0 015 5v8.382a3.95 3.95 0 01-1 6.062zM20 16a2 2 0 10-4 0 2 2 0 004 0z\"></path></svg><a class=\"hhulNeRC main-body-text\" href=\"https://www.kariera.gr/jobs?seniority=MID_LEVEL\" rel=\"nofollow\" target=\"_blank\">Mid level</a><span class=\"_u73Cv_w h6\">Minimum level</span></div><a class=\"V_oVSppD main-body-text\" href=\"https://www.kariera.gr/jobs?seniority=MID_LEVEL\" rel=\"nofollow\" target=\"_blank\">Mid level</a></div><div class=\"__97cVPU9g\"><div class=\"__2Xw5o5k5\"><svg class=\"B6gDQqTZ\" data-testid=\"jobdetails-user-time\" height=\"12\" viewbox=\"0 0 24 24\" width=\"12\" xmlns=\"http://www.w3.org/2000/svg\"><g clip-path=\"url(#user-time-icon_svg__clip0)\"><path d=\"M17 24a7 7 0 117-7 7.008 7.008 0 01-7 7zm0-12a5 5 0 100 10 5 5 0 000-10zm1.707 6.707a1 1 0 000-1.414L18 16.586V15a1 1 0 00-2 0v2a1 1 0 00.293.707l1 1a1 1 0 001.414 0zM2 23a8.3 8.3 0 016.221-8.024 1 1 0 10-.442-1.952A10.213 10.213 0 000 23a1 1 0 102 0zm6.474-12a5.5 5.5 0 115.5-5.5 5.506 5.506 0 01-5.5 5.5zm0-9a3.5 3.5 0 100 7 3.5 3.5 0 000-7z\"></path></g><defs><clippath id=\"user-time-icon_svg__clip0\"><path d=\"M0 0h24v24H0z\" fill=\"#fff\"></path></clippath></defs></svg><a class=\"hhulNeRC main-body-text\" href=\"https://www.kariera.gr/jobs?occupationType=CONTRACT_FREELANCE_SELF_EMPLOYED\" target=\"_blank\">Contract/Freelance/Self-employed</a><span class=\"_u73Cv_w h6\">Job type</span></div><a class=\"V_oVSppD main-body-text\" href=\"https://www.kariera.gr/jobs?occupationType=CONTRACT_FREELANCE_SELF_EMPLOYED\" target=\"_blank\">Contract/Freelance/Self-employed</a></div></div><div class=\"rKiU1UKQ\"><div class=\"__97cVPU9g\"><div class=\"__2Xw5o5k5\"><svg class=\"B6gDQqTZ\" data-testid=\"jobdetails-category\" fill=\"none\" height=\"12\" width=\"12\" xmlns=\"http://www.w3.org/2000/svg\"><path d=\"M9.5 2h-2v-.5a1.5 1.5 0 00-3 0V2h-2A2.503 2.503 0 000 4.5v5A2.503 2.503 0 002.5 12h7A2.503 2.503 0 0012 9.5v-5A2.503 2.503 0 009.5 2zm-4-.5a.5.5 0 111 0v1a.5.5 0 11-1 0v-1zm5.5 8A1.5 1.5 0 019.5 11h-7A1.5 1.5 0 011 9.5v-5A1.5 1.5 0 012.5 3h2.092a1.491 1.491 0 002.816 0H9.5A1.5 1.5 0 0111 4.5v5zM5 5H2.5a.5.5 0 00-.5.5v4a.5.5 0 00.5.5H5a.5.5 0 00.5-.5v-4A.5.5 0 005 5zm-.5 4H3V6h1.5v3zM10 7.5a.5.5 0 01-.5.5H7a.5.5 0 110-1h2.5a.5.5 0 01.5.5zm0-2a.5.5 0 01-.5.5H7a.5.5 0 110-1h2.5a.5.5 0 01.5.5zm-1 4a.5.5 0 01-.5.5H7a.5.5 0 110-1h1.5a.5.5 0 01.5.5z\" fill=\"#596980\"></path></svg><a class=\"hhulNeRC main-body-text\" href=\"https://www.kariera.gr/jobs?category=REAL_ESTATE\" target=\"_blank\">Real Estate</a><span class=\"_u73Cv_w h6\">Job category</span></div><a class=\"V_oVSppD main-body-text\" href=\"https://www.kariera.gr/jobs?category=REAL_ESTATE\" target=\"_blank\">Real Estate</a></div></div></div></div><div class=\"__2DY4wJ3z hi8OBmAZ\" data-testid=\"html-renderer-job-main-body-text\"><p>Καριέρα στο real estate; Θέλεις να εργάζεσαι με ελεύθερο ωράριο, πολλαπλές δυνατότητες εξέλιξης και αμοιβές που αγγίζουν το 100% (!) της προμήθειας; Έλα τότε στη No1 Εταιρεία Real Estate παγκοσμίως!</p>\n",
       "<h3><strong>Ποιοι είμαστε:</strong></h3>\n",
       "<p>Η<strong> <a href=\"https://solutionsgroup.gr/real-estate/\" target=\"_blank\">Keller Williams Solutions Group</a>*</strong> έχει καταφέρει μέσα σε 6 χρόνια λειτουργίας να αριθμεί 25 Συμβούλους και να εντάσσεται στις πρώτες θέσεις πανελλαδικά σε πωλήσεις. Βασικός πυλώνας της επιτυχίας μας είναι η φροντίδα και προσοχή που δίνουμε στην ανάπτυξη των συνεργατών/Συμβούλων μας.</p>\n",
       "<p>Τα αποτελέσματά μας μιλούν από μόνα τους:</p>\n",
       "<ul>\n",
       "<li><strong>1 Πώληση / 4 ημέρες</strong> για τα έτη 2017-2022</li>\n",
       "<li>Οι Σύμβουλοί μας κατατάσσονται στους <strong>κορυφαίους πανελλαδικά</strong> μέσα σε 2-3 χρόνια στο χώρο.</li>\n",
       "<li>Για το 2021: <strong><span>Οι 2 πρώτοι Σύμβουλοι πανελλαδικά ανήκουν στο γραφείο μας</span></strong></li>\n",
       "</ul>\n",
       "<p>Αποστολή μας είναι να «Ενδυναμώνουμε τους ανθρώπους να παίρνουν συνειδητοποιημένες αποφάσεις σχετικά με την ακίνητη περιουσία τους», υιοθετώντας ταυτόχρονα μια σύγχρονη προσέγγιση στον κλάδο του real estate και στοχεύοντας να γίνουμε το Νο.1 Γραφείο πανελλαδικά.</p>\n",
       "<h2> </h2>\n",
       "<h2>Γιατί μαζί μας;</h2>\n",
       "<h3><strong>Υψηλές Προμήθειες</strong></h3>\n",
       "<p>Πιστεύουμε πως οι Σύμβουλοί μας αξίζουν τα καλύτερα για αυτό και τους ανταμοίβουμε μέχρι και με το <strong>100% (!) των συνολικών προμηθειών</strong>. Έτσι, όλοι έχουν κίνητρο να πετύχουν και εξελιχθούν περισσότερο, χτίζοντας ταυτόχρονα μια καριέρα με υψηλά εισοδήματα.</p>\n",
       "<h3> </h3>\n",
       "<h3><strong>Συνεχής Εκπαίδευση</strong></h3>\n",
       "<p><img alt=\"Συνεχής Εκπαίδευση\" height=\"371\" src=\"https://solutionsgroup.gr/real-estate/wp-content/uploads/2020/09/1DM2_2058_NEW.jpg\" width=\"500\"/><img alt=\"\" src=\"https://drive.google.com/file/d/1bXGj_NGd_7WCaLs2J83lcl0cT7rkD9sa/view?usp=sharing\"/></p>\n",
       "<p>Η εκπαίδευση στο γραφείο μας ξεκινά με το… καλημέρα αφού θα περάσεις από <strong>100 ώρες βιωματικής εκπαίδευσης</strong> πριν καν βγεις στην αγορά! Σεμιναριακά μαθήματα, παιχνίδια ρόλων (role playing), παρακολούθηση έμπειρων συνεργατών (shadowing), υποστήριξη στα πρώτα σου ραντεβού: χρησιμοποιούμε όλους τους σύγχρονους τρόπους εκμάθησης. Τα ολοκληρωμένα προγράμματα κατάρτισης της Keller Williams αποτελούν ευκαιρία εκμάθησης του αντικειμένου, για επαγγελματίες του χώρου και μη. Για το λόγο αυτό οι Σύμβουλοι μας αποπνέουν επαγγελματισμό, κερδίζουν την εμπιστοσύνη των πελατών τους και κλείνουν πολλές συμφωνίες.</p>\n",
       "<h3> </h3>\n",
       "<h3><strong>Πλήρης Υποστήριξη</strong></h3>\n",
       "<p><strong><img alt=\"Πλήρης Υποστήριξη\" height=\"371\" src=\"https://solutionsgroup.gr/real-estate/wp-content/uploads/2019/11/DM2_1984.jpg\" width=\"500\"/></strong></p>\n",
       "<p>Φροντίζουμε να σου παρέχουμε ότι χρειαστείς για την ομαλή διεξαγωγή της εργασίας σου: από χώρο εργασίας και γραμματειακή υποστήριξη, μέχρι καθοδήγηση στη διαφήμιση των ακινήτων, τη διαπραγμάτευση και τη διεκπεραίωση των συμβολαίων σου. Αναλαμβάνοντας λοιπόν εμείς όλη τη γραφειοκρατία, εσύ μπορείς να εστιάζεις στη πιο σημαντική ενέργεια: να γίνεσαι ο/η έμπιστος/η Σύμβουλος Ακινήτων των ανθρώπων που σκέφτονται να πουλήσουν ή εκμισθώσουν το ακίνητό τους.</p>\n",
       "<h3> </h3>\n",
       "<h3><strong>Πρωτοποριακό Marketing &amp; Τεχνολογία</strong></h3>\n",
       "<p>Με <a href=\"https://www.youtube.com/watch?v=bBsPTu1tPVU&amp;list=PL-D1LR7TTqHKPvVp_Ms_B1_xuftPzgIFK&amp;index=91\" target=\"_blank\">Βίντεο Παρουσίασης Ακινήτων</a> (η σειρά μας <a href=\"https://www.youtube.com/watch?v=bBsPTu1tPVU&amp;list=PL-D1LR7TTqHKPvVp_Ms_B1_xuftPzgIFK&amp;index=91\" target=\"_blank\">#hotAkinita</a> έχει περισσότερες από 2.300.000 προβολές στο YouTube), Gold &amp; VIP Αγγελίες, Επαγγελματική Φωτογράφιση Ακινήτων, Ενεργή Παρουσία στα Social Media (6.000 Followers), το Νο.1 Vlog στην Ελλάδα <a href=\"https://www.youtube.com/watch?v=0NUnE8lr6Dk&amp;list=PL-D1LR7TTqHLNvu0LYoqU5HglM9iTkcRB&amp;index=6\" target=\"_blank\">#Mesitis4U</a> και πολλά άλλα, αποκτάς μεγάλο πλεονέκτημα στην ανάθεση ακινήτων. Στόχος μας να σε αναδείξουμε στον/στην ειδικό της περιοχής σου και να σε βοηθήσουμε να προωθήσεις τα ακίνητά σου σε ολόκληρο το αγοραστικό κοινό, χτίζοντας ένα δυνατό brand για το μέλλον. Επενδύουμε επίσης και στην τεχνολογία προσελκύοντας περισσότερους πελάτες, τους οποίους και εξυπηρετούμε γρηγορότερα. Αποτέλεσμα: ολοκληρώνουμε περισσότερες πωλήσεις.</p>\n",
       "<h3> </h3>\n",
       "<h3><strong>Ολοκληρωμένες Λύσεις στο χώρο του Ακινήτου</strong></h3>\n",
       "<p>Η KW Solutions Group ανήκει στον όμιλο επιχειρήσεων, Solutions Group. Μέλος του ομίλου και η «<a href=\"https://solutionsgroup.gr/resolutions/\" target=\"_blank\">Resolutions - Ανακαίνιση Σπιτιού</a>» η οποία δραστηριοποιείται στο χώρο των ανακαινίσεων επί 25 χρόνια, καθώς και η «<a href=\"https://solutionsgroup.gr/insolutions/\" target=\"_blank\">Insolutions - Ασφαλιστικές Υπηρεσίες</a>». Οι 3 αυτές εταιρείες, έρχονται να καλύψουν τις ανάγκες του πελάτη σε real estate, ανακαινίσεις και ασφαλιστικά και να σου δώσουν τη δυνατότητα να μεγαλώσεις περαιτέρω το εισόδημά σου συστήνοντας κάθε φορά την αντίστοιχη υπηρεσία. Ταυτόχρονα, επιλεγμένοι εξωτερικοί συνεργάτες (πχ Δικηγόροι, Μηχανικοί, Συμβολαιογράφοι) βρίσκονται δίπλα σου για να σε βοηθήσουν να εξυπηρετήσεις ολοκληρωμένα τους πελάτες σου.</p>\n",
       "<h3> </h3>\n",
       "<h3><strong>Ανθρωποκεντρική Κουλτούρα</strong></h3>\n",
       "<p>Φροντίζουμε και νοιαζόμαστε για τους ανθρώπους μας. Χτίζουμε μια επιτυχημένη ομάδα συνεργατών που εστιάζει εξίσου στην παραγωγικότητα και τις ανθρώπινες σχέσεις. Το οικογενειακό κλίμα, η διασκέδαση, η επιβράβευση της αριστείας, το εταιρικό όραμα και οι αξίες μας σου επιτρέπουν να εργάζεσαι σε ένα υγιές εργασιακό περιβάλλον, με ξεκάθαρη κατεύθυνση &amp; να αποδίδεις στο μέγιστο των δυνατοτήτων σου.</p>\n",
       "<h3> </h3>\n",
       "<h3><strong>Keller Williams - Η Νο.1 Εταιρεία στο Real Estate</strong></h3>\n",
       "<p>Με 200.000 Συμβούλους Ακινήτων σε 50+ χώρες, η Keller Williams είναι η #1 εταιρεία του χώρου, αφού, έχει την πρωτοκαθεδρία στους 3 βασικούς δείκτες:</p>\n",
       "<ul>\n",
       "<li><strong>Νο.1 σε Αριθμό Συμβούλων Ακινήτων</strong></li>\n",
       "<li><strong>Νο.1 σε Όγκο Πωληθέντων Ακινήτων</strong></li>\n",
       "<li><strong>Νο.1 σε Τζίρο</strong></li>\n",
       "</ul>\n",
       "<p>Κι όλα αυτά, ενώ έχει καταφέρει να διατηρήσει την ανθρωποκεντρική κουλτούρα της σε τέτοιο βαθμό, που οι Σύμβουλοι Ακινήτων μένουν μαζί της για 20 χρόνια κατά μέσο όρο!</p>\n",
       "<h3> </h3>\n",
       "<h3><strong>Συνέδρια &amp; Εκδηλώσεις</strong></h3>\n",
       "<p>Κορυφαίοι επαγγελματίες του χώρου από Ελλάδα και εξωτερικό μεταφέρουν τις γνώσεις &amp; εμπειρία τους για να σε βοηθήσουν να πας ψηλότερα. Στη Νο.1 εταιρεία παγκοσμίως η ανάπτυξη είναι μονόδρομος!</p>\n",
       "<h3> </h3>\n",
       "<h3><strong>Μεγάλο Δίκτυο</strong></h3>\n",
       "<p>Με πανελλαδικό δίκτυο γραφείων μπορείς να εξυπηρετείς τους πελάτες σου όπου και να βρίσκονται. Αναλαμβάνεις περισσότερα ακίνητα, ολοκληρώνεις περισσότερες πωλήσεις, χτίζεις συμμάχους σε κάθε γωνιά της γης.</p>\n",
       "<h2> </h2>\n",
       "<h2><strong>Τι παρέχουμε:</strong></h2>\n",
       "<p>1. Εκπαίδευση Υψηλού Επιπέδου<br/>2. Υποστήριξη σε όλα τα στάδια της εργασίας σου<br/>3. Το πιο Πρωτοποριακό Marketing για τα ακίνητά σου<br/>4. Αμοιβές που αγγίζουν το 100% (!) της προμήθειας<br/>5. Ευχάριστο Περιβάλλον εργασίας με οργάνωση πολυεθνικής<br/>6. Πανελλαδικό Δίκτυο Γραφείων για την κάλυψη των αναγκών των πελατών σου<br/>7. Παροχή Ολοκληρωμένων Υπηρεσιών (ανακαινίσεις, ασφαλιστικές υπηρεσίες, δάνεια κτλ.)<br/>8. Ευέλικτο ωράριο &amp; Ελευθερία Κινήσεων<br/>9. Μεγάλες Προοπτικές εξέλιξης και δημιουργίας ομάδων<br/>10. Αποδεδειγμένα συστήματα και μοντέλα ανάπτυξης</p>\n",
       "<h3> </h3>\n",
       "<h3><strong>Τυπικά προσόντα:</strong></h3>\n",
       "<p> - 5ετη Προϋπηρεσία (<span>ανεξαρτήτως</span> κλάδου)<br/> - Επικοινωνιακές Ικανότητες<br/> - Ήθος και Ακεραιότητα<br/> - Μεταφορικό Μέσο<br/> - Προϋπηρεσία στις Πωλήσεις θα εκτιμηθεί</p>\n",
       "<p>Αν είσαι μεσίτης/τρια ή έχεις εργαστεί σε μεσιτικό γραφείο στην εξυπηρέτηση πελατών, εάν έχεις προϋπηρεσία ως Πωλητής, Ελεύθερος Επαγγελματίας, Επιχειρηματίας, Ασφαλιστικός Σύμβουλος, Πολιτικός Μηχανικός, Αρχιτέκτονας, Τραπεζικός, τότε έχεις πλεονέκτημα αφού έχεις ήδη αποκτήσει δεξιότητες που θα σε βοηθήσουν στο χώρο μας.</p>\n",
       "<p>Εάν δεν σου αρκεί να είσαι υπάλληλος, εάν επιθυμείς να ρυθμίζεις εσύ το πρόγραμμά σου, εάν θέλεις τα εισοδήματά σου να εξαρτώνται από τις ενέργειές σου κι αν έχεις φιλοδοξίες να φτάσεις ψηλά, μην χάνεις άλλο χρόνο.</p>\n",
       "<p>Έλα μαζί μας και ξεκίνα να χτίζεις το μέλλον σου τώρα!</p>\n",
       "<p><em>*Κάθε γραφείο Keller Williams είναι ανεξάρτητη ιδιόκτητη επιχείρηση.</em></p>\n",
       "<p> </p>\n",
       "<p>ΥΓ: Αν θες να μάθεις <strong>ποια είναι η καθημερινότητα των Real Estate Agent</strong>, απλώς <a href=\"https://youtu.be/nS9FDs4WYVk\" target=\"_blank\">δες αυτό εδώ το βίντεο.</a></p></div><div class=\"YnubBw8X\" data-testid=\"job-related-tags\"><div class=\"h5 __1kgRV30L\">Related tags</div><div class=\"E1tE0Y7E\"><div class=\"BdIV31IC\"><button class=\"JlkhZriQ\" type=\"button\"><span class=\"small-body-text EB4TJoiJ\">πωλήσεις</span></button></div><div class=\"BdIV31IC\"><button class=\"JlkhZriQ\" type=\"button\"><span class=\"small-body-text EB4TJoiJ\">ιnsurance agents, ασφαλιστικός σύμβουλος,ασφάλειες, ασφαλιστικός πράκτορας, ασφαλιστικός</span></button></div><div class=\"BdIV31IC\"><button class=\"JlkhZriQ\" type=\"button\"><span class=\"small-body-text EB4TJoiJ\">στέλεχος πωλήσεων</span></button></div><div class=\"BdIV31IC\"><button class=\"JlkhZriQ\" type=\"button\"><span class=\"small-body-text EB4TJoiJ\">πωλητης</span></button></div><div class=\"BdIV31IC\"><button class=\"JlkhZriQ\" type=\"button\"><span class=\"small-body-text EB4TJoiJ\">πωλήσεις, sales,  πωλητής</span></button></div><div class=\"BdIV31IC\"><button class=\"JlkhZriQ\" type=\"button\"><span class=\"small-body-text EB4TJoiJ\">πωλήσεις, sales, ιατρικός επισκέπτης</span></button></div><div class=\"BdIV31IC\"><button class=\"JlkhZriQ\" type=\"button\"><span class=\"small-body-text EB4TJoiJ\">μεσιτικό </span></button></div><div class=\"BdIV31IC\"><button class=\"JlkhZriQ\" type=\"button\"><span class=\"small-body-text EB4TJoiJ\">ελεύθερος επαγγελματίας </span></button></div><div class=\"BdIV31IC\"><button class=\"JlkhZriQ\" type=\"button\"><span class=\"small-body-text EB4TJoiJ\">real estate</span></button></div><div class=\"BdIV31IC\"><button class=\"JlkhZriQ\" type=\"button\"><span class=\"small-body-text EB4TJoiJ\">συμβουλος πωλησεων</span></button></div><div class=\"BdIV31IC\"><button class=\"JlkhZriQ\" type=\"button\"><span class=\"small-body-text EB4TJoiJ\">keller williams</span></button></div><div class=\"BdIV31IC\"><button class=\"JlkhZriQ\" type=\"button\"><span class=\"small-body-text EB4TJoiJ\">εξωτερικος πωλητης</span></button></div><div class=\"BdIV31IC\"><button class=\"JlkhZriQ\" type=\"button\"><span class=\"small-body-text EB4TJoiJ\">εκπαίδευση</span></button></div><div class=\"BdIV31IC\"><button class=\"JlkhZriQ\" type=\"button\"><span class=\"small-body-text EB4TJoiJ\">συμβουλος πωλησεων αττικη</span></button></div><div class=\"BdIV31IC\"><button class=\"JlkhZriQ\" type=\"button\"><span class=\"small-body-text EB4TJoiJ\">real estate agent</span></button></div><div class=\"BdIV31IC\"><button class=\"JlkhZriQ\" type=\"button\"><span class=\"small-body-text EB4TJoiJ\">μεσίτης</span></button></div><div class=\"BdIV31IC\"><button class=\"JlkhZriQ\" type=\"button\"><span class=\"small-body-text EB4TJoiJ\">ακινητα</span></button></div><div class=\"BdIV31IC\"><button class=\"JlkhZriQ\" type=\"button\"><span class=\"small-body-text EB4TJoiJ\">συμβουλος ακινητων</span></button></div><div class=\"BdIV31IC\"><button class=\"JlkhZriQ\" type=\"button\"><span class=\"small-body-text EB4TJoiJ\">συμβουλος ακινητης περιουσιας</span></button></div><div class=\"BdIV31IC\"><button class=\"JlkhZriQ\" type=\"button\"><span class=\"small-body-text EB4TJoiJ\">μεσιτης αθηνα</span></button></div><div class=\"BdIV31IC\"><button class=\"JlkhZriQ\" type=\"button\"><span class=\"small-body-text EB4TJoiJ\">μεσιτικα γραφεια</span></button></div><div class=\"BdIV31IC\"><button class=\"JlkhZriQ\" type=\"button\"><span class=\"small-body-text EB4TJoiJ\">μεσιτικο γραφειο</span></button></div><div class=\"BdIV31IC\"><button class=\"JlkhZriQ\" type=\"button\"><span class=\"small-body-text EB4TJoiJ\">μεσιτης βορεια προαστια</span></button></div><div class=\"BdIV31IC\"><button class=\"JlkhZriQ\" type=\"button\"><span class=\"small-body-text EB4TJoiJ\">ακινητο</span></button></div><div class=\"BdIV31IC\"><button class=\"JlkhZriQ\" type=\"button\"><span class=\"small-body-text EB4TJoiJ\">ασφαλιστικος συμβουλος</span></button></div></div></div></div></section><div class=\"ui-container undefined ui-container--padding-20-desktop-20-0 ui-container--white ui-container--align-center ui-container--max-width-720\"><div class=\"epgMvNrz\"><div class=\"h5 __45rU1_1C\">JOB SUMMARY</div><div><span class=\"h4 Mc6SrJys\">Real Estate University: Εργάζεσαι &amp; Εκπαιδεύεσαι ταυτόχρονα στη Νο1 Εταιρεία Real Estate Παγκοσμίως (Βόρεια, Δυτικά Προάστια, Πειραιάς ή Προάστια Πειραιά)</span><div class=\"bfSLS0Ki\"><div class=\"xtKde3bM\"><div class=\"TyeOocxR GwU4NvbD B9HT90c1\" role=\"button\" tabindex=\"0\"><a class=\"kEVdqbh8\" data-testid=\"job-card-company-img-link\" href=\"/en/companies/2478\"><span style=\"box-sizing:border-box;display:block;overflow:hidden;width:initial;height:initial;background:none;opacity:1;border:0;margin:0;padding:0;position:absolute;top:0;left:0;bottom:0;right:0\"><img alt=\"company logo\" class=\"__0xwq94A_\" data-nimg=\"fill\" data-testid=\"imageIdTest\" decoding=\"async\" src=\"data:image/gif;base64,R0lGODlhAQABAIAAAAAAAP///yH5BAEAAAAALAAAAAABAAEAAAIBRAA7\" style='position:absolute;top:0;left:0;bottom:0;right:0;box-sizing:border-box;padding:0;border:none;margin:auto;display:block;width:0;height:0;min-width:100%;max-width:100%;min-height:100%;max-height:100%;object-fit:contain;filter:blur(20px);background-size:contain;background-image:url(\"data:image/gif;base64,R0lGODlhAQABAIAAAP///wAAACH5BAEAAAAALAAAAAABAAEAAAICRAEAOw==\");background-position:0% 0%'/><noscript><img alt=\"company logo\" class=\"__0xwq94A_\" data-nimg=\"fill\" data-testid=\"imageIdTest\" decoding=\"async\" loading=\"lazy\" sizes=\"100vw\" src=\"/_next/image?url=https%3A%2F%2Femployerfilesprod.blob.core.windows.net%2Fuseruploads%2F272405%2Fcompany%2F2478%2Fimg-1655209038029&amp;w=3840&amp;q=75\" srcset=\"/_next/image?url=https%3A%2F%2Femployerfilesprod.blob.core.windows.net%2Fuseruploads%2F272405%2Fcompany%2F2478%2Fimg-1655209038029&amp;w=640&amp;q=75 640w, /_next/image?url=https%3A%2F%2Femployerfilesprod.blob.core.windows.net%2Fuseruploads%2F272405%2Fcompany%2F2478%2Fimg-1655209038029&amp;w=750&amp;q=75 750w, /_next/image?url=https%3A%2F%2Femployerfilesprod.blob.core.windows.net%2Fuseruploads%2F272405%2Fcompany%2F2478%2Fimg-1655209038029&amp;w=828&amp;q=75 828w, /_next/image?url=https%3A%2F%2Femployerfilesprod.blob.core.windows.net%2Fuseruploads%2F272405%2Fcompany%2F2478%2Fimg-1655209038029&amp;w=1080&amp;q=75 1080w, /_next/image?url=https%3A%2F%2Femployerfilesprod.blob.core.windows.net%2Fuseruploads%2F272405%2Fcompany%2F2478%2Fimg-1655209038029&amp;w=1200&amp;q=75 1200w, /_next/image?url=https%3A%2F%2Femployerfilesprod.blob.core.windows.net%2Fuseruploads%2F272405%2Fcompany%2F2478%2Fimg-1655209038029&amp;w=1920&amp;q=75 1920w, /_next/image?url=https%3A%2F%2Femployerfilesprod.blob.core.windows.net%2Fuseruploads%2F272405%2Fcompany%2F2478%2Fimg-1655209038029&amp;w=2048&amp;q=75 2048w, /_next/image?url=https%3A%2F%2Femployerfilesprod.blob.core.windows.net%2Fuseruploads%2F272405%2Fcompany%2F2478%2Fimg-1655209038029&amp;w=3840&amp;q=75 3840w\" style=\"position:absolute;top:0;left:0;bottom:0;right:0;box-sizing:border-box;padding:0;border:none;margin:auto;display:block;width:0;height:0;min-width:100%;max-width:100%;min-height:100%;max-height:100%;object-fit:contain\"/></noscript></span></a></div></div><a class=\"h5 rX0pv_W4\" href=\"/en/companies/2478\">KELLER WILLIAMS SOLUTIONS GROUP</a></div><div class=\"rSmfCQsV\"><div class=\"h6 __7bHmBsGG\"><svg class=\"x8Ihxwem\" height=\"12\" viewbox=\"0 0 24 24\" width=\"12\" xmlns=\"http://www.w3.org/2000/svg\"><g clip-path=\"url(#location-icon_svg__clip0)\"><path d=\"M12 16a3 3 0 001.342-.314l2-1A2.986 2.986 0 0017 12V9.033a2.985 2.985 0 00-1.658-2.683l-2-1a3.014 3.014 0 00-2.683 0l-2 1A2.985 2.985 0 007 9.033V12a2.986 2.986 0 001.658 2.684l2 1A3 3 0 0012 16zm-3-4V9.033a1 1 0 01.051-.3l2.18 1.09a1.72 1.72 0 001.538 0l2.18-1.09a1 1 0 01.051.3V12a.994.994 0 01-.553.895l-2 1a1.008 1.008 0 01-.895 0l-2-1A.994.994 0 019 12zm10 10h-2.709l3.487-3.222a11 11 0 10-15.528.028L7.709 22H5a1 1 0 000 2h14a1 1 0 100-2zM5.636 4.636a9 9 0 0112.757 12.7l-3.985 3.68A3.514 3.514 0 019.571 21l-3.935-3.636a9.01 9.01 0 010-12.728z\"></path></g><defs><clippath id=\"location-icon_svg__clip0\"><path d=\"M0 0h24v24H0z\" fill=\"#fff\"></path></clippath></defs></svg><span class=\"t4bg2aSk\">Marousi</span></div><div class=\"h6 __7bHmBsGG\"><svg class=\"x8Ihxwem\" height=\"12\" viewbox=\"0 0 24 24\" width=\"12\" xmlns=\"http://www.w3.org/2000/svg\"><g clip-path=\"url(#calendar-icon_svg__clip0)\"><path d=\"M19 2h-1V1a1 1 0 00-2 0v1H8V1a1 1 0 00-2 0v1H5a5.006 5.006 0 00-5 5v12a5.006 5.006 0 005 5h14a5.006 5.006 0 005-5V7a5.006 5.006 0 00-5-5zM2 7a3 3 0 013-3h14a3 3 0 013 3v1H2V7zm17 15H5a3 3 0 01-3-3v-9h20v9a3 3 0 01-3 3z\"></path><path d=\"M12 16.5a1.5 1.5 0 100-3 1.5 1.5 0 000 3zM7 16.5a1.5 1.5 0 100-3 1.5 1.5 0 000 3zM17 16.5a1.5 1.5 0 100-3 1.5 1.5 0 000 3z\"></path></g><defs><clippath id=\"calendar-icon_svg__clip0\"><path d=\"M0 0h24v24H0z\" fill=\"#fff\"></path></clippath></defs></svg><span class=\"t4bg2aSk\" data-testid=\"job-summary-created-date\">Jan 8</span></div></div><div class=\"rSmfCQsV\"><div class=\"h6 __7bHmBsGG\"><svg class=\"x8Ihxwem\" height=\"12\" viewbox=\"0 0 24 24\" width=\"12\" xmlns=\"http://www.w3.org/2000/svg\"><path d=\"M11 12a1 1 0 010 2H8a1 1 0 010-2h3zm6-3a1 1 0 00-1-1H8a1 1 0 000 2h8a1 1 0 001-1zM8 6h8a1 1 0 100-2H8a1 1 0 000 2zm12 13.444v3.833a.72.72 0 01-1.231.51L18 23.019l-.769.768a.721.721 0 01-1.231-.51v-3.833A3.987 3.987 0 0118 12c.338.004.674.052 1 .142V5a3 3 0 00-3-3H8a3 3 0 00-3 3v12a3 3 0 003 3h5a1 1 0 010 2H8a5.006 5.006 0 01-5-5V5a5.006 5.006 0 015-5h8a5.006 5.006 0 015 5v8.382a3.95 3.95 0 01-1 6.062zM20 16a2 2 0 10-4 0 2 2 0 004 0z\"></path></svg><span class=\"t4bg2aSk\">Mid level</span></div><div class=\"h6 __7bHmBsGG\"><svg class=\"x8Ihxwem\" height=\"12\" viewbox=\"0 0 24 24\" width=\"12\" xmlns=\"http://www.w3.org/2000/svg\"><g clip-path=\"url(#user-time-icon_svg__clip0)\"><path d=\"M17 24a7 7 0 117-7 7.008 7.008 0 01-7 7zm0-12a5 5 0 100 10 5 5 0 000-10zm1.707 6.707a1 1 0 000-1.414L18 16.586V15a1 1 0 00-2 0v2a1 1 0 00.293.707l1 1a1 1 0 001.414 0zM2 23a8.3 8.3 0 016.221-8.024 1 1 0 10-.442-1.952A10.213 10.213 0 000 23a1 1 0 102 0zm6.474-12a5.5 5.5 0 115.5-5.5 5.506 5.506 0 01-5.5 5.5zm0-9a3.5 3.5 0 100 7 3.5 3.5 0 000-7z\"></path></g><defs><clippath id=\"user-time-icon_svg__clip0\"><path d=\"M0 0h24v24H0z\" fill=\"#fff\"></path></clippath></defs></svg><span class=\"t4bg2aSk\">Contract/Freelance/Self-employed</span></div></div></div><div class=\"mzSf_Y8_\"><button class=\"ant-btn ant-btn-primary ant-btn-sm ui-button h6 pEVAD0zz\" data-testid=\"job-summary-apply-button\" type=\"button\"><span>Apply now</span></button><button class=\"ant-btn ant-btn-sm ui-button pEVAD0zz\" data-testid=\"job-summary-save-later-button\" type=\"button\"><svg height=\"12\" viewbox=\"0 0 24 24\" width=\"12\" xmlns=\"http://www.w3.org/2000/svg\"><g clip-path=\"url(#heart-icon_svg__clip0)\"><path d=\"M17.5.917a6.4 6.4 0 00-5.5 3.3 6.4 6.4 0 00-5.5-3.3A6.8 6.8 0 000 7.967c0 4.547 4.786 9.513 8.8 12.88a4.974 4.974 0 006.4 0c4.014-3.367 8.8-8.333 8.8-12.88a6.8 6.8 0 00-6.5-7.05zm-3.585 18.4a2.973 2.973 0 01-3.83 0C4.947 15.006 2 10.87 2 7.967a4.8 4.8 0 014.5-5.05 4.8 4.8 0 014.5 5.05 1 1 0 002 0 4.8 4.8 0 014.5-5.05 4.8 4.8 0 014.5 5.05c0 2.903-2.947 7.039-8.085 11.346v.004z\"></path></g><defs><clippath id=\"heart-icon_svg__clip0\"><path d=\"M0 0h24v24H0z\" fill=\"#fff\"></path></clippath></defs></svg><span>Save</span></button></div></div><div class=\"VILCuAZv\"><section class=\"OeUTWlse\"><button class=\"ant-btn ant-btn-link ant-btn-sm ui-button\" type=\"button\"><span>Report this job</span></button></section></div></div></main></section></section><div class=\"oMYVVReN\"><div class=\"D6joAIuS\"><div class=\"QqPe1ja1\"><span class=\"h5 uppercase\">One subscription, endless opportunities!</span><span class=\"main-body-text\">Sign up to our newsletter and be the first to receive job posts, career advice &amp; work-life tips!</span></div><form class=\"ant-form ant-form-horizontal RZ2ihxhh\"><div class=\"ant-row ant-form-item JpUz5I7O\"><div class=\"ant-col ant-form-item-control\"><div class=\"ant-form-item-control-input\"><div class=\"ant-form-item-control-input-content\"><span class=\"ant-input-affix-wrapper ant-input-affix-wrapper-sm\"><input class=\"ant-input ant-input-sm\" data-testid=\"newsletter-input\" id=\"email\" maxlength=\"255\" placeholder=\"Enter your email address\" type=\"text\" value=\"\"/><span class=\"ant-input-suffix\"><span aria-label=\"close-circle\" class=\"anticon anticon-close-circle ant-input-clear-icon-hidden ant-input-clear-icon\" role=\"button\" tabindex=\"-1\"><svg aria-hidden=\"true\" data-icon=\"close-circle\" fill=\"currentColor\" focusable=\"false\" height=\"1em\" viewbox=\"64 64 896 896\" width=\"1em\"><path d=\"M512 64C264.6 64 64 264.6 64 512s200.6 448 448 448 448-200.6 448-448S759.4 64 512 64zm165.4 618.2l-66-.3L512 563.4l-99.3 118.4-66.1.3c-4.4 0-8-3.5-8-8 0-1.9.7-3.7 1.9-5.2l130.1-155L340.5 359a8.32 8.32 0 01-1.9-5.2c0-4.4 3.6-8 8-8l66.1.3L512 464.6l99.3-118.4 66-.3c4.4 0 8 3.5 8 8 0 1.9-.7 3.7-1.9 5.2L553.5 514l130 155c1.2 1.5 1.9 3.3 1.9 5.2 0 4.4-3.6 8-8 8z\"></path></svg></span></span></span></div></div></div></div><div class=\"__1g5A7AsU\"><button class=\"ant-btn ant-btn-primary ant-btn-sm ui-button\" data-testid=\"newsletter-button\" type=\"submit\"><span>Subscribe</span></button></div></form><p class=\"small-body-text ZuceJk2c\" data-testid=\"newsletter-consent\">By clicking on the 'Subscribe' button, you agree to receive updates about jobs and work-life content. You know that you can unsubscribe at any time, by clicking on the 'Unsubscribe' button.</p></div></div><footer class=\"ant-layout-footer Mmh8xJg3\" data-testid=\"footer-comp\"><div class=\"BDsMrh58\"><div class=\"d8V8iSjD\"><h5 class=\"h5\">Job seekers</h5><a href=\"/en/jobs\" rel=\"noopener noreferrer\" target=\"_blank\">Browse jobs</a><a href=\"/en/companies\" rel=\"noopener noreferrer\" target=\"_blank\">Browse Companies</a><a role=\"button\" tabindex=\"0\">Upload Your Resume</a><a href=\"https://resources.kariera.gr/workatkariera/\" rel=\"noopener noreferrer\" target=\"_blank\">Work @kariera.gr</a><a href=\"https://resources.kariera.gr/events/\" rel=\"noopener noreferrer\" target=\"_blank\">Events</a><a href=\"https://resources.kariera.gr/blog/\" rel=\"noopener noreferrer\" target=\"_blank\">Blog</a><a href=\"https://kariera.helpscoutdocs.com/collection/5-collection\" rel=\"noopener noreferrer\" target=\"_blank\">FAQ Jobseeker</a></div><div class=\"d8V8iSjD\"><h5 class=\"h5\">Employers</h5><a href=\"https://resources.kariera.gr/employers/job-posts/\" rel=\"noopener noreferrer\" target=\"_blank\">Job Posts</a><a href=\"https://resources.kariera.gr/employers/cv-database/\" rel=\"noopener noreferrer\" target=\"_blank\">CV Database</a><a href=\"https://resources.kariera.gr/employers/screening-hiring-solutions/\" rel=\"noopener noreferrer\" target=\"_blank\">Screening &amp; Hiring Solutions</a><a href=\"https://resources.kariera.gr/employers/company-profile/\" rel=\"noopener noreferrer\" target=\"_blank\">Company Profile</a><a href=\"https://resources.kariera.gr/employers/career-guide/\" rel=\"noopener noreferrer\" target=\"_blank\">Career Guide</a><a href=\"https://resources.kariera.gr/blog/\" rel=\"noopener noreferrer\" target=\"_blank\">Blog</a><a href=\"https://kariera.helpscoutdocs.com/collection/1-collection\" rel=\"noopener noreferrer\" target=\"_blank\">FAQ Employer</a></div><div class=\"d8V8iSjD\"><h5 class=\"h5\">Legal</h5><a href=\"/contact\" rel=\"noopener noreferrer\" target=\"_blank\">Delete Account</a><a href=\"https://www.kariera.gr/contact\" rel=\"noopener noreferrer\" target=\"_blank\">Manage Personal Data</a><a href=\"https://resources.kariera.gr/financial-statements/\" rel=\"noopener noreferrer\" target=\"_blank\">Financial Information</a></div><div class=\"d8V8iSjD\"><h5 class=\"h5\">Company</h5><a href=\"https://resources.kariera.gr/about/\" rel=\"noopener noreferrer\" target=\"_blank\">About Us</a><a href=\"/en/contact\">Contact</a></div></div><div class=\"yq7pXS3h\"><h5 class=\"h5\">Search for</h5><div><a href=\"/en/sitedirectory/title-jobs\">Jobs</a><a href=\"/en/sitedirectory/location-jobs\">Locations</a><a href=\"/en/sitedirectory/company-jobs\">Companies</a></div></div><div class=\"bJFy3Eru\"><svg class=\"apJV2iHa\" fill=\"none\" height=\"51\" width=\"44\" xmlns=\"http://www.w3.org/2000/svg\"><g clip-path=\"url(#kariera_mini_logo_white_svg__clip0_41_8294)\"><path d=\"M32.657 45.295c0-1.65.546-3.027 1.64-4.131a5.452 5.452 0 011.83-1.243 5.4 5.4 0 012.168-.408 5.512 5.512 0 012.183.41 5.566 5.566 0 011.85 1.24c1.114 1.1 1.67 2.477 1.67 4.132a5.501 5.501 0 01-.412 2.206 5.445 5.445 0 01-1.258 1.85 5.57 5.57 0 01-1.85 1.238 5.519 5.519 0 01-2.183.41 5.526 5.526 0 01-2.166-.419 5.577 5.577 0 01-1.837-1.234 5.655 5.655 0 01-1.221-1.86 5.706 5.706 0 01-.414-2.191z\" fill=\"#FF2458\"></path><path d=\"M31.797 51h-9.969L8.766 32.636 8.773 51H0V0h8.773l-.007 31.94 11.687-15.752h10.485L18.905 32.55 31.796 51z\" fill=\"#fff\"></path></g><defs><clippath id=\"kariera_mini_logo_white_svg__clip0_41_8294\"><path d=\"M0 0h44v51H0z\" fill=\"#fff\"></path></clippath></defs></svg><div class=\"MZ1TTdll\"><a href=\"https://www.facebook.com/kariera.gr\" rel=\"noopener noreferrer\" target=\"_blank\"><svg fill=\"none\" height=\"32\" width=\"32\" xmlns=\"http://www.w3.org/2000/svg\"><path clip-rule=\"evenodd\" d=\"M0 16C0 7.163 7.163 0 16 0s16 7.163 16 16-7.163 16-16 16S0 24.837 0 16zm17.668 9.408v-8.705h2.403l.318-3h-2.721l.004-1.501c0-.783.074-1.202 1.198-1.202h1.502V8h-2.403c-2.887 0-3.903 1.455-3.903 3.902v1.801h-1.8v3h1.8v8.705h3.602z\" fill=\"#fff\" fill-rule=\"evenodd\"></path></svg></a><a href=\"https://www.linkedin.com/company/karieragr/mycompany/\" rel=\"noopener noreferrer\" target=\"_blank\"><svg fill=\"none\" height=\"32\" width=\"32\" xmlns=\"http://www.w3.org/2000/svg\"><path clip-rule=\"evenodd\" d=\"M0 16C0 7.163 7.163 0 16 0s16 7.163 16 16-7.163 16-16 16S0 24.837 0 16zm11.307-2.748H7.681v10.894h3.626V13.252zm.239-3.37C11.522 8.814 10.758 8 9.518 8s-2.051.814-2.051 1.882c0 1.046.787 1.883 2.004 1.883h.023c1.264 0 2.052-.837 2.052-1.883zM24.384 17.9c0-3.346-1.79-4.904-4.175-4.904-1.925 0-2.787 1.057-3.268 1.8v-1.544h-3.627c.048 1.022 0 10.895 0 10.895h3.627v-6.085c0-.325.023-.65.119-.883.262-.65.859-1.324 1.86-1.324 1.313 0 1.838.999 1.838 2.463v5.828h3.625V17.9z\" fill=\"#fff\" fill-rule=\"evenodd\"></path></svg></a><a href=\"https://www.instagram.com/kariera.gr/\" rel=\"noopener noreferrer\" target=\"_blank\"><svg fill=\"none\" height=\"32\" width=\"32\" xmlns=\"http://www.w3.org/2000/svg\"><path clip-rule=\"evenodd\" d=\"M0 16C0 7.163 7.163 0 16 0s16 7.163 16 16-7.163 16-16 16S0 24.837 0 16zm16-8.533c-2.317 0-2.608.01-3.518.051-.908.042-1.528.186-2.07.397a4.178 4.178 0 00-1.513.984c-.474.474-.766.95-.985 1.511-.211.543-.355 1.163-.396 2.071-.04.91-.051 1.202-.051 3.52 0 2.317.01 2.607.051 3.517.042.908.186 1.528.397 2.07.218.562.51 1.038.984 1.513.474.474.95.767 1.511.985.543.21 1.163.354 2.072.396.91.041 1.2.052 3.518.052 2.317 0 2.607-.01 3.518-.052.908-.042 1.529-.185 2.072-.396a4.175 4.175 0 001.51-.985c.475-.475.767-.95.985-1.512.21-.543.354-1.163.397-2.071.04-.91.051-1.2.051-3.518 0-2.317-.01-2.608-.051-3.518-.043-.909-.187-1.53-.397-2.072A4.187 4.187 0 0023.1 8.9a4.17 4.17 0 00-1.51-.984c-.545-.211-1.165-.355-2.074-.397-.91-.041-1.2-.051-3.518-.051h.003z\" fill=\"#fff\" fill-rule=\"evenodd\"></path><path clip-rule=\"evenodd\" d=\"M15.235 9.004h.766c2.278 0 2.548.009 3.448.05.832.038 1.284.177 1.584.293.399.155.682.34.981.639.299.298.484.583.639.981.116.3.256.752.294 1.584.04.9.05 1.17.05 3.447 0 2.278-.01 2.548-.05 3.447-.039.832-.178 1.284-.294 1.584-.155.398-.34.682-.639.98a2.64 2.64 0 01-.98.639c-.301.117-.753.256-1.585.294-.9.04-1.17.05-3.448.05-2.279 0-2.549-.01-3.448-.05-.832-.038-1.284-.178-1.585-.294a2.642 2.642 0 01-.981-.639 2.645 2.645 0 01-.639-.98c-.117-.3-.256-.752-.294-1.584-.04-.9-.049-1.17-.049-3.449s.008-2.548.05-3.447c.037-.832.176-1.284.293-1.585.155-.398.34-.682.639-.98.298-.3.583-.484.981-.64.3-.117.753-.255 1.585-.294.787-.035 1.092-.046 2.682-.048v.002zm5.32 1.417a1.024 1.024 0 100 2.048 1.024 1.024 0 000-2.048zm-4.554 1.197a4.383 4.383 0 100 8.765 4.383 4.383 0 000-8.765z\" fill=\"#fff\" fill-rule=\"evenodd\"></path><path clip-rule=\"evenodd\" d=\"M16 13.156a2.845 2.845 0 110 5.689 2.845 2.845 0 010-5.69z\" fill=\"#fff\" fill-rule=\"evenodd\"></path></svg></a></div></div><div class=\"__7mnhB_Qg\"><a href=\"https://www.kariera.gr/documents/terms-and-conditions\" rel=\"noopener noreferrer\" target=\"_blank\">Terms and Conditions</a><a href=\"https://www.kariera.gr/documents/privacy-policy\" rel=\"noopener noreferrer\" target=\"_blank\">Privacy Policy</a><div class=\"IOCY3YdN small-body-text\"><a class=\"small-body-text\" href=\"https://www.kariera.gr/documents/cookies-policy\" rel=\"noopener noreferrer\" target=\"_blank\">Cookies Policy</a><div data-testid=\"bottom-cookies-change\" role=\"link\" tabindex=\"0\">(change preferences)</div></div></div><div class=\"__9vSczPM_\"><div>© Copyright 2022 kariera.gr. All rights reserved. Various other company trademarks (logos, etc.) held by their respective owners &amp;/or uploaders.</div></div></footer><section class=\"eoCgRkmF\"><ul class=\"ant-menu ant-menu-light bottom-bar-container ant-menu-root ant-menu-horizontal\" data-testid=\"bottom-bar\" role=\"menu\"><li class=\"ant-menu-submenu ant-menu-submenu-horizontal ant-menu-overflowed-submenu\" role=\"menuitem\" style=\"display:none\"><div aria-expanded=\"false\" aria-haspopup=\"true\" class=\"ant-menu-submenu-title\" role=\"button\"><span>···</span><i class=\"ant-menu-submenu-arrow\"></i></div></li><li class=\"ant-menu-item\" data-testid=\"bottom-home-route\" role=\"menuitem\"><svg class=\"ant-menu-item-icon\" fill=\"none\" height=\"24\" width=\"24\" xmlns=\"http://www.w3.org/2000/svg\"><path d=\"M23.121 9.069l-7.585-7.586a5.008 5.008 0 00-7.072 0L.879 9.069A2.978 2.978 0 000 11.19v9.817a3 3 0 003 3h18a3 3 0 003-3V11.19a2.978 2.978 0 00-.879-2.121zM15 22.007H9v-3.934a3 3 0 116 0v3.934zm7-1a1 1 0 01-1 1h-4v-3.934a5 5 0 10-10 0v3.934H3a1 1 0 01-1-1V11.19c0-.265.106-.519.293-.707L9.878 2.9a3.008 3.008 0 014.244 0l7.585 7.586c.186.187.291.44.293.704v9.817z\" fill=\"#FF2458\"></path></svg><span>Home</span></li><li class=\"ant-menu-submenu ant-menu-submenu-horizontal ant-menu-overflowed-submenu\" role=\"menuitem\" style=\"display:none\"><div aria-expanded=\"false\" aria-haspopup=\"true\" class=\"ant-menu-submenu-title\" role=\"button\"><span>···</span><i class=\"ant-menu-submenu-arrow\"></i></div></li><li class=\"ant-menu-item\" data-testid=\"bottom-feed-route\" role=\"menuitem\"><svg class=\"ant-menu-item-icon\" fill=\"none\" viewbox=\"0 0 24 24\" xmlns=\"http://www.w3.org/2000/svg\"><g clip-path=\"url(#megaphone_svg__clip0)\"><path d=\"M17 0a1 1 0 00-1 1c0 2.949-2.583 4-5 4H4a4 4 0 00-4 4v2a3.98 3.98 0 001.514 3.109l3.572 7.972A3.233 3.233 0 008.039 24a2.982 2.982 0 002.72-4.2l-2.2-4.8H11c2.417 0 5 1.051 5 4a1 1 0 002 0V1a1 1 0 00-1-1zM8.937 20.619A.983.983 0 018.039 22a1.232 1.232 0 01-1.126-.734L4.105 15h2.254l2.578 5.619zM16 14.6a7.723 7.723 0 00-5-1.6H4a2 2 0 01-2-2V9a2 2 0 012-2h7a7.723 7.723 0 005-1.595V14.6zm7.9.852a1 1 0 01-1.342.448l-2-1a1 1 0 11.894-1.79l2 1a1 1 0 01.448 1.337v.005zm-3.79-9a1 1 0 01.448-1.342l2-1a1 1 0 01.894 1.79l-2 1a1 1 0 01-1.342-.448zM20 10a1 1 0 011-1h2a1 1 0 110 2h-2a1 1 0 01-1-1z\" fill=\"#000\"></path></g><defs><clippath id=\"megaphone_svg__clip0\"><path d=\"M0 0h24v24H0z\" fill=\"#fff\"></path></clippath></defs></svg><span>Feed</span></li><li class=\"ant-menu-submenu ant-menu-submenu-horizontal ant-menu-overflowed-submenu\" role=\"menuitem\" style=\"display:none\"><div aria-expanded=\"false\" aria-haspopup=\"true\" class=\"ant-menu-submenu-title\" role=\"button\"><span>···</span><i class=\"ant-menu-submenu-arrow\"></i></div></li><li class=\"ant-menu-item\" data-testid=\"bottom-jobs-route\" role=\"menuitem\"><svg class=\"ant-menu-item-icon\" fill=\"none\" viewbox=\"0 0 24 24\" xmlns=\"http://www.w3.org/2000/svg\"><g clip-path=\"url(#search-icon_svg__clip0)\"><path d=\"M23.707 22.293l-5.969-5.97a10.016 10.016 0 10-1.414 1.415l5.969 5.969a1 1 0 001.414-1.414zM10 18a8 8 0 118-8 8.009 8.009 0 01-8 8z\" fill=\"#000\"></path></g><defs><clippath id=\"search-icon_svg__clip0\"><path d=\"M0 0h24v24H0z\" fill=\"#fff\"></path></clippath></defs></svg><span>Search</span></li><li class=\"ant-menu-submenu ant-menu-submenu-horizontal ant-menu-overflowed-submenu\" role=\"menuitem\" style=\"display:none\"><div aria-expanded=\"false\" aria-haspopup=\"true\" class=\"ant-menu-submenu-title\" role=\"button\"><span>···</span><i class=\"ant-menu-submenu-arrow\"></i></div></li><li class=\"ant-menu-item\" data-testid=\"bottom-favourites-route\" role=\"menuitem\"><svg class=\"ant-menu-item-icon\" fill=\"none\" height=\"24\" width=\"24\" xmlns=\"http://www.w3.org/2000/svg\"><g clip-path=\"url(#saved_svg__clip0_883_3589)\" fill=\"#000\"><path d=\"M19.95 5.536L16.464 2.05A6.954 6.954 0 0011.515 0H7a5.006 5.006 0 00-5 5v14a5.006 5.006 0 005 5h10a5.006 5.006 0 005-5v-8.515a6.955 6.955 0 00-2.05-4.949zM18.536 6.95c.305.314.568.667.781 1.05H15a1 1 0 01-1-1V2.683c.383.213.736.476 1.05.781l3.486 3.486zM20 19a3 3 0 01-3 3H7a3 3 0 01-3-3V5a3 3 0 013-3h4.515c.165 0 .323.032.485.047V7a3 3 0 003 3h4.953c.015.162.047.32.047.485V19z\"></path><path d=\"M14.29 12a2.865 2.865 0 00-1.33.346c-.401.22-.733.532-.96.905a2.547 2.547 0 00-.96-.905A2.865 2.865 0 009.71 12a2.957 2.957 0 00-1.96.828 2.449 2.449 0 00-.748 1.846c0 1.724 1.993 3.607 3.665 4.884.373.285.845.442 1.333.442s.96-.157 1.333-.442c1.672-1.277 3.665-3.16 3.665-4.884a2.449 2.449 0 00-.748-1.846A2.956 2.956 0 0014.29 12z\"></path></g><defs><clippath id=\"saved_svg__clip0_883_3589\"><path d=\"M0 0h24v24H0z\" fill=\"#fff\"></path></clippath></defs></svg><span>Favourites</span></li><li class=\"ant-menu-submenu ant-menu-submenu-horizontal ant-menu-overflowed-submenu\" role=\"menuitem\" style=\"display:none\"><div aria-expanded=\"false\" aria-haspopup=\"true\" class=\"ant-menu-submenu-title\" role=\"button\"><span>···</span><i class=\"ant-menu-submenu-arrow\"></i></div></li><li class=\"ant-menu-item\" data-testid=\"bottom-profile\" role=\"menuitem\"><svg class=\"ant-menu-item-icon\" viewbox=\"0 0 16 16\" xmlns=\"http://www.w3.org/2000/svg\"><g clip-path=\"url(#user-icon_svg__clip0)\"><path clip-rule=\"evenodd\" d=\"M10.222 7.326A4 4 0 115.778.674a4 4 0 014.444 6.652zm-.74-5.543a2.667 2.667 0 10-2.963 4.434 2.667 2.667 0 002.963-4.434zm-5.723 9.31A6.007 6.007 0 018 9.333a6.007 6.007 0 016 6 .666.666 0 11-1.333 0 4.667 4.667 0 00-9.334 0 .667.667 0 11-1.333 0 6.007 6.007 0 011.76-4.24z\" fill-rule=\"evenodd\"></path></g><defs><clippath id=\"user-icon_svg__clip0\"><path d=\"M0 8a8 8 0 1116 0A8 8 0 010 8z\" fill=\"#fff\"></path></clippath></defs></svg><span>Profile</span></li><li class=\"ant-menu-submenu ant-menu-submenu-horizontal ant-menu-overflowed-submenu\" role=\"menuitem\" style=\"visibility:hidden;position:absolute\"><div aria-expanded=\"false\" aria-haspopup=\"true\" class=\"ant-menu-submenu-title\" role=\"button\"><span>···</span><i class=\"ant-menu-submenu-arrow\"></i></div></li></ul></section></section></div><script id=\"__NEXT_DATA__\" type=\"application/json\">{\"props\":{\"pageProps\":{\"user\":{},\"job\":{\"id\":41833,\"title\":\"Real Estate University: Εργάζεσαι \\u0026 Εκπαιδεύεσαι ταυτόχρονα στη Νο1 Εταιρεία Real Estate Παγκοσμίως (Βόρεια, Δυτικά Προάστια, Πειραιάς ή Προάστια Πειραιά)\",\"seniority\":\"MID_LEVEL\",\"occupationType\":\"CONTRACT_FREELANCE_SELF_EMPLOYED\",\"status\":\"PUBLISHED\",\"description\":\"\\u003cp\\u003eΚαριέρα στο real estate; Θέλεις να εργάζεσαι με ελεύθερο ωράριο, πολλαπλές δυνατότητες εξέλιξης και αμοιβές που αγγίζουν το 100% (!) της προμήθειας; Έλα τότε στη No1 Εταιρεία Real Estate παγκοσμίως!\\u003c/p\\u003e\\n\\u003ch3\\u003e\\u003cstrong data-stringify-type=\\\"bold\\\"\\u003eΠοιοι είμαστε:\\u003c/strong\\u003e\\u003c/h3\\u003e\\n\\u003cp\\u003eΗ\\u003cstrong data-stringify-type=\\\"bold\\\"\\u003e \\u003ca href=\\\"https://solutionsgroup.gr/real-estate/\\\" target=\\\"_blank\\\" rel=\\\"noopener\\\"\\u003eKeller Williams Solutions Group\\u003c/a\\u003e*\\u003c/strong\\u003e έχει καταφέρει μέσα σε 6 χρόνια λειτουργίας να αριθμεί 25 Συμβούλους και να εντάσσεται στις πρώτες θέσεις πανελλαδικά σε πωλήσεις. Βασικός πυλώνας της επιτυχίας μας είναι η φροντίδα και προσοχή που δίνουμε στην ανάπτυξη των συνεργατών/Συμβούλων μας.\\u003c/p\\u003e\\n\\u003cp\\u003eΤα αποτελέσματά μας μιλούν από μόνα τους:\\u003c/p\\u003e\\n\\u003cul\\u003e\\n\\u003cli\\u003e\\u003cstrong\\u003e1 Πώληση / 4 ημέρες\\u003c/strong\\u003e για τα έτη 2017-2022\\u003c/li\\u003e\\n\\u003cli\\u003eΟι Σύμβουλοί μας κατατάσσονται στους \\u003cstrong\\u003eκορυφαίους πανελλαδικά\\u003c/strong\\u003e μέσα σε 2-3 χρόνια στο χώρο.\\u003c/li\\u003e\\n\\u003cli\\u003eΓια το 2021: \\u003cstrong\\u003e\\u003cspan style=\\\"text-decoration: underline;\\\"\\u003eΟι 2 πρώτοι Σύμβουλοι πανελλαδικά ανήκουν στο γραφείο μας\\u003c/span\\u003e\\u003c/strong\\u003e\\u003c/li\\u003e\\n\\u003c/ul\\u003e\\n\\u003cp\\u003eΑποστολή μας είναι να «Ενδυναμώνουμε τους ανθρώπους να παίρνουν συνειδητοποιημένες αποφάσεις σχετικά με την ακίνητη περιουσία τους», υιοθετώντας ταυτόχρονα μια σύγχρονη προσέγγιση στον κλάδο του real estate και στοχεύοντας να γίνουμε το Νο.1 Γραφείο πανελλαδικά.\\u003c/p\\u003e\\n\\u003ch2\\u003e \\u003c/h2\\u003e\\n\\u003ch2\\u003eΓιατί μαζί μας;\\u003c/h2\\u003e\\n\\u003ch3\\u003e\\u003cstrong data-stringify-type=\\\"bold\\\"\\u003eΥψηλές Προμήθειες\\u003c/strong\\u003e\\u003c/h3\\u003e\\n\\u003cp\\u003eΠιστεύουμε πως οι Σύμβουλοί μας αξίζουν τα καλύτερα για αυτό και τους ανταμοίβουμε μέχρι και με το \\u003cstrong\\u003e100% (!) των συνολικών προμηθειών\\u003c/strong\\u003e. Έτσι, όλοι έχουν κίνητρο να πετύχουν και εξελιχθούν περισσότερο, χτίζοντας ταυτόχρονα μια καριέρα με υψηλά εισοδήματα.\\u003c/p\\u003e\\n\\u003ch3\\u003e \\u003c/h3\\u003e\\n\\u003ch3\\u003e\\u003cstrong data-stringify-type=\\\"bold\\\"\\u003eΣυνεχής Εκπαίδευση\\u003c/strong\\u003e\\u003c/h3\\u003e\\n\\u003cp\\u003e\\u003cimg src=\\\"https://solutionsgroup.gr/real-estate/wp-content/uploads/2020/09/1DM2_2058_NEW.jpg\\\" alt=\\\"Συνεχής Εκπαίδευση\\\" width=\\\"500\\\" height=\\\"371\\\" /\\u003e\\u003cimg src=\\\"https://drive.google.com/file/d/1bXGj_NGd_7WCaLs2J83lcl0cT7rkD9sa/view?usp=sharing\\\" alt=\\\"\\\" /\\u003e\\u003c/p\\u003e\\n\\u003cp\\u003eΗ εκπαίδευση στο γραφείο μας ξεκινά με το… καλημέρα αφού θα περάσεις από \\u003cstrong\\u003e100 ώρες βιωματικής εκπαίδευσης\\u003c/strong\\u003e πριν καν βγεις στην αγορά! Σεμιναριακά μαθήματα, παιχνίδια ρόλων (role playing), παρακολούθηση έμπειρων συνεργατών (shadowing), υποστήριξη στα πρώτα σου ραντεβού: χρησιμοποιούμε όλους τους σύγχρονους τρόπους εκμάθησης. Τα ολοκληρωμένα προγράμματα κατάρτισης της Keller Williams αποτελούν ευκαιρία εκμάθησης του αντικειμένου, για επαγγελματίες του χώρου και μη. Για το λόγο αυτό οι Σύμβουλοι μας αποπνέουν επαγγελματισμό, κερδίζουν την εμπιστοσύνη των πελατών τους και κλείνουν πολλές συμφωνίες.\\u003c/p\\u003e\\n\\u003ch3\\u003e \\u003c/h3\\u003e\\n\\u003ch3\\u003e\\u003cstrong data-stringify-type=\\\"bold\\\"\\u003eΠλήρης Υποστήριξη\\u003c/strong\\u003e\\u003c/h3\\u003e\\n\\u003cp\\u003e\\u003cstrong data-stringify-type=\\\"bold\\\"\\u003e\\u003cimg src=\\\"https://solutionsgroup.gr/real-estate/wp-content/uploads/2019/11/DM2_1984.jpg\\\" alt=\\\"Πλήρης Υποστήριξη\\\" width=\\\"500\\\" height=\\\"371\\\" /\\u003e\\u003c/strong\\u003e\\u003c/p\\u003e\\n\\u003cp\\u003eΦροντίζουμε να σου παρέχουμε ότι χρειαστείς για την ομαλή διεξαγωγή της εργασίας σου: από χώρο εργασίας και γραμματειακή υποστήριξη, μέχρι καθοδήγηση στη διαφήμιση των ακινήτων, τη διαπραγμάτευση και τη διεκπεραίωση των συμβολαίων σου. Αναλαμβάνοντας λοιπόν εμείς όλη τη γραφειοκρατία, εσύ μπορείς να εστιάζεις στη πιο σημαντική ενέργεια: να γίνεσαι ο/η έμπιστος/η Σύμβουλος Ακινήτων των ανθρώπων που σκέφτονται να πουλήσουν ή εκμισθώσουν το ακίνητό τους.\\u003c/p\\u003e\\n\\u003ch3\\u003e \\u003c/h3\\u003e\\n\\u003ch3\\u003e\\u003cstrong data-stringify-type=\\\"bold\\\"\\u003eΠρωτοποριακό Marketing \\u0026amp; Τεχνολογία\\u003c/strong\\u003e\\u003c/h3\\u003e\\n\\u003cp\\u003eΜε \\u003ca href=\\\"https://www.youtube.com/watch?v=bBsPTu1tPVU\\u0026amp;list=PL-D1LR7TTqHKPvVp_Ms_B1_xuftPzgIFK\\u0026amp;index=91\\\" target=\\\"_blank\\\" rel=\\\"noopener\\\"\\u003eΒίντεο Παρουσίασης Ακινήτων\\u003c/a\\u003e (η σειρά μας \\u003ca href=\\\"https://www.youtube.com/watch?v=bBsPTu1tPVU\\u0026amp;list=PL-D1LR7TTqHKPvVp_Ms_B1_xuftPzgIFK\\u0026amp;index=91\\\" target=\\\"_blank\\\" rel=\\\"noopener\\\"\\u003e#hotAkinita\\u003c/a\\u003e έχει περισσότερες από 2.300.000 προβολές στο YouTube), Gold \\u0026amp; VIP Αγγελίες, Επαγγελματική Φωτογράφιση Ακινήτων, Ενεργή Παρουσία στα Social Media (6.000 Followers), το Νο.1 Vlog στην Ελλάδα \\u003ca href=\\\"https://www.youtube.com/watch?v=0NUnE8lr6Dk\\u0026amp;list=PL-D1LR7TTqHLNvu0LYoqU5HglM9iTkcRB\\u0026amp;index=6\\\" target=\\\"_blank\\\" rel=\\\"noopener\\\"\\u003e#Mesitis4U\\u003c/a\\u003e και πολλά άλλα, αποκτάς μεγάλο πλεονέκτημα στην ανάθεση ακινήτων. Στόχος μας να σε αναδείξουμε στον/στην ειδικό της περιοχής σου και να σε βοηθήσουμε να προωθήσεις τα ακίνητά σου σε ολόκληρο το αγοραστικό κοινό, χτίζοντας ένα δυνατό brand για το μέλλον. Επενδύουμε επίσης και στην τεχνολογία προσελκύοντας περισσότερους πελάτες, τους οποίους και εξυπηρετούμε γρηγορότερα. Αποτέλεσμα: ολοκληρώνουμε περισσότερες πωλήσεις.\\u003c/p\\u003e\\n\\u003ch3\\u003e \\u003c/h3\\u003e\\n\\u003ch3\\u003e\\u003cstrong data-stringify-type=\\\"bold\\\"\\u003eΟλοκληρωμένες Λύσεις στο χώρο του Ακινήτου\\u003c/strong\\u003e\\u003c/h3\\u003e\\n\\u003cp\\u003eΗ KW Solutions Group ανήκει στον όμιλο επιχειρήσεων, Solutions Group. Μέλος του ομίλου και η «\\u003ca href=\\\"https://solutionsgroup.gr/resolutions/\\\" target=\\\"_blank\\\" rel=\\\"noopener\\\"\\u003eResolutions - Ανακαίνιση Σπιτιού\\u003c/a\\u003e» η οποία δραστηριοποιείται στο χώρο των ανακαινίσεων επί 25 χρόνια, καθώς και η «\\u003ca href=\\\"https://solutionsgroup.gr/insolutions/\\\" target=\\\"_blank\\\" rel=\\\"noopener\\\"\\u003eInsolutions - Ασφαλιστικές Υπηρεσίες\\u003c/a\\u003e». Οι 3 αυτές εταιρείες, έρχονται να καλύψουν τις ανάγκες του πελάτη σε real estate, ανακαινίσεις και ασφαλιστικά και να σου δώσουν τη δυνατότητα να μεγαλώσεις περαιτέρω το εισόδημά σου συστήνοντας κάθε φορά την αντίστοιχη υπηρεσία. Ταυτόχρονα, επιλεγμένοι εξωτερικοί συνεργάτες (πχ Δικηγόροι, Μηχανικοί, Συμβολαιογράφοι) βρίσκονται δίπλα σου για να σε βοηθήσουν να εξυπηρετήσεις ολοκληρωμένα τους πελάτες σου.\\u003c/p\\u003e\\n\\u003ch3\\u003e \\u003c/h3\\u003e\\n\\u003ch3\\u003e\\u003cstrong data-stringify-type=\\\"bold\\\"\\u003eΑνθρωποκεντρική Κουλτούρα\\u003c/strong\\u003e\\u003c/h3\\u003e\\n\\u003cp\\u003eΦροντίζουμε και νοιαζόμαστε για τους ανθρώπους μας. Χτίζουμε μια επιτυχημένη ομάδα συνεργατών που εστιάζει εξίσου στην παραγωγικότητα και τις ανθρώπινες σχέσεις. Το οικογενειακό κλίμα, η διασκέδαση, η επιβράβευση της αριστείας, το εταιρικό όραμα και οι αξίες μας σου επιτρέπουν να εργάζεσαι σε ένα υγιές εργασιακό περιβάλλον, με ξεκάθαρη κατεύθυνση \\u0026amp; να αποδίδεις στο μέγιστο των δυνατοτήτων σου.\\u003c/p\\u003e\\n\\u003ch3\\u003e \\u003c/h3\\u003e\\n\\u003ch3\\u003e\\u003cstrong data-stringify-type=\\\"bold\\\"\\u003eKeller Williams - Η Νο.1 Εταιρεία στο Real Estate\\u003c/strong\\u003e\\u003c/h3\\u003e\\n\\u003cp\\u003eΜε 200.000 Συμβούλους Ακινήτων σε 50+ χώρες, η Keller Williams είναι η #1 εταιρεία του χώρου, αφού, έχει την πρωτοκαθεδρία στους 3 βασικούς δείκτες:\\u003c/p\\u003e\\n\\u003cul\\u003e\\n\\u003cli\\u003e\\u003cstrong\\u003eΝο.1 σε Αριθμό Συμβούλων Ακινήτων\\u003c/strong\\u003e\\u003c/li\\u003e\\n\\u003cli\\u003e\\u003cstrong\\u003eΝο.1 σε Όγκο Πωληθέντων Ακινήτων\\u003c/strong\\u003e\\u003c/li\\u003e\\n\\u003cli\\u003e\\u003cstrong\\u003eΝο.1 σε Τζίρο\\u003c/strong\\u003e\\u003c/li\\u003e\\n\\u003c/ul\\u003e\\n\\u003cp\\u003eΚι όλα αυτά, ενώ έχει καταφέρει να διατηρήσει την ανθρωποκεντρική κουλτούρα της σε τέτοιο βαθμό, που οι Σύμβουλοι Ακινήτων μένουν μαζί της για 20 χρόνια κατά μέσο όρο!\\u003c/p\\u003e\\n\\u003ch3\\u003e \\u003c/h3\\u003e\\n\\u003ch3\\u003e\\u003cstrong data-stringify-type=\\\"bold\\\"\\u003eΣυνέδρια \\u0026amp; Εκδηλώσεις\\u003c/strong\\u003e\\u003c/h3\\u003e\\n\\u003cp\\u003eΚορυφαίοι επαγγελματίες του χώρου από Ελλάδα και εξωτερικό μεταφέρουν τις γνώσεις \\u0026amp; εμπειρία τους για να σε βοηθήσουν να πας ψηλότερα. Στη Νο.1 εταιρεία παγκοσμίως η ανάπτυξη είναι μονόδρομος!\\u003c/p\\u003e\\n\\u003ch3\\u003e \\u003c/h3\\u003e\\n\\u003ch3\\u003e\\u003cstrong data-stringify-type=\\\"bold\\\"\\u003eΜεγάλο Δίκτυο\\u003c/strong\\u003e\\u003c/h3\\u003e\\n\\u003cp\\u003eΜε πανελλαδικό δίκτυο γραφείων μπορείς να εξυπηρετείς τους πελάτες σου όπου και να βρίσκονται. Αναλαμβάνεις περισσότερα ακίνητα, ολοκληρώνεις περισσότερες πωλήσεις, χτίζεις συμμάχους σε κάθε γωνιά της γης.\\u003c/p\\u003e\\n\\u003ch2\\u003e \\u003c/h2\\u003e\\n\\u003ch2\\u003e\\u003cstrong data-stringify-type=\\\"bold\\\"\\u003eΤι παρέχουμε:\\u003c/strong\\u003e\\u003c/h2\\u003e\\n\\u003cp\\u003e1. Εκπαίδευση Υψηλού Επιπέδου\\u003cbr /\\u003e2. Υποστήριξη σε όλα τα στάδια της εργασίας σου\\u003cbr /\\u003e3. Το πιο Πρωτοποριακό Marketing για τα ακίνητά σου\\u003cbr /\\u003e4. Αμοιβές που αγγίζουν το 100% (!) της προμήθειας\\u003cbr /\\u003e5. Ευχάριστο Περιβάλλον εργασίας με οργάνωση πολυεθνικής\\u003cbr /\\u003e6. Πανελλαδικό Δίκτυο Γραφείων για την κάλυψη των αναγκών των πελατών σου\\u003cbr /\\u003e7. Παροχή Ολοκληρωμένων Υπηρεσιών (ανακαινίσεις, ασφαλιστικές υπηρεσίες, δάνεια κτλ.)\\u003cbr /\\u003e8. Ευέλικτο ωράριο \\u0026amp; Ελευθερία Κινήσεων\\u003cbr /\\u003e9. Μεγάλες Προοπτικές εξέλιξης και δημιουργίας ομάδων\\u003cbr /\\u003e10. Αποδεδειγμένα συστήματα και μοντέλα ανάπτυξης\\u003c/p\\u003e\\n\\u003ch3\\u003e \\u003c/h3\\u003e\\n\\u003ch3\\u003e\\u003cstrong data-stringify-type=\\\"bold\\\"\\u003eΤυπικά προσόντα:\\u003c/strong\\u003e\\u003c/h3\\u003e\\n\\u003cp\\u003e - 5ετη Προϋπηρεσία (\\u003cspan style=\\\"text-decoration: underline;\\\"\\u003eανεξαρτήτως\\u003c/span\\u003e κλάδου)\\u003cbr /\\u003e - Επικοινωνιακές Ικανότητες\\u003cbr /\\u003e - Ήθος και Ακεραιότητα\\u003cbr /\\u003e - Μεταφορικό Μέσο\\u003cbr /\\u003e - Προϋπηρεσία στις Πωλήσεις θα εκτιμηθεί\\u003c/p\\u003e\\n\\u003cp\\u003eΑν είσαι μεσίτης/τρια ή έχεις εργαστεί σε μεσιτικό γραφείο στην εξυπηρέτηση πελατών, εάν έχεις προϋπηρεσία ως Πωλητής, Ελεύθερος Επαγγελματίας, Επιχειρηματίας, Ασφαλιστικός Σύμβουλος, Πολιτικός Μηχανικός, Αρχιτέκτονας, Τραπεζικός, τότε έχεις πλεονέκτημα αφού έχεις ήδη αποκτήσει δεξιότητες που θα σε βοηθήσουν στο χώρο μας.\\u003c/p\\u003e\\n\\u003cp\\u003eΕάν δεν σου αρκεί να είσαι υπάλληλος, εάν επιθυμείς να ρυθμίζεις εσύ το πρόγραμμά σου, εάν θέλεις τα εισοδήματά σου να εξαρτώνται από τις ενέργειές σου κι αν έχεις φιλοδοξίες να φτάσεις ψηλά, μην χάνεις άλλο χρόνο.\\u003c/p\\u003e\\n\\u003cp\\u003eΈλα μαζί μας και ξεκίνα να χτίζεις το μέλλον σου τώρα!\\u003c/p\\u003e\\n\\u003cp\\u003e\\u003cem\\u003e*Κάθε γραφείο Keller Williams είναι ανεξάρτητη ιδιόκτητη επιχείρηση.\\u003c/em\\u003e\\u003c/p\\u003e\\n\\u003cp\\u003e \\u003c/p\\u003e\\n\\u003cp\\u003eΥΓ: Αν θες να μάθεις \\u003cstrong\\u003eποια είναι η καθημερινότητα των Real Estate Agent\\u003c/strong\\u003e, απλώς \\u003ca title=\\\"RealEstateUniversity\\\" href=\\\"https://youtu.be/nS9FDs4WYVk\\\" target=\\\"_blank\\\" rel=\\\"noopener\\\"\\u003eδες αυτό εδώ το βίντεο.\\u003c/a\\u003e\\u003c/p\\u003e\",\"shortDescription\":\"Καριέρα στο real estate; Θέλεις να εργάζεσαι με ελεύθερο ωράριο, πολλαπλές δυνατότητες εξέλιξης και αμοιβές που αγγίζουν το 100% (!) της προμήθειας; Έλα τότε στη No1 Εταιρεία Real Estate παγκοσμίως! Αν οι φιλοδοξίες σου είναι υψηλές και έχεις μεγάλους...\",\"externalApplyUrl\":null,\"companyRelatedJobs\":false,\"type\":\"DEFAULT\",\"location\":{\"id\":23,\"city\":\"Marousi\",\"region\":\"Vorios Tomeas Athinon\",\"prefacture\":\"Attica\",\"country\":\"Greece\"},\"applied\":false,\"reportedDate\":null,\"createdDate\":1673151868000,\"expirationDate\":1675743868000,\"favourite\":false,\"tags\":[{\"id\":8,\"name\":\"πωλήσεις\"},{\"id\":10,\"name\":\"ιnsurance agents, ασφαλιστικός σύμβουλος,ασφάλειες, ασφαλιστικός πράκτορας, ασφαλιστικός\"},{\"id\":36,\"name\":\"στέλεχος πωλήσεων\"},{\"id\":71,\"name\":\"πωλητης\"},{\"id\":1618,\"name\":\"πωλήσεις, sales,  πωλητής\"},{\"id\":1634,\"name\":\"πωλήσεις, sales, ιατρικός επισκέπτης\"},{\"id\":2476,\"name\":\"μεσιτικό \"},{\"id\":2479,\"name\":\"ελεύθερος επαγγελματίας \"},{\"id\":2537,\"name\":\"real estate\"},{\"id\":3853,\"name\":\"συμβουλος πωλησεων\"},{\"id\":5576,\"name\":\"keller williams\"},{\"id\":6765,\"name\":\"εξωτερικος πωλητης\"},{\"id\":7847,\"name\":\"εκπαίδευση\"},{\"id\":11787,\"name\":\"συμβουλος πωλησεων αττικη\"},{\"id\":11998,\"name\":\"real estate agent\"},{\"id\":16228,\"name\":\"μεσίτης\"},{\"id\":16230,\"name\":\"ακινητα\"},{\"id\":16337,\"name\":\"συμβουλος ακινητων\"},{\"id\":16338,\"name\":\"συμβουλος ακινητης περιουσιας\"},{\"id\":16341,\"name\":\"μεσιτης αθηνα\"},{\"id\":16342,\"name\":\"μεσιτικα γραφεια\"},{\"id\":16343,\"name\":\"μεσιτικο γραφειο\"},{\"id\":16361,\"name\":\"μεσιτης βορεια προαστια\"},{\"id\":16512,\"name\":\"ακινητο\"},{\"id\":19110,\"name\":\"ασφαλιστικος συμβουλος\"}],\"remote\":\"DISABLED\",\"category\":\"REAL_ESTATE\",\"company\":{\"id\":2478,\"name\":\"KELLER WILLIAMS SOLUTIONS GROUP\",\"imageUrl\":\"https://employerfilesprod.blob.core.windows.net/useruploads/272405/company/2478/img-1655209038029\",\"size\":\"MICRO\",\"section\":\"CONSULTING\",\"url\":\"https://solutionsgroup.gr/\",\"numOfJobs\":1,\"simple\":true}},\"_nextI18Next\":{\"initialI18nStore\":{\"en\":{\"common\":{\"home\":\"Welcome to kariera\",\"connect_with_google\":\"Sign in with Google\",\"results\":\"results\",\"nav_bar\":{\"search_for_jobs\":\"Search for jobs\",\"for_employers\":\"For Employers\"},\"menuOptions\":{\"notifications\":\"Notifications\",\"my_saved_jobs\":\"My saved jobs\",\"favourites\":\"Favourites\",\"profile\":\"Profile\",\"logout\":\"Logout\"},\"sider\":{\"home\":\"Home\",\"feed\":\"Feed\",\"search\":\"Search\",\"favourites\":\"Favourites\",\"profile\":\"My Profile\",\"personalDetails\":\"Personal details\",\"myCvs\":\"Curriculum vitae (CVs)\",\"skills\":\"Education \\u0026 skills\",\"experience\":\"Experience\"},\"bottom\":{\"home\":\"Home\",\"feed\":\"Feed\",\"search\":\"Search\",\"profile\":\"Profile\",\"personalDetails\":\"Personal details\",\"myCvs\":\"Curriculum vitae (CVs)\",\"skills\":\"Education \\u0026 skills\",\"experience\":\"Experience\"},\"popConfirm\":{\"title\":\"Are you sure you want to delete it?\",\"positive\":\"Yes\",\"negative\":\"No\"},\"timeline\":{\"title\":\"Latest news\",\"description\":\"Find job posts, companies, trends and advice about your career. All in one place.\",\"new\":\"New\"},\"jobSearch\":{\"search_for_a_job\":\"Search for jobs or companies\",\"filters\":\"Filters\",\"industry\":\"Industry Sector\",\"category\":\"Job category\",\"location\":\"Location\",\"company\":\"Company\",\"remote\":\"Remote jobs\",\"remote_toggle\":\"Eligible for remote\",\"level\":\"Seniority level\",\"type\":\"Job type\",\"search\":\"Search\",\"clear\":\"Clear\",\"clear_all\":\"clear all\",\"city\":\"City\",\"region\":\"Region\",\"input_no_results\":\"no results yet\",\"in_jobs\":\"in jobs\",\"in_companies\":\"in companies\",\"show_all_jobs\":\"\\u003c0\\u003eShow all\\u003c/0\\u003e jobs\",\"show_all_companies\":\"\\u003c0\\u003eShow all\\u003c/0\\u003e companies\",\"no_results\":\"No results found\",\"available_jobs_with_search_one\":\"{{count}} available job post for\",\"available_jobs_with_search_other\":\"{{count}} available job posts for\",\"with_criteria\":\"according to your criteria\",\"available_jobs_without_filters_one\":\"{{count}} available job post\",\"available_jobs_without_filters_other\":\"{{count}} available job posts\",\"remote_results\":\"remote\",\"in\":\"in\",\"with\":\"that are\",\"in_company\":\"in Company\",\"relevance\":\"Most relevant\",\"published_new_first\":\"Newest first\",\"published_oldest_first\":\"Oldest first\",\"recent_searches\":\"Recent job searches\",\"close\":\"close\"},\"search_again\":\"Search again\",\"no_search_results\":\"Oops! No results found. Please change your search criteria and…\",\"jobs\":\"Jobs\",\"jobs_tab\":\"Job posts\",\"more_options\":\"More options\",\"less_options\":\"Less options\",\"view_results_one\":\"View {{count}} result\",\"view_results_other\":\"View {{count}} results\",\"companies\":\"Companies\",\"search_results\":\"Search results\",\"days_to_apply\":\"Days to apply\",\"saved_jobs\":\"Saved jobs\",\"readMore\":\"Read more\",\"copied\":\"Copied to clipboard\",\"follow\":\"FOLLOW\",\"following\":\"FOLLOWING\",\"locations\":\"Locations\",\"jobCategory\":{\"OTHER\":\"Other\",\"ACCOUNTING_AUDITING\":\"Accounting / Auditing\",\"ADMINISTRATIVE_SECRETARIAL\":\"Administrative Assistants / Secretaries\",\"AGRICULTURE\":\"Agriculture\",\"BEAUTY_SERVICES_FITNESS\":\"Beauty Services / Fitness\",\"BI_BUSINESS_ANALYSIS\":\"BI / Business Analysis \",\"CALL_CENTER_CUSTOMER_SUPPORT\":\"Call Center / Customer Support\",\"COMMUNITY_SOCIAL_SERVICE_VOLUNTARY\":\"Community / Social Services / Voluntary\",\"CONSULTING\":\"Consulting\",\"CONSTRUCTION_ENGINEERS_ARCHITECTS\":\"Construction / Engineers / Architects\",\"DESIGN_GRAPHIC_ARTS_CREATIVE\":\"Design / Graphic Αrts / Creative\",\"EDUCATION_TRAINING\":\"Education / Training\",\"ENGINEERING\":\"Engineering\",\"E_COMMERCE_DIGITAL_SERVICES\":\"E-commerce / Digital Services\",\"FINANCE\":\"Finance\",\"FOOD_CAFE\":\"Food / Cafe\",\"GENERAL_MANAGEMENT\":\"General Management\",\"HUMAN_RESOURCES\":\"Human Resources\",\"IT\":\"IT\",\"LEGAL\":\"Legal\",\"LOGISTICS_WAREHOUSE\":\"Logistics / Warehouse\",\"MARKETING_ADVERTISING\":\"Marketing / Advertising\",\"MEDICINE_HEALTHCARE\":\"Medicine / Healthcare\",\"OPERATIONS\":\"Operations\",\"PRESS_RADIO_TV\":\"Press / Radio / TV\",\"PRODUCTION\":\"Production\",\"PROCUREMENT_SUPPLY_CHAIN\":\"Procurement / Supply Chain\",\"PUBLIC_RELATIONS\":\"Public Relations\",\"QUALITY_ASSURANCE\":\"Quality Assurance\",\"REAL_ESTATE\":\"Real Estate\",\"RETAIL\":\"Retail\",\"RESEARCH_DEVELOPMENT\":\"Research \\u0026 Development\",\"SALES_BUSINESS_DEVELOPMENT_ACCOUNT_MANAGEMENT\":\"Sales / Business Development / Account Management\",\"SCIENCE_RESEARCH\":\"Science / Research\",\"SECURITY\":\"Security\",\"SPORTS_ART\":\"Sports / Art\",\"STRATEGY_PLANNING\":\"Strategy / Planning\",\"TECHNICIANS_SERVICE\":\"Technicians / Service\",\"TOURISM\":\"Tourism\",\"TRANSPORT_DRIVING\":\"Transport / Driving\",\"WORKERS\":\"Workers\"},\"seniorityLevel\":{\"NO_EXPERIENCE_NO_DEGREE\":\"No experience/No degree\",\"ENTRY_JUNIOR\":\"Entry/Junior\",\"MID_LEVEL\":\"Mid level\",\"SENIOR\":\"Senior\",\"EXECUTIVE\":\"C-level/Executive\"},\"occupationType\":{\"FULL_TIME\":\"Full-time\",\"PART_TIME\":\"Part-time\",\"FULL_TIME_PART_TIME\":\"Full-time/Part-time\",\"CONTRACT_FREELANCE_SELF_EMPLOYED\":\"Contract/Freelance/Self-employed\",\"INTERNSHIP_APPRENTICESHIP\":\"Internship/Apprenticeship\",\"SEASONAL\":\"Seasonal\",\"VOLUNTEER\":\"Volunteer\"},\"remoteType\":{\"FULLY_REMOTE\":\"Full remote\",\"PARTIALLY_REMOTE\":\"Part remote\",\"TEMPORARILY_REMOTE\":\"Temporarily remote\"},\"companyDetails\":{\"positions\":\"View {{jobPosts}} jobs\",\"visit_website\":\"Visit the website\"},\"non_logged_in_employer\":{\"connect_with_google\":\"Connect with your Google account\"},\"homepage\":{\"start_now\":\"Start now\",\"create_your_profile_and_start_applying\":\"Create your profile and start applying.\"},\"newsletter\":{\"newsletter_header\":\"One subscription, endless opportunities!\",\"newsletter_sh\":\"Sign up to our newsletter and be the first to receive job posts, career advice \\u0026 work-life tips!\",\"enter_mail\":\"Enter your email address\",\"register\":\"Subscribe\",\"registration_consent\":\"By clicking on the 'Subscribe' button, you agree to receive updates about jobs and work-life content. You know that you can unsubscribe at any time, by clicking on the 'Unsubscribe' button.\"},\"footer\":{\"job_seekers\":{\"title\":\"Job seekers\",\"browse_jobs\":\"Browse jobs\",\"browse_companies\":\"Browse Companies\",\"upload_cv\":\"Upload Your Resume\",\"work_@_kariera\":\"Work @kariera.gr\",\"events\":\"Events\",\"blog\":\"Blog\",\"faq\":\"FAQ Jobseeker\"},\"employers\":{\"title\":\"Employers\",\"job_posts\":\"Job Posts\",\"cv_database\":\"CV Database\",\"screening_hr_solutions\":\"Screening \\u0026 Hiring Solutions\",\"company_profile\":\"Company Profile\",\"career_profile\":\"Career Guide\",\"blog\":\"Blog\",\"faq\":\"FAQ Employer\"},\"legal\":{\"title\":\"Legal\",\"advertisement\":\"Advertisement\",\"delete_account\":\"Delete Account\",\"manage_personal_data\":\"Manage Personal Data\",\"financial_information\":\"Financial Information\",\"all_rights_reserved\":\"© Copyright 2022 kariera.gr. All rights reserved. Various other company trademarks (logos, etc.) held by their respective owners \\u0026/or uploaders.\"},\"company\":{\"title\":\"Company\",\"about_us\":\"About Us\",\"contact\":\"Contact\"},\"seo\":{\"search_for\":\"Search for\",\"jobs\":\"Jobs\",\"locations\":\"Locations\",\"companies\":\"Companies\"},\"terms_and_conditions\":\"Terms and Conditions\",\"privacy_policy\":\"Privacy Policy\",\"cookies_policy\":\"Cookies Policy\",\"change_preferences\":\"change preferences\"},\"quick_apply\":{\"button\":\"Quick apply\",\"done\":\"Just applied\"},\"messages\":{\"error\":{\"page_not_found\":\"Page not found\",\"something_went_wrong\":\"Something went wrong\",\"feed_not_loaded\":\"Feed could not be loaded\",\"jobs_not_loaded\":\"Jobs could not be loaded\",\"companies_not_loaded\":\"Companies could not be loaded\"},\"newsletter\":{\"success\":\"Successfully subscribed\",\"form_errors\":{\"email_not_valid\":\"Please enter a valid email address\",\"email_required\":\"Please enter your email\",\"too_many_characters\":\"This value must be less than 255 characters\"},\"validation\":{\"invalid_creds\":\"You have entered an invalid email. Please try again.\",\"recaptcha\":\"Invalid reCAPTCHA - please retry.\"}}}},\"notification\":{\"status\":{\"error\":\"Error\",\"warning\":\"Warning\",\"success\":\"Success\",\"info\":\"Info\"},\"frontend\":{\"failed\":\"Something went wrong, please try again later.\"},\"backend\":{\"unauthorized\":\"You are not authorised to access this resource.\",\"forbidden\":\"You are not authorised to access this resource.\",\"not_found\":\"Not found\",\"exceeded_limits\":\"You have exceeded the limits.\",\"validation\":{\"failed\":\"Something went wrong, please try again later.\",\"bad_request\":\"Something went wrong, please try again later.\"}}},\"job-post\":{\"jobTitle\":{\"job_title\":\"Job title\",\"apply_button\":\"Apply now\",\"refLabel\":\"Ref\"},\"applicationStatus\":{\"applied\":\"You applied to this job opening\",\"expired\":\"Job post no longer accept applications\",\"view\":\"View\"},\"jobRelatedTags\":{\"related_tag_title\":\"Related tags\",\"suggest_tag\":\"Suggest a tag\"},\"jobDetails\":{\"location\":\"Location\",\"posted\":\"Posted date\",\"category\":\"Job category\",\"level\":\"Minimum level\",\"type\":\"Job type\",\"remote\":\"Remote policy\"},\"jobSummary\":{\"job_summary_title\":\"JOB SUMMARY\",\"apply_button\":\"Apply now\",\"view_applications\":\"View Applications\"},\"reportJob\":{\"button\":\"Report this job\"},\"jobPost\":{\"sponsored_title\":\"Best match job opportunities for you\",\"best-match_title\":\"Other job openings you may be interested in\"},\"sponsored\":\"Sponsored\",\"top_picks_from_our_blog\":\"Top picks from kariera.gr blog\",\"save_later\":\"Save\",\"saved\":\"Saved\",\"view_job\":\"View job\",\"messages\":{\"error\":{\"not_found\":\"Job post not found.\"}}},\"login\":{\"salutation\":\"Hello,\",\"divider_wording\":\"or\",\"change_email\":\"Isn't this your email? Click here\",\"email_label\":\"Email\",\"email_not_valid\":\"The input is not a valid email. Please try a correct one.\",\"email_required\":\"Please enter your email\",\"email_placeholder\":\"Your email\",\"password_label\":\"Password\",\"password_required\":\"Please enter your password\",\"password_placeholder\":\"Your password\",\"next_button\":\"Next\",\"too_many_characters\":\"This value must be less than 255 characters.\",\"signup\":{\"label\":\"Sign up\",\"title\":\"Create an account at kariera.gr\",\"google_button\":\"Sign up with Google\",\"email_button\":\"Sign up with email\",\"already_account\":\"Already have an account?\",\"login_now\":\"Log in\",\"email_agree_to\":\"I agree to the \",\"email_privacy_policy\":\"Privacy Policy \",\"email_agree_and\":\"and acknowledge that I have read the \",\"email_terms\":\"Terms and Conditions \",\"of_kariera\":\"of kariera.gr.\",\"agreement_required\":\"Please indicate that you have read \\u0026 agree to the above terms.\",\"submit_button\":\"Create\",\"password_validity\":\"There is an error\",\"characters_required\":\"8 Characters\",\"letters_required\":\"Letters\",\"numbers_required\":\"1 Number\",\"special_required\":\"1 Special character\"},\"login\":{\"label\":\"Log in\",\"title\":\"Log in kariera.gr\",\"login_with_email\":\"Log in with email\",\"dont_have_account\":\"Don't have an account yet?\",\"create_account\":\"Sign up\",\"stay_connected\":\"Remember me\",\"forgot_password\":\"Forgot your password?\",\"password_recover\":\"Recover it here\",\"google_button\":\"Log in with Google\",\"failed\":{\"password_text\":\"Did you forget your password?\",\"password_recover\":\"Recover password\"}},\"messages\":{\"server\":{\"signup\":{\"validation\":{\"invalid_creds\":\"Something went wrong with your credentials. Please try again.\",\"recaptcha\":\"Invalid reCAPTCHA - please retry.\",\"password\":\"You have entered an invalid email or password. Please try again.\",\"email\":\"You have entered an invalid email or password. Please try again.\"}},\"login\":{\"validation\":{\"invalid_creds\":\"Welcome to the new kariera.gr! In case you cannot connect with your password,\",\"recaptcha\":\"Invalid reCAPTCHA - please retry.\"}}}}},\"cv\":{\"title\":\"My cv's\",\"subtitle\":\"You can upload up to {{numberOfFilesAllowed}} CVs.\",\"uploader\":{\"text\":\"Drag \\u0026 drop your CV or click here to upload one.\",\"hint\":\"File types supported: {{fileTypesToString}} | Max file size: {{numberOfMBAllowed}} MB.\",\"uploading\":\"Uploading\"},\"messages\":{\"success\":{\"delete\":\"Your CV was deleted successfully.\",\"upload\":\"Your new CV was uploaded successfully.\"},\"warning\":{\"max_files\":\"You can upload up to {{numberOfFilesAllowed}} files max, please delete an old one.\",\"max_size\":\"You can upload a file up to {{numberOfMBAllowed}} MB, please try resizing it.\",\"file_type_not_supported\":\"Τhis specific file type is not supported. Try uploading a {{fileTypesToString}} file.\"},\"error\":{\"file_already_exist\":\"A file with the same name already exists, please try renaming it \\u0026 try again.\",\"upload\":\"Something went wrong, please contact customer support.\"},\"server\":{\"not_found\":\"CV not found\",\"exceeded_limits\":\"There is a specified number of CVs you can upload.\"}}},\"application\":{\"title\":\"Apply now\",\"subtitle\":\"Select one of the CVs you have already uploaded.\",\"apply_btn\":\"Apply\",\"refresh\":\"Please refresh this page.\",\"upload_new\":\"Upload a new CV\",\"messages\":{\"error\":{\"not_loaded\":\"Applications could not be loaded, try again later\"},\"success\":{\"application\":\"You have successfully applied.\",\"details_update\":\"You have successfully updated your personal details.\"},\"server\":{\"cv_not_found\":\"You need to have at least one CV uploaded.\",\"profile_not_completed\":\"You need to complete your profile.\",\"job_not_found\":\"Job not found\",\"job_already_applied\":\"You have already applied for this job.\",\"unpublished_job\":\"The job post is not published anymore.\"}}},\"profile\":{\"personal_details\":{\"details\":\"Details\",\"profile_picture\":\"Profile picture\",\"delete_account\":\"Delete account\",\"delete_account_description_part_one\":\"If you want to delete your account, please send your request to our customer support group using this \",\"delete_account_description_part_two\":\"communication form\",\"personal_details\":\"Personal Details\",\"name\":\"Full name\",\"firstName\":\"First name\",\"lastName\":\"Last name\",\"email\":\"Email\",\"address\":\"Home Address\",\"telephone\":\"Phone number\",\"telephone_error\":\"Enter a 10-digit phone number where you can be reached.\",\"current_job_title\":\"Current job title\",\"current_job_title_placeholder\":\"Enter your current job title\",\"placeholder\":\"Enter your {{placeholder}}\",\"edit\":\"Edit\",\"save\":\"Save\",\"cancel\":\"Cancel\"},\"public_profile\":{\"public_profile\":\"Visible profile\",\"public_profile_sh\":\"By activating the Visible Profile, Employers will be able to see the information you have stored in your profile and contact you to offer you jobs that suit you.\",\"available_for_search\":\"Visible Profile to Employers\",\"public\":\"Activate\"},\"messages\":{\"success\":{\"profile_updated\":\"Your profile was successfully updated.\"},\"error\":{\"complete_your_profile\":\"You need to complete your profile.\"},\"server\":{\"telephone-error\":\"Please type the 10 digits of your mobile/fixed phone number (or leave it empty).\"}}},\"company\":{\"no_jobs_found\":\"Currently we don't have any open positions\",\"search_job\":\"Search for a job\",\"view_jobs\":\"View {{numOfJobs}} jobs\",\"view_job\":\"View {{numOfJobs}} job\",\"view_company\":\"View Company profile\",\"other_companies\":\"Other companies\",\"interested_in_company\":\"Company you may be interested\",\"title_one\":\"{{count}} διαθέσιμη εταιρεία\",\"title_other\":\"{{count}} διαθέσιμες εταιρείες\",\"results_one\":\"{{count}} available company\",\"results_other\":\"{{count}} available companies\",\"section\":{\"AIR_TRANSPORT\":\"Air transport\",\"AGRICULTURE\":\"Agriculture\",\"AUTOMOTIVE\":\"Automotive\",\"ADVERTISING_MARKETING_COMMUNICATION\":\"Advertising, Marketing \\u0026 Communication\",\"BIOTECHNOLOGY\":\"Biotechnology\",\"CHEMICALS\":\"Chemicals\",\"CONSTRUCTION\":\"Construction\",\"CONSULTING\":\"Consulting\",\"CONSUMER_GOODS_SERVICES\":\"Consumer Goods and Services\",\"CUSTOMER_SERVICE_CALL_CENTER\":\"Customer service/Call center\",\"DEFENSE\":\"Defense\",\"EDUCATION\":\"Education\",\"ENERGY\":\"Energy\",\"E_COMMERCE\":\"e-Commerce\",\"FINANCIAL_SERVICES\":\"Financial Services\",\"FOOD_BEVERAGE\":\"Food \\u0026 Beverage\",\"HEALTHCARE\":\"Healthcare\",\"HOSPITALITY\":\"Hospitality\",\"INSURANCE\":\"Insurance\",\"INDUSTRY\":\"Industry\",\"PHARMACEUTICAL_HEALTH_SECTOR\":\"Pharmaceutical \\u0026 Health sector\",\"MEDIA\":\"Media\",\"NOT_FOR_PROFIT\":\"Not for Profit\",\"OTHER\":\"Other\",\"REAL_ESTATE\":\"Real estate\",\"RETAIL\":\"Retail\",\"SECURITY\":\"Security\",\"SHIPPING\":\"Shipping\",\"SOFTWARE_VENDOR_INFORMATION_TECHNOLOGY\":\"Software Vendor \\u0026 Information Technology\",\"STAFFING_RECRUITMENT\":\"Staffing and Recruitment\",\"TELECOMMUNICATIONS\":\"Telecommunications\",\"TRANSPORTATION\":\"Transportation\",\"UTILITIES\":\"Utilities\",\"LOGISTICS\":\"Logistics\"},\"uncategorized\":\"Uncategorized\",\"messages\":{\"error\":{\"not_found\":\"This company was not found.\"}}},\"report-job\":{\"title\":\"please select a reason for this job post report\",\"more_details\":\"Please share more details (optional)\",\"OTHER_REASON\":\"Other reason\",\"OFFENSIVE_LANGUAGE\":\"Offensive language\",\"POOR_SPELLING_OR_GRAMMAR\":\"Poor spelling or grammar\",\"NOT_A_GENUINE_JOB_VACANCY\":\"Not a genuine job vacancy\",\"DISCRIMINATORY\":\"Discriminatory\",\"report_btn\":\"Report\",\"messages\":{\"success\":{\"reported\":\"Successfully reported job\"},\"warning\":{\"max_chars\":\"Please type up to 255 characters.\",\"reason_required\":\"Please select one reason\"},\"server\":{\"unauthorized\":\"You are not logged in, please refresh the page.\",\"not_found\":\"The job post was not found, please refresh the page.\",\"validation\":{\"bad_request\":\"Something went wrong, please try again later.\"}}}}},\"el\":{\"common\":{\"home\":\"Καλώς ήλθατε στο kariera\",\"connect_with_google\":\"Συνδέσου με Google\",\"results\":\"αποτελέσματα\",\"nav_bar\":{\"search_for_jobs\":\"Αναζητάς εργασία;\",\"for_employers\":\"Για εργοδότες\"},\"menuOptions\":{\"notifications\":\"Ειδοποιήσεις\",\"my_saved_jobs\":\"Αποθηκευμένες αγγελίες\",\"favourites\":\"Αγαπημένα\",\"profile\":\"Προφίλ\",\"logout\":\"Αποσύνδεση\"},\"sider\":{\"home\":\"Αρχική\",\"feed\":\"Ανακάλυψε\",\"search\":\"Αναζήτηση\",\"favourites\":\"Αγαπημένα\",\"profile\":\"Το Προφίλ μου\",\"personalDetails\":\"Προσωπικά στοιχεία\",\"myCvs\":\"Βιογραφικά\",\"skills\":\"Εκπαίδευση \\u0026 δεξιότητες\",\"experience\":\"Εργασιακή εμπειρία\"},\"bottom\":{\"home\":\"Αρχική\",\"feed\":\"Ανακάλυψε\",\"search\":\"Αναζήτηση\",\"profile\":\"Προφίλ\",\"personalDetails\":\"Προσωπικά στοιχεία\",\"myCvs\":\"Βιογραφικά\",\"skills\":\"Εκπαίδευση \\u0026 δεξιότητες\",\"experience\":\"Εργασιακή εμπειρία\"},\"popConfirm\":{\"title\":\"Σίγουρα θες να το διαγράψεις;\",\"positive\":\"Ναι\",\"negative\":\"Όχι\"},\"timeline\":{\"title\":\"Τελευταία νέα\",\"description\":\"Ανακάλυψε νέες αγγελίες, ακολούθησε εταιρείες και βρες συμβουλές για την καριέρα σου, τάσεις και νέα της αγοράς εργασίας, σε 1 σημείο!\",\"new\":\"Νέο\"},\"jobSearch\":{\"search_for_a_job\":\"Αναζήτησε θέσεις εργασίας ή εταιρείες\",\"filters\":\"Φίλτρα\",\"industry\":\"Κλάδος εταιρείας\",\"category\":\"Κατηγορία θέσης\",\"location\":\"Τοποθεσία\",\"company\":\"Εταιρεία\",\"level\":\"Επίπεδο εμπειρίας\",\"remote\":\"Τηλεργασία\",\"remote_toggle\":\"Αγγελίες με επιλογές τηλεργασίας\",\"type\":\"Τύπος απασχόλησης\",\"search\":\"Ψάξε\",\"clear\":\"Καθάρισμα\",\"clear_all\":\"καθάρισμα όλων\",\"city\":\"Πόλη\",\"region\":\"Περιοχή\",\"input_no_results\":\"χωρίς αποτελέσματα ακόμα\",\"in_jobs\":\"σε αγγελίες\",\"in_companies\":\"σε εταιρείες\",\"show_all_jobs\":\"\\u003c0\\u003eΕμφάνιση όλων\\u003c/0\\u003e των αγγελιών\",\"show_all_companies\":\"\\u003c0\\u003eΕμφάνιση όλων\\u003c/0\\u003e των εταιρειών\",\"no_results\":\"Δεν υπάρχουν αποτελέσματα\",\"available_jobs_with_search_one\":\"{{count}} διαθέσιμη θέση εργασίας για\",\"available_jobs_with_search_other\":\"{{count}} διαθέσιμες θέσεις εργασίας για\",\"with_criteria\":\"με τα κριτήριά σου\",\"available_jobs_without_filters_one\":\"{{count}} διαθέσιμη θέση εργασίας\",\"available_jobs_without_filters_other\":\"{{count}} διαθέσιμες θέσεις εργασίας\",\"remote_results\":\"τηλεργασία\",\"in\":\"σε\",\"with\":\"με\",\"in_company\":\"στην Εταιρεία\",\"relevance\":\"Πιο σχετικές\",\"published_new_first\":\"Νέες πρώτα\",\"published_oldest_first\":\"Παλιές πρώτα\",\"recent_searches\":\"Πρόσφατες αναζητήσεις αγγελιών\",\"close\":\"κλείσιμο\"},\"search_again\":\"Αναζήτησε ξανά\",\"no_search_results\":\"Ουπς! Δε βρήκαμε αποτελέσματα. Άλλαξε τα κριτήρα αναζήτησης και...\",\"jobs\":\"Θέσεις\",\"jobs_tab\":\"Αγγελίες εργασίας\",\"companies\":\"Εταιρείες\",\"more_options\":\"Περισσότερες επιλογές\",\"less_options\":\"Λιγότερες επιλογές\",\"view_results_one\":\"Δες {{count}} αποτέλεσμα\",\"view_results_other\":\"Δες {{count}} αποτελέσματα\",\"search_results\":\"Αποτελέσματα αναζήτησης\",\"days_to_apply\":\"Μέρες για να κάνεις αίτηση\",\"saved_jobs\":\"Αποθηκευμένες αγγελίες\",\"readMore\":\"Διάβασε περισσότερα\",\"copied\":\"Αντιγράφηκε στο πρόχειρο\",\"follow\":\"ΑΚΟΛΟΥΘΗΣΕ\",\"following\":\"ΑΚΟΛΟΥΘΕΙΣ\",\"locations\":\"Τοποθεσίες\",\"jobCategory\":{\"OTHER\":\"Άλλη κατηγορία\",\"ACCOUNTING_AUDITING\":\"Λογιστικά\",\"ADMINISTRATIVE_SECRETARIAL\":\"Γραμματειακή Υποστήριξη / Υπάλληλος Γραφείου\",\"AGRICULTURE\":\"Αγροτικά\",\"BEAUTY_SERVICES_FITNESS\":\"Υπηρεσίες Oμορφιάς / Φυσική Κατάσταση\",\"BI_BUSINESS_ANALYSIS\":\"Αναλυτής / BI\",\"CALL_CENTER_CUSTOMER_SUPPORT\":\"Τηλεφωνικό Κέντρο / Εξυπηρέτηση Πελατών\",\"COMMUNITY_SOCIAL_SERVICE_VOLUNTARY\":\"Κοινωνικές / Εθελοντικές Υπηρεσίες\",\"CONSULTING\":\"Σύμβουλος Επιχειρήσεων\",\"CONSTRUCTION_ENGINEERS_ARCHITECTS\":\"Κατασκευές / Μηχανικοί / Αρχιτέκτονες\",\"DESIGN_GRAPHIC_ARTS_CREATIVE\":\"Σχέδιο / Γραφικά / Δημιουργικά\",\"EDUCATION_TRAINING\":\"Εκπαίδευση\",\"ENGINEERING\":\"Μηχανικοί\",\"E_COMMERCE_DIGITAL_SERVICES\":\"Ηλεκτρονικό Εμπόριο / Ψηφιακές Υπηρεσίες\",\"FINANCE\":\"Οικονομικά\",\"FOOD_CAFE\":\"Εστίαση / Καφέ\",\"GENERAL_MANAGEMENT\":\"Γενική Διοίκηση\",\"HUMAN_RESOURCES\":\"Ανθρώπινο Δυναμικό\",\"IT\":\"Πληροφορική\",\"LEGAL\":\"Νομικά\",\"LOGISTICS_WAREHOUSE\":\"Αποθήκη / Logistics\",\"MARKETING_ADVERTISING\":\"Μάρκετινγκ / Διαφήμιση\",\"MEDICINE_HEALTHCARE\":\"Φαρμακευτικά / Υγεία\",\"OPERATIONS\":\"Επιχειρησιακά\",\"PRESS_RADIO_TV\":\"Μέσα Μαζικής Ενημέρωσης\",\"PRODUCTION\":\"Παραγωγή\",\"PROCUREMENT_SUPPLY_CHAIN\":\"Προμήθειες / Αγορές\",\"PUBLIC_RELATIONS\":\"Δημόσιες Σχέσεις\",\"QUALITY_ASSURANCE\":\"Διασφάλιση Ποιότητας\",\"REAL_ESTATE\":\"Επιχειρήσεις Real Estate\",\"RETAIL\":\"Λιανεμπόριο\",\"RESEARCH_DEVELOPMENT\":\"Έρευνα \\u0026 Ανάπτυξη\",\"SALES_BUSINESS_DEVELOPMENT_ACCOUNT_MANAGEMENT\":\"Πωλήσεις / Διαχείριση Πελατών\",\"SCIENCE_RESEARCH\":\"Επιστημονικός Κλάδος\",\"SECURITY\":\"Ασφάλεια\",\"SPORTS_ART\":\"Αθλητισμός / Τέχνες\",\"STRATEGY_PLANNING\":\"Στρατηγικός Σχεδιασμός\",\"TECHNICIANS_SERVICE\":\"Τεχνικοί / Service\",\"TOURISM\":\"Τουρισμός\",\"TRANSPORT_DRIVING\":\"Μεταφορές / Οδήγηση\",\"WORKERS\":\"Εργάτες\"},\"seniorityLevel\":{\"NO_EXPERIENCE_NO_DEGREE\":\"Χωρίς προϋπηρεσία/Χωρίς εμπειρία\",\"ENTRY_JUNIOR\":\"Entry/Αρχάριος\",\"MID_LEVEL\":\"Με κάποια εμπειρία\",\"SENIOR\":\"Με μεγάλη εμπειρία\",\"EXECUTIVE\":\"C-level/Executive\"},\"occupationType\":{\"FULL_TIME\":\"Πλήρης απασχόληση\",\"PART_TIME\":\"Μερική απασχόληση\",\"FULL_TIME_PART_TIME\":\"Πλήρης απασχόληση/Μερική απασχόληση\",\"CONTRACT_FREELANCE_SELF_EMPLOYED\":\"Συμβόλαιο/Ελεύθερος επαγγελματίας/Αυτοαπασχολούμενος/η\",\"INTERNSHIP_APPRENTICESHIP\":\"Πρακτική άσκηση/Μαθητευόμενος/η\",\"SEASONAL\":\"Εποχιακός/ή\",\"VOLUNTEER\":\"Εθελοντισμός\"},\"remoteType\":{\"FULLY_REMOTE\":\"Εργασία απο απόσταση\",\"PARTIALLY_REMOTE\":\"Εργασία από απόσταση κάποιες ημέρες\",\"TEMPORARILY_REMOTE\":\"Εργασία απο απόσταση για συγκεκριμένη διάρκεια\"},\"companyDetails\":{\"positions\":\"Δες {{jobPosts}} Θέσεις εργασίας\",\"visit_website\":\"Ιστοσελίδα\"},\"non_logged_in_employer\":{\"connect_with_google\":\"Συνδέσου με Google\"},\"homepage\":{\"start_now\":\"Ξεκίνα τώρα\",\"create_your_profile_and_start_applying\":\"Φτιάξε το προφίλ σου και ξεκίνα να κάνεις αιτήσεις.\"},\"newsletter\":{\"newsletter_header\":\"Μια εγγραφή, πολλές ευκαιρίες!\",\"newsletter_sh\":\"Εγγράψου στο newsletter μας, για να λαμβάνεις πρώτος/η συμβουλές για την καριέρα σου \\u0026 νέες θέσεις εργασίας.\",\"enter_mail\":\"Πληκτρολόγησε την διεύθυνση του ηλεκτρονικού ταχυδρομείου σου\",\"register\":\"Εγγραφή\",\"registration_consent\":\"Κάνοντας κλικ στο κουμπί «Εγγραφή», επιβεβαιώνω ότι το \\u003c1\\u003ekariera.gr\\u003c/1\\u003e να μπορεί να με πληροφορεί σχετικά με υπηρεσίες. Γνωρίζω πως μπορώ να σταματήσω το \\u003c3\\u003ekariera.gr\\u003c/3\\u003e να επικοινωνεί μαζί μου, πατώντας unsubscribe.\"},\"footer\":{\"job_seekers\":{\"title\":\"Υποψήφιοι\",\"browse_jobs\":\"Αναζήτηση Θέσεων Εργασίας\",\"browse_companies\":\"Αναζήτηση Ανά Εταιρεία\",\"upload_cv\":\"Ανέβασε το βιογραφικό σου\",\"work_@_kariera\":\"Work @kariera.gr\",\"events\":\"Events\",\"blog\":\"Blog\",\"faq\":\"FAQ Υποψηφίου\"},\"employers\":{\"title\":\"Εργοδότες\",\"job_posts\":\"Αγγελίες Εργασίας\",\"cv_database\":\"Βάση Βιογραφικών\",\"screening_hr_solutions\":\"Screening \\u0026 Hiring Solutions\",\"company_profile\":\"Εταιρικό Προφίλ\",\"career_profile\":\"Οδηγός Καριέρας\",\"blog\":\"Blog\",\"faq\":\"FAQ Εργοδότη\"},\"legal\":{\"title\":\"Νομικά\",\"advertisement\":\"Διαφήμιση\",\"delete_account\":\"Διαγραφή Λογαριασμού\",\"manage_personal_data\":\"Διαχείριση Προσωπικών Δεδομένων\",\"financial_information\":\"Οικονομικά Στοιχεία\",\"all_rights_reserved\":\"Πνευματικά δικαιώματα 2022 kariera.gr. Με την επιφύλαξη παντός δικαιώματος. Διάφορα άλλα εμπορικά σήματα εταιρειών (λογότυπα, κ.λπ.) κατέχονται από τους αντίστοιχους ιδιοκτήτες ή/και χρήστες οι οποίοι τα ανεβάζουν.\"},\"company\":{\"title\":\"Εταιρεία\",\"about_us\":\"Σχετικά με εμάς\",\"contact\":\"Επικοινωνία\"},\"seo\":{\"search_for\":\"Ψάξε για\",\"jobs\":\"Αγγελίες\",\"locations\":\"Τοποθεσίες\",\"companies\":\"Εταιρείες\"},\"terms_and_conditions\":\"Όροι και Προϋποθέσεις\",\"privacy_policy\":\"Πολιτική Απορρήτου\",\"cookies_policy\":\"Πολιτική Cookies\",\"change_preferences\":\"αλλαγή προτιμήσεων\"},\"quick_apply\":{\"button\":\"Γρήγορη αίτηση\",\"done\":\"Η αίτηση ολοκληρώθηκε\"},\"messages\":{\"error\":{\"page_not_found\":\"Η σελίδα δε βρέθηκε\",\"something_went_wrong\":\"Κάτι πήγε στραβά, δοκίμασε πάλι αργότερα.\",\"feed_not_loaded\":\"Απέτυχε η φόρτωση της ροής\",\"jobs_not_loaded\":\"Απέτυχε η φόρτωση των θέσεων\",\"companies_not_loaded\":\"Απέτυχε η φόρτωση των εταιριών\"},\"newsletter\":{\"success\":\"Επιτυχής εγγραφή\",\"form_errors\":{\"email_not_valid\":\"Συμπλήρωσε μια έγκυρη διεύθυνση ηλεκτρονικού ταχυδρομείου\",\"email_required\":\"Γράψε μία διεύθυνση ηλεκτρονικού ταχυδρομείου\",\"too_many_characters\":\"Το συγκεκριμένο πεδίο δεν μπορεί να ξεπερνά τους 255 χαρακτήρες\"},\"validation\":{\"invalid_creds\":\"Υπάρχει κάποιο λάθος με το email σου. Δοκίμασε πάλι.\",\"recaptcha\":\"Κάτι δεν πήγε καλά με το reCAPTCHA - δοκίμασε πάλι.\"}}}},\"notification\":{\"status\":{\"error\":\"Σφάλμα\",\"warning\":\"Προσοχή\",\"success\":\"Επιτυχία\",\"info\":\"Ενημέρωση\"},\"frontend\":{\"failed\":\"Κάτι πήγε στραβά, δοκίμασε πάλι αργότερα.\"},\"backend\":{\"unauthorized\":\"Δεν είσαι εξουσιοδοτημένος για πρόσβαση σε αυτή την πηγή.\",\"forbidden\":\"Δεν είσαι εξουσιοδοτημένος για πρόσβαση σε αυτή την πηγή.\",\"not_found\":\"Δεν βρέθηκε\",\"exceeded_limits\":\"Έχεις υπερβεί τα όρια.\",\"validation\":{\"failed\":\"Κάτι πήγε στραβά, δοκίμασε πάλι αργότερα.\",\"bad_request\":\"Κάτι πήγε στραβά, δοκίμασε πάλι αργότερα.\"}}},\"job-post\":{\"jobTitle\":{\"job_title\":\"Τίτλος θέσης\",\"apply_button\":\"Κάνε αίτηση τώρα\",\"refLabel\":\"Κωδ\"},\"applicationStatus\":{\"applied\":\"Έχεις κάνει αίτηση για αυτή τη θέση\",\"expired\":\"Η θέση δεν δέχεται πλέον αιτήσεις\",\"view\":\"Δες την\"},\"jobRelatedTags\":{\"related_tag_title\":\"Σχετικά tags\",\"suggest_tag\":\"Πρότεινε ένα tag\"},\"jobDetails\":{\"location\":\"Τοποθεσία\",\"posted\":\"Ημ. ανάρτησης\",\"category\":\"Κατηγορία θέσης\",\"level\":\"Επίπεδο εμπειρίας\",\"type\":\"Τύπος απασχόλησης\",\"remote\":\"Τηλεργασία\"},\"jobSummary\":{\"job_summary_title\":\"ΠΕΡΙΛΗΨΗ ΘΕΣΗΣ\",\"apply_button\":\"Κάνε αίτηση τώρα\",\"view_applications\":\"Δες τις αιτήσεις\"},\"reportJob\":{\"button\":\"Αναφορά θέσης εργασίας\"},\"jobPost\":{\"sponsored_title\":\"Θέσεις εργασίας που σου ταιριάζουν\",\"best-match_title\":\"Άλλες θέσεις εργασίας που μπορεί να σε ενδιαφέρουν\"},\"sponsored\":\"Χορηγούμενη\",\"top_picks_from_our_blog\":\"Σημαντικότερα άρθρα από το kariera.gr blog\",\"save_later\":\"Αποθήκευση\",\"saved\":\"Αποθηκευμένη\",\"view_job\":\"Δες τη θέση\",\"messages\":{\"error\":{\"not_found\":\"Η συγκεκριμένη θέση εργασίας δεν βρέθηκε.\"}}},\"login\":{\"salutation\":\"Γεια σου,\",\"divider_wording\":\"ή\",\"change_email\":\"Δεν είναι αυτό το email σου; Άλλαξέ το\",\"email_label\":\"Email\",\"email_not_valid\":\"Πρέπει να καταχωρίσεις έγκυρο email. Δοκίμασε πάλι.\",\"email_required\":\"Συμπλήρωσε το email.\",\"email_placeholder\":\"Το email σου\",\"password_label\":\"Κωδικός πρόσβασης\",\"password_required\":\"Συμπλήρωσε τον κωδικό πρόσβασής σου.\",\"password_placeholder\":\"Ο κωδικός σου\",\"next_button\":\"Επόμενο\",\"too_many_characters\":\"Το συγκεκριμένο πεδίο δεν μπορεί να ξεπερνά τους 255 χαρακτήρες.\",\"signup\":{\"label\":\"Εγγραφή\",\"title\":\"Δημιούργησε λογαριασμό στο kariera.gr\",\"google_button\":\"Εγγραφή με Google\",\"email_button\":\"Εγγραφή με email\",\"already_account\":\"'Εχεις ήδη λογαριασμό;\",\"login_now\":\"Σύνδεση\",\"email_agree_to\":\"Αποδέχομαι τους \",\"email_privacy_policy\":\"Πολιτική Απορρήτου \",\"email_agree_and\":\"και επιβεβαιώνω ότι διάβασα την \",\"email_terms\":\"Όρους Χρήσης \",\"of_kariera\":\"του kariera.gr.\",\"agreement_required\":\"Πρέπει να αποδεχτείς τους Όρους Χρήσης.\",\"submit_button\":\"Δημιουργία\",\"password_validity\":\"Υπάρχει κάποιο λάθος με τα στοιχεία σου. Δοκίμασε πάλι.\",\"characters_required\":\"8 Χαρακτήρες\",\"letters_required\":\"Γράμματα\",\"numbers_required\":\"1 Αριθμός\",\"special_required\":\"1 Ειδικός χαρακτήρας\"},\"login\":{\"label\":\"Σύνδεση\",\"title\":\"Συνδέσου στο kariera.gr\",\"login_with_email\":\"Σύνδεση με email\",\"dont_have_account\":\"Δεν έχεις λογαριασμό;\",\"create_account\":\"Φτιάξε λογαριασμό τώρα\",\"stay_connected\":\"Θέλω να μείνω συνδεδεμένος/η\",\"forgot_password\":\"Ξέχασες τον κωδικό πρόσβασής σου;\",\"password_recover\":\"Ανάκτησέ τον εδώ\",\"google_button\":\"Σύνδεση με Google\",\"failed\":{\"password_text\":\"Μήπως ξέχασες τον κωδικό σου;\",\"password_recover\":\"Ανάκτηση κωδικού\"}},\"messages\":{\"server\":{\"signup\":{\"validation\":{\"invalid_creds\":\"Υπάρχει κάποιο λάθος με τα στοιχεία σου. Δοκίμασε πάλι.\",\"recaptcha\":\"Υπάρχει κάποιο λάθος με το reCAPTCHA - δοκίμασε πάλι.\",\"password\":\"Υπάρχει κάποιο λάθος με το email ή τον κωδικό πρόσβασής σου. Δοκίμασε πάλι.\",\"email\":\"Υπάρχει κάποιο λάθος με το email ή τον κωδικό πρόσβασής σου. Δοκίμασε πάλι.\"}},\"login\":{\"validation\":{\"invalid_creds\":\"Καλωσήρθες στο νέο kariera.gr! Σε περίπτωση που δεν συνδέεσαι με τον κωδικό σου,\",\"recaptcha\":\"Κάτι δεν πήγε καλά με το reCAPTCHA - δοκίμασε πάλι.\"}}}}},\"cv\":{\"title\":\"Τα βιογραφικά μου\",\"subtitle\":\"Μπορείς να αποθηκεύσεις μέχρι {{numberOfFilesAllowed}} βιογραφικά.\",\"uploader\":{\"text\":\"Ανέβασε το βιογραφικό σου.\",\"hint\":\"Ο τύπος του αρχείου μπορεί να είναι: {{fileTypesToString}} | Μέγιστο μέγεθος αρχείου: {{numberOfMBAllowed}} MB.\",\"uploading\":\"Εν εξελίξει\"},\"messages\":{\"success\":{\"delete\":\"Το βιογραφικό σου διαγράφηκε με επιτυχία.\",\"upload\":\"Το βιογραφικό σου αποθηκεύτηκε με επιτυχία.\"},\"warning\":{\"max_files\":\"Μπορείς να αποθηκεύσεις έως {{numberOfFilesAllowed}} αρχεία, διέγραψε κάποιο πρώτα για να προχωρήσεις.\",\"max_size\":\"Μπορείς να ανεβάσεις αρχεία μεγέθους μέχρι {{numberOfMBAllowed}} MB, δοκίμασε να μειώσεις το μέγεθος.\",\"file_type_not_supported\":\"Ο τύπος του συγκεκριμένου αρχείου δεν υποστηρίζεται. Δοκίμασε να ανεβάσεις {{fileTypesToString}} τύπο αρχείων.\"},\"error\":{\"file_already_exist\":\"Αρχείο με αυτό το όνομα υπάρχει ήδη, δοκίμασε να το μετονομάσεις.\",\"upload\":\"Κάτι πήγε στραβά, επικοινώνησε μαζί μας για παραπάνω λεπτομέριες.\"},\"server\":{\"not_found\":\"Το συγκεκριμένο βιογραφικό δεν βρέθηκε.\",\"exceeded_limits\":\"Υπάρχει συγκεκριμένος αριθμός βιογραφικών που μπορείς να ανεβάσεις.\"}}},\"application\":{\"title\":\"Κάνε αίτηση τώρα\",\"subtitle\":\"Επίλεξε ένα βιογραφικό που έχεις ανεβάσει.\",\"apply_btn\":\"Κάνε αίτηση\",\"refresh\":\"Ανανέωσε τη σελίδα.\",\"upload_new\":\"Ανέβασε νέο βιογραφικό\",\"messages\":{\"error\":{\"not_loaded\":\"Οι αιτήσεις σου δεν φόρτωσαν σωστά, δοκίμασε αργότερα\"},\"success\":{\"application\":\"Η αίτηση ολοκληρώθηκε με επιτυχία.\",\"details_update\":\"Τα προσωπικά σου στοιχεία ενημερώθηκαν επιτυχώς.\"},\"server\":{\"cv_not_found\":\"Πρέπει να έχεις ανεβάσει τουλάχιστον ένα βιογραφικό στο προφίλ σου.\",\"profile_not_completed\":\"Πρέπει να συμπληρώσεις τα παρακάτω στοιχεία του προφίλ σου.\",\"job_not_found\":\"Δεν βρέθηκε η συγκεκριμένη θέση εργασίας.\",\"job_already_applied\":\"Έχεις κάνει ήδη αίτηση.\",\"unpublished_job\":\"Η θέση εργασίας δεν είναι ενεργή.\"}}},\"profile\":{\"personal_details\":{\"details\":\"Λεπτομέρειες\",\"profile_picture\":\"Εικόνα προφίλ\",\"delete_account\":\"Διαγραφή λογαριασμού\",\"delete_account_description_part_one\":\"Αν θες να διαγράψεις τον λογαρισμό σου, στείλε ένα αίτημα στο τμήμα εξυπηρέτησης πελατών χρησιμοποιώντας την \",\"delete_account_description_part_two\":\"φόρμα επικοινωνίας\",\"personal_details\":\"Προσωπικές πληροφορίες\",\"name\":\"Πλήρες όνομα\",\"firstName\":\"Όνομα\",\"lastName\":\"Επίθετο\",\"email\":\"Email\",\"address\":\"Διεύθυνση\",\"telephone\":\"Τηλέφωνο\",\"telephone_error\":\"Καταχώρισε έναν 10ψήφιο αριθμό, σταθερού ή κινητού τηλεφώνου.\",\"current_job_title\":\"Τίτλος εργασίας\",\"current_job_title_placeholder\":\"Συμπλήρωσε τον τωρινό τίτλο εργασίας σου\",\"placeholder\":\"Συμπλήρωσε {{placeholder}}\",\"edit\":\"Επεξεργασία\",\"save\":\"Αποθήκευση\",\"cancel\":\"Ακύρωση\"},\"public_profile\":{\"public_profile\":\"Ορατό προφίλ\",\"public_profile_sh\":\"Με την ενεργοποίηση του Ορατού Προφίλ, οι Εργοδότες θα μπορούν να βλέπουν τις πληροφορίες που έχεις αποθηκεύσει στο προφίλ σου και να επικοινωνούν μαζί σου για να σου προσφέρουν θέσεις εργασίας που σου ταιριάζουν.\",\"available_for_search\":\"Ορατό Προφίλ σε Εργοδότες\",\"public\":\"Ενεργοποίηση\"},\"messages\":{\"success\":{\"profile_updated\":\"Το προφίλ σου ανανεώθηκε επιτυχώς.\"},\"error\":{\"complete_your_profile\":\"Πρέπει να συμπληρώσεις το προφίλ σου.\"},\"server\":{\"telephone-error\":\"Συμπλήρωσε τα 10 ψηφία του σταθερού ή κινητού τηλεφωνικού σου αριθμού (ή άφησέ το κενό).\"}}},\"company\":{\"no_jobs_found\":\"Προσωρινά δεν έχουμε κάποια ανοιχτή θέση\",\"search_job\":\"Ψάξε για θέση εργασίας\",\"view_jobs\":\"Δες {{numOfJobs}} θέσεις εργασίας\",\"view_job\":\"Δες {{numOfJobs}} θέση εργασίας\",\"view_company\":\"Δες την εταιρεία\",\"other_companies\":\"Άλλες εταιρείες\",\"interested_in_company\":\"Εταιρεία που μπορεί να σε ενδιαφέρει\",\"title_one\":\"{{count}} διαθέσιμη εταιρεία\",\"title_other\":\"{{count}} διαθέσιμες εταιρείες\",\"results_one\":\"{{count}} διαθέσιμη εταιρεία\",\"results_other\":\"{{count}} διαθέσιμες εταιρείες\",\"section\":{\"AIR_TRANSPORT\":\"Αερομεταφορές\",\"AGRICULTURE\":\"Αγροτικά\",\"AUTOMOTIVE\":\"Κλάδος Αυτοκινήτου\",\"ADVERTISING_MARKETING_COMMUNICATION\":\"Διαφημιστικές Υπηρεσίες, Μάρκετινγκ \\u0026 Επικοινωνίας\",\"BIOTECHNOLOGY\":\"Βιοτεχνολογία\",\"CHEMICALS\":\"Χημικά\",\"CONSTRUCTION\":\"Κατασκευαστικός | Τεχνικός κλάδος\",\"CONSULTING\":\"Συμβουλευτικές Υπηρεσίες\",\"CONSUMER_GOODS_SERVICES\":\"Καταναλωτικά Αγαθά και Υπηρεσίες\",\"CUSTOMER_SERVICE_CALL_CENTER\":\"Εξυπηρέτηση πελατών/Τηλεφωνικό κέντρο\",\"DEFENSE\":\"Άμυνα\",\"EDUCATION\":\"Εκπαίδευση\",\"ENERGY\":\"Ενέργεια\",\"E_COMMERCE\":\"Ηλεκτρονικό εμπόριο\",\"FINANCIAL_SERVICES\":\"Οικονομικές Υπηρεσίες\",\"FOOD_BEVERAGE\":\"Φαγητό \\u0026 Ποτό\",\"HEALTHCARE\":\"Εστίαση\",\"HOSPITALITY\":\"Τουρισμός/Ξενοδοχεία\",\"INSURANCE\":\"Ασφαλιστικός Κλάδος\",\"INDUSTRY\":\"Βιομηχανία\",\"PHARMACEUTICAL_HEALTH_SECTOR\":\"Φαρμακευτικές \\u0026 Κλάδος Υγείας\",\"MEDIA\":\"ΜΜΕ\",\"NOT_FOR_PROFIT\":\"Μη Κερδοσκοπικοί Οργανισμοί\",\"OTHER\":\"Γενικός κλάδος\",\"REAL_ESTATE\":\"Επιχειρήσεις Real Estate\",\"RETAIL\":\"Λιανικό Εμπόριο\",\"SECURITY\":\"Εταιρείες Security\",\"SHIPPING\":\"Ναυτιλία\",\"SOFTWARE_VENDOR_INFORMATION_TECHNOLOGY\":\"Υπηρεσίες Λογισμικού και Πληροφορικής\",\"STAFFING_RECRUITMENT\":\"Εύρεση Προσωπικού (HR)\",\"TELECOMMUNICATIONS\":\"Τηλεπικοινωνίες\",\"TRANSPORTATION\":\"Μεταφορές\",\"UTILITIES\":\"Υπηρεσίες Κοινής Ωφέλειας\",\"LOGISTICS\":\"Υπηρεσίες Logistics\"},\"uncategorized\":\"Χωρίς κλάδο\",\"messages\":{\"error\":{\"not_found\":\"Η εταιρεία δεν βρέθηκε.\"}}},\"report-job\":{\"title\":\"Λόγος αναφοράς\",\"more_details\":\"Καταχώρισε παραπάνω πληροφορίες (προαιρετικά)\",\"OTHER_REASON\":\"Άλλος λόγος\",\"OFFENSIVE_LANGUAGE\":\"Προσβλητικό περιεχόμενο\",\"POOR_SPELLING_OR_GRAMMAR\":\"Γραμματικό/Ορθογραφικό λάθος\",\"NOT_A_GENUINE_JOB_VACANCY\":\"Μοιάζει με απάτη\",\"DISCRIMINATORY\":\"Διάκριση\",\"report_btn\":\"Αναφορά\",\"messages\":{\"success\":{\"reported\":\"Έγινε αναφορά επιτυχώς\"},\"warning\":{\"max_chars\":\"Καταχώρισε μέχρι 255 χαρακτήρες.\",\"reason_required\":\"Επίλεξε ένα λόγο\"},\"server\":{\"unauthorized\":\"Δεν είσαι συνδεδεμένος, προσπάθησε πάλι.\",\"not_found\":\"Η θέση εργασίας δεν βρέθηκε, προσπάθησε πάλι.\",\"validation\":{\"bad_request\":\"Κάτι πήγε στραβά, δοκίμασε πάλι αργότερα.\"}}}}}},\"initialLocale\":\"en\",\"userConfig\":{\"i18n\":{\"defaultLocale\":\"el\",\"locales\":[\"en\",\"el\"]},\"default\":{\"i18n\":{\"defaultLocale\":\"el\",\"locales\":[\"en\",\"el\"]}}}}},\"__N_SSP\":true},\"page\":\"/jobs/[id]\",\"query\":{\"id\":\"41833\"},\"buildId\":\"rX9rJqlMwwXjDRJChjnEe\",\"runtimeConfig\":{\"FE_APP_URL\":\"https://www.kariera.gr\",\"BACKEND_URL\":\"https://www.kariera.gr\",\"GOOGLE_RECAPTCHA_KEY\":\"6LdpXascAAAAAMf0kgiTYoKVDlZGJTHzjs-WH9-i\",\"GOOGLE_CLIENT_ID\":\"1033928551574-bcbaurotq1pvelfv6al0dgdlbmvcvp70.apps.googleusercontent.com\",\"JOBSEEKER_BLOB_ENDPOINT\":\"https://jobseekerfilesprod.blob.core.windows.net\",\"JOBSEEKER_CONTAINER_NAME\":\"useruploads\",\"CAREER_DAYS_LIVESTREAM_URL\":\"https://www.youtube.com/embed/bqFwi-dhVoE\"},\"isFallback\":false,\"gssp\":true,\"appGip\":true,\"locale\":\"en\",\"locales\":[\"el\",\"en\"],\"defaultLocale\":\"el\",\"scriptLoader\":[]}</script></body></html>"
      ]
     },
     "execution_count": 18,
     "metadata": {},
     "output_type": "execute_result"
    }
   ],
   "source": [
    "headers = {'User-agent':'Mozilla/5.0 (Windows NT 6.1; Win64; x64; rv:47.0) Gecko/20100101 Firefox/47.0'}\n",
    "r = requests.get(test_link, headers=headers)\n",
    "soup = BeautifulSoup(r.content, 'html.parser')\n",
    "soup"
   ]
  },
  {
   "cell_type": "markdown",
   "id": "7b1f39f1",
   "metadata": {},
   "source": [
    "### job title"
   ]
  },
  {
   "cell_type": "code",
   "execution_count": 19,
   "id": "89144b18",
   "metadata": {},
   "outputs": [
    {
     "data": {
      "text/plain": [
       "'Real Estate University: Εργάζεσαι & Εκπαιδεύεσαι ταυτόχρονα στη Νο1 Εταιρεία Real Estate Παγκοσμίως (Βόρεια, Δυτικά Προάστια, Πειραιάς ή Προάστια Πειραιά)'"
      ]
     },
     "execution_count": 19,
     "metadata": {},
     "output_type": "execute_result"
    }
   ],
   "source": [
    "soup.find('div',class_='h4 UGhAL2CE').text"
   ]
  },
  {
   "cell_type": "markdown",
   "id": "966d3e0f",
   "metadata": {},
   "source": [
    "### company"
   ]
  },
  {
   "cell_type": "code",
   "execution_count": 20,
   "id": "026ffe52",
   "metadata": {},
   "outputs": [
    {
     "data": {
      "text/plain": [
       "'KELLER WILLIAMS SOLUTIONS GROUP'"
      ]
     },
     "execution_count": 20,
     "metadata": {},
     "output_type": "execute_result"
    }
   ],
   "source": [
    "soup.find('a',class_='__8_RJM1pE').text"
   ]
  },
  {
   "cell_type": "markdown",
   "id": "0eaa580e",
   "metadata": {},
   "source": [
    "### location"
   ]
  },
  {
   "cell_type": "code",
   "execution_count": 21,
   "id": "2e6200d1",
   "metadata": {},
   "outputs": [
    {
     "data": {
      "text/plain": [
       "'Marousi'"
      ]
     },
     "execution_count": 21,
     "metadata": {},
     "output_type": "execute_result"
    }
   ],
   "source": [
    "soup.findAll('a',class_='V_oVSppD main-body-text')[0].text"
   ]
  },
  {
   "cell_type": "markdown",
   "id": "4cc0fbf2",
   "metadata": {},
   "source": [
    "### job occupation"
   ]
  },
  {
   "cell_type": "code",
   "execution_count": 22,
   "id": "58ae6766",
   "metadata": {},
   "outputs": [
    {
     "data": {
      "text/plain": [
       "'Real Estate'"
      ]
     },
     "execution_count": 22,
     "metadata": {},
     "output_type": "execute_result"
    }
   ],
   "source": [
    "getattr(soup.findAll('a',class_='V_oVSppD main-body-text')[3],'text',None)"
   ]
  },
  {
   "cell_type": "code",
   "execution_count": 23,
   "id": "c8f87867",
   "metadata": {},
   "outputs": [
    {
     "data": {
      "text/plain": [
       "'Real Estate'"
      ]
     },
     "execution_count": 23,
     "metadata": {},
     "output_type": "execute_result"
    }
   ],
   "source": [
    "soup.findAll('a',class_='V_oVSppD main-body-text')[3].text"
   ]
  },
  {
   "cell_type": "markdown",
   "id": "3ce7ef9c",
   "metadata": {},
   "source": [
    "### level"
   ]
  },
  {
   "cell_type": "code",
   "execution_count": 24,
   "id": "d3210171",
   "metadata": {},
   "outputs": [
    {
     "data": {
      "text/plain": [
       "'Mid level'"
      ]
     },
     "execution_count": 24,
     "metadata": {},
     "output_type": "execute_result"
    }
   ],
   "source": [
    "soup.findAll('a',class_='V_oVSppD main-body-text')[1].text"
   ]
  },
  {
   "cell_type": "markdown",
   "id": "674132da",
   "metadata": {},
   "source": [
    "### job type"
   ]
  },
  {
   "cell_type": "code",
   "execution_count": 25,
   "id": "731b1880",
   "metadata": {},
   "outputs": [
    {
     "data": {
      "text/plain": [
       "'Contract/Freelance/Self-employed'"
      ]
     },
     "execution_count": 25,
     "metadata": {},
     "output_type": "execute_result"
    }
   ],
   "source": [
    "soup.findAll('a',class_='V_oVSppD main-body-text')[2].text"
   ]
  },
  {
   "cell_type": "markdown",
   "id": "6cd4dc5a",
   "metadata": {},
   "source": [
    "### content"
   ]
  },
  {
   "cell_type": "code",
   "execution_count": 26,
   "id": "801b4105",
   "metadata": {},
   "outputs": [
    {
     "data": {
      "text/plain": [
       "'Καριέρα στο real estate; Θέλεις να εργάζεσαι με ελεύθερο ωράριο, πολλαπλές δυνατότητες εξέλιξης και αμοιβές που αγγίζουν το 100% (!) της προμήθειας; Έλα τότε στη No1 Εταιρεία Real Estate παγκοσμίως! Ποιοι είμαστε: Η Keller Williams Solutions Group * έχει καταφέρει μέσα σε 6 χρόνια λειτουργίας να αριθμεί 25 Συμβούλους και να εντάσσεται στις πρώτες θέσεις πανελλαδικά σε πωλήσεις. Βασικός πυλώνας της επιτυχίας μας είναι η φροντίδα και προσοχή που δίνουμε στην ανάπτυξη των συνεργατώνΣυμβούλων μας. Τα αποτελέσματά μας μιλούν από μόνα τους: 1 Πώληση  4 ημέρες για τα έτη 2017-2022 Οι Σύμβουλοί μας κατατάσσονται στους κορυφαίους πανελλαδικά μέσα σε 2-3 χρόνια στο χώρο. Για το 2021: Οι 2 πρώτοι Σύμβουλοι πανελλαδικά ανήκουν στο γραφείο μας Αποστολή μας είναι να «Ενδυναμώνουμε τους ανθρώπους να παίρνουν συνειδητοποιημένες αποφάσεις σχετικά με την ακίνητη περιουσία τους», υιοθετώντας ταυτόχρονα μια σύγχρονη προσέγγιση στον κλάδο του real estate και στοχεύοντας να γίνουμε το Νο.1 Γραφείο πανελλαδικά. Γιατί μαζί μας; Υψηλές Προμήθειες Πιστεύουμε πως οι Σύμβουλοί μας αξίζουν τα καλύτερα για αυτό και τους ανταμοίβουμε μέχρι και με το 100% (!) των συνολικών προμηθειών . Έτσι, όλοι έχουν κίνητρο να πετύχουν και εξελιχθούν περισσότερο, χτίζοντας ταυτόχρονα μια καριέρα με υψηλά εισοδήματα. Συνεχής Εκπαίδευση Η εκπαίδευση στο γραφείο μας ξεκινά με το… καλημέρα αφού θα περάσεις από 100 ώρες βιωματικής εκπαίδευσης πριν καν βγεις στην αγορά! Σεμιναριακά μαθήματα, παιχνίδια ρόλων (role playing), παρακολούθηση έμπειρων συνεργατών (shadowing), υποστήριξη στα πρώτα σου ραντεβού: χρησιμοποιούμε όλους τους σύγχρονους τρόπους εκμάθησης. Τα ολοκληρωμένα προγράμματα κατάρτισης της Keller Williams αποτελούν ευκαιρία εκμάθησης του αντικειμένου, για επαγγελματίες του χώρου και μη. Για το λόγο αυτό οι Σύμβουλοι μας αποπνέουν επαγγελματισμό, κερδίζουν την εμπιστοσύνη των πελατών τους και κλείνουν πολλές συμφωνίες. Πλήρης Υποστήριξη Φροντίζουμε να σου παρέχουμε ότι χρειαστείς για την ομαλή διεξαγωγή της εργασίας σου: από χώρο εργασίας και γραμματειακή υποστήριξη, μέχρι καθοδήγηση στη διαφήμιση των ακινήτων, τη διαπραγμάτευση και τη διεκπεραίωση των συμβολαίων σου. Αναλαμβάνοντας λοιπόν εμείς όλη τη γραφειοκρατία, εσύ μπορείς να εστιάζεις στη πιο σημαντική ενέργεια: να γίνεσαι οη έμπιστοςη Σύμβουλος Ακινήτων των ανθρώπων που σκέφτονται να πουλήσουν ή εκμισθώσουν το ακίνητό τους. Πρωτοποριακό Marketing & Τεχνολογία Με Βίντεο Παρουσίασης Ακινήτων (η σειρά μας #hotAkinita έχει περισσότερες από 2.300.000 προβολές στο YouTube), Gold & VIP Αγγελίες, Επαγγελματική Φωτογράφιση Ακινήτων, Ενεργή Παρουσία στα Social Media (6.000 Followers), το Νο.1 Vlog στην Ελλάδα #Mesitis4U και πολλά άλλα, αποκτάς μεγάλο πλεονέκτημα στην ανάθεση ακινήτων. Στόχος μας να σε αναδείξουμε στονστην ειδικό της περιοχής σου και να σε βοηθήσουμε να προωθήσεις τα ακίνητά σου σε ολόκληρο το αγοραστικό κοινό, χτίζοντας ένα δυνατό brand για το μέλλον. Επενδύουμε επίσης και στην τεχνολογία προσελκύοντας περισσότερους πελάτες, τους οποίους και εξυπηρετούμε γρηγορότερα. Αποτέλεσμα: ολοκληρώνουμε περισσότερες πωλήσεις. Ολοκληρωμένες Λύσεις στο χώρο του Ακινήτου Η KW Solutions Group ανήκει στον όμιλο επιχειρήσεων, Solutions Group. Μέλος του ομίλου και η « Resolutions - Ανακαίνιση Σπιτιού » η οποία δραστηριοποιείται στο χώρο των ανακαινίσεων επί 25 χρόνια, καθώς και η « Insolutions - Ασφαλιστικές Υπηρεσίες ». Οι 3 αυτές εταιρείες, έρχονται να καλύψουν τις ανάγκες του πελάτη σε real estate, ανακαινίσεις και ασφαλιστικά και να σου δώσουν τη δυνατότητα να μεγαλώσεις περαιτέρω το εισόδημά σου συστήνοντας κάθε φορά την αντίστοιχη υπηρεσία. Ταυτόχρονα, επιλεγμένοι εξωτερικοί συνεργάτες (πχ Δικηγόροι, Μηχανικοί, Συμβολαιογράφοι) βρίσκονται δίπλα σου για να σε βοηθήσουν να εξυπηρετήσεις ολοκληρωμένα τους πελάτες σου. Ανθρωποκεντρική Κουλτούρα Φροντίζουμε και νοιαζόμαστε για τους ανθρώπους μας. Χτίζουμε μια επιτυχημένη ομάδα συνεργατών που εστιάζει εξίσου στην παραγωγικότητα και τις ανθρώπινες σχέσεις. Το οικογενειακό κλίμα, η διασκέδαση, η επιβράβευση της αριστείας, το εταιρικό όραμα και οι αξίες μας σου επιτρέπουν να εργάζεσαι σε ένα υγιές εργασιακό περιβάλλον, με ξεκάθαρη κατεύθυνση & να αποδίδεις στο μέγιστο των δυνατοτήτων σου. Keller Williams - Η Νο.1 Εταιρεία στο Real Estate Με 200.000 Συμβούλους Ακινήτων σε 50+ χώρες, η Keller Williams είναι η #1 εταιρεία του χώρου, αφού, έχει την πρωτοκαθεδρία στους 3 βασικούς δείκτες: Νο.1 σε Αριθμό Συμβούλων Ακινήτων Νο.1 σε Όγκο Πωληθέντων Ακινήτων Νο.1 σε Τζίρο Κι όλα αυτά, ενώ έχει καταφέρει να διατηρήσει την ανθρωποκεντρική κουλτούρα της σε τέτοιο βαθμό, που οι Σύμβουλοι Ακινήτων μένουν μαζί της για 20 χρόνια κατά μέσο όρο! Συνέδρια & Εκδηλώσεις Κορυφαίοι επαγγελματίες του χώρου από Ελλάδα και εξωτερικό μεταφέρουν τις γνώσεις & εμπειρία τους για να σε βοηθήσουν να πας ψηλότερα. Στη Νο.1 εταιρεία παγκοσμίως η ανάπτυξη είναι μονόδρομος! Μεγάλο Δίκτυο Με πανελλαδικό δίκτυο γραφείων μπορείς να εξυπηρετείς τους πελάτες σου όπου και να βρίσκονται. Αναλαμβάνεις περισσότερα ακίνητα, ολοκληρώνεις περισσότερες πωλήσεις, χτίζεις συμμάχους σε κάθε γωνιά της γης. Τι παρέχουμε: 1. Εκπαίδευση Υψηλού Επιπέδου 2. Υποστήριξη σε όλα τα στάδια της εργασίας σου 3. Το πιο Πρωτοποριακό Marketing για τα ακίνητά σου 4. Αμοιβές που αγγίζουν το 100% (!) της προμήθειας 5. Ευχάριστο Περιβάλλον εργασίας με οργάνωση πολυεθνικής 6. Πανελλαδικό Δίκτυο Γραφείων για την κάλυψη των αναγκών των πελατών σου 7. Παροχή Ολοκληρωμένων Υπηρεσιών (ανακαινίσεις, ασφαλιστικές υπηρεσίες, δάνεια κτλ.) 8. Ευέλικτο ωράριο & Ελευθερία Κινήσεων 9. Μεγάλες Προοπτικές εξέλιξης και δημιουργίας ομάδων 10. Αποδεδειγμένα συστήματα και μοντέλα ανάπτυξης Τυπικά προσόντα: - 5ετη Προϋπηρεσία ( ανεξαρτήτως κλάδου) - Επικοινωνιακές Ικανότητες - Ήθος και Ακεραιότητα - Μεταφορικό Μέσο - Προϋπηρεσία στις Πωλήσεις θα εκτιμηθεί Αν είσαι μεσίτηςτρια ή έχεις εργαστεί σε μεσιτικό γραφείο στην εξυπηρέτηση πελατών, εάν έχεις προϋπηρεσία ως Πωλητής, Ελεύθερος Επαγγελματίας, Επιχειρηματίας, Ασφαλιστικός Σύμβουλος, Πολιτικός Μηχανικός, Αρχιτέκτονας, Τραπεζικός, τότε έχεις πλεονέκτημα αφού έχεις ήδη αποκτήσει δεξιότητες που θα σε βοηθήσουν στο χώρο μας. Εάν δεν σου αρκεί να είσαι υπάλληλος, εάν επιθυμείς να ρυθμίζεις εσύ το πρόγραμμά σου, εάν θέλεις τα εισοδήματά σου να εξαρτώνται από τις ενέργειές σου κι αν έχεις φιλοδοξίες να φτάσεις ψηλά, μην χάνεις άλλο χρόνο. Έλα μαζί μας και ξεκίνα να χτίζεις το μέλλον σου τώρα! *Κάθε γραφείο Keller Williams είναι ανεξάρτητη ιδιόκτητη επιχείρηση. ΥΓ: Αν θες να μάθεις ποια είναι η καθημερινότητα των Real Estate Agent , απλώς δες αυτό εδώ το βίντεο.'"
      ]
     },
     "execution_count": 26,
     "metadata": {},
     "output_type": "execute_result"
    }
   ],
   "source": [
    "result = soup.findAll('div',class_='__2DY4wJ3z hi8OBmAZ')\n",
    "a=''\n",
    "for res in result:\n",
    "    a= (res.get_text(strip=True,separator=' '))\n",
    "    a = a.replace('\\u202f','').replace('\\xa0','').replace('/','')\n",
    "a"
   ]
  },
  {
   "cell_type": "markdown",
   "id": "8e29c323",
   "metadata": {},
   "source": [
    "# building the loop"
   ]
  },
  {
   "cell_type": "code",
   "execution_count": 27,
   "id": "5f4f45ac",
   "metadata": {},
   "outputs": [],
   "source": [
    "df2 = pd.DataFrame()"
   ]
  },
  {
   "cell_type": "code",
   "execution_count": 28,
   "id": "901bdb63",
   "metadata": {},
   "outputs": [
    {
     "data": {
      "application/vnd.jupyter.widget-view+json": {
       "model_id": "989a498cc5f8430ebe5a9e9a1c1d6861",
       "version_major": 2,
       "version_minor": 0
      },
      "text/plain": [
       "  0%|          | 0/3089 [00:00<?, ?it/s]"
      ]
     },
     "metadata": {},
     "output_type": "display_data"
    }
   ],
   "source": [
    "for i in tqdm(final_list):\n",
    "    link = i\n",
    "    unique_id = i[-5:]\n",
    "    a=''\n",
    "    r = requests.get(link, headers=headers)\n",
    "    soup = BeautifulSoup(r.content, 'html.parser')\n",
    "    if soup.find('div',class_='h4 UGhAL2CE') is not None:\n",
    "        x = soup.find('div',class_='h4 UGhAL2CE').text\n",
    "        if ('Data Analyst' in x) | ('Data Scientist' in x) | ('Data Engineer' in x): \n",
    "            try:\n",
    "                job_title = soup.find('div',class_='h4 UGhAL2CE').text\n",
    "            except:\n",
    "                job_title = np.nan\n",
    "            try:\n",
    "                company = soup.find('a',class_='__8_RJM1pE').text\n",
    "            except:\n",
    "                company = np.nan\n",
    "            try:\n",
    "                location = soup.findAll('a',class_='V_oVSppD main-body-text')[0].text\n",
    "            except:\n",
    "                location = np.nan\n",
    "            try:\n",
    "                job_occupation = soup.findAll('a',class_='V_oVSppD main-body-text')[3].text\n",
    "            except:\n",
    "                job_occupation = np.nan\n",
    "            try:\n",
    "                level = soup.findAll('a',class_='V_oVSppD main-body-text')[1].text\n",
    "            except:\n",
    "                level = np.nan\n",
    "            try:\n",
    "                job_type = soup.findAll('a',class_='V_oVSppD main-body-text')[2].text\n",
    "            except:\n",
    "                job_type = np.nan\n",
    "            try:\n",
    "                result = soup.findAll('div',class_='__2DY4wJ3z hi8OBmAZ')\n",
    "                for i in result:\n",
    "                    a= i.get_text(strip=True,separator=' ')\n",
    "                    a = a.replace('\\u202f','').replace('\\xa0','').replace('/','')\n",
    "            except:\n",
    "                content = np.nan\n",
    "            temp = pd.DataFrame([{\n",
    "                    'job_id' : unique_id,\n",
    "                    'job_title' : job_title,\n",
    "                    'company' : company,\n",
    "                    'location': location,\n",
    "                    'job_occupation' : job_occupation,\n",
    "                    'level' : level,\n",
    "                    'job_type' : job_type,\n",
    "                    'content' : a,\n",
    "                    'date_scraped' : datetime.now().strftime(\"%Y-%m-%d %H:%M\")\n",
    "                }])\n",
    "            df2 = pd.concat([df2, temp], ignore_index=True)"
   ]
  },
  {
   "cell_type": "code",
   "execution_count": 29,
   "id": "7ce81ca2",
   "metadata": {},
   "outputs": [
    {
     "data": {
      "text/html": [
       "<div>\n",
       "<style scoped>\n",
       "    .dataframe tbody tr th:only-of-type {\n",
       "        vertical-align: middle;\n",
       "    }\n",
       "\n",
       "    .dataframe tbody tr th {\n",
       "        vertical-align: top;\n",
       "    }\n",
       "\n",
       "    .dataframe thead th {\n",
       "        text-align: right;\n",
       "    }\n",
       "</style>\n",
       "<table border=\"1\" class=\"dataframe\">\n",
       "  <thead>\n",
       "    <tr style=\"text-align: right;\">\n",
       "      <th></th>\n",
       "      <th>job_id</th>\n",
       "      <th>job_title</th>\n",
       "      <th>company</th>\n",
       "      <th>location</th>\n",
       "      <th>job_occupation</th>\n",
       "      <th>level</th>\n",
       "      <th>job_type</th>\n",
       "      <th>content</th>\n",
       "      <th>date_scraped</th>\n",
       "    </tr>\n",
       "  </thead>\n",
       "  <tbody>\n",
       "    <tr>\n",
       "      <th>0</th>\n",
       "      <td>41404</td>\n",
       "      <td>Data Engineer</td>\n",
       "      <td>DEMO AEBE\\t</td>\n",
       "      <td>Krioneri</td>\n",
       "      <td>IT</td>\n",
       "      <td>Mid level</td>\n",
       "      <td>Full-time</td>\n",
       "      <td>Description At Demo SA, one of the world’s lar...</td>\n",
       "      <td>2023-01-08 13:31</td>\n",
       "    </tr>\n",
       "    <tr>\n",
       "      <th>1</th>\n",
       "      <td>40408</td>\n",
       "      <td>Data Engineer - Spark Developer</td>\n",
       "      <td>EUROPEAN DYNAMICS</td>\n",
       "      <td>Marousi</td>\n",
       "      <td>IT</td>\n",
       "      <td>Mid level</td>\n",
       "      <td>Full-time</td>\n",
       "      <td>We currently have a vacancy position for a Dat...</td>\n",
       "      <td>2023-01-08 13:38</td>\n",
       "    </tr>\n",
       "    <tr>\n",
       "      <th>2</th>\n",
       "      <td>40269</td>\n",
       "      <td>Senior Data Engineer</td>\n",
       "      <td>Κωτσόβολος - Dixons South East Europe</td>\n",
       "      <td>Athina</td>\n",
       "      <td>IT</td>\n",
       "      <td>Senior</td>\n",
       "      <td>Full-time/Part-time</td>\n",
       "      <td>ΠΕΡΙΓΡΑΦΗ ΘΕΣΗΣ ΕΡΓΑΣΙΑΣ In Kotsovolos, a memb...</td>\n",
       "      <td>2023-01-08 13:39</td>\n",
       "    </tr>\n",
       "    <tr>\n",
       "      <th>3</th>\n",
       "      <td>40268</td>\n",
       "      <td>Data Engineer</td>\n",
       "      <td>Κωτσόβολος - Dixons South East Europe</td>\n",
       "      <td>Athina</td>\n",
       "      <td>IT</td>\n",
       "      <td>Mid level</td>\n",
       "      <td>Full-time/Part-time</td>\n",
       "      <td>ΠΕΡΙΓΡΑΦΗ ΘΕΣΗΣ ΕΡΓΑΣΙΑΣ In Kotsovolos, a memb...</td>\n",
       "      <td>2023-01-08 13:39</td>\n",
       "    </tr>\n",
       "    <tr>\n",
       "      <th>4</th>\n",
       "      <td>40260</td>\n",
       "      <td>Senior Mobile Data Engineer</td>\n",
       "      <td>Volton Ελληνική Ενεργειακή Α.Ε.</td>\n",
       "      <td>Metamorfosi</td>\n",
       "      <td>Engineering</td>\n",
       "      <td>Senior</td>\n",
       "      <td>Full-time</td>\n",
       "      <td>Volton Hellenic Energy SA is a Greek company t...</td>\n",
       "      <td>2023-01-08 13:39</td>\n",
       "    </tr>\n",
       "    <tr>\n",
       "      <th>5</th>\n",
       "      <td>40270</td>\n",
       "      <td>Senior Data Scientist</td>\n",
       "      <td>Κωτσόβολος - Dixons South East Europe</td>\n",
       "      <td>Athina</td>\n",
       "      <td>IT</td>\n",
       "      <td>Senior</td>\n",
       "      <td>Full-time/Part-time</td>\n",
       "      <td>ΠΕΡΙΓΡΑΦΗ ΘΕΣΗΣ ΕΡΓΑΣΙΑΣ In Kotsovolos, a memb...</td>\n",
       "      <td>2023-01-08 13:39</td>\n",
       "    </tr>\n",
       "    <tr>\n",
       "      <th>6</th>\n",
       "      <td>39517</td>\n",
       "      <td>Senior BI &amp; Data Engineer</td>\n",
       "      <td>WATT AND VOLT A.E.</td>\n",
       "      <td>Marousi</td>\n",
       "      <td>IT</td>\n",
       "      <td>Senior</td>\n",
       "      <td>Full-time</td>\n",
       "      <td>Description WATT+VOLT is one of the largest en...</td>\n",
       "      <td>2023-01-08 13:45</td>\n",
       "    </tr>\n",
       "    <tr>\n",
       "      <th>7</th>\n",
       "      <td>38344</td>\n",
       "      <td>Data Analyst</td>\n",
       "      <td>Mellon Technologies</td>\n",
       "      <td>Pireas</td>\n",
       "      <td>IT</td>\n",
       "      <td>Mid level</td>\n",
       "      <td>Full-time</td>\n",
       "      <td>Description Responsible for the quality and co...</td>\n",
       "      <td>2023-01-08 13:53</td>\n",
       "    </tr>\n",
       "  </tbody>\n",
       "</table>\n",
       "</div>"
      ],
      "text/plain": [
       "  job_id                        job_title  \\\n",
       "0  41404                    Data Engineer   \n",
       "1  40408  Data Engineer - Spark Developer   \n",
       "2  40269             Senior Data Engineer   \n",
       "3  40268                    Data Engineer   \n",
       "4  40260      Senior Mobile Data Engineer   \n",
       "5  40270            Senior Data Scientist   \n",
       "6  39517        Senior BI & Data Engineer   \n",
       "7  38344                     Data Analyst   \n",
       "\n",
       "                                 company     location job_occupation  \\\n",
       "0                            DEMO AEBE\\t     Krioneri             IT   \n",
       "1                      EUROPEAN DYNAMICS      Marousi             IT   \n",
       "2  Κωτσόβολος - Dixons South East Europe       Athina             IT   \n",
       "3  Κωτσόβολος - Dixons South East Europe       Athina             IT   \n",
       "4        Volton Ελληνική Ενεργειακή Α.Ε.  Metamorfosi    Engineering   \n",
       "5  Κωτσόβολος - Dixons South East Europe       Athina             IT   \n",
       "6                     WATT AND VOLT A.E.      Marousi             IT   \n",
       "7                    Mellon Technologies       Pireas             IT   \n",
       "\n",
       "       level             job_type  \\\n",
       "0  Mid level            Full-time   \n",
       "1  Mid level            Full-time   \n",
       "2     Senior  Full-time/Part-time   \n",
       "3  Mid level  Full-time/Part-time   \n",
       "4     Senior            Full-time   \n",
       "5     Senior  Full-time/Part-time   \n",
       "6     Senior            Full-time   \n",
       "7  Mid level            Full-time   \n",
       "\n",
       "                                             content      date_scraped  \n",
       "0  Description At Demo SA, one of the world’s lar...  2023-01-08 13:31  \n",
       "1  We currently have a vacancy position for a Dat...  2023-01-08 13:38  \n",
       "2  ΠΕΡΙΓΡΑΦΗ ΘΕΣΗΣ ΕΡΓΑΣΙΑΣ In Kotsovolos, a memb...  2023-01-08 13:39  \n",
       "3  ΠΕΡΙΓΡΑΦΗ ΘΕΣΗΣ ΕΡΓΑΣΙΑΣ In Kotsovolos, a memb...  2023-01-08 13:39  \n",
       "4  Volton Hellenic Energy SA is a Greek company t...  2023-01-08 13:39  \n",
       "5  ΠΕΡΙΓΡΑΦΗ ΘΕΣΗΣ ΕΡΓΑΣΙΑΣ In Kotsovolos, a memb...  2023-01-08 13:39  \n",
       "6  Description WATT+VOLT is one of the largest en...  2023-01-08 13:45  \n",
       "7  Description Responsible for the quality and co...  2023-01-08 13:53  "
      ]
     },
     "execution_count": 29,
     "metadata": {},
     "output_type": "execute_result"
    }
   ],
   "source": [
    "df2"
   ]
  },
  {
   "cell_type": "code",
   "execution_count": 33,
   "id": "5ca12c97",
   "metadata": {},
   "outputs": [],
   "source": [
    "name1 = 'content' + '_' + str(datetime.now().strftime(\"%d-%m-%Y\") + '.csv')"
   ]
  },
  {
   "cell_type": "code",
   "execution_count": 34,
   "id": "0f2bee1e",
   "metadata": {},
   "outputs": [],
   "source": [
    "df2.to_csv(name1, index=False)"
   ]
  },
  {
   "cell_type": "markdown",
   "id": "f876eeab",
   "metadata": {},
   "source": [
    "## Connect to postgres"
   ]
  },
  {
   "cell_type": "code",
   "execution_count": 35,
   "id": "1ebff3ee",
   "metadata": {},
   "outputs": [],
   "source": [
    "conn = pg2.connect(database='Jobs',user='postgres',password='new_password')"
   ]
  },
  {
   "cell_type": "code",
   "execution_count": 36,
   "id": "c7654c0f",
   "metadata": {},
   "outputs": [],
   "source": [
    "cur = conn.cursor()"
   ]
  },
  {
   "cell_type": "code",
   "execution_count": 37,
   "id": "2aab6bcf",
   "metadata": {},
   "outputs": [],
   "source": [
    "def create_table(cur):\n",
    "    create_table_command = (\"\"\" \n",
    "    CREATE TABLE IF NOT EXISTS jobs (\n",
    "    job_id int primary key NOT NULL,\n",
    "   job_title text NOT NULL,\n",
    "   company text,\n",
    "   location text,\n",
    "   job_occupation text,\n",
    "   level text,\n",
    "   job_type text,\n",
    "   content text,\n",
    "   date_scraped timestamp NOT NULL\n",
    "    );\n",
    "    \"\"\")\n",
    "    \n",
    "    cur.execute(create_table_command)"
   ]
  },
  {
   "cell_type": "code",
   "execution_count": 38,
   "id": "9522428f",
   "metadata": {},
   "outputs": [],
   "source": [
    "create_table(cur)"
   ]
  },
  {
   "cell_type": "code",
   "execution_count": 39,
   "id": "3d9dc7d2",
   "metadata": {},
   "outputs": [],
   "source": [
    "def check_if_job_exists(cur,job_id):\n",
    "    query = (\"\"\" select job_id from jobs where job_id = %s \"\"\")\n",
    "    cur.execute(query,(job_id,))\n",
    "    \n",
    "    return cur.fetchone() is not None"
   ]
  },
  {
   "cell_type": "code",
   "execution_count": 40,
   "id": "3709f97c",
   "metadata": {},
   "outputs": [],
   "source": [
    "def update_db(cur, df):\n",
    "\n",
    "    l = []\n",
    "    for row in df.iterrows():\n",
    "        if check_if_job_exists(cur, row[1][0]):\n",
    "            pass\n",
    "        else:\n",
    "            l.append(row[1][0])\n",
    "\n",
    "    return l"
   ]
  },
  {
   "cell_type": "markdown",
   "id": "0c7b83fe",
   "metadata": {},
   "source": [
    "# Create dataframe with new jobs"
   ]
  },
  {
   "cell_type": "code",
   "execution_count": 41,
   "id": "8ebf4988",
   "metadata": {},
   "outputs": [],
   "source": [
    "new_jobs = update_db(cur,df2)"
   ]
  },
  {
   "cell_type": "code",
   "execution_count": 42,
   "id": "a86a7a6f",
   "metadata": {},
   "outputs": [],
   "source": [
    "new_jobs = df2[df2['job_id'].apply(lambda x : x in new_jobs)]"
   ]
  },
  {
   "cell_type": "code",
   "execution_count": 43,
   "id": "75a0112c",
   "metadata": {},
   "outputs": [
    {
     "data": {
      "text/html": [
       "<div>\n",
       "<style scoped>\n",
       "    .dataframe tbody tr th:only-of-type {\n",
       "        vertical-align: middle;\n",
       "    }\n",
       "\n",
       "    .dataframe tbody tr th {\n",
       "        vertical-align: top;\n",
       "    }\n",
       "\n",
       "    .dataframe thead th {\n",
       "        text-align: right;\n",
       "    }\n",
       "</style>\n",
       "<table border=\"1\" class=\"dataframe\">\n",
       "  <thead>\n",
       "    <tr style=\"text-align: right;\">\n",
       "      <th></th>\n",
       "      <th>job_id</th>\n",
       "      <th>job_title</th>\n",
       "      <th>company</th>\n",
       "      <th>location</th>\n",
       "      <th>job_occupation</th>\n",
       "      <th>level</th>\n",
       "      <th>job_type</th>\n",
       "      <th>content</th>\n",
       "      <th>date_scraped</th>\n",
       "    </tr>\n",
       "  </thead>\n",
       "  <tbody>\n",
       "  </tbody>\n",
       "</table>\n",
       "</div>"
      ],
      "text/plain": [
       "Empty DataFrame\n",
       "Columns: [job_id, job_title, company, location, job_occupation, level, job_type, content, date_scraped]\n",
       "Index: []"
      ]
     },
     "execution_count": 43,
     "metadata": {},
     "output_type": "execute_result"
    }
   ],
   "source": [
    "new_jobs"
   ]
  },
  {
   "cell_type": "markdown",
   "id": "d1dea587",
   "metadata": {},
   "source": [
    "## Push new jobs to postgress"
   ]
  },
  {
   "cell_type": "code",
   "execution_count": 44,
   "id": "8a7206dc",
   "metadata": {},
   "outputs": [],
   "source": [
    "def insert_into_table(cur,job_id, job_title, company, location, job_occupation, level,job_type, content, date_scraped):\n",
    "    insert_new_jobs = (\n",
    "        \"\"\" INSERT INTO jobs (job_id, job_title, company, location, job_occupation, level,\n",
    "           job_type, content, date_scraped)\n",
    "            VALUES(%s,%s,%s,%s,%s,%s,%s,%s,%s);\"\"\")\n",
    "\n",
    "    job_to_insert = (job_id, job_title, company, location, job_occupation, level,\n",
    "                     job_type, content, date_scraped)\n",
    "\n",
    "    cur.execute(insert_new_jobs,job_to_insert)"
   ]
  },
  {
   "cell_type": "code",
   "execution_count": 45,
   "id": "6b871be7",
   "metadata": {},
   "outputs": [],
   "source": [
    "def push_from_df_to_db(cur, df):\n",
    "    for i, row in df.iterrows():\n",
    "        insert_into_table(cur, row['job_id'], row['job_title'], row['company'],\n",
    "                          row['location'], row['job_occupation'], row['level'],\n",
    "                          row['job_type'], row['content'], row['date_scraped'])"
   ]
  },
  {
   "cell_type": "code",
   "execution_count": 46,
   "id": "e8434d57",
   "metadata": {},
   "outputs": [],
   "source": [
    "push_from_df_to_db(cur, new_jobs)"
   ]
  },
  {
   "cell_type": "code",
   "execution_count": 47,
   "id": "69f626bb",
   "metadata": {},
   "outputs": [],
   "source": [
    "conn.commit()"
   ]
  },
  {
   "cell_type": "code",
   "execution_count": 48,
   "id": "dbfc4b2c",
   "metadata": {},
   "outputs": [],
   "source": [
    "conn.close()"
   ]
  },
  {
   "cell_type": "markdown",
   "id": "ea88a8d7",
   "metadata": {},
   "source": [
    "# Fetch jobs table and save to a df"
   ]
  },
  {
   "cell_type": "code",
   "execution_count": 330,
   "id": "cbaa3d11",
   "metadata": {},
   "outputs": [],
   "source": [
    "conn = pg2.connect(database='Jobs', user='postgres', password='new_password')\n",
    "\n",
    "with conn:\n",
    "\n",
    "    cur = conn.cursor()\n",
    "    cur.execute(\"SELECT * FROM jobs\")\n",
    "\n",
    "    rows = cur.fetchall()\n",
    "\n",
    "df = pd.DataFrame(rows).rename(\n",
    "    columns={\n",
    "        0: 'job_id',\n",
    "        1: 'job_title',\n",
    "        2: 'company',\n",
    "        3: 'location',\n",
    "        4: 'job_occupation',\n",
    "        5: 'level',\n",
    "        6: 'job_type',\n",
    "        7: 'content',\n",
    "        8: 'date_scraped'\n",
    "    })\n",
    "\n",
    "conn.close()"
   ]
  },
  {
   "cell_type": "code",
   "execution_count": 331,
   "id": "fa6bf05c",
   "metadata": {},
   "outputs": [
    {
     "data": {
      "text/html": [
       "<div>\n",
       "<style scoped>\n",
       "    .dataframe tbody tr th:only-of-type {\n",
       "        vertical-align: middle;\n",
       "    }\n",
       "\n",
       "    .dataframe tbody tr th {\n",
       "        vertical-align: top;\n",
       "    }\n",
       "\n",
       "    .dataframe thead th {\n",
       "        text-align: right;\n",
       "    }\n",
       "</style>\n",
       "<table border=\"1\" class=\"dataframe\">\n",
       "  <thead>\n",
       "    <tr style=\"text-align: right;\">\n",
       "      <th></th>\n",
       "      <th>job_id</th>\n",
       "      <th>job_title</th>\n",
       "      <th>company</th>\n",
       "      <th>location</th>\n",
       "      <th>job_occupation</th>\n",
       "      <th>level</th>\n",
       "      <th>job_type</th>\n",
       "      <th>content</th>\n",
       "      <th>date_scraped</th>\n",
       "    </tr>\n",
       "  </thead>\n",
       "  <tbody>\n",
       "    <tr>\n",
       "      <th>0</th>\n",
       "      <td>38344</td>\n",
       "      <td>Data Analyst</td>\n",
       "      <td>Mellon Technologies</td>\n",
       "      <td>Pireas</td>\n",
       "      <td>IT</td>\n",
       "      <td>Mid level</td>\n",
       "      <td>Full-time</td>\n",
       "      <td>Description Responsible for the quality and co...</td>\n",
       "      <td>2022-12-17 01:39:00</td>\n",
       "    </tr>\n",
       "    <tr>\n",
       "      <th>1</th>\n",
       "      <td>37348</td>\n",
       "      <td>Data Engineer - Patras</td>\n",
       "      <td>Ernst and Young</td>\n",
       "      <td>Patras</td>\n",
       "      <td>IT</td>\n",
       "      <td>Mid level</td>\n",
       "      <td>Full-time</td>\n",
       "      <td>Requisition ID: 146677 At EY, you’ll have the ...</td>\n",
       "      <td>2022-12-17 01:47:00</td>\n",
       "    </tr>\n",
       "    <tr>\n",
       "      <th>2</th>\n",
       "      <td>37357</td>\n",
       "      <td>Junior Data Engineer</td>\n",
       "      <td>Ernst and Young</td>\n",
       "      <td>Athina</td>\n",
       "      <td>IT</td>\n",
       "      <td>Mid level</td>\n",
       "      <td>Full-time</td>\n",
       "      <td>Requisition ID: 127061 Junior Data Engineer At...</td>\n",
       "      <td>2022-12-17 01:47:00</td>\n",
       "    </tr>\n",
       "    <tr>\n",
       "      <th>3</th>\n",
       "      <td>37349</td>\n",
       "      <td>Data &amp; Analytics Manager - Data Engineering</td>\n",
       "      <td>Ernst and Young</td>\n",
       "      <td>Athina</td>\n",
       "      <td>IT</td>\n",
       "      <td>Senior</td>\n",
       "      <td>Full-time</td>\n",
       "      <td>Requisition ID: 814902 At EY, you’ll have the ...</td>\n",
       "      <td>2022-12-17 01:47:00</td>\n",
       "    </tr>\n",
       "    <tr>\n",
       "      <th>4</th>\n",
       "      <td>37345</td>\n",
       "      <td>Data Scientist - Patras</td>\n",
       "      <td>Ernst and Young</td>\n",
       "      <td>Patras</td>\n",
       "      <td>IT</td>\n",
       "      <td>Mid level</td>\n",
       "      <td>Full-time</td>\n",
       "      <td>Requisition ID: 147180 At EY, you’ll have the ...</td>\n",
       "      <td>2022-12-17 01:47:00</td>\n",
       "    </tr>\n",
       "  </tbody>\n",
       "</table>\n",
       "</div>"
      ],
      "text/plain": [
       "   job_id                                    job_title              company  \\\n",
       "0   38344                                 Data Analyst  Mellon Technologies   \n",
       "1   37348                       Data Engineer - Patras      Ernst and Young   \n",
       "2   37357                         Junior Data Engineer      Ernst and Young   \n",
       "3   37349  Data & Analytics Manager - Data Engineering      Ernst and Young   \n",
       "4   37345                      Data Scientist - Patras      Ernst and Young   \n",
       "\n",
       "  location job_occupation      level   job_type  \\\n",
       "0   Pireas             IT  Mid level  Full-time   \n",
       "1   Patras             IT  Mid level  Full-time   \n",
       "2   Athina             IT  Mid level  Full-time   \n",
       "3   Athina             IT     Senior  Full-time   \n",
       "4   Patras             IT  Mid level  Full-time   \n",
       "\n",
       "                                             content        date_scraped  \n",
       "0  Description Responsible for the quality and co... 2022-12-17 01:39:00  \n",
       "1  Requisition ID: 146677 At EY, you’ll have the ... 2022-12-17 01:47:00  \n",
       "2  Requisition ID: 127061 Junior Data Engineer At... 2022-12-17 01:47:00  \n",
       "3  Requisition ID: 814902 At EY, you’ll have the ... 2022-12-17 01:47:00  \n",
       "4  Requisition ID: 147180 At EY, you’ll have the ... 2022-12-17 01:47:00  "
      ]
     },
     "execution_count": 331,
     "metadata": {},
     "output_type": "execute_result"
    }
   ],
   "source": [
    "df.head()"
   ]
  },
  {
   "cell_type": "markdown",
   "id": "4bd7700c",
   "metadata": {},
   "source": [
    "## Cleaning company names"
   ]
  },
  {
   "cell_type": "code",
   "execution_count": 332,
   "id": "861753df",
   "metadata": {},
   "outputs": [],
   "source": [
    "df['company'] = df['company'].apply(lambda x : x.replace('\\t','').strip())"
   ]
  },
  {
   "cell_type": "markdown",
   "id": "1d3a94e6",
   "metadata": {},
   "source": [
    "## Categorizing jobs"
   ]
  },
  {
   "cell_type": "code",
   "execution_count": 333,
   "id": "a69ecdb0",
   "metadata": {},
   "outputs": [],
   "source": [
    "df['categories'] = df['job_title'].apply(lambda x: 'Analytics' if 'Analyst' in x else\n",
    "                      ('Engineering' if 'Engineer' in x else 'Science'))"
   ]
  },
  {
   "cell_type": "markdown",
   "id": "ea1200c1",
   "metadata": {},
   "source": [
    "## Cleaning job_title"
   ]
  },
  {
   "cell_type": "code",
   "execution_count": 334,
   "id": "ccd75d52",
   "metadata": {},
   "outputs": [],
   "source": [
    "# removing spaces\n",
    "df['job_title'] = df['job_title'].apply(lambda x : x.strip())"
   ]
  },
  {
   "cell_type": "code",
   "execution_count": 335,
   "id": "7567497c",
   "metadata": {},
   "outputs": [],
   "source": [
    "# removing locations from job titles\n",
    "# it assumes that always all locations will be preceded by ' - '\n",
    "def clean_city_from_job(job,city):\n",
    "    titles = []\n",
    "    for i,j in zip(job,city):\n",
    "        if j in i:\n",
    "            title = i[:-(3+len(j))]\n",
    "            titles.append(title)\n",
    "        else:\n",
    "            title = i\n",
    "            titles.append(title)\n",
    "    return pd.DataFrame(titles).rename(columns={0:'job_title'})"
   ]
  },
  {
   "cell_type": "code",
   "execution_count": 336,
   "id": "e687c5ee",
   "metadata": {},
   "outputs": [],
   "source": [
    "df = clean_city_from_job(df['job_title'], df['location']).merge(\n",
    "    df, left_index=True,\n",
    "    right_index=True).drop('job_title_y',\n",
    "                           axis=1).rename(columns={'job_title_x': 'job_title'})"
   ]
  },
  {
   "cell_type": "code",
   "execution_count": 337,
   "id": "04bc17db",
   "metadata": {},
   "outputs": [
    {
     "data": {
      "text/html": [
       "<div>\n",
       "<style scoped>\n",
       "    .dataframe tbody tr th:only-of-type {\n",
       "        vertical-align: middle;\n",
       "    }\n",
       "\n",
       "    .dataframe tbody tr th {\n",
       "        vertical-align: top;\n",
       "    }\n",
       "\n",
       "    .dataframe thead th {\n",
       "        text-align: right;\n",
       "    }\n",
       "</style>\n",
       "<table border=\"1\" class=\"dataframe\">\n",
       "  <thead>\n",
       "    <tr style=\"text-align: right;\">\n",
       "      <th></th>\n",
       "      <th>job_title</th>\n",
       "      <th>job_id</th>\n",
       "      <th>company</th>\n",
       "      <th>location</th>\n",
       "      <th>job_occupation</th>\n",
       "      <th>level</th>\n",
       "      <th>job_type</th>\n",
       "      <th>content</th>\n",
       "      <th>date_scraped</th>\n",
       "      <th>categories</th>\n",
       "    </tr>\n",
       "  </thead>\n",
       "  <tbody>\n",
       "    <tr>\n",
       "      <th>0</th>\n",
       "      <td>Data Analyst</td>\n",
       "      <td>38344</td>\n",
       "      <td>Mellon Technologies</td>\n",
       "      <td>Pireas</td>\n",
       "      <td>IT</td>\n",
       "      <td>Mid level</td>\n",
       "      <td>Full-time</td>\n",
       "      <td>Description Responsible for the quality and co...</td>\n",
       "      <td>2022-12-17 01:39:00</td>\n",
       "      <td>Analytics</td>\n",
       "    </tr>\n",
       "    <tr>\n",
       "      <th>1</th>\n",
       "      <td>Data Engineer</td>\n",
       "      <td>37348</td>\n",
       "      <td>Ernst and Young</td>\n",
       "      <td>Patras</td>\n",
       "      <td>IT</td>\n",
       "      <td>Mid level</td>\n",
       "      <td>Full-time</td>\n",
       "      <td>Requisition ID: 146677 At EY, you’ll have the ...</td>\n",
       "      <td>2022-12-17 01:47:00</td>\n",
       "      <td>Engineering</td>\n",
       "    </tr>\n",
       "    <tr>\n",
       "      <th>2</th>\n",
       "      <td>Junior Data Engineer</td>\n",
       "      <td>37357</td>\n",
       "      <td>Ernst and Young</td>\n",
       "      <td>Athina</td>\n",
       "      <td>IT</td>\n",
       "      <td>Mid level</td>\n",
       "      <td>Full-time</td>\n",
       "      <td>Requisition ID: 127061 Junior Data Engineer At...</td>\n",
       "      <td>2022-12-17 01:47:00</td>\n",
       "      <td>Engineering</td>\n",
       "    </tr>\n",
       "    <tr>\n",
       "      <th>3</th>\n",
       "      <td>Data &amp; Analytics Manager - Data Engineering</td>\n",
       "      <td>37349</td>\n",
       "      <td>Ernst and Young</td>\n",
       "      <td>Athina</td>\n",
       "      <td>IT</td>\n",
       "      <td>Senior</td>\n",
       "      <td>Full-time</td>\n",
       "      <td>Requisition ID: 814902 At EY, you’ll have the ...</td>\n",
       "      <td>2022-12-17 01:47:00</td>\n",
       "      <td>Engineering</td>\n",
       "    </tr>\n",
       "    <tr>\n",
       "      <th>4</th>\n",
       "      <td>Data Scientist</td>\n",
       "      <td>37345</td>\n",
       "      <td>Ernst and Young</td>\n",
       "      <td>Patras</td>\n",
       "      <td>IT</td>\n",
       "      <td>Mid level</td>\n",
       "      <td>Full-time</td>\n",
       "      <td>Requisition ID: 147180 At EY, you’ll have the ...</td>\n",
       "      <td>2022-12-17 01:47:00</td>\n",
       "      <td>Science</td>\n",
       "    </tr>\n",
       "  </tbody>\n",
       "</table>\n",
       "</div>"
      ],
      "text/plain": [
       "                                     job_title  job_id              company  \\\n",
       "0                                 Data Analyst   38344  Mellon Technologies   \n",
       "1                                Data Engineer   37348      Ernst and Young   \n",
       "2                         Junior Data Engineer   37357      Ernst and Young   \n",
       "3  Data & Analytics Manager - Data Engineering   37349      Ernst and Young   \n",
       "4                               Data Scientist   37345      Ernst and Young   \n",
       "\n",
       "  location job_occupation      level   job_type  \\\n",
       "0   Pireas             IT  Mid level  Full-time   \n",
       "1   Patras             IT  Mid level  Full-time   \n",
       "2   Athina             IT  Mid level  Full-time   \n",
       "3   Athina             IT     Senior  Full-time   \n",
       "4   Patras             IT  Mid level  Full-time   \n",
       "\n",
       "                                             content        date_scraped  \\\n",
       "0  Description Responsible for the quality and co... 2022-12-17 01:39:00   \n",
       "1  Requisition ID: 146677 At EY, you’ll have the ... 2022-12-17 01:47:00   \n",
       "2  Requisition ID: 127061 Junior Data Engineer At... 2022-12-17 01:47:00   \n",
       "3  Requisition ID: 814902 At EY, you’ll have the ... 2022-12-17 01:47:00   \n",
       "4  Requisition ID: 147180 At EY, you’ll have the ... 2022-12-17 01:47:00   \n",
       "\n",
       "    categories  \n",
       "0    Analytics  \n",
       "1  Engineering  \n",
       "2  Engineering  \n",
       "3  Engineering  \n",
       "4      Science  "
      ]
     },
     "execution_count": 337,
     "metadata": {},
     "output_type": "execute_result"
    }
   ],
   "source": [
    "df.head()"
   ]
  },
  {
   "cell_type": "markdown",
   "id": "1db1e3d3",
   "metadata": {},
   "source": [
    "## Cleaning content"
   ]
  },
  {
   "cell_type": "code",
   "execution_count": 338,
   "id": "d72729c7",
   "metadata": {},
   "outputs": [],
   "source": [
    "df['content'] = df['content'].apply(\n",
    "    lambda x: x.replace('Description', '').replace('Company', '').replace(\n",
    "        'ΠΕΡΙΓΡΑΦΗ ΘΕΣΗΣ ΕΡΓΑΣΙΑΣ', '').replace('Job', '').replace(\n",
    "            '’s', '').replace('Purpose', '').strip())"
   ]
  },
  {
   "cell_type": "code",
   "execution_count": 339,
   "id": "f0af03d3",
   "metadata": {},
   "outputs": [],
   "source": [
    "import re"
   ]
  },
  {
   "cell_type": "code",
   "execution_count": 340,
   "id": "c23a176c",
   "metadata": {},
   "outputs": [],
   "source": [
    "df['content'] = df['content'].apply(lambda x : re.sub(r'Requisition ID: \\d+', '', x).strip())"
   ]
  },
  {
   "cell_type": "markdown",
   "id": "c6c7bd89",
   "metadata": {},
   "source": [
    "## Geolocate locations"
   ]
  },
  {
   "cell_type": "code",
   "execution_count": 341,
   "id": "eebfcb0b",
   "metadata": {},
   "outputs": [],
   "source": [
    "from geopy import geocoders\n",
    "import swifter\n",
    "gn = geocoders.GeoNames('asterios')"
   ]
  },
  {
   "cell_type": "code",
   "execution_count": 342,
   "id": "5fa4ad59",
   "metadata": {},
   "outputs": [
    {
     "data": {
      "application/vnd.jupyter.widget-view+json": {
       "model_id": "58365f47a317470297fcbad06c878b67",
       "version_major": 2,
       "version_minor": 0
      },
      "text/plain": [
       "Pandas Apply:   0%|          | 0/27 [00:00<?, ?it/s]"
      ]
     },
     "metadata": {},
     "output_type": "display_data"
    }
   ],
   "source": [
    "df['geo'] = df['location'].swifter.apply(lambda x : gn.geocode(x)).apply(lambda loc: tuple(loc.point) if loc else None)"
   ]
  },
  {
   "cell_type": "code",
   "execution_count": 343,
   "id": "b5b4c8f4",
   "metadata": {},
   "outputs": [],
   "source": [
    "df[['latitude', 'longitude', 'altitude']] = pd.DataFrame(df['geo'].tolist(), index=df.index)"
   ]
  },
  {
   "cell_type": "code",
   "execution_count": 344,
   "id": "8c5e48d6",
   "metadata": {},
   "outputs": [
    {
     "data": {
      "text/html": [
       "<div>\n",
       "<style scoped>\n",
       "    .dataframe tbody tr th:only-of-type {\n",
       "        vertical-align: middle;\n",
       "    }\n",
       "\n",
       "    .dataframe tbody tr th {\n",
       "        vertical-align: top;\n",
       "    }\n",
       "\n",
       "    .dataframe thead th {\n",
       "        text-align: right;\n",
       "    }\n",
       "</style>\n",
       "<table border=\"1\" class=\"dataframe\">\n",
       "  <thead>\n",
       "    <tr style=\"text-align: right;\">\n",
       "      <th></th>\n",
       "      <th>job_title</th>\n",
       "      <th>job_id</th>\n",
       "      <th>company</th>\n",
       "      <th>location</th>\n",
       "      <th>job_occupation</th>\n",
       "      <th>level</th>\n",
       "      <th>job_type</th>\n",
       "      <th>content</th>\n",
       "      <th>date_scraped</th>\n",
       "      <th>categories</th>\n",
       "      <th>geo</th>\n",
       "      <th>latitude</th>\n",
       "      <th>longitude</th>\n",
       "      <th>altitude</th>\n",
       "    </tr>\n",
       "  </thead>\n",
       "  <tbody>\n",
       "    <tr>\n",
       "      <th>0</th>\n",
       "      <td>Data Analyst</td>\n",
       "      <td>38344</td>\n",
       "      <td>Mellon Technologies</td>\n",
       "      <td>Pireas</td>\n",
       "      <td>IT</td>\n",
       "      <td>Mid level</td>\n",
       "      <td>Full-time</td>\n",
       "      <td>Responsible for the quality and completeness o...</td>\n",
       "      <td>2022-12-17 01:39:00</td>\n",
       "      <td>Analytics</td>\n",
       "      <td>(37.94203, 23.64619, 0.0)</td>\n",
       "      <td>37.94203</td>\n",
       "      <td>23.64619</td>\n",
       "      <td>0.0</td>\n",
       "    </tr>\n",
       "    <tr>\n",
       "      <th>1</th>\n",
       "      <td>Data Engineer</td>\n",
       "      <td>37348</td>\n",
       "      <td>Ernst and Young</td>\n",
       "      <td>Patras</td>\n",
       "      <td>IT</td>\n",
       "      <td>Mid level</td>\n",
       "      <td>Full-time</td>\n",
       "      <td>At EY, you’ll have the chance to build a caree...</td>\n",
       "      <td>2022-12-17 01:47:00</td>\n",
       "      <td>Engineering</td>\n",
       "      <td>(38.24444, 21.73444, 0.0)</td>\n",
       "      <td>38.24444</td>\n",
       "      <td>21.73444</td>\n",
       "      <td>0.0</td>\n",
       "    </tr>\n",
       "  </tbody>\n",
       "</table>\n",
       "</div>"
      ],
      "text/plain": [
       "       job_title  job_id              company location job_occupation  \\\n",
       "0   Data Analyst   38344  Mellon Technologies   Pireas             IT   \n",
       "1  Data Engineer   37348      Ernst and Young   Patras             IT   \n",
       "\n",
       "       level   job_type                                            content  \\\n",
       "0  Mid level  Full-time  Responsible for the quality and completeness o...   \n",
       "1  Mid level  Full-time  At EY, you’ll have the chance to build a caree...   \n",
       "\n",
       "         date_scraped   categories                        geo  latitude  \\\n",
       "0 2022-12-17 01:39:00    Analytics  (37.94203, 23.64619, 0.0)  37.94203   \n",
       "1 2022-12-17 01:47:00  Engineering  (38.24444, 21.73444, 0.0)  38.24444   \n",
       "\n",
       "   longitude  altitude  \n",
       "0   23.64619       0.0  \n",
       "1   21.73444       0.0  "
      ]
     },
     "execution_count": 344,
     "metadata": {},
     "output_type": "execute_result"
    }
   ],
   "source": [
    "df.head(2)"
   ]
  },
  {
   "cell_type": "markdown",
   "id": "86ce115f",
   "metadata": {},
   "source": [
    "### At this point we are done with the cleaning next up is droping unwanted columns and exporting  the csv for the main app"
   ]
  },
  {
   "cell_type": "code",
   "execution_count": 346,
   "id": "56a7eb92",
   "metadata": {},
   "outputs": [],
   "source": [
    "df.drop(['job_id','job_occupation','date_scraped','geo','altitude'],axis=1,inplace=True)"
   ]
  },
  {
   "cell_type": "code",
   "execution_count": 348,
   "id": "9670775c",
   "metadata": {},
   "outputs": [],
   "source": [
    "df.to_csv('job_board.csv',index=False)"
   ]
  }
 ],
 "metadata": {
  "kernelspec": {
   "display_name": "Python 3 (ipykernel)",
   "language": "python",
   "name": "python3"
  },
  "language_info": {
   "codemirror_mode": {
    "name": "ipython",
    "version": 3
   },
   "file_extension": ".py",
   "mimetype": "text/x-python",
   "name": "python",
   "nbconvert_exporter": "python",
   "pygments_lexer": "ipython3",
   "version": "3.8.10"
  }
 },
 "nbformat": 4,
 "nbformat_minor": 5
}
