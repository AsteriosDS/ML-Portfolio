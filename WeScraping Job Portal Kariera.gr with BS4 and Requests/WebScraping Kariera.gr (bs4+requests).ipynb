{
 "cells": [
  {
   "cell_type": "code",
   "execution_count": 1,
   "id": "b4403ec2",
   "metadata": {},
   "outputs": [],
   "source": [
    "import requests\n",
    "from bs4 import BeautifulSoup\n",
    "from tqdm.notebook import tqdm\n",
    "import pandas as pd\n",
    "from datetime import datetime\n",
    "import numpy as np\n",
    "from requests_html import HTMLSession"
   ]
  },
  {
   "cell_type": "code",
   "execution_count": 2,
   "id": "fc487547",
   "metadata": {},
   "outputs": [],
   "source": [
    "main_link = 'https://www.kariera.gr/en/jobs?title=&page=0&limit=20'"
   ]
  },
  {
   "cell_type": "code",
   "execution_count": 3,
   "id": "e87b3d5d",
   "metadata": {},
   "outputs": [
    {
     "data": {
      "text/plain": [
       "<Response [200]>"
      ]
     },
     "execution_count": 3,
     "metadata": {},
     "output_type": "execute_result"
    }
   ],
   "source": [
    "main_link = 'https://www.kariera.gr/en/jobs?title=&page=0&limit=20'\n",
    "headers = {'User-agent':'Mozilla/5.0 (Windows NT 6.1; Win64; x64; rv:47.0) Gecko/20100101 Firefox/47.0'}\n",
    "r = requests.get(main_link, headers=headers)\n",
    "r"
   ]
  },
  {
   "cell_type": "markdown",
   "id": "ae2992d6",
   "metadata": {},
   "source": [
    "## Main Idea\n",
    "### scrape all main_link + sub_links where sub_links=data%20analyst,data%20scientist,data%20engineer"
   ]
  },
  {
   "cell_type": "markdown",
   "id": "a7127d47",
   "metadata": {},
   "source": [
    "### Company, Job title, Content, Location and job occupation."
   ]
  },
  {
   "cell_type": "code",
   "execution_count": 4,
   "id": "061921b6",
   "metadata": {},
   "outputs": [],
   "source": [
    "soup = BeautifulSoup(r.content, 'html.parser')"
   ]
  },
  {
   "cell_type": "code",
   "execution_count": 5,
   "id": "4130ee50",
   "metadata": {},
   "outputs": [],
   "source": [
    "max_page = soup.find('li',class_='ant-pagination-next').previous_sibling.text\n",
    "max_pages = int(max_page)"
   ]
  },
  {
   "cell_type": "code",
   "execution_count": 6,
   "id": "10eff259",
   "metadata": {},
   "outputs": [
    {
     "data": {
      "text/plain": [
       "191"
      ]
     },
     "execution_count": 6,
     "metadata": {},
     "output_type": "execute_result"
    }
   ],
   "source": [
    "max_pages"
   ]
  },
  {
   "cell_type": "markdown",
   "id": "f0538f8e",
   "metadata": {},
   "source": [
    "### working out how to turn pages:"
   ]
  },
  {
   "cell_type": "code",
   "execution_count": 7,
   "id": "6b13b490",
   "metadata": {},
   "outputs": [],
   "source": [
    "main_link = 'https://www.kariera.gr/en/jobs?title=&page=0&limit=20'"
   ]
  },
  {
   "cell_type": "code",
   "execution_count": 8,
   "id": "9556a425",
   "metadata": {},
   "outputs": [
    {
     "data": {
      "text/plain": [
       "'0'"
      ]
     },
     "execution_count": 8,
     "metadata": {},
     "output_type": "execute_result"
    }
   ],
   "source": [
    "main_link.split('&')[-2][-1]"
   ]
  },
  {
   "cell_type": "code",
   "execution_count": 9,
   "id": "dd324dc6",
   "metadata": {},
   "outputs": [],
   "source": [
    "page_link_list=[]\n",
    "for i in range(0,max_pages+1):\n",
    "    page_link_list.append('https://www.kariera.gr/en/jobs?title=&page={}&limit=20'.format(i))"
   ]
  },
  {
   "cell_type": "code",
   "execution_count": 10,
   "id": "ae542bef",
   "metadata": {},
   "outputs": [
    {
     "data": {
      "text/plain": [
       "['https://www.kariera.gr/en/jobs?title=&page=0&limit=20',\n",
       " 'https://www.kariera.gr/en/jobs?title=&page=1&limit=20',\n",
       " 'https://www.kariera.gr/en/jobs?title=&page=2&limit=20',\n",
       " 'https://www.kariera.gr/en/jobs?title=&page=3&limit=20',\n",
       " 'https://www.kariera.gr/en/jobs?title=&page=4&limit=20',\n",
       " 'https://www.kariera.gr/en/jobs?title=&page=5&limit=20',\n",
       " 'https://www.kariera.gr/en/jobs?title=&page=6&limit=20',\n",
       " 'https://www.kariera.gr/en/jobs?title=&page=7&limit=20',\n",
       " 'https://www.kariera.gr/en/jobs?title=&page=8&limit=20',\n",
       " 'https://www.kariera.gr/en/jobs?title=&page=9&limit=20',\n",
       " 'https://www.kariera.gr/en/jobs?title=&page=10&limit=20',\n",
       " 'https://www.kariera.gr/en/jobs?title=&page=11&limit=20',\n",
       " 'https://www.kariera.gr/en/jobs?title=&page=12&limit=20',\n",
       " 'https://www.kariera.gr/en/jobs?title=&page=13&limit=20',\n",
       " 'https://www.kariera.gr/en/jobs?title=&page=14&limit=20',\n",
       " 'https://www.kariera.gr/en/jobs?title=&page=15&limit=20',\n",
       " 'https://www.kariera.gr/en/jobs?title=&page=16&limit=20',\n",
       " 'https://www.kariera.gr/en/jobs?title=&page=17&limit=20',\n",
       " 'https://www.kariera.gr/en/jobs?title=&page=18&limit=20',\n",
       " 'https://www.kariera.gr/en/jobs?title=&page=19&limit=20',\n",
       " 'https://www.kariera.gr/en/jobs?title=&page=20&limit=20',\n",
       " 'https://www.kariera.gr/en/jobs?title=&page=21&limit=20',\n",
       " 'https://www.kariera.gr/en/jobs?title=&page=22&limit=20',\n",
       " 'https://www.kariera.gr/en/jobs?title=&page=23&limit=20',\n",
       " 'https://www.kariera.gr/en/jobs?title=&page=24&limit=20',\n",
       " 'https://www.kariera.gr/en/jobs?title=&page=25&limit=20',\n",
       " 'https://www.kariera.gr/en/jobs?title=&page=26&limit=20',\n",
       " 'https://www.kariera.gr/en/jobs?title=&page=27&limit=20',\n",
       " 'https://www.kariera.gr/en/jobs?title=&page=28&limit=20',\n",
       " 'https://www.kariera.gr/en/jobs?title=&page=29&limit=20',\n",
       " 'https://www.kariera.gr/en/jobs?title=&page=30&limit=20',\n",
       " 'https://www.kariera.gr/en/jobs?title=&page=31&limit=20',\n",
       " 'https://www.kariera.gr/en/jobs?title=&page=32&limit=20',\n",
       " 'https://www.kariera.gr/en/jobs?title=&page=33&limit=20',\n",
       " 'https://www.kariera.gr/en/jobs?title=&page=34&limit=20',\n",
       " 'https://www.kariera.gr/en/jobs?title=&page=35&limit=20',\n",
       " 'https://www.kariera.gr/en/jobs?title=&page=36&limit=20',\n",
       " 'https://www.kariera.gr/en/jobs?title=&page=37&limit=20',\n",
       " 'https://www.kariera.gr/en/jobs?title=&page=38&limit=20',\n",
       " 'https://www.kariera.gr/en/jobs?title=&page=39&limit=20',\n",
       " 'https://www.kariera.gr/en/jobs?title=&page=40&limit=20',\n",
       " 'https://www.kariera.gr/en/jobs?title=&page=41&limit=20',\n",
       " 'https://www.kariera.gr/en/jobs?title=&page=42&limit=20',\n",
       " 'https://www.kariera.gr/en/jobs?title=&page=43&limit=20',\n",
       " 'https://www.kariera.gr/en/jobs?title=&page=44&limit=20',\n",
       " 'https://www.kariera.gr/en/jobs?title=&page=45&limit=20',\n",
       " 'https://www.kariera.gr/en/jobs?title=&page=46&limit=20',\n",
       " 'https://www.kariera.gr/en/jobs?title=&page=47&limit=20',\n",
       " 'https://www.kariera.gr/en/jobs?title=&page=48&limit=20',\n",
       " 'https://www.kariera.gr/en/jobs?title=&page=49&limit=20',\n",
       " 'https://www.kariera.gr/en/jobs?title=&page=50&limit=20',\n",
       " 'https://www.kariera.gr/en/jobs?title=&page=51&limit=20',\n",
       " 'https://www.kariera.gr/en/jobs?title=&page=52&limit=20',\n",
       " 'https://www.kariera.gr/en/jobs?title=&page=53&limit=20',\n",
       " 'https://www.kariera.gr/en/jobs?title=&page=54&limit=20',\n",
       " 'https://www.kariera.gr/en/jobs?title=&page=55&limit=20',\n",
       " 'https://www.kariera.gr/en/jobs?title=&page=56&limit=20',\n",
       " 'https://www.kariera.gr/en/jobs?title=&page=57&limit=20',\n",
       " 'https://www.kariera.gr/en/jobs?title=&page=58&limit=20',\n",
       " 'https://www.kariera.gr/en/jobs?title=&page=59&limit=20',\n",
       " 'https://www.kariera.gr/en/jobs?title=&page=60&limit=20',\n",
       " 'https://www.kariera.gr/en/jobs?title=&page=61&limit=20',\n",
       " 'https://www.kariera.gr/en/jobs?title=&page=62&limit=20',\n",
       " 'https://www.kariera.gr/en/jobs?title=&page=63&limit=20',\n",
       " 'https://www.kariera.gr/en/jobs?title=&page=64&limit=20',\n",
       " 'https://www.kariera.gr/en/jobs?title=&page=65&limit=20',\n",
       " 'https://www.kariera.gr/en/jobs?title=&page=66&limit=20',\n",
       " 'https://www.kariera.gr/en/jobs?title=&page=67&limit=20',\n",
       " 'https://www.kariera.gr/en/jobs?title=&page=68&limit=20',\n",
       " 'https://www.kariera.gr/en/jobs?title=&page=69&limit=20',\n",
       " 'https://www.kariera.gr/en/jobs?title=&page=70&limit=20',\n",
       " 'https://www.kariera.gr/en/jobs?title=&page=71&limit=20',\n",
       " 'https://www.kariera.gr/en/jobs?title=&page=72&limit=20',\n",
       " 'https://www.kariera.gr/en/jobs?title=&page=73&limit=20',\n",
       " 'https://www.kariera.gr/en/jobs?title=&page=74&limit=20',\n",
       " 'https://www.kariera.gr/en/jobs?title=&page=75&limit=20',\n",
       " 'https://www.kariera.gr/en/jobs?title=&page=76&limit=20',\n",
       " 'https://www.kariera.gr/en/jobs?title=&page=77&limit=20',\n",
       " 'https://www.kariera.gr/en/jobs?title=&page=78&limit=20',\n",
       " 'https://www.kariera.gr/en/jobs?title=&page=79&limit=20',\n",
       " 'https://www.kariera.gr/en/jobs?title=&page=80&limit=20',\n",
       " 'https://www.kariera.gr/en/jobs?title=&page=81&limit=20',\n",
       " 'https://www.kariera.gr/en/jobs?title=&page=82&limit=20',\n",
       " 'https://www.kariera.gr/en/jobs?title=&page=83&limit=20',\n",
       " 'https://www.kariera.gr/en/jobs?title=&page=84&limit=20',\n",
       " 'https://www.kariera.gr/en/jobs?title=&page=85&limit=20',\n",
       " 'https://www.kariera.gr/en/jobs?title=&page=86&limit=20',\n",
       " 'https://www.kariera.gr/en/jobs?title=&page=87&limit=20',\n",
       " 'https://www.kariera.gr/en/jobs?title=&page=88&limit=20',\n",
       " 'https://www.kariera.gr/en/jobs?title=&page=89&limit=20',\n",
       " 'https://www.kariera.gr/en/jobs?title=&page=90&limit=20',\n",
       " 'https://www.kariera.gr/en/jobs?title=&page=91&limit=20',\n",
       " 'https://www.kariera.gr/en/jobs?title=&page=92&limit=20',\n",
       " 'https://www.kariera.gr/en/jobs?title=&page=93&limit=20',\n",
       " 'https://www.kariera.gr/en/jobs?title=&page=94&limit=20',\n",
       " 'https://www.kariera.gr/en/jobs?title=&page=95&limit=20',\n",
       " 'https://www.kariera.gr/en/jobs?title=&page=96&limit=20',\n",
       " 'https://www.kariera.gr/en/jobs?title=&page=97&limit=20',\n",
       " 'https://www.kariera.gr/en/jobs?title=&page=98&limit=20',\n",
       " 'https://www.kariera.gr/en/jobs?title=&page=99&limit=20',\n",
       " 'https://www.kariera.gr/en/jobs?title=&page=100&limit=20',\n",
       " 'https://www.kariera.gr/en/jobs?title=&page=101&limit=20',\n",
       " 'https://www.kariera.gr/en/jobs?title=&page=102&limit=20',\n",
       " 'https://www.kariera.gr/en/jobs?title=&page=103&limit=20',\n",
       " 'https://www.kariera.gr/en/jobs?title=&page=104&limit=20',\n",
       " 'https://www.kariera.gr/en/jobs?title=&page=105&limit=20',\n",
       " 'https://www.kariera.gr/en/jobs?title=&page=106&limit=20',\n",
       " 'https://www.kariera.gr/en/jobs?title=&page=107&limit=20',\n",
       " 'https://www.kariera.gr/en/jobs?title=&page=108&limit=20',\n",
       " 'https://www.kariera.gr/en/jobs?title=&page=109&limit=20',\n",
       " 'https://www.kariera.gr/en/jobs?title=&page=110&limit=20',\n",
       " 'https://www.kariera.gr/en/jobs?title=&page=111&limit=20',\n",
       " 'https://www.kariera.gr/en/jobs?title=&page=112&limit=20',\n",
       " 'https://www.kariera.gr/en/jobs?title=&page=113&limit=20',\n",
       " 'https://www.kariera.gr/en/jobs?title=&page=114&limit=20',\n",
       " 'https://www.kariera.gr/en/jobs?title=&page=115&limit=20',\n",
       " 'https://www.kariera.gr/en/jobs?title=&page=116&limit=20',\n",
       " 'https://www.kariera.gr/en/jobs?title=&page=117&limit=20',\n",
       " 'https://www.kariera.gr/en/jobs?title=&page=118&limit=20',\n",
       " 'https://www.kariera.gr/en/jobs?title=&page=119&limit=20',\n",
       " 'https://www.kariera.gr/en/jobs?title=&page=120&limit=20',\n",
       " 'https://www.kariera.gr/en/jobs?title=&page=121&limit=20',\n",
       " 'https://www.kariera.gr/en/jobs?title=&page=122&limit=20',\n",
       " 'https://www.kariera.gr/en/jobs?title=&page=123&limit=20',\n",
       " 'https://www.kariera.gr/en/jobs?title=&page=124&limit=20',\n",
       " 'https://www.kariera.gr/en/jobs?title=&page=125&limit=20',\n",
       " 'https://www.kariera.gr/en/jobs?title=&page=126&limit=20',\n",
       " 'https://www.kariera.gr/en/jobs?title=&page=127&limit=20',\n",
       " 'https://www.kariera.gr/en/jobs?title=&page=128&limit=20',\n",
       " 'https://www.kariera.gr/en/jobs?title=&page=129&limit=20',\n",
       " 'https://www.kariera.gr/en/jobs?title=&page=130&limit=20',\n",
       " 'https://www.kariera.gr/en/jobs?title=&page=131&limit=20',\n",
       " 'https://www.kariera.gr/en/jobs?title=&page=132&limit=20',\n",
       " 'https://www.kariera.gr/en/jobs?title=&page=133&limit=20',\n",
       " 'https://www.kariera.gr/en/jobs?title=&page=134&limit=20',\n",
       " 'https://www.kariera.gr/en/jobs?title=&page=135&limit=20',\n",
       " 'https://www.kariera.gr/en/jobs?title=&page=136&limit=20',\n",
       " 'https://www.kariera.gr/en/jobs?title=&page=137&limit=20',\n",
       " 'https://www.kariera.gr/en/jobs?title=&page=138&limit=20',\n",
       " 'https://www.kariera.gr/en/jobs?title=&page=139&limit=20',\n",
       " 'https://www.kariera.gr/en/jobs?title=&page=140&limit=20',\n",
       " 'https://www.kariera.gr/en/jobs?title=&page=141&limit=20',\n",
       " 'https://www.kariera.gr/en/jobs?title=&page=142&limit=20',\n",
       " 'https://www.kariera.gr/en/jobs?title=&page=143&limit=20',\n",
       " 'https://www.kariera.gr/en/jobs?title=&page=144&limit=20',\n",
       " 'https://www.kariera.gr/en/jobs?title=&page=145&limit=20',\n",
       " 'https://www.kariera.gr/en/jobs?title=&page=146&limit=20',\n",
       " 'https://www.kariera.gr/en/jobs?title=&page=147&limit=20',\n",
       " 'https://www.kariera.gr/en/jobs?title=&page=148&limit=20',\n",
       " 'https://www.kariera.gr/en/jobs?title=&page=149&limit=20',\n",
       " 'https://www.kariera.gr/en/jobs?title=&page=150&limit=20',\n",
       " 'https://www.kariera.gr/en/jobs?title=&page=151&limit=20',\n",
       " 'https://www.kariera.gr/en/jobs?title=&page=152&limit=20',\n",
       " 'https://www.kariera.gr/en/jobs?title=&page=153&limit=20',\n",
       " 'https://www.kariera.gr/en/jobs?title=&page=154&limit=20',\n",
       " 'https://www.kariera.gr/en/jobs?title=&page=155&limit=20',\n",
       " 'https://www.kariera.gr/en/jobs?title=&page=156&limit=20',\n",
       " 'https://www.kariera.gr/en/jobs?title=&page=157&limit=20',\n",
       " 'https://www.kariera.gr/en/jobs?title=&page=158&limit=20',\n",
       " 'https://www.kariera.gr/en/jobs?title=&page=159&limit=20',\n",
       " 'https://www.kariera.gr/en/jobs?title=&page=160&limit=20',\n",
       " 'https://www.kariera.gr/en/jobs?title=&page=161&limit=20',\n",
       " 'https://www.kariera.gr/en/jobs?title=&page=162&limit=20',\n",
       " 'https://www.kariera.gr/en/jobs?title=&page=163&limit=20',\n",
       " 'https://www.kariera.gr/en/jobs?title=&page=164&limit=20',\n",
       " 'https://www.kariera.gr/en/jobs?title=&page=165&limit=20',\n",
       " 'https://www.kariera.gr/en/jobs?title=&page=166&limit=20',\n",
       " 'https://www.kariera.gr/en/jobs?title=&page=167&limit=20',\n",
       " 'https://www.kariera.gr/en/jobs?title=&page=168&limit=20',\n",
       " 'https://www.kariera.gr/en/jobs?title=&page=169&limit=20',\n",
       " 'https://www.kariera.gr/en/jobs?title=&page=170&limit=20',\n",
       " 'https://www.kariera.gr/en/jobs?title=&page=171&limit=20',\n",
       " 'https://www.kariera.gr/en/jobs?title=&page=172&limit=20',\n",
       " 'https://www.kariera.gr/en/jobs?title=&page=173&limit=20',\n",
       " 'https://www.kariera.gr/en/jobs?title=&page=174&limit=20',\n",
       " 'https://www.kariera.gr/en/jobs?title=&page=175&limit=20',\n",
       " 'https://www.kariera.gr/en/jobs?title=&page=176&limit=20',\n",
       " 'https://www.kariera.gr/en/jobs?title=&page=177&limit=20',\n",
       " 'https://www.kariera.gr/en/jobs?title=&page=178&limit=20',\n",
       " 'https://www.kariera.gr/en/jobs?title=&page=179&limit=20',\n",
       " 'https://www.kariera.gr/en/jobs?title=&page=180&limit=20',\n",
       " 'https://www.kariera.gr/en/jobs?title=&page=181&limit=20',\n",
       " 'https://www.kariera.gr/en/jobs?title=&page=182&limit=20',\n",
       " 'https://www.kariera.gr/en/jobs?title=&page=183&limit=20',\n",
       " 'https://www.kariera.gr/en/jobs?title=&page=184&limit=20',\n",
       " 'https://www.kariera.gr/en/jobs?title=&page=185&limit=20',\n",
       " 'https://www.kariera.gr/en/jobs?title=&page=186&limit=20',\n",
       " 'https://www.kariera.gr/en/jobs?title=&page=187&limit=20',\n",
       " 'https://www.kariera.gr/en/jobs?title=&page=188&limit=20',\n",
       " 'https://www.kariera.gr/en/jobs?title=&page=189&limit=20',\n",
       " 'https://www.kariera.gr/en/jobs?title=&page=190&limit=20',\n",
       " 'https://www.kariera.gr/en/jobs?title=&page=191&limit=20']"
      ]
     },
     "execution_count": 10,
     "metadata": {},
     "output_type": "execute_result"
    }
   ],
   "source": [
    "page_link_list"
   ]
  },
  {
   "cell_type": "code",
   "execution_count": 11,
   "id": "440d611e",
   "metadata": {},
   "outputs": [],
   "source": [
    "# the'rows' for the for loop\n",
    "section = soup.findAll('section',class_='ZVuAW2ak')"
   ]
  },
  {
   "cell_type": "code",
   "execution_count": 12,
   "id": "7f4227a2",
   "metadata": {},
   "outputs": [
    {
     "data": {
      "text/plain": [
       "'COGNITY'"
      ]
     },
     "execution_count": 12,
     "metadata": {},
     "output_type": "execute_result"
    }
   ],
   "source": [
    "soup.findAll('section',class_='ZVuAW2ak')[1].find('a',class_='h6 oyOA_Z_a').text.strip()"
   ]
  },
  {
   "cell_type": "markdown",
   "id": "3d69d1d5",
   "metadata": {},
   "source": [
    "## company names"
   ]
  },
  {
   "cell_type": "code",
   "execution_count": 13,
   "id": "33e1801d",
   "metadata": {},
   "outputs": [
    {
     "data": {
      "text/plain": [
       "'COGNITY'"
      ]
     },
     "execution_count": 13,
     "metadata": {},
     "output_type": "execute_result"
    }
   ],
   "source": [
    "soup.findAll('section',class_='ZVuAW2ak')[1].find('a',class_='h6 oyOA_Z_a').text.strip()"
   ]
  },
  {
   "cell_type": "markdown",
   "id": "a7ea40d6",
   "metadata": {},
   "source": [
    "## job title"
   ]
  },
  {
   "cell_type": "code",
   "execution_count": 14,
   "id": "c0b6c019",
   "metadata": {},
   "outputs": [
    {
     "data": {
      "text/plain": [
       "'Πωλητής/Πωλήτρια -Τμήμα Sales & Marketing'"
      ]
     },
     "execution_count": 14,
     "metadata": {},
     "output_type": "execute_result"
    }
   ],
   "source": [
    "soup.findAll('section',class_='ZVuAW2ak')[0].find('a',class_='h4 tGc1KEdv').text"
   ]
  },
  {
   "cell_type": "markdown",
   "id": "c93b9a60",
   "metadata": {},
   "source": [
    "## location"
   ]
  },
  {
   "cell_type": "code",
   "execution_count": 15,
   "id": "7137af33",
   "metadata": {},
   "outputs": [
    {
     "data": {
      "text/plain": [
       "'Athina'"
      ]
     },
     "execution_count": 15,
     "metadata": {},
     "output_type": "execute_result"
    }
   ],
   "source": [
    "soup.findAll('section',class_='ZVuAW2ak')[0].find('span',class_='small-body-text').text"
   ]
  },
  {
   "cell_type": "markdown",
   "id": "3d227943",
   "metadata": {},
   "source": [
    "## job occupation"
   ]
  },
  {
   "cell_type": "code",
   "execution_count": 16,
   "id": "e94a0dc4",
   "metadata": {},
   "outputs": [
    {
     "data": {
      "text/plain": [
       "'Full-time/Part-time'"
      ]
     },
     "execution_count": 16,
     "metadata": {},
     "output_type": "execute_result"
    }
   ],
   "source": [
    "soup.findAll('section',class_='ZVuAW2ak')[0].findAll('span')[-3].text"
   ]
  },
  {
   "cell_type": "markdown",
   "id": "528491d0",
   "metadata": {},
   "source": [
    "# WITHOUT JOB CONTENT"
   ]
  },
  {
   "cell_type": "code",
   "execution_count": 17,
   "id": "ef0d2bc6",
   "metadata": {},
   "outputs": [],
   "source": [
    "df = pd.DataFrame()"
   ]
  },
  {
   "cell_type": "code",
   "execution_count": 18,
   "id": "c301bb5e",
   "metadata": {},
   "outputs": [
    {
     "data": {
      "text/html": [
       "<div>\n",
       "<style scoped>\n",
       "    .dataframe tbody tr th:only-of-type {\n",
       "        vertical-align: middle;\n",
       "    }\n",
       "\n",
       "    .dataframe tbody tr th {\n",
       "        vertical-align: top;\n",
       "    }\n",
       "\n",
       "    .dataframe thead th {\n",
       "        text-align: right;\n",
       "    }\n",
       "</style>\n",
       "<table border=\"1\" class=\"dataframe\">\n",
       "  <thead>\n",
       "    <tr style=\"text-align: right;\">\n",
       "      <th></th>\n",
       "    </tr>\n",
       "  </thead>\n",
       "  <tbody>\n",
       "  </tbody>\n",
       "</table>\n",
       "</div>"
      ],
      "text/plain": [
       "Empty DataFrame\n",
       "Columns: []\n",
       "Index: []"
      ]
     },
     "execution_count": 18,
     "metadata": {},
     "output_type": "execute_result"
    }
   ],
   "source": [
    "df"
   ]
  },
  {
   "cell_type": "code",
   "execution_count": 19,
   "id": "07660bc2",
   "metadata": {},
   "outputs": [
    {
     "data": {
      "application/vnd.jupyter.widget-view+json": {
       "model_id": "6195457cc2af4908844130bea615ba3b",
       "version_major": 2,
       "version_minor": 0
      },
      "text/plain": [
       "  0%|          | 0/192 [00:00<?, ?it/s]"
      ]
     },
     "metadata": {},
     "output_type": "display_data"
    }
   ],
   "source": [
    "for i in tqdm(page_link_list):\n",
    "    link = i\n",
    "    r = requests.get(link, headers=headers)\n",
    "    soup = BeautifulSoup(r.content, 'html.parser')\n",
    "    sections = soup.findAll('section',class_='ZVuAW2ak')\n",
    "    for section in sections:\n",
    "        x = section.find('a',class_='h4 tGc1KEdv').text\n",
    "        if ('Data Analyst' in x) | ('Data Scientist' in x) | ('Data Engineer' in x): # maybe x is case sensitive so safer to do a loop \n",
    "            try:\n",
    "                company = section.find('a',class_='h6 oyOA_Z_a').text.strip()\n",
    "            except:\n",
    "                company = np.nan\n",
    "            try:\n",
    "                job_title = section.find('a',class_='h4 tGc1KEdv').text\n",
    "            except:\n",
    "                job_title = np.nan\n",
    "            try:\n",
    "                location = section.find('span',class_='small-body-text').text\n",
    "            except:\n",
    "                location = np.nan\n",
    "            try:\n",
    "                job_occupation = section.findAll('span')[-3].text\n",
    "            except:\n",
    "                job_occupation = np.nan\n",
    "            temp = pd.DataFrame([{\n",
    "                    'company' : company,\n",
    "                    'job_title' : job_title,\n",
    "                    'location': location,\n",
    "                    'job_occupation' : job_occupation,\n",
    "                    'date_scraped' : datetime.now().strftime(\"%Y-%m-%d %H:%M\")\n",
    "                }])\n",
    "            df = pd.concat([df, temp], ignore_index=True)"
   ]
  },
  {
   "cell_type": "code",
   "execution_count": 20,
   "id": "903cf0cf",
   "metadata": {
    "scrolled": true
   },
   "outputs": [
    {
     "data": {
      "text/html": [
       "<div>\n",
       "<style scoped>\n",
       "    .dataframe tbody tr th:only-of-type {\n",
       "        vertical-align: middle;\n",
       "    }\n",
       "\n",
       "    .dataframe tbody tr th {\n",
       "        vertical-align: top;\n",
       "    }\n",
       "\n",
       "    .dataframe thead th {\n",
       "        text-align: right;\n",
       "    }\n",
       "</style>\n",
       "<table border=\"1\" class=\"dataframe\">\n",
       "  <thead>\n",
       "    <tr style=\"text-align: right;\">\n",
       "      <th></th>\n",
       "      <th>company</th>\n",
       "      <th>job_title</th>\n",
       "      <th>location</th>\n",
       "      <th>job_occupation</th>\n",
       "      <th>date_scraped</th>\n",
       "    </tr>\n",
       "  </thead>\n",
       "  <tbody>\n",
       "    <tr>\n",
       "      <th>0</th>\n",
       "      <td>Sani/Ikos Group</td>\n",
       "      <td>IT Data Analyst / Thessaloniki</td>\n",
       "      <td>Thessaloniki</td>\n",
       "      <td>Full-time</td>\n",
       "      <td>2022-11-13 10:28</td>\n",
       "    </tr>\n",
       "    <tr>\n",
       "      <th>1</th>\n",
       "      <td>WEBHELP HELLAS</td>\n",
       "      <td>Data Analyst for Airbnb</td>\n",
       "      <td>Athina</td>\n",
       "      <td>Full-time</td>\n",
       "      <td>2022-11-13 10:28</td>\n",
       "    </tr>\n",
       "    <tr>\n",
       "      <th>2</th>\n",
       "      <td>Mellon Technologies</td>\n",
       "      <td>Data Analyst</td>\n",
       "      <td>Pireas</td>\n",
       "      <td>Full-time</td>\n",
       "      <td>2022-11-13 10:28</td>\n",
       "    </tr>\n",
       "    <tr>\n",
       "      <th>3</th>\n",
       "      <td>Ernst and Young</td>\n",
       "      <td>Junior Data Engineer</td>\n",
       "      <td>Athina</td>\n",
       "      <td>Full-time</td>\n",
       "      <td>2022-11-13 10:29</td>\n",
       "    </tr>\n",
       "    <tr>\n",
       "      <th>4</th>\n",
       "      <td>Ernst and Young</td>\n",
       "      <td>Data &amp; Analytics Manager - Data Engineering</td>\n",
       "      <td>Athina</td>\n",
       "      <td>Full-time</td>\n",
       "      <td>2022-11-13 10:29</td>\n",
       "    </tr>\n",
       "    <tr>\n",
       "      <th>5</th>\n",
       "      <td>Ernst and Young</td>\n",
       "      <td>Data Engineer - Patras</td>\n",
       "      <td>Patras</td>\n",
       "      <td>Full-time</td>\n",
       "      <td>2022-11-13 10:29</td>\n",
       "    </tr>\n",
       "    <tr>\n",
       "      <th>6</th>\n",
       "      <td>Ernst and Young</td>\n",
       "      <td>Data Scientist - Patras</td>\n",
       "      <td>Patras</td>\n",
       "      <td>Full-time</td>\n",
       "      <td>2022-11-13 10:29</td>\n",
       "    </tr>\n",
       "    <tr>\n",
       "      <th>7</th>\n",
       "      <td>Tech4sGroup</td>\n",
       "      <td>Data Analyst</td>\n",
       "      <td>Limassol</td>\n",
       "      <td>Full-time</td>\n",
       "      <td>2022-11-13 10:29</td>\n",
       "    </tr>\n",
       "    <tr>\n",
       "      <th>8</th>\n",
       "      <td>Celestino</td>\n",
       "      <td>Data Scientist - Business Intelligence Analyst</td>\n",
       "      <td>Athina</td>\n",
       "      <td>Full-time</td>\n",
       "      <td>2022-11-13 10:29</td>\n",
       "    </tr>\n",
       "    <tr>\n",
       "      <th>9</th>\n",
       "      <td>Netcompany-Intrasoft</td>\n",
       "      <td>Data Engineer</td>\n",
       "      <td>Athina</td>\n",
       "      <td>Full-time</td>\n",
       "      <td>2022-11-13 10:29</td>\n",
       "    </tr>\n",
       "    <tr>\n",
       "      <th>10</th>\n",
       "      <td>PwC Greece</td>\n",
       "      <td>Commercial Data Analyst</td>\n",
       "      <td>Athina</td>\n",
       "      <td>Full-time</td>\n",
       "      <td>2022-11-13 10:30</td>\n",
       "    </tr>\n",
       "    <tr>\n",
       "      <th>11</th>\n",
       "      <td>PeopleCert</td>\n",
       "      <td>Data Engineer</td>\n",
       "      <td>Athina</td>\n",
       "      <td>Full-time</td>\n",
       "      <td>2022-11-13 10:30</td>\n",
       "    </tr>\n",
       "    <tr>\n",
       "      <th>12</th>\n",
       "      <td>SoftOne Technologies S.A.</td>\n",
       "      <td>Senior Data Scientist</td>\n",
       "      <td>Kallithea</td>\n",
       "      <td>Full-time</td>\n",
       "      <td>2022-11-13 10:30</td>\n",
       "    </tr>\n",
       "  </tbody>\n",
       "</table>\n",
       "</div>"
      ],
      "text/plain": [
       "                      company                                       job_title  \\\n",
       "0             Sani/Ikos Group                 IT Data Analyst / Thessaloniki    \n",
       "1              WEBHELP HELLAS                        Data Analyst for Airbnb    \n",
       "2         Mellon Technologies                                    Data Analyst   \n",
       "3             Ernst and Young                            Junior Data Engineer   \n",
       "4             Ernst and Young     Data & Analytics Manager - Data Engineering   \n",
       "5             Ernst and Young                          Data Engineer - Patras   \n",
       "6             Ernst and Young                         Data Scientist - Patras   \n",
       "7                 Tech4sGroup                                    Data Analyst   \n",
       "8                   Celestino  Data Scientist - Business Intelligence Analyst   \n",
       "9        Netcompany-Intrasoft                                   Data Engineer   \n",
       "10                 PwC Greece                         Commercial Data Analyst   \n",
       "11                 PeopleCert                                   Data Engineer   \n",
       "12  SoftOne Technologies S.A.                           Senior Data Scientist   \n",
       "\n",
       "        location job_occupation      date_scraped  \n",
       "0   Thessaloniki      Full-time  2022-11-13 10:28  \n",
       "1         Athina      Full-time  2022-11-13 10:28  \n",
       "2         Pireas      Full-time  2022-11-13 10:28  \n",
       "3         Athina      Full-time  2022-11-13 10:29  \n",
       "4         Athina      Full-time  2022-11-13 10:29  \n",
       "5         Patras      Full-time  2022-11-13 10:29  \n",
       "6         Patras      Full-time  2022-11-13 10:29  \n",
       "7       Limassol      Full-time  2022-11-13 10:29  \n",
       "8         Athina      Full-time  2022-11-13 10:29  \n",
       "9         Athina      Full-time  2022-11-13 10:29  \n",
       "10        Athina      Full-time  2022-11-13 10:30  \n",
       "11        Athina      Full-time  2022-11-13 10:30  \n",
       "12     Kallithea      Full-time  2022-11-13 10:30  "
      ]
     },
     "execution_count": 20,
     "metadata": {},
     "output_type": "execute_result"
    }
   ],
   "source": [
    "df"
   ]
  },
  {
   "cell_type": "markdown",
   "id": "11a29997",
   "metadata": {},
   "source": [
    "# WITH CONTENT"
   ]
  },
  {
   "cell_type": "markdown",
   "id": "1e8121db",
   "metadata": {},
   "source": [
    "## getting all sub-links from all links"
   ]
  },
  {
   "cell_type": "code",
   "execution_count": 21,
   "id": "025944c0",
   "metadata": {},
   "outputs": [
    {
     "data": {
      "application/vnd.jupyter.widget-view+json": {
       "model_id": "f26f5d359b574320a92716623a180016",
       "version_major": 2,
       "version_minor": 0
      },
      "text/plain": [
       "  0%|          | 0/192 [00:00<?, ?it/s]"
      ]
     },
     "metadata": {},
     "output_type": "display_data"
    }
   ],
   "source": [
    "link_list=[]\n",
    "session = HTMLSession()\n",
    "for i in tqdm(page_link_list):\n",
    "    for y in session.get(i).html.links:\n",
    "        if '/en/jobs/' in y:\n",
    "            link_list.append(y)"
   ]
  },
  {
   "cell_type": "code",
   "execution_count": 22,
   "id": "5a934603",
   "metadata": {},
   "outputs": [
    {
     "data": {
      "text/plain": [
       "3807"
      ]
     },
     "execution_count": 22,
     "metadata": {},
     "output_type": "execute_result"
    }
   ],
   "source": [
    "len(link_list)"
   ]
  },
  {
   "cell_type": "code",
   "execution_count": 23,
   "id": "d2c76032",
   "metadata": {},
   "outputs": [],
   "source": [
    "final_list=[]\n",
    "main = 'https://www.kariera.gr/'\n",
    "for i in link_list:\n",
    "    final_list.append(main + i)"
   ]
  },
  {
   "cell_type": "code",
   "execution_count": 24,
   "id": "53348403",
   "metadata": {},
   "outputs": [],
   "source": [
    "test_link = final_list[2]"
   ]
  },
  {
   "cell_type": "code",
   "execution_count": 25,
   "id": "82b7189d",
   "metadata": {},
   "outputs": [
    {
     "data": {
      "text/plain": [
       "<!DOCTYPE html>\n",
       "<html lang=\"en\"><head><meta charset=\"utf-8\"/><meta content=\"initial-scale=1.0, width=device-width\" name=\"viewport\"/><meta content=\"website\" property=\"og:type\"/><meta content=\"0kddlwbsdagaz58pjd2fj7p4wuuroo\" name=\"facebook-domain-verification\"/><link as=\"image\" imagesrcset=\"/_next/image?url=%2Fassets%2Fimages%2Fflag-en.png&amp;w=32&amp;q=75 1x, /_next/image?url=%2Fassets%2Fimages%2Fflag-en.png&amp;w=48&amp;q=75 2x\" rel=\"preload\"/><title>Bilingual Customer Service Representative - Romanian-English - Travel - 32853</title><script type=\"application/ld+json\">{\"@context\":\"http://schema.org\",\"@type\":\"JobPosting\",\"datePosted\":\"2022-11-11T20:59:12.000Z\",\"description\":\"<p><strong>What You’ll be Doing </strong><br />Looking to build your career in the travel industry? Whether it’s getting answers for customers quickly, consulting on products or resolving their issues with a smile, you’ll be the difference between their customer experience being just average or an exceptional one. Turn your passion for travel into action in customer service helping people find great places to stay and creating unique travel experiences. </p>\\n<p><strong>During a Typical Day, You’ll </strong></p>\\n<ul>\\n<li>Answer incoming communications from customers  </li>\\n<li>Conduct research to provide answers for customers to resolve their issues </li>\\n<li>Be the first point of contact for the world's first-class accommodation partners by resolving basic questions and queries, such as modifications to rooms, rates, and availability, extranet tooling etc. </li>\\n<li>Provide accurate, valid, and complete information by using the right tools, methods, and processes.  </li>\\n<li>Ensure a high level of partner service and a positive partner experience  </li>\\n</ul>\\n<p><strong>What You Bring to the Role </strong></p>\\n<ul>\\n<li>Fluent in Romanian and English </li>\\n<li>High school diploma or equivalent  </li>\\n<li>6 months or more of customer services experience </li>\\n<li>Recognize, apply and explain your product or service knowledge  </li>\\n<li>Computer savvy </li>\\n</ul>\\n<p><strong>What You Can Expect </strong></p>\\n<ul>\\n<li>Knowledgeable, encouraging, supporting and present leadership </li>\\n<li>Diverse and community minded organization </li>\\n<li>Career-growth and lots of learning opportunities for aspiring minds </li>\\n<li>25 days annual leave per year  </li>\\n<li>Excellent premises during training and when you come to the site for employee engagement activities in Athens city center, Kerameikos metro station  </li>\\n<li>Relocation assistance available </li>\\n<li>And yes...all the competitive compensation, performance bonus opportunities and benefits you'd expect and maybe a few that would pleasantly surprise you </li>\\n</ul>\\n<p><strong>A Bit More About Your Role </strong><br />We’ll train you to be a subject matter expert in your field, so you can be confident in providing the highest level of service possible whether through voice, chat or email interactions. We trust you already have the necessary ingredient that can’t be taught – a caring and supportive nature that will shine through as you help customers. You’ll also have a chance to make great new friends within the TTEC community and grow your career in a dynamic, family-friendly atmosphere. </p>\\n<p>You'll report to a Team Lead. You’ll contribute to the success of the customer experience as well as the overall success of the team. </p>\\n<p><strong>About TTEC </strong></p>\\n<p>Our business is about making customers happy. That’s all we do. Since 1982, we’ve helped companies build engaged, pleased, profitable customer experiences powered by our combination of humanity and technology. On behalf of many of the world’s leading iconic and disruptive brands, we talk, message, text, and video chat with millions of customers every day. These exceptional customer experiences start with you. <br /> <br />TTEC is proud to be an equal opportunity employer. TTEC embraces and is committed to building a diverse and inclusive workforce that respects and empowers the culture and perspectives within our global teams. We strive to reflect the communities we serve by not only delivering amazing service and technology, but also humanity. We make it a point to make sure all our employees feel valued and comfortable being their authentic selves at work. As a global company, we know diversity is our strength. It enables us to view projects and ideas from different vantage points and allows every individual to bring value to the table in their own unique way</p>\",\"title\":\"Bilingual Customer Service Representative - Romanian-English - Travel\",\"validThrough\":\"2022-12-11T20:59:12.000Z\",\"employmentType\":\"FULL_TIME\",\"hiringOrganization\":{\"@type\":\"Organization\",\"name\":\"TTEC\",\"sameAs\":\"https://www.ttecjobs.com\",\"logo\":\"https://employerfilesprod.blob.core.windows.net/useruploads/689/company/323/img-1649414853186\"},\"jobLocation\":{\"@type\":\"Place\",\"address\":\"Athina\"}}</script><meta content=\"Be a part of creating and delivering amazing customer experiences while you also #ExperienceTTEC, an award-winning employment experience and company culture as Romanian - English Customer Service Representative. \" name=\"description\"/><meta content=\"Bilingual Customer Service Representative - Romanian-English - Travel\" property=\"og:title\"/><meta content=\"https://www.kariera.gr/jobs/32853\" property=\"og:url\"/><meta content=\"Be a part of creating and delivering amazing customer experiences while you also #ExperienceTTEC, an award-winning employment experience and company culture as Romanian - English Customer Service Representative. \" property=\"og:description\"/><meta content=\"https://www.kariera.gr/assets/images/kariera_job-post.png\" property=\"og:image\"/><link href=\"https://www.kariera.gr/jobs/32853\" rel=\"canonical\"/><meta content=\"13\" name=\"next-head-count\"/><link href=\"https://fonts.gstatic.com\" rel=\"preconnect\"/><link href=\"/assets/favicon/apple-touch-icon.png?v=1\" rel=\"apple-touch-icon\" sizes=\"180x180\"/><link href=\"/assets/favicon/favicon-32x32.png?v=1\" rel=\"icon\" sizes=\"32x32\" type=\"image/png\"/><link href=\"/assets/favicon/favicon-16x16.png?v=1\" rel=\"icon\" sizes=\"16x16\" type=\"image/png\"/><link href=\"/assets/favicon/site.webmanifest?v=1\" rel=\"manifest\"/><link color=\"#1c2964\" href=\"/assets/favicon/safari-pinned-tab.svg?v=1\" rel=\"mask-icon\"/><link href=\"/assets/favicon/favicon.ico?v=1\" rel=\"shortcut icon\"/><meta content=\"#1c2964\" name=\"msapplication-TileColor\"/><meta content=\"/assets/favicon/mstile-144x144.png?v=1\" name=\"msapplication-TileImage\"/><meta content=\"#ffffff\" name=\"theme-color\"/><link as=\"font\" crossorigin=\"\" href=\"/fonts/Cera-Pro-Bold.otf\" rel=\"preload\"/><link crossorigin=\"\" href=\"https://fonts.gstatic.com\" rel=\"preconnect\"/><link as=\"style\" href=\"/_next/static/css/c213744b11797641.css\" rel=\"preload\"/><link data-n-g=\"\" href=\"/_next/static/css/c213744b11797641.css\" rel=\"stylesheet\"/><link as=\"style\" href=\"/_next/static/css/f31c6444f234f473.css\" rel=\"preload\"/><link data-n-p=\"\" href=\"/_next/static/css/f31c6444f234f473.css\" rel=\"stylesheet\"/><link as=\"style\" href=\"/_next/static/css/4df0c2f498db2304.css\" rel=\"preload\"/><link data-n-p=\"\" href=\"/_next/static/css/4df0c2f498db2304.css\" rel=\"stylesheet\"/><noscript data-n-css=\"\"></noscript><script defer=\"\" nomodule=\"\" src=\"/_next/static/chunks/polyfills-5cd94c89d3acac5f.js\"></script><script defer=\"\" src=\"/_next/static/chunks/webpack-95790ccbbbacffb6.js\"></script><script defer=\"\" src=\"/_next/static/chunks/framework-560765ab0625ba27.js\"></script><script defer=\"\" src=\"/_next/static/chunks/main-aa52c08b211275c1.js\"></script><script defer=\"\" src=\"/_next/static/chunks/pages/_app-beb065d34fc0e505.js\"></script><script defer=\"\" src=\"/_next/static/chunks/1036-5087720225176fdc.js\"></script><script defer=\"\" src=\"/_next/static/chunks/7213-8901126960b1cd9c.js\"></script><script defer=\"\" src=\"/_next/static/chunks/7307-9887a249e1679ba1.js\"></script><script defer=\"\" src=\"/_next/static/chunks/51-9e1845b734b9eaef.js\"></script><script defer=\"\" src=\"/_next/static/chunks/3274-b3fbac28c861d047.js\"></script><script defer=\"\" src=\"/_next/static/chunks/pages/jobs/%5Bid%5D-73646675e6e4bf13.js\"></script><script defer=\"\" src=\"/_next/static/rwtlHtKUg9-qsFsbqMsKR/_buildManifest.js\"></script><script defer=\"\" src=\"/_next/static/rwtlHtKUg9-qsFsbqMsKR/_ssgManifest.js\"></script><script defer=\"\" src=\"/_next/static/rwtlHtKUg9-qsFsbqMsKR/_middlewareManifest.js\"></script><style data-href=\"https://fonts.googleapis.com/css2?family=Source+Sans+Pro:ital,wght@0,200;0,300;0,400;0,600;0,700;0,900;1,200;1,300;1,400;1,600;1,700;1,900&amp;display=swap\">@font-face{font-family:'Source Sans Pro';font-style:italic;font-weight:200;font-display:swap;src:url(https://fonts.gstatic.com/s/sourcesanspro/v21/6xKwdSBYKcSV-LCoeQqfX1RYOo3qPZYokRdo.woff) format('woff')}@font-face{font-family:'Source Sans Pro';font-style:italic;font-weight:300;font-display:swap;src:url(https://fonts.gstatic.com/s/sourcesanspro/v21/6xKwdSBYKcSV-LCoeQqfX1RYOo3qPZZMkhdo.woff) format('woff')}@font-face{font-family:'Source Sans Pro';font-style:italic;font-weight:400;font-display:swap;src:url(https://fonts.gstatic.com/s/sourcesanspro/v21/6xK1dSBYKcSV-LCoeQqfX1RYOo3qPa7j.woff) format('woff')}@font-face{font-family:'Source Sans Pro';font-style:italic;font-weight:600;font-display:swap;src:url(https://fonts.gstatic.com/s/sourcesanspro/v21/6xKwdSBYKcSV-LCoeQqfX1RYOo3qPZY4lBdo.woff) format('woff')}@font-face{font-family:'Source Sans Pro';font-style:italic;font-weight:700;font-display:swap;src:url(https://fonts.gstatic.com/s/sourcesanspro/v21/6xKwdSBYKcSV-LCoeQqfX1RYOo3qPZZclRdo.woff) format('woff')}@font-face{font-family:'Source Sans Pro';font-style:italic;font-weight:900;font-display:swap;src:url(https://fonts.gstatic.com/s/sourcesanspro/v21/6xKwdSBYKcSV-LCoeQqfX1RYOo3qPZZklxdo.woff) format('woff')}@font-face{font-family:'Source Sans Pro';font-style:normal;font-weight:200;font-display:swap;src:url(https://fonts.gstatic.com/s/sourcesanspro/v21/6xKydSBYKcSV-LCoeQqfX1RYOo3i94_Akw.woff) format('woff')}@font-face{font-family:'Source Sans Pro';font-style:normal;font-weight:300;font-display:swap;src:url(https://fonts.gstatic.com/s/sourcesanspro/v21/6xKydSBYKcSV-LCoeQqfX1RYOo3ik4zAkw.woff) format('woff')}@font-face{font-family:'Source Sans Pro';font-style:normal;font-weight:400;font-display:swap;src:url(https://fonts.gstatic.com/s/sourcesanspro/v21/6xK3dSBYKcSV-LCoeQqfX1RYOo3aPA.woff) format('woff')}@font-face{font-family:'Source Sans Pro';font-style:normal;font-weight:600;font-display:swap;src:url(https://fonts.gstatic.com/s/sourcesanspro/v21/6xKydSBYKcSV-LCoeQqfX1RYOo3i54rAkw.woff) format('woff')}@font-face{font-family:'Source Sans Pro';font-style:normal;font-weight:700;font-display:swap;src:url(https://fonts.gstatic.com/s/sourcesanspro/v21/6xKydSBYKcSV-LCoeQqfX1RYOo3ig4vAkw.woff) format('woff')}@font-face{font-family:'Source Sans Pro';font-style:normal;font-weight:900;font-display:swap;src:url(https://fonts.gstatic.com/s/sourcesanspro/v21/6xKydSBYKcSV-LCoeQqfX1RYOo3iu4nAkw.woff) format('woff')}@font-face{font-family:'Source Sans Pro';font-style:italic;font-weight:200;font-display:swap;src:url(https://fonts.gstatic.com/s/sourcesanspro/v21/6xKwdSBYKcSV-LCoeQqfX1RYOo3qPZYokSdh18S0xR41YDw.woff2) format('woff2');unicode-range:U+0460-052F,U+1C80-1C88,U+20B4,U+2DE0-2DFF,U+A640-A69F,U+FE2E-FE2F}@font-face{font-family:'Source Sans Pro';font-style:italic;font-weight:200;font-display:swap;src:url(https://fonts.gstatic.com/s/sourcesanspro/v21/6xKwdSBYKcSV-LCoeQqfX1RYOo3qPZYokSdo18S0xR41YDw.woff2) format('woff2');unicode-range:U+0301,U+0400-045F,U+0490-0491,U+04B0-04B1,U+2116}@font-face{font-family:'Source Sans Pro';font-style:italic;font-weight:200;font-display:swap;src:url(https://fonts.gstatic.com/s/sourcesanspro/v21/6xKwdSBYKcSV-LCoeQqfX1RYOo3qPZYokSdg18S0xR41YDw.woff2) format('woff2');unicode-range:U+1F00-1FFF}@font-face{font-family:'Source Sans Pro';font-style:italic;font-weight:200;font-display:swap;src:url(https://fonts.gstatic.com/s/sourcesanspro/v21/6xKwdSBYKcSV-LCoeQqfX1RYOo3qPZYokSdv18S0xR41YDw.woff2) format('woff2');unicode-range:U+0370-03FF}@font-face{font-family:'Source Sans Pro';font-style:italic;font-weight:200;font-display:swap;src:url(https://fonts.gstatic.com/s/sourcesanspro/v21/6xKwdSBYKcSV-LCoeQqfX1RYOo3qPZYokSdj18S0xR41YDw.woff2) format('woff2');unicode-range:U+0102-0103,U+0110-0111,U+0128-0129,U+0168-0169,U+01A0-01A1,U+01AF-01B0,U+1EA0-1EF9,U+20AB}@font-face{font-family:'Source Sans Pro';font-style:italic;font-weight:200;font-display:swap;src:url(https://fonts.gstatic.com/s/sourcesanspro/v21/6xKwdSBYKcSV-LCoeQqfX1RYOo3qPZYokSdi18S0xR41YDw.woff2) format('woff2');unicode-range:U+0100-024F,U+0259,U+1E00-1EFF,U+2020,U+20A0-20AB,U+20AD-20CF,U+2113,U+2C60-2C7F,U+A720-A7FF}@font-face{font-family:'Source Sans Pro';font-style:italic;font-weight:200;font-display:swap;src:url(https://fonts.gstatic.com/s/sourcesanspro/v21/6xKwdSBYKcSV-LCoeQqfX1RYOo3qPZYokSds18S0xR41.woff2) format('woff2');unicode-range:U+0000-00FF,U+0131,U+0152-0153,U+02BB-02BC,U+02C6,U+02DA,U+02DC,U+2000-206F,U+2074,U+20AC,U+2122,U+2191,U+2193,U+2212,U+2215,U+FEFF,U+FFFD}@font-face{font-family:'Source Sans Pro';font-style:italic;font-weight:300;font-display:swap;src:url(https://fonts.gstatic.com/s/sourcesanspro/v21/6xKwdSBYKcSV-LCoeQqfX1RYOo3qPZZMkidh18S0xR41YDw.woff2) format('woff2');unicode-range:U+0460-052F,U+1C80-1C88,U+20B4,U+2DE0-2DFF,U+A640-A69F,U+FE2E-FE2F}@font-face{font-family:'Source Sans Pro';font-style:italic;font-weight:300;font-display:swap;src:url(https://fonts.gstatic.com/s/sourcesanspro/v21/6xKwdSBYKcSV-LCoeQqfX1RYOo3qPZZMkido18S0xR41YDw.woff2) format('woff2');unicode-range:U+0301,U+0400-045F,U+0490-0491,U+04B0-04B1,U+2116}@font-face{font-family:'Source Sans Pro';font-style:italic;font-weight:300;font-display:swap;src:url(https://fonts.gstatic.com/s/sourcesanspro/v21/6xKwdSBYKcSV-LCoeQqfX1RYOo3qPZZMkidg18S0xR41YDw.woff2) format('woff2');unicode-range:U+1F00-1FFF}@font-face{font-family:'Source Sans Pro';font-style:italic;font-weight:300;font-display:swap;src:url(https://fonts.gstatic.com/s/sourcesanspro/v21/6xKwdSBYKcSV-LCoeQqfX1RYOo3qPZZMkidv18S0xR41YDw.woff2) format('woff2');unicode-range:U+0370-03FF}@font-face{font-family:'Source Sans Pro';font-style:italic;font-weight:300;font-display:swap;src:url(https://fonts.gstatic.com/s/sourcesanspro/v21/6xKwdSBYKcSV-LCoeQqfX1RYOo3qPZZMkidj18S0xR41YDw.woff2) format('woff2');unicode-range:U+0102-0103,U+0110-0111,U+0128-0129,U+0168-0169,U+01A0-01A1,U+01AF-01B0,U+1EA0-1EF9,U+20AB}@font-face{font-family:'Source Sans Pro';font-style:italic;font-weight:300;font-display:swap;src:url(https://fonts.gstatic.com/s/sourcesanspro/v21/6xKwdSBYKcSV-LCoeQqfX1RYOo3qPZZMkidi18S0xR41YDw.woff2) format('woff2');unicode-range:U+0100-024F,U+0259,U+1E00-1EFF,U+2020,U+20A0-20AB,U+20AD-20CF,U+2113,U+2C60-2C7F,U+A720-A7FF}@font-face{font-family:'Source Sans Pro';font-style:italic;font-weight:300;font-display:swap;src:url(https://fonts.gstatic.com/s/sourcesanspro/v21/6xKwdSBYKcSV-LCoeQqfX1RYOo3qPZZMkids18S0xR41.woff2) format('woff2');unicode-range:U+0000-00FF,U+0131,U+0152-0153,U+02BB-02BC,U+02C6,U+02DA,U+02DC,U+2000-206F,U+2074,U+20AC,U+2122,U+2191,U+2193,U+2212,U+2215,U+FEFF,U+FFFD}@font-face{font-family:'Source Sans Pro';font-style:italic;font-weight:400;font-display:swap;src:url(https://fonts.gstatic.com/s/sourcesanspro/v21/6xK1dSBYKcSV-LCoeQqfX1RYOo3qPZ7qsDJB9cme_xc.woff2) format('woff2');unicode-range:U+0460-052F,U+1C80-1C88,U+20B4,U+2DE0-2DFF,U+A640-A69F,U+FE2E-FE2F}@font-face{font-family:'Source Sans Pro';font-style:italic;font-weight:400;font-display:swap;src:url(https://fonts.gstatic.com/s/sourcesanspro/v21/6xK1dSBYKcSV-LCoeQqfX1RYOo3qPZ7jsDJB9cme_xc.woff2) format('woff2');unicode-range:U+0301,U+0400-045F,U+0490-0491,U+04B0-04B1,U+2116}@font-face{font-family:'Source Sans Pro';font-style:italic;font-weight:400;font-display:swap;src:url(https://fonts.gstatic.com/s/sourcesanspro/v21/6xK1dSBYKcSV-LCoeQqfX1RYOo3qPZ7rsDJB9cme_xc.woff2) format('woff2');unicode-range:U+1F00-1FFF}@font-face{font-family:'Source Sans Pro';font-style:italic;font-weight:400;font-display:swap;src:url(https://fonts.gstatic.com/s/sourcesanspro/v21/6xK1dSBYKcSV-LCoeQqfX1RYOo3qPZ7ksDJB9cme_xc.woff2) format('woff2');unicode-range:U+0370-03FF}@font-face{font-family:'Source Sans Pro';font-style:italic;font-weight:400;font-display:swap;src:url(https://fonts.gstatic.com/s/sourcesanspro/v21/6xK1dSBYKcSV-LCoeQqfX1RYOo3qPZ7osDJB9cme_xc.woff2) format('woff2');unicode-range:U+0102-0103,U+0110-0111,U+0128-0129,U+0168-0169,U+01A0-01A1,U+01AF-01B0,U+1EA0-1EF9,U+20AB}@font-face{font-family:'Source Sans Pro';font-style:italic;font-weight:400;font-display:swap;src:url(https://fonts.gstatic.com/s/sourcesanspro/v21/6xK1dSBYKcSV-LCoeQqfX1RYOo3qPZ7psDJB9cme_xc.woff2) format('woff2');unicode-range:U+0100-024F,U+0259,U+1E00-1EFF,U+2020,U+20A0-20AB,U+20AD-20CF,U+2113,U+2C60-2C7F,U+A720-A7FF}@font-face{font-family:'Source Sans Pro';font-style:italic;font-weight:400;font-display:swap;src:url(https://fonts.gstatic.com/s/sourcesanspro/v21/6xK1dSBYKcSV-LCoeQqfX1RYOo3qPZ7nsDJB9cme.woff2) format('woff2');unicode-range:U+0000-00FF,U+0131,U+0152-0153,U+02BB-02BC,U+02C6,U+02DA,U+02DC,U+2000-206F,U+2074,U+20AC,U+2122,U+2191,U+2193,U+2212,U+2215,U+FEFF,U+FFFD}@font-face{font-family:'Source Sans Pro';font-style:italic;font-weight:600;font-display:swap;src:url(https://fonts.gstatic.com/s/sourcesanspro/v21/6xKwdSBYKcSV-LCoeQqfX1RYOo3qPZY4lCdh18S0xR41YDw.woff2) format('woff2');unicode-range:U+0460-052F,U+1C80-1C88,U+20B4,U+2DE0-2DFF,U+A640-A69F,U+FE2E-FE2F}@font-face{font-family:'Source Sans Pro';font-style:italic;font-weight:600;font-display:swap;src:url(https://fonts.gstatic.com/s/sourcesanspro/v21/6xKwdSBYKcSV-LCoeQqfX1RYOo3qPZY4lCdo18S0xR41YDw.woff2) format('woff2');unicode-range:U+0301,U+0400-045F,U+0490-0491,U+04B0-04B1,U+2116}@font-face{font-family:'Source Sans Pro';font-style:italic;font-weight:600;font-display:swap;src:url(https://fonts.gstatic.com/s/sourcesanspro/v21/6xKwdSBYKcSV-LCoeQqfX1RYOo3qPZY4lCdg18S0xR41YDw.woff2) format('woff2');unicode-range:U+1F00-1FFF}@font-face{font-family:'Source Sans Pro';font-style:italic;font-weight:600;font-display:swap;src:url(https://fonts.gstatic.com/s/sourcesanspro/v21/6xKwdSBYKcSV-LCoeQqfX1RYOo3qPZY4lCdv18S0xR41YDw.woff2) format('woff2');unicode-range:U+0370-03FF}@font-face{font-family:'Source Sans Pro';font-style:italic;font-weight:600;font-display:swap;src:url(https://fonts.gstatic.com/s/sourcesanspro/v21/6xKwdSBYKcSV-LCoeQqfX1RYOo3qPZY4lCdj18S0xR41YDw.woff2) format('woff2');unicode-range:U+0102-0103,U+0110-0111,U+0128-0129,U+0168-0169,U+01A0-01A1,U+01AF-01B0,U+1EA0-1EF9,U+20AB}@font-face{font-family:'Source Sans Pro';font-style:italic;font-weight:600;font-display:swap;src:url(https://fonts.gstatic.com/s/sourcesanspro/v21/6xKwdSBYKcSV-LCoeQqfX1RYOo3qPZY4lCdi18S0xR41YDw.woff2) format('woff2');unicode-range:U+0100-024F,U+0259,U+1E00-1EFF,U+2020,U+20A0-20AB,U+20AD-20CF,U+2113,U+2C60-2C7F,U+A720-A7FF}@font-face{font-family:'Source Sans Pro';font-style:italic;font-weight:600;font-display:swap;src:url(https://fonts.gstatic.com/s/sourcesanspro/v21/6xKwdSBYKcSV-LCoeQqfX1RYOo3qPZY4lCds18S0xR41.woff2) format('woff2');unicode-range:U+0000-00FF,U+0131,U+0152-0153,U+02BB-02BC,U+02C6,U+02DA,U+02DC,U+2000-206F,U+2074,U+20AC,U+2122,U+2191,U+2193,U+2212,U+2215,U+FEFF,U+FFFD}@font-face{font-family:'Source Sans Pro';font-style:italic;font-weight:700;font-display:swap;src:url(https://fonts.gstatic.com/s/sourcesanspro/v21/6xKwdSBYKcSV-LCoeQqfX1RYOo3qPZZclSdh18S0xR41YDw.woff2) format('woff2');unicode-range:U+0460-052F,U+1C80-1C88,U+20B4,U+2DE0-2DFF,U+A640-A69F,U+FE2E-FE2F}@font-face{font-family:'Source Sans Pro';font-style:italic;font-weight:700;font-display:swap;src:url(https://fonts.gstatic.com/s/sourcesanspro/v21/6xKwdSBYKcSV-LCoeQqfX1RYOo3qPZZclSdo18S0xR41YDw.woff2) format('woff2');unicode-range:U+0301,U+0400-045F,U+0490-0491,U+04B0-04B1,U+2116}@font-face{font-family:'Source Sans Pro';font-style:italic;font-weight:700;font-display:swap;src:url(https://fonts.gstatic.com/s/sourcesanspro/v21/6xKwdSBYKcSV-LCoeQqfX1RYOo3qPZZclSdg18S0xR41YDw.woff2) format('woff2');unicode-range:U+1F00-1FFF}@font-face{font-family:'Source Sans Pro';font-style:italic;font-weight:700;font-display:swap;src:url(https://fonts.gstatic.com/s/sourcesanspro/v21/6xKwdSBYKcSV-LCoeQqfX1RYOo3qPZZclSdv18S0xR41YDw.woff2) format('woff2');unicode-range:U+0370-03FF}@font-face{font-family:'Source Sans Pro';font-style:italic;font-weight:700;font-display:swap;src:url(https://fonts.gstatic.com/s/sourcesanspro/v21/6xKwdSBYKcSV-LCoeQqfX1RYOo3qPZZclSdj18S0xR41YDw.woff2) format('woff2');unicode-range:U+0102-0103,U+0110-0111,U+0128-0129,U+0168-0169,U+01A0-01A1,U+01AF-01B0,U+1EA0-1EF9,U+20AB}@font-face{font-family:'Source Sans Pro';font-style:italic;font-weight:700;font-display:swap;src:url(https://fonts.gstatic.com/s/sourcesanspro/v21/6xKwdSBYKcSV-LCoeQqfX1RYOo3qPZZclSdi18S0xR41YDw.woff2) format('woff2');unicode-range:U+0100-024F,U+0259,U+1E00-1EFF,U+2020,U+20A0-20AB,U+20AD-20CF,U+2113,U+2C60-2C7F,U+A720-A7FF}@font-face{font-family:'Source Sans Pro';font-style:italic;font-weight:700;font-display:swap;src:url(https://fonts.gstatic.com/s/sourcesanspro/v21/6xKwdSBYKcSV-LCoeQqfX1RYOo3qPZZclSds18S0xR41.woff2) format('woff2');unicode-range:U+0000-00FF,U+0131,U+0152-0153,U+02BB-02BC,U+02C6,U+02DA,U+02DC,U+2000-206F,U+2074,U+20AC,U+2122,U+2191,U+2193,U+2212,U+2215,U+FEFF,U+FFFD}@font-face{font-family:'Source Sans Pro';font-style:italic;font-weight:900;font-display:swap;src:url(https://fonts.gstatic.com/s/sourcesanspro/v21/6xKwdSBYKcSV-LCoeQqfX1RYOo3qPZZklydh18S0xR41YDw.woff2) format('woff2');unicode-range:U+0460-052F,U+1C80-1C88,U+20B4,U+2DE0-2DFF,U+A640-A69F,U+FE2E-FE2F}@font-face{font-family:'Source Sans Pro';font-style:italic;font-weight:900;font-display:swap;src:url(https://fonts.gstatic.com/s/sourcesanspro/v21/6xKwdSBYKcSV-LCoeQqfX1RYOo3qPZZklydo18S0xR41YDw.woff2) format('woff2');unicode-range:U+0301,U+0400-045F,U+0490-0491,U+04B0-04B1,U+2116}@font-face{font-family:'Source Sans Pro';font-style:italic;font-weight:900;font-display:swap;src:url(https://fonts.gstatic.com/s/sourcesanspro/v21/6xKwdSBYKcSV-LCoeQqfX1RYOo3qPZZklydg18S0xR41YDw.woff2) format('woff2');unicode-range:U+1F00-1FFF}@font-face{font-family:'Source Sans Pro';font-style:italic;font-weight:900;font-display:swap;src:url(https://fonts.gstatic.com/s/sourcesanspro/v21/6xKwdSBYKcSV-LCoeQqfX1RYOo3qPZZklydv18S0xR41YDw.woff2) format('woff2');unicode-range:U+0370-03FF}@font-face{font-family:'Source Sans Pro';font-style:italic;font-weight:900;font-display:swap;src:url(https://fonts.gstatic.com/s/sourcesanspro/v21/6xKwdSBYKcSV-LCoeQqfX1RYOo3qPZZklydj18S0xR41YDw.woff2) format('woff2');unicode-range:U+0102-0103,U+0110-0111,U+0128-0129,U+0168-0169,U+01A0-01A1,U+01AF-01B0,U+1EA0-1EF9,U+20AB}@font-face{font-family:'Source Sans Pro';font-style:italic;font-weight:900;font-display:swap;src:url(https://fonts.gstatic.com/s/sourcesanspro/v21/6xKwdSBYKcSV-LCoeQqfX1RYOo3qPZZklydi18S0xR41YDw.woff2) format('woff2');unicode-range:U+0100-024F,U+0259,U+1E00-1EFF,U+2020,U+20A0-20AB,U+20AD-20CF,U+2113,U+2C60-2C7F,U+A720-A7FF}@font-face{font-family:'Source Sans Pro';font-style:italic;font-weight:900;font-display:swap;src:url(https://fonts.gstatic.com/s/sourcesanspro/v21/6xKwdSBYKcSV-LCoeQqfX1RYOo3qPZZklyds18S0xR41.woff2) format('woff2');unicode-range:U+0000-00FF,U+0131,U+0152-0153,U+02BB-02BC,U+02C6,U+02DA,U+02DC,U+2000-206F,U+2074,U+20AC,U+2122,U+2191,U+2193,U+2212,U+2215,U+FEFF,U+FFFD}@font-face{font-family:'Source Sans Pro';font-style:normal;font-weight:200;font-display:swap;src:url(https://fonts.gstatic.com/s/sourcesanspro/v21/6xKydSBYKcSV-LCoeQqfX1RYOo3i94_wmhdu3cOWxy40.woff2) format('woff2');unicode-range:U+0460-052F,U+1C80-1C88,U+20B4,U+2DE0-2DFF,U+A640-A69F,U+FE2E-FE2F}@font-face{font-family:'Source Sans Pro';font-style:normal;font-weight:200;font-display:swap;src:url(https://fonts.gstatic.com/s/sourcesanspro/v21/6xKydSBYKcSV-LCoeQqfX1RYOo3i94_wkxdu3cOWxy40.woff2) format('woff2');unicode-range:U+0301,U+0400-045F,U+0490-0491,U+04B0-04B1,U+2116}@font-face{font-family:'Source Sans Pro';font-style:normal;font-weight:200;font-display:swap;src:url(https://fonts.gstatic.com/s/sourcesanspro/v21/6xKydSBYKcSV-LCoeQqfX1RYOo3i94_wmxdu3cOWxy40.woff2) format('woff2');unicode-range:U+1F00-1FFF}@font-face{font-family:'Source Sans Pro';font-style:normal;font-weight:200;font-display:swap;src:url(https://fonts.gstatic.com/s/sourcesanspro/v21/6xKydSBYKcSV-LCoeQqfX1RYOo3i94_wlBdu3cOWxy40.woff2) format('woff2');unicode-range:U+0370-03FF}@font-face{font-family:'Source Sans Pro';font-style:normal;font-weight:200;font-display:swap;src:url(https://fonts.gstatic.com/s/sourcesanspro/v21/6xKydSBYKcSV-LCoeQqfX1RYOo3i94_wmBdu3cOWxy40.woff2) format('woff2');unicode-range:U+0102-0103,U+0110-0111,U+0128-0129,U+0168-0169,U+01A0-01A1,U+01AF-01B0,U+1EA0-1EF9,U+20AB}@font-face{font-family:'Source Sans Pro';font-style:normal;font-weight:200;font-display:swap;src:url(https://fonts.gstatic.com/s/sourcesanspro/v21/6xKydSBYKcSV-LCoeQqfX1RYOo3i94_wmRdu3cOWxy40.woff2) format('woff2');unicode-range:U+0100-024F,U+0259,U+1E00-1EFF,U+2020,U+20A0-20AB,U+20AD-20CF,U+2113,U+2C60-2C7F,U+A720-A7FF}@font-face{font-family:'Source Sans Pro';font-style:normal;font-weight:200;font-display:swap;src:url(https://fonts.gstatic.com/s/sourcesanspro/v21/6xKydSBYKcSV-LCoeQqfX1RYOo3i94_wlxdu3cOWxw.woff2) format('woff2');unicode-range:U+0000-00FF,U+0131,U+0152-0153,U+02BB-02BC,U+02C6,U+02DA,U+02DC,U+2000-206F,U+2074,U+20AC,U+2122,U+2191,U+2193,U+2212,U+2215,U+FEFF,U+FFFD}@font-face{font-family:'Source Sans Pro';font-style:normal;font-weight:300;font-display:swap;src:url(https://fonts.gstatic.com/s/sourcesanspro/v21/6xKydSBYKcSV-LCoeQqfX1RYOo3ik4zwmhdu3cOWxy40.woff2) format('woff2');unicode-range:U+0460-052F,U+1C80-1C88,U+20B4,U+2DE0-2DFF,U+A640-A69F,U+FE2E-FE2F}@font-face{font-family:'Source Sans Pro';font-style:normal;font-weight:300;font-display:swap;src:url(https://fonts.gstatic.com/s/sourcesanspro/v21/6xKydSBYKcSV-LCoeQqfX1RYOo3ik4zwkxdu3cOWxy40.woff2) format('woff2');unicode-range:U+0301,U+0400-045F,U+0490-0491,U+04B0-04B1,U+2116}@font-face{font-family:'Source Sans Pro';font-style:normal;font-weight:300;font-display:swap;src:url(https://fonts.gstatic.com/s/sourcesanspro/v21/6xKydSBYKcSV-LCoeQqfX1RYOo3ik4zwmxdu3cOWxy40.woff2) format('woff2');unicode-range:U+1F00-1FFF}@font-face{font-family:'Source Sans Pro';font-style:normal;font-weight:300;font-display:swap;src:url(https://fonts.gstatic.com/s/sourcesanspro/v21/6xKydSBYKcSV-LCoeQqfX1RYOo3ik4zwlBdu3cOWxy40.woff2) format('woff2');unicode-range:U+0370-03FF}@font-face{font-family:'Source Sans Pro';font-style:normal;font-weight:300;font-display:swap;src:url(https://fonts.gstatic.com/s/sourcesanspro/v21/6xKydSBYKcSV-LCoeQqfX1RYOo3ik4zwmBdu3cOWxy40.woff2) format('woff2');unicode-range:U+0102-0103,U+0110-0111,U+0128-0129,U+0168-0169,U+01A0-01A1,U+01AF-01B0,U+1EA0-1EF9,U+20AB}@font-face{font-family:'Source Sans Pro';font-style:normal;font-weight:300;font-display:swap;src:url(https://fonts.gstatic.com/s/sourcesanspro/v21/6xKydSBYKcSV-LCoeQqfX1RYOo3ik4zwmRdu3cOWxy40.woff2) format('woff2');unicode-range:U+0100-024F,U+0259,U+1E00-1EFF,U+2020,U+20A0-20AB,U+20AD-20CF,U+2113,U+2C60-2C7F,U+A720-A7FF}@font-face{font-family:'Source Sans Pro';font-style:normal;font-weight:300;font-display:swap;src:url(https://fonts.gstatic.com/s/sourcesanspro/v21/6xKydSBYKcSV-LCoeQqfX1RYOo3ik4zwlxdu3cOWxw.woff2) format('woff2');unicode-range:U+0000-00FF,U+0131,U+0152-0153,U+02BB-02BC,U+02C6,U+02DA,U+02DC,U+2000-206F,U+2074,U+20AC,U+2122,U+2191,U+2193,U+2212,U+2215,U+FEFF,U+FFFD}@font-face{font-family:'Source Sans Pro';font-style:normal;font-weight:400;font-display:swap;src:url(https://fonts.gstatic.com/s/sourcesanspro/v21/6xK3dSBYKcSV-LCoeQqfX1RYOo3qNa7lujVj9_mf.woff2) format('woff2');unicode-range:U+0460-052F,U+1C80-1C88,U+20B4,U+2DE0-2DFF,U+A640-A69F,U+FE2E-FE2F}@font-face{font-family:'Source Sans Pro';font-style:normal;font-weight:400;font-display:swap;src:url(https://fonts.gstatic.com/s/sourcesanspro/v21/6xK3dSBYKcSV-LCoeQqfX1RYOo3qPK7lujVj9_mf.woff2) format('woff2');unicode-range:U+0301,U+0400-045F,U+0490-0491,U+04B0-04B1,U+2116}@font-face{font-family:'Source Sans Pro';font-style:normal;font-weight:400;font-display:swap;src:url(https://fonts.gstatic.com/s/sourcesanspro/v21/6xK3dSBYKcSV-LCoeQqfX1RYOo3qNK7lujVj9_mf.woff2) format('woff2');unicode-range:U+1F00-1FFF}@font-face{font-family:'Source Sans Pro';font-style:normal;font-weight:400;font-display:swap;src:url(https://fonts.gstatic.com/s/sourcesanspro/v21/6xK3dSBYKcSV-LCoeQqfX1RYOo3qO67lujVj9_mf.woff2) format('woff2');unicode-range:U+0370-03FF}@font-face{font-family:'Source Sans Pro';font-style:normal;font-weight:400;font-display:swap;src:url(https://fonts.gstatic.com/s/sourcesanspro/v21/6xK3dSBYKcSV-LCoeQqfX1RYOo3qN67lujVj9_mf.woff2) format('woff2');unicode-range:U+0102-0103,U+0110-0111,U+0128-0129,U+0168-0169,U+01A0-01A1,U+01AF-01B0,U+1EA0-1EF9,U+20AB}@font-face{font-family:'Source Sans Pro';font-style:normal;font-weight:400;font-display:swap;src:url(https://fonts.gstatic.com/s/sourcesanspro/v21/6xK3dSBYKcSV-LCoeQqfX1RYOo3qNq7lujVj9_mf.woff2) format('woff2');unicode-range:U+0100-024F,U+0259,U+1E00-1EFF,U+2020,U+20A0-20AB,U+20AD-20CF,U+2113,U+2C60-2C7F,U+A720-A7FF}@font-face{font-family:'Source Sans Pro';font-style:normal;font-weight:400;font-display:swap;src:url(https://fonts.gstatic.com/s/sourcesanspro/v21/6xK3dSBYKcSV-LCoeQqfX1RYOo3qOK7lujVj9w.woff2) format('woff2');unicode-range:U+0000-00FF,U+0131,U+0152-0153,U+02BB-02BC,U+02C6,U+02DA,U+02DC,U+2000-206F,U+2074,U+20AC,U+2122,U+2191,U+2193,U+2212,U+2215,U+FEFF,U+FFFD}@font-face{font-family:'Source Sans Pro';font-style:normal;font-weight:600;font-display:swap;src:url(https://fonts.gstatic.com/s/sourcesanspro/v21/6xKydSBYKcSV-LCoeQqfX1RYOo3i54rwmhdu3cOWxy40.woff2) format('woff2');unicode-range:U+0460-052F,U+1C80-1C88,U+20B4,U+2DE0-2DFF,U+A640-A69F,U+FE2E-FE2F}@font-face{font-family:'Source Sans Pro';font-style:normal;font-weight:600;font-display:swap;src:url(https://fonts.gstatic.com/s/sourcesanspro/v21/6xKydSBYKcSV-LCoeQqfX1RYOo3i54rwkxdu3cOWxy40.woff2) format('woff2');unicode-range:U+0301,U+0400-045F,U+0490-0491,U+04B0-04B1,U+2116}@font-face{font-family:'Source Sans Pro';font-style:normal;font-weight:600;font-display:swap;src:url(https://fonts.gstatic.com/s/sourcesanspro/v21/6xKydSBYKcSV-LCoeQqfX1RYOo3i54rwmxdu3cOWxy40.woff2) format('woff2');unicode-range:U+1F00-1FFF}@font-face{font-family:'Source Sans Pro';font-style:normal;font-weight:600;font-display:swap;src:url(https://fonts.gstatic.com/s/sourcesanspro/v21/6xKydSBYKcSV-LCoeQqfX1RYOo3i54rwlBdu3cOWxy40.woff2) format('woff2');unicode-range:U+0370-03FF}@font-face{font-family:'Source Sans Pro';font-style:normal;font-weight:600;font-display:swap;src:url(https://fonts.gstatic.com/s/sourcesanspro/v21/6xKydSBYKcSV-LCoeQqfX1RYOo3i54rwmBdu3cOWxy40.woff2) format('woff2');unicode-range:U+0102-0103,U+0110-0111,U+0128-0129,U+0168-0169,U+01A0-01A1,U+01AF-01B0,U+1EA0-1EF9,U+20AB}@font-face{font-family:'Source Sans Pro';font-style:normal;font-weight:600;font-display:swap;src:url(https://fonts.gstatic.com/s/sourcesanspro/v21/6xKydSBYKcSV-LCoeQqfX1RYOo3i54rwmRdu3cOWxy40.woff2) format('woff2');unicode-range:U+0100-024F,U+0259,U+1E00-1EFF,U+2020,U+20A0-20AB,U+20AD-20CF,U+2113,U+2C60-2C7F,U+A720-A7FF}@font-face{font-family:'Source Sans Pro';font-style:normal;font-weight:600;font-display:swap;src:url(https://fonts.gstatic.com/s/sourcesanspro/v21/6xKydSBYKcSV-LCoeQqfX1RYOo3i54rwlxdu3cOWxw.woff2) format('woff2');unicode-range:U+0000-00FF,U+0131,U+0152-0153,U+02BB-02BC,U+02C6,U+02DA,U+02DC,U+2000-206F,U+2074,U+20AC,U+2122,U+2191,U+2193,U+2212,U+2215,U+FEFF,U+FFFD}@font-face{font-family:'Source Sans Pro';font-style:normal;font-weight:700;font-display:swap;src:url(https://fonts.gstatic.com/s/sourcesanspro/v21/6xKydSBYKcSV-LCoeQqfX1RYOo3ig4vwmhdu3cOWxy40.woff2) format('woff2');unicode-range:U+0460-052F,U+1C80-1C88,U+20B4,U+2DE0-2DFF,U+A640-A69F,U+FE2E-FE2F}@font-face{font-family:'Source Sans Pro';font-style:normal;font-weight:700;font-display:swap;src:url(https://fonts.gstatic.com/s/sourcesanspro/v21/6xKydSBYKcSV-LCoeQqfX1RYOo3ig4vwkxdu3cOWxy40.woff2) format('woff2');unicode-range:U+0301,U+0400-045F,U+0490-0491,U+04B0-04B1,U+2116}@font-face{font-family:'Source Sans Pro';font-style:normal;font-weight:700;font-display:swap;src:url(https://fonts.gstatic.com/s/sourcesanspro/v21/6xKydSBYKcSV-LCoeQqfX1RYOo3ig4vwmxdu3cOWxy40.woff2) format('woff2');unicode-range:U+1F00-1FFF}@font-face{font-family:'Source Sans Pro';font-style:normal;font-weight:700;font-display:swap;src:url(https://fonts.gstatic.com/s/sourcesanspro/v21/6xKydSBYKcSV-LCoeQqfX1RYOo3ig4vwlBdu3cOWxy40.woff2) format('woff2');unicode-range:U+0370-03FF}@font-face{font-family:'Source Sans Pro';font-style:normal;font-weight:700;font-display:swap;src:url(https://fonts.gstatic.com/s/sourcesanspro/v21/6xKydSBYKcSV-LCoeQqfX1RYOo3ig4vwmBdu3cOWxy40.woff2) format('woff2');unicode-range:U+0102-0103,U+0110-0111,U+0128-0129,U+0168-0169,U+01A0-01A1,U+01AF-01B0,U+1EA0-1EF9,U+20AB}@font-face{font-family:'Source Sans Pro';font-style:normal;font-weight:700;font-display:swap;src:url(https://fonts.gstatic.com/s/sourcesanspro/v21/6xKydSBYKcSV-LCoeQqfX1RYOo3ig4vwmRdu3cOWxy40.woff2) format('woff2');unicode-range:U+0100-024F,U+0259,U+1E00-1EFF,U+2020,U+20A0-20AB,U+20AD-20CF,U+2113,U+2C60-2C7F,U+A720-A7FF}@font-face{font-family:'Source Sans Pro';font-style:normal;font-weight:700;font-display:swap;src:url(https://fonts.gstatic.com/s/sourcesanspro/v21/6xKydSBYKcSV-LCoeQqfX1RYOo3ig4vwlxdu3cOWxw.woff2) format('woff2');unicode-range:U+0000-00FF,U+0131,U+0152-0153,U+02BB-02BC,U+02C6,U+02DA,U+02DC,U+2000-206F,U+2074,U+20AC,U+2122,U+2191,U+2193,U+2212,U+2215,U+FEFF,U+FFFD}@font-face{font-family:'Source Sans Pro';font-style:normal;font-weight:900;font-display:swap;src:url(https://fonts.gstatic.com/s/sourcesanspro/v21/6xKydSBYKcSV-LCoeQqfX1RYOo3iu4nwmhdu3cOWxy40.woff2) format('woff2');unicode-range:U+0460-052F,U+1C80-1C88,U+20B4,U+2DE0-2DFF,U+A640-A69F,U+FE2E-FE2F}@font-face{font-family:'Source Sans Pro';font-style:normal;font-weight:900;font-display:swap;src:url(https://fonts.gstatic.com/s/sourcesanspro/v21/6xKydSBYKcSV-LCoeQqfX1RYOo3iu4nwkxdu3cOWxy40.woff2) format('woff2');unicode-range:U+0301,U+0400-045F,U+0490-0491,U+04B0-04B1,U+2116}@font-face{font-family:'Source Sans Pro';font-style:normal;font-weight:900;font-display:swap;src:url(https://fonts.gstatic.com/s/sourcesanspro/v21/6xKydSBYKcSV-LCoeQqfX1RYOo3iu4nwmxdu3cOWxy40.woff2) format('woff2');unicode-range:U+1F00-1FFF}@font-face{font-family:'Source Sans Pro';font-style:normal;font-weight:900;font-display:swap;src:url(https://fonts.gstatic.com/s/sourcesanspro/v21/6xKydSBYKcSV-LCoeQqfX1RYOo3iu4nwlBdu3cOWxy40.woff2) format('woff2');unicode-range:U+0370-03FF}@font-face{font-family:'Source Sans Pro';font-style:normal;font-weight:900;font-display:swap;src:url(https://fonts.gstatic.com/s/sourcesanspro/v21/6xKydSBYKcSV-LCoeQqfX1RYOo3iu4nwmBdu3cOWxy40.woff2) format('woff2');unicode-range:U+0102-0103,U+0110-0111,U+0128-0129,U+0168-0169,U+01A0-01A1,U+01AF-01B0,U+1EA0-1EF9,U+20AB}@font-face{font-family:'Source Sans Pro';font-style:normal;font-weight:900;font-display:swap;src:url(https://fonts.gstatic.com/s/sourcesanspro/v21/6xKydSBYKcSV-LCoeQqfX1RYOo3iu4nwmRdu3cOWxy40.woff2) format('woff2');unicode-range:U+0100-024F,U+0259,U+1E00-1EFF,U+2020,U+20A0-20AB,U+20AD-20CF,U+2113,U+2C60-2C7F,U+A720-A7FF}@font-face{font-family:'Source Sans Pro';font-style:normal;font-weight:900;font-display:swap;src:url(https://fonts.gstatic.com/s/sourcesanspro/v21/6xKydSBYKcSV-LCoeQqfX1RYOo3iu4nwlxdu3cOWxw.woff2) format('woff2');unicode-range:U+0000-00FF,U+0131,U+0152-0153,U+02BB-02BC,U+02C6,U+02DA,U+02DC,U+2000-206F,U+2074,U+20AC,U+2122,U+2191,U+2193,U+2212,U+2215,U+FEFF,U+FFFD}</style></head><body class=\"antd-overwrite\"><noscript><iframe height=\"0\" src=\"https://www.googletagmanager.com/ns.html?id=GTM-MLNMNZW\" style=\"display:none;visibility:hidden\" title=\"google-tag-manager\" width=\"0\"></iframe></noscript><div data-reactroot=\"\" id=\"__next\"><section class=\"ant-layout\"><div class=\"tqY87QSF\"><div class=\"__9WvikN9E sQQWNNho\" data-testid=\"user-switch\" role=\"button\" tabindex=\"0\"><svg class=\"n6wZ2vE6\" data-testid=\"arrow-icon\" height=\"8\" width=\"14\" xmlns=\"http://www.w3.org/2000/svg\"><path d=\"M1.414 0h11.172a1 1 0 01.707 1.707L7.707 7.293a1 1 0 01-1.414 0L.707 1.707A1 1 0 011.414 0z\"></path></svg><svg class=\"iVsbdoc4 An3aCSuu\" data-testid=\"building-icon\" fill=\"none\" height=\"12\" viewbox=\"0 0 12 13\" width=\"12\" xmlns=\"http://www.w3.org/2000/svg\"><g clip-path=\"url(#building-icon_svg__clip0)\"><path d=\"M3.5 7.5A.5.5 0 013 8h-.5a.5.5 0 110-1H3a.5.5 0 01.5.5zm2-.5H5a.5.5 0 100 1h.5a.5.5 0 100-1zM3 9h-.5a.5.5 0 100 1H3a.5.5 0 100-1zm2.5 0H5a.5.5 0 100 1h.5a.5.5 0 100-1zM3 3h-.5a.5.5 0 100 1H3a.5.5 0 100-1zm2.5 0H5a.5.5 0 100 1h.5a.5.5 0 100-1zM3 5h-.5a.5.5 0 100 1H3a.5.5 0 100-1zm2.5 0H5a.5.5 0 100 1h.5a.5.5 0 100-1zm6.5.5V10a2.503 2.503 0 01-2.5 2.5h-7A2.503 2.503 0 010 10V3A2.503 2.503 0 012.5.5h3A2.503 2.503 0 018 3h1.5A2.503 2.503 0 0112 5.5zm-9.5 6H7V3a1.5 1.5 0 00-1.5-1.5h-3A1.5 1.5 0 001 3v7a1.5 1.5 0 001.5 1.5zm8.5-6A1.5 1.5 0 009.5 4H8v7.5h1.5A1.5 1.5 0 0011 10V5.5zM9.5 7a.5.5 0 100 1 .5.5 0 000-1zm0 2a.5.5 0 100 1 .5.5 0 000-1zm0-4a.5.5 0 100 1 .5.5 0 000-1z\" fill=\"#596980\"></path></g><defs><clippath id=\"building-icon_svg__clip0\"><path d=\"M0 0h12v12H0z\" fill=\"#fff\" transform=\"translate(0 .5)\"></path></clippath></defs></svg><span class=\"h5 _CiXk8Hd neYF8Mpr\">For Employers</span></div></div><header class=\"BSWR0acm\"><div class=\"NmRYLONJ\"><div class=\"Kn7FT6Na __7VIZqLPR\"><div class=\"bzkQwRgF\"><svg class=\"HYEqXnTe\" data-testid=\"mobile-logo\" fill=\"none\" viewbox=\"0 0 21 24\" xmlns=\"http://www.w3.org/2000/svg\"><g clip-path=\"url(#kariera_mini_logo_svg__clip0)\"><path d=\"M15.111 23.933h-4.737l-6.208-8.576v8.576H0V.082h4.166V15.03L9.72 7.678h4.983l-5.8 7.597 6.208 8.658z\" fill=\"#1C2964\"></path><path d=\"M15.438 21.256c0-.774.26-1.42.78-1.939a2.591 2.591 0 011.9-.774 2.65 2.65 0 011.917.774c.53.516.794 1.163.794 1.939a2.552 2.552 0 01-.794 1.903 2.65 2.65 0 01-1.917.774 2.653 2.653 0 01-2.68-2.677z\" fill=\"#FF2458\"></path></g><defs><clippath id=\"kariera_mini_logo_svg__clip0\"><path d=\"M0 0h20.911v23.926H0z\" fill=\"#fff\"></path></clippath></defs></svg></div><div class=\"T3jFlaL7\"><div class=\"ant-select ant-select-auto-complete pOgpyvsz ant-select-single ant-select-customize-input ant-select-show-search\" data-testid=\"nav-bar-search-autocomplete\"><div class=\"ant-select-selector\"><span class=\"ant-select-selection-search\"><span class=\"ant-input-affix-wrapper ant-input-affix-wrapper-sm ant-select-selection-search-input\"><input aria-activedescendant=\"undefined_list_0\" aria-autocomplete=\"list\" aria-controls=\"undefined_list\" aria-expanded=\"false\" aria-haspopup=\"listbox\" aria-owns=\"undefined_list\" autocomplete=\"off\" class=\"ant-input ant-input-sm\" data-testid=\"nav-bar-search-input\" name=\"search\" placeholder=\"Search for jobs or companies\" role=\"combobox\" type=\"search\" value=\"\"/><span class=\"ant-input-suffix\"><span aria-label=\"close-circle\" class=\"anticon anticon-close-circle ant-input-clear-icon-hidden ant-input-clear-icon\" role=\"button\" tabindex=\"-1\"><svg aria-hidden=\"true\" data-icon=\"close-circle\" fill=\"currentColor\" focusable=\"false\" height=\"1em\" viewbox=\"64 64 896 896\" width=\"1em\"><path d=\"M512 64C264.6 64 64 264.6 64 512s200.6 448 448 448 448-200.6 448-448S759.4 64 512 64zm165.4 618.2l-66-.3L512 563.4l-99.3 118.4-66.1.3c-4.4 0-8-3.5-8-8 0-1.9.7-3.7 1.9-5.2l130.1-155L340.5 359a8.32 8.32 0 01-1.9-5.2c0-4.4 3.6-8 8-8l66.1.3L512 464.6l99.3-118.4 66-.3c4.4 0 8 3.5 8 8 0 1.9-.7 3.7-1.9 5.2L553.5 514l130 155c1.2 1.5 1.9 3.3 1.9 5.2 0 4.4-3.6 8-8 8z\"></path></svg></span><svg class=\"ThCYRjFl\" data-testid=\"nav-bar-search-input-icon\" fill=\"none\" viewbox=\"0 0 24 24\" xmlns=\"http://www.w3.org/2000/svg\"><g clip-path=\"url(#search-icon_svg__clip0)\"><path d=\"M23.707 22.293l-5.969-5.97a10.016 10.016 0 10-1.414 1.415l5.969 5.969a1 1 0 001.414-1.414zM10 18a8 8 0 118-8 8.009 8.009 0 01-8 8z\" fill=\"#000\"></path></g><defs><clippath id=\"search-icon_svg__clip0\"><path d=\"M0 0h24v24H0z\" fill=\"#fff\"></path></clippath></defs></svg></span></span></span><span class=\"ant-select-selection-placeholder\"></span></div></div></div><div class=\"h8I3j9qJ\"><div class=\"ant-dropdown-trigger As1re0vg\" data-testid=\"language-toggle\"><svg fill=\"none\" height=\"24\" width=\"24\" xmlns=\"http://www.w3.org/2000/svg\"><path d=\"M12 0a12 12 0 1012 12A12.013 12.013 0 0012 0zm8.647 7h-3.221a19.674 19.674 0 00-2.821-4.644A10.031 10.031 0 0120.647 7zM16.5 12a10.21 10.21 0 01-.476 3H7.976a10.211 10.211 0 01-.476-3 10.21 10.21 0 01.476-3h8.048c.307.97.468 1.982.476 3zm-7.722 5h6.444A19.615 19.615 0 0112 21.588 19.572 19.572 0 018.778 17zm0-10A19.615 19.615 0 0112 2.412 19.57 19.57 0 0115.222 7H8.778zM9.4 2.356A19.676 19.676 0 006.574 7H3.353A10.03 10.03 0 019.4 2.356zM2.461 9H5.9c-.26.98-.394 1.987-.4 3 .006 1.013.14 2.02.4 3H2.461a9.992 9.992 0 010-6zm.892 8h3.221A19.676 19.676 0 009.4 21.644 10.031 10.031 0 013.353 17zm11.252 4.644c1.15-1.41 2.1-2.973 2.821-4.644h3.221a10.031 10.031 0 01-6.042 4.644zM21.539 15H18.1c.26-.98.394-1.987.4-3a12.02 12.02 0 00-.4-3h3.437a9.991 9.991 0 010 6h.002z\" fill=\"#B4B2BF\"></path></svg><div class=\"nA5WxYcU\" data-testid=\"current-language\"><span style=\"box-sizing:border-box;display:inline-block;overflow:hidden;width:initial;height:initial;background:none;opacity:1;border:0;margin:0;padding:0;position:relative;max-width:100%\"><span style=\"box-sizing:border-box;display:block;width:initial;height:initial;background:none;opacity:1;border:0;margin:0;padding:0;max-width:100%\"><img alt=\"\" aria-hidden=\"true\" src=\"data:image/svg+xml,%3csvg%20xmlns=%27http://www.w3.org/2000/svg%27%20version=%271.1%27%20width=%2720%27%20height=%2715%27/%3e\" style=\"display:block;max-width:100%;width:initial;height:initial;background:none;opacity:1;border:0;margin:0;padding:0\"/></span><img data-nimg=\"intrinsic\" decoding=\"async\" src=\"/_next/image?url=%2Fassets%2Fimages%2Fflag-en.png&amp;w=48&amp;q=75\" srcset=\"/_next/image?url=%2Fassets%2Fimages%2Fflag-en.png&amp;w=32&amp;q=75 1x, /_next/image?url=%2Fassets%2Fimages%2Fflag-en.png&amp;w=48&amp;q=75 2x\" style=\"position:absolute;top:0;left:0;bottom:0;right:0;box-sizing:border-box;padding:0;border:none;margin:auto;display:block;width:0;height:0;min-width:100%;max-width:100%;min-height:100%;max-height:100%\"/></span></div></div></div></div><div class=\"Oz1VE8Xn\"><div class=\"Kn7FT6Na A4v_uV0L\"><div class=\"bzkQwRgF\"><svg class=\"HYEqXnTe\" data-testid=\"mobile-logo\" fill=\"none\" viewbox=\"0 0 21 24\" xmlns=\"http://www.w3.org/2000/svg\"><g clip-path=\"url(#kariera_mini_logo_svg__clip0)\"><path d=\"M15.111 23.933h-4.737l-6.208-8.576v8.576H0V.082h4.166V15.03L9.72 7.678h4.983l-5.8 7.597 6.208 8.658z\" fill=\"#1C2964\"></path><path d=\"M15.438 21.256c0-.774.26-1.42.78-1.939a2.591 2.591 0 011.9-.774 2.65 2.65 0 011.917.774c.53.516.794 1.163.794 1.939a2.552 2.552 0 01-.794 1.903 2.65 2.65 0 01-1.917.774 2.653 2.653 0 01-2.68-2.677z\" fill=\"#FF2458\"></path></g><defs><clippath id=\"kariera_mini_logo_svg__clip0\"><path d=\"M0 0h20.911v23.926H0z\" fill=\"#fff\"></path></clippath></defs></svg><svg class=\"TTjjkuPt\" data-testid=\"desktop-logo\" fill=\"none\" viewbox=\"0 0 238 53\" xmlns=\"http://www.w3.org/2000/svg\"><g clip-path=\"url(#karieragr_logo_svg__clip0)\"><path d=\"M27.283 43.185h-8.61L7.549 27.71v15.486H0V0h7.548v27.146L17.5 13.74h8.945L16.052 27.597l11.231 15.588zM54.813 25.902v17.283H47.77v-3.39c-2.195 2.26-5.054 3.39-8.576 3.39-2.954 0-5.311-.772-7.072-2.316-1.762-1.544-2.642-3.558-2.642-6.042 0-2.523.956-4.509 2.869-5.958 1.913-1.45 4.497-2.177 7.754-2.181h7.044v-1.244c0-1.58-.446-2.794-1.336-3.642-.891-.848-2.19-1.27-3.898-1.27a7.994 7.994 0 00-3.802.91c-1.136.602-2.348 1.58-3.636 2.936l-3.973-4.687c3.256-3.84 7.347-5.76 12.27-5.76 3.712 0 6.647 1.044 8.805 3.134 2.158 2.09 3.237 5.035 3.237 8.837zm-7.667 6.16v-.338h-6.022c-2.613 0-3.92.94-3.92 2.822a2.633 2.633 0 001.11 2.231c.738.545 1.714.818 2.925.818 1.705 0 3.115-.518 4.23-1.553 1.117-1.035 1.675-2.362 1.677-3.98zM169.792 25.902v17.283h-7.044v-3.39c-2.195 2.26-5.054 3.39-8.577 3.39-2.953 0-5.31-.772-7.071-2.316-1.762-1.544-2.642-3.558-2.642-6.042 0-2.523.956-4.509 2.869-5.958 1.913-1.45 4.497-2.177 7.754-2.181h7.044v-1.244c0-1.58-.446-2.794-1.336-3.642-.891-.848-2.19-1.27-3.898-1.27a7.994 7.994 0 00-3.802.91c-1.136.602-2.348 1.58-3.636 2.936l-3.973-4.687c3.257-3.84 7.347-5.76 12.271-5.76 3.711 0 6.646 1.044 8.804 3.134 2.158 2.09 3.237 5.035 3.237 8.837zm-7.667 6.16v-.338h-6.022c-2.613 0-3.919.94-3.919 2.822a2.63 2.63 0 001.108 2.231c.739.545 1.715.818 2.926.818 1.705 0 3.115-.518 4.231-1.553 1.116-1.035 1.674-2.362 1.676-3.98zM76.25 14.094v6.993h-2.077c-2.386 0-4.262.646-5.63 1.939-1.367 1.292-2.05 3.173-2.048 5.642v14.517H58.7V13.741h7.145v3.821c2.008-2.548 4.63-3.821 7.867-3.821a8.271 8.271 0 012.538.353zM140.56 14.094v6.993h-2.076c-2.387 0-4.263.646-5.63 1.939-1.367 1.292-2.05 3.173-2.049 5.642v14.517h-7.795V13.741h7.146v3.821c2.008-2.548 4.63-3.821 7.866-3.821a8.274 8.274 0 012.538.353zM238 14.094v6.993h-2.077c-2.386 0-4.262.646-5.629 1.939-1.367 1.292-2.05 3.173-2.049 5.642v14.517h-7.795V13.741h7.146v3.821c2.008-2.548 4.63-3.821 7.866-3.821a8.274 8.274 0 012.538.353zM79.173 4.938a4.798 4.798 0 011.41-3.527A4.656 4.656 0 0184.015 0a4.751 4.751 0 013.464 1.411 4.755 4.755 0 011.436 3.527 4.68 4.68 0 01-1.436 3.466 4.76 4.76 0 01-3.464 1.41 4.647 4.647 0 01-3.434-1.41 4.72 4.72 0 01-1.407-3.466z\" fill=\"#1C2964\"></path><path d=\"M173.69 38.306a4.854 4.854 0 011.385-3.5 4.772 4.772 0 013.459-1.436 4.774 4.774 0 013.464 1.411 4.736 4.736 0 011.436 3.525 4.66 4.66 0 01-1.436 3.468 4.774 4.774 0 01-3.464 1.411 4.791 4.791 0 01-3.439-1.415 4.833 4.833 0 01-1.405-3.464z\" fill=\"#FF2458\"></path><path d=\"M87.943 13.74h-7.796v29.445h7.796V13.741zM118.625 31.021H99.389c.443 1.78 1.339 3.153 2.689 4.12 1.35.967 3.022 1.45 5.017 1.449 2.698 0 5.249-.946 7.652-2.836l3.105 5.235c-3.292 2.797-6.953 4.196-10.982 4.196-4.214.074-7.79-1.338-10.73-4.236-2.938-2.898-4.37-6.393-4.295-10.486-.077-4.056 1.309-7.54 4.157-10.456 2.848-2.916 6.249-4.338 10.203-4.266 3.771 0 6.866 1.25 9.287 3.751 2.421 2.501 3.631 5.608 3.631 9.32a18.702 18.702 0 01-.498 4.21zm-19.236-5.4h12.472c-.039-1.706-.622-3.08-1.748-4.12-1.125-1.041-2.521-1.563-4.185-1.564a6.16 6.16 0 00-4.16 1.527c-1.182 1.03-1.975 2.415-2.38 4.157zM209.703 13.74h6.953v25.366c0 4.463-1.289 7.895-3.869 10.295-2.58 2.4-6.075 3.6-10.485 3.599-5.196 0-9.738-1.725-13.624-5.176l3.98-5.293c3.216 2.399 6.225 3.6 9.027 3.6 2.281 0 4.086-.562 5.414-1.687 1.328-1.126 1.991-2.757 1.99-4.893v-1.526c-2.021 2.213-4.844 3.32-8.467 3.32-3.85 0-7.026-1.294-9.527-3.88-2.502-2.588-3.754-5.907-3.757-9.958 0-4.087 1.252-7.405 3.757-9.954 2.504-2.549 5.68-3.824 9.527-3.826 4.042 0 7.074 1.37 9.094 4.107l-.013-4.093zm-.504 13.667c0-2.285-.663-4.057-1.99-5.313-1.327-1.256-3-1.884-5.019-1.884-2.093 0-3.813.654-5.158 1.963-1.345 1.308-2.018 3.07-2.018 5.287 0 2.213.682 4.013 2.046 5.4 1.364 1.387 3.074 2.08 5.13 2.08a6.75 6.75 0 002.697-.495 6.793 6.793 0 002.283-1.528c1.353-1.347 2.029-3.183 2.029-5.51z\" fill=\"#1C2964\"></path></g><defs><clippath id=\"karieragr_logo_svg__clip0\"><path d=\"M0 0h238v53H0z\" fill=\"#fff\"></path></clippath></defs></svg></div><div class=\"T3jFlaL7\"><div class=\"ant-select ant-select-auto-complete pOgpyvsz ant-select-single ant-select-customize-input ant-select-show-search\" data-testid=\"nav-bar-search-autocomplete\"><div class=\"ant-select-selector\"><span class=\"ant-select-selection-search\"><span class=\"ant-input-affix-wrapper ant-input-affix-wrapper-sm ant-select-selection-search-input\"><input aria-activedescendant=\"undefined_list_0\" aria-autocomplete=\"list\" aria-controls=\"undefined_list\" aria-expanded=\"false\" aria-haspopup=\"listbox\" aria-owns=\"undefined_list\" autocomplete=\"off\" class=\"ant-input ant-input-sm\" data-testid=\"nav-bar-search-input\" name=\"search\" placeholder=\"Search for jobs or companies\" role=\"combobox\" type=\"search\" value=\"\"/><span class=\"ant-input-suffix\"><span aria-label=\"close-circle\" class=\"anticon anticon-close-circle ant-input-clear-icon-hidden ant-input-clear-icon\" role=\"button\" tabindex=\"-1\"><svg aria-hidden=\"true\" data-icon=\"close-circle\" fill=\"currentColor\" focusable=\"false\" height=\"1em\" viewbox=\"64 64 896 896\" width=\"1em\"><path d=\"M512 64C264.6 64 64 264.6 64 512s200.6 448 448 448 448-200.6 448-448S759.4 64 512 64zm165.4 618.2l-66-.3L512 563.4l-99.3 118.4-66.1.3c-4.4 0-8-3.5-8-8 0-1.9.7-3.7 1.9-5.2l130.1-155L340.5 359a8.32 8.32 0 01-1.9-5.2c0-4.4 3.6-8 8-8l66.1.3L512 464.6l99.3-118.4 66-.3c4.4 0 8 3.5 8 8 0 1.9-.7 3.7-1.9 5.2L553.5 514l130 155c1.2 1.5 1.9 3.3 1.9 5.2 0 4.4-3.6 8-8 8z\"></path></svg></span><svg class=\"ThCYRjFl\" data-testid=\"nav-bar-search-input-icon\" fill=\"none\" viewbox=\"0 0 24 24\" xmlns=\"http://www.w3.org/2000/svg\"><g clip-path=\"url(#search-icon_svg__clip0)\"><path d=\"M23.707 22.293l-5.969-5.97a10.016 10.016 0 10-1.414 1.415l5.969 5.969a1 1 0 001.414-1.414zM10 18a8 8 0 118-8 8.009 8.009 0 01-8 8z\" fill=\"#000\"></path></g><defs><clippath id=\"search-icon_svg__clip0\"><path d=\"M0 0h24v24H0z\" fill=\"#fff\"></path></clippath></defs></svg></span></span></span><span class=\"ant-select-selection-placeholder\"></span></div></div></div><div class=\"h8I3j9qJ\"><div class=\"ant-dropdown-trigger As1re0vg\" data-testid=\"language-toggle\"><svg fill=\"none\" height=\"24\" width=\"24\" xmlns=\"http://www.w3.org/2000/svg\"><path d=\"M12 0a12 12 0 1012 12A12.013 12.013 0 0012 0zm8.647 7h-3.221a19.674 19.674 0 00-2.821-4.644A10.031 10.031 0 0120.647 7zM16.5 12a10.21 10.21 0 01-.476 3H7.976a10.211 10.211 0 01-.476-3 10.21 10.21 0 01.476-3h8.048c.307.97.468 1.982.476 3zm-7.722 5h6.444A19.615 19.615 0 0112 21.588 19.572 19.572 0 018.778 17zm0-10A19.615 19.615 0 0112 2.412 19.57 19.57 0 0115.222 7H8.778zM9.4 2.356A19.676 19.676 0 006.574 7H3.353A10.03 10.03 0 019.4 2.356zM2.461 9H5.9c-.26.98-.394 1.987-.4 3 .006 1.013.14 2.02.4 3H2.461a9.992 9.992 0 010-6zm.892 8h3.221A19.676 19.676 0 009.4 21.644 10.031 10.031 0 013.353 17zm11.252 4.644c1.15-1.41 2.1-2.973 2.821-4.644h3.221a10.031 10.031 0 01-6.042 4.644zM21.539 15H18.1c.26-.98.394-1.987.4-3a12.02 12.02 0 00-.4-3h3.437a9.991 9.991 0 010 6h.002z\" fill=\"#B4B2BF\"></path></svg><div class=\"nA5WxYcU\" data-testid=\"current-language\"><span style=\"box-sizing:border-box;display:inline-block;overflow:hidden;width:initial;height:initial;background:none;opacity:1;border:0;margin:0;padding:0;position:relative;max-width:100%\"><span style=\"box-sizing:border-box;display:block;width:initial;height:initial;background:none;opacity:1;border:0;margin:0;padding:0;max-width:100%\"><img alt=\"\" aria-hidden=\"true\" src=\"data:image/svg+xml,%3csvg%20xmlns=%27http://www.w3.org/2000/svg%27%20version=%271.1%27%20width=%2720%27%20height=%2715%27/%3e\" style=\"display:block;max-width:100%;width:initial;height:initial;background:none;opacity:1;border:0;margin:0;padding:0\"/></span><img data-nimg=\"intrinsic\" decoding=\"async\" src=\"/_next/image?url=%2Fassets%2Fimages%2Fflag-en.png&amp;w=48&amp;q=75\" srcset=\"/_next/image?url=%2Fassets%2Fimages%2Fflag-en.png&amp;w=32&amp;q=75 1x, /_next/image?url=%2Fassets%2Fimages%2Fflag-en.png&amp;w=48&amp;q=75 2x\" style=\"position:absolute;top:0;left:0;bottom:0;right:0;box-sizing:border-box;padding:0;border:none;margin:auto;display:block;width:0;height:0;min-width:100%;max-width:100%;min-height:100%;max-height:100%\"/></span></div></div><div class=\"VRQzqR04\"></div><div class=\"n_NL0Le8\"><button class=\"ant-btn ant-btn-sm ui-button T8L4xgZ9\" data-testid=\"desktop-login-button\" type=\"button\"><span>Log in</span></button><button class=\"ant-btn ant-btn-primary ant-btn-sm ui-button\" data-testid=\"desktop-signup-button\" type=\"button\"><span>Sign up</span></button></div></div></div><div class=\"__9WvikN9E sQQWNNho\" data-testid=\"user-switch\" role=\"button\" tabindex=\"0\"><svg class=\"n6wZ2vE6\" data-testid=\"arrow-icon\" height=\"8\" width=\"14\" xmlns=\"http://www.w3.org/2000/svg\"><path d=\"M1.414 0h11.172a1 1 0 01.707 1.707L7.707 7.293a1 1 0 01-1.414 0L.707 1.707A1 1 0 011.414 0z\"></path></svg><svg class=\"iVsbdoc4 An3aCSuu\" data-testid=\"building-icon\" fill=\"none\" height=\"12\" viewbox=\"0 0 12 13\" width=\"12\" xmlns=\"http://www.w3.org/2000/svg\"><g clip-path=\"url(#building-icon_svg__clip0)\"><path d=\"M3.5 7.5A.5.5 0 013 8h-.5a.5.5 0 110-1H3a.5.5 0 01.5.5zm2-.5H5a.5.5 0 100 1h.5a.5.5 0 100-1zM3 9h-.5a.5.5 0 100 1H3a.5.5 0 100-1zm2.5 0H5a.5.5 0 100 1h.5a.5.5 0 100-1zM3 3h-.5a.5.5 0 100 1H3a.5.5 0 100-1zm2.5 0H5a.5.5 0 100 1h.5a.5.5 0 100-1zM3 5h-.5a.5.5 0 100 1H3a.5.5 0 100-1zm2.5 0H5a.5.5 0 100 1h.5a.5.5 0 100-1zm6.5.5V10a2.503 2.503 0 01-2.5 2.5h-7A2.503 2.503 0 010 10V3A2.503 2.503 0 012.5.5h3A2.503 2.503 0 018 3h1.5A2.503 2.503 0 0112 5.5zm-9.5 6H7V3a1.5 1.5 0 00-1.5-1.5h-3A1.5 1.5 0 001 3v7a1.5 1.5 0 001.5 1.5zm8.5-6A1.5 1.5 0 009.5 4H8v7.5h1.5A1.5 1.5 0 0011 10V5.5zM9.5 7a.5.5 0 100 1 .5.5 0 000-1zm0 2a.5.5 0 100 1 .5.5 0 000-1zm0-4a.5.5 0 100 1 .5.5 0 000-1z\" fill=\"#596980\"></path></g><defs><clippath id=\"building-icon_svg__clip0\"><path d=\"M0 0h12v12H0z\" fill=\"#fff\" transform=\"translate(0 .5)\"></path></clippath></defs></svg><span class=\"h5 _CiXk8Hd neYF8Mpr\">For Employers</span></div></div></div></header><section class=\"ant-layout __5daahB19\"><aside class=\"ant-layout-sider ant-layout-sider-dark ant-layout-sider-collapsed ant-layout-sider-zero-width layout-sider-menu layout-sider-menu-collapsed\" style=\"flex:0 0 0px;max-width:0px;min-width:0px;width:0px\"><div class=\"ant-layout-sider-children\"><ul class=\"ant-menu ant-menu-light ant-menu-inline-collapsed menu-container ant-menu-root ant-menu-vertical\" role=\"menu\"><li class=\"ant-menu-item\" data-testid=\"home-route\" role=\"menuitem\"><svg class=\"ant-menu-item-icon\" fill=\"none\" height=\"24\" width=\"24\" xmlns=\"http://www.w3.org/2000/svg\"><path d=\"M23.121 9.069l-7.585-7.586a5.008 5.008 0 00-7.072 0L.879 9.069A2.978 2.978 0 000 11.19v9.817a3 3 0 003 3h18a3 3 0 003-3V11.19a2.978 2.978 0 00-.879-2.121zM15 22.007H9v-3.934a3 3 0 116 0v3.934zm7-1a1 1 0 01-1 1h-4v-3.934a5 5 0 10-10 0v3.934H3a1 1 0 01-1-1V11.19c0-.265.106-.519.293-.707L9.878 2.9a3.008 3.008 0 014.244 0l7.585 7.586c.186.187.291.44.293.704v9.817z\" fill=\"#FF2458\"></path></svg><span>Home</span></li><li class=\"ant-menu-item\" data-testid=\"feed-route\" role=\"menuitem\"><svg class=\"ant-menu-item-icon\" fill=\"none\" viewbox=\"0 0 24 24\" xmlns=\"http://www.w3.org/2000/svg\"><g clip-path=\"url(#megaphone_svg__clip0)\"><path d=\"M17 0a1 1 0 00-1 1c0 2.949-2.583 4-5 4H4a4 4 0 00-4 4v2a3.98 3.98 0 001.514 3.109l3.572 7.972A3.233 3.233 0 008.039 24a2.982 2.982 0 002.72-4.2l-2.2-4.8H11c2.417 0 5 1.051 5 4a1 1 0 002 0V1a1 1 0 00-1-1zM8.937 20.619A.983.983 0 018.039 22a1.232 1.232 0 01-1.126-.734L4.105 15h2.254l2.578 5.619zM16 14.6a7.723 7.723 0 00-5-1.6H4a2 2 0 01-2-2V9a2 2 0 012-2h7a7.723 7.723 0 005-1.595V14.6zm7.9.852a1 1 0 01-1.342.448l-2-1a1 1 0 11.894-1.79l2 1a1 1 0 01.448 1.337v.005zm-3.79-9a1 1 0 01.448-1.342l2-1a1 1 0 01.894 1.79l-2 1a1 1 0 01-1.342-.448zM20 10a1 1 0 011-1h2a1 1 0 110 2h-2a1 1 0 01-1-1z\" fill=\"#000\"></path></g><defs><clippath id=\"megaphone_svg__clip0\"><path d=\"M0 0h24v24H0z\" fill=\"#fff\"></path></clippath></defs></svg><span>Feed</span></li><li class=\"ant-menu-item\" data-testid=\"jobs-route\" role=\"menuitem\"><svg class=\"ant-menu-item-icon\" fill=\"none\" viewbox=\"0 0 24 24\" xmlns=\"http://www.w3.org/2000/svg\"><g clip-path=\"url(#search-icon_svg__clip0)\"><path d=\"M23.707 22.293l-5.969-5.97a10.016 10.016 0 10-1.414 1.415l5.969 5.969a1 1 0 001.414-1.414zM10 18a8 8 0 118-8 8.009 8.009 0 01-8 8z\" fill=\"#000\"></path></g><defs><clippath id=\"search-icon_svg__clip0\"><path d=\"M0 0h24v24H0z\" fill=\"#fff\"></path></clippath></defs></svg><span>Search</span></li><li class=\"ant-menu-item\" data-testid=\"favourites-route\" role=\"menuitem\"><svg class=\"ant-menu-item-icon\" fill=\"none\" height=\"24\" width=\"24\" xmlns=\"http://www.w3.org/2000/svg\"><g clip-path=\"url(#saved_svg__clip0_883_3589)\" fill=\"#000\"><path d=\"M19.95 5.536L16.464 2.05A6.954 6.954 0 0011.515 0H7a5.006 5.006 0 00-5 5v14a5.006 5.006 0 005 5h10a5.006 5.006 0 005-5v-8.515a6.955 6.955 0 00-2.05-4.949zM18.536 6.95c.305.314.568.667.781 1.05H15a1 1 0 01-1-1V2.683c.383.213.736.476 1.05.781l3.486 3.486zM20 19a3 3 0 01-3 3H7a3 3 0 01-3-3V5a3 3 0 013-3h4.515c.165 0 .323.032.485.047V7a3 3 0 003 3h4.953c.015.162.047.32.047.485V19z\"></path><path d=\"M14.29 12a2.865 2.865 0 00-1.33.346c-.401.22-.733.532-.96.905a2.547 2.547 0 00-.96-.905A2.865 2.865 0 009.71 12a2.957 2.957 0 00-1.96.828 2.449 2.449 0 00-.748 1.846c0 1.724 1.993 3.607 3.665 4.884.373.285.845.442 1.333.442s.96-.157 1.333-.442c1.672-1.277 3.665-3.16 3.665-4.884a2.449 2.449 0 00-.748-1.846A2.956 2.956 0 0014.29 12z\"></path></g><defs><clippath id=\"saved_svg__clip0_883_3589\"><path d=\"M0 0h24v24H0z\" fill=\"#fff\"></path></clippath></defs></svg><span>Favourites</span></li><li class=\"ant-menu-item\" data-testid=\"profile-logged-user\" role=\"menuitem\"><svg class=\"ant-menu-item-icon\" viewbox=\"0 0 16 16\" xmlns=\"http://www.w3.org/2000/svg\"><g clip-path=\"url(#user-icon_svg__clip0)\"><path clip-rule=\"evenodd\" d=\"M10.222 7.326A4 4 0 115.778.674a4 4 0 014.444 6.652zm-.74-5.543a2.667 2.667 0 10-2.963 4.434 2.667 2.667 0 002.963-4.434zm-5.723 9.31A6.007 6.007 0 018 9.333a6.007 6.007 0 016 6 .666.666 0 11-1.333 0 4.667 4.667 0 00-9.334 0 .667.667 0 11-1.333 0 6.007 6.007 0 011.76-4.24z\" fill-rule=\"evenodd\"></path></g><defs><clippath id=\"user-icon_svg__clip0\"><path d=\"M0 8a8 8 0 1116 0A8 8 0 010 8z\" fill=\"#fff\"></path></clippath></defs></svg><span>My Profile</span></li></ul><div class=\"hb6ZMyhh GH_bAerE\" role=\"button\" tabindex=\"0\"><svg fill=\"none\" viewbox=\"0 0 12 12\" xmlns=\"http://www.w3.org/2000/svg\"><path d=\"M5.3 6.353a.5.5 0 010-.707l2.292-2.293a.5.5 0 00-.707-.707L4.595 4.94a1.5 1.5 0 000 2.121l2.292 2.293a.5.5 0 00.707-.707L5.3 6.353z\" fill=\"#fff\"></path></svg></div></div></aside><section class=\"ant-layout layout-main layout-main-collapsed layout-main-without-filters false\"><main class=\"ant-layout-content\"><section class=\"_83buvzx\"><div class=\"wpUrCtQf\"><div class=\"__9RfVpO1m\" style=\"background-image:linear-gradient(rgba(28, 41, 100, 0.6), rgba(28, 41, 100, 0.6))\"><div class=\"ESGJ2eWU\"><div class=\"xhd8ffL4\"><div><div class=\"h4 UGhAL2CE\">Bilingual Customer Service Representative - Romanian-English - Travel</div></div><svg class=\"P6813aTk Yxjrv2Ej\" data-testid=\"heart\" height=\"12\" viewbox=\"0 0 24 24\" width=\"12\" xmlns=\"http://www.w3.org/2000/svg\"><g clip-path=\"url(#heart-icon_svg__clip0)\"><path d=\"M17.5.917a6.4 6.4 0 00-5.5 3.3 6.4 6.4 0 00-5.5-3.3A6.8 6.8 0 000 7.967c0 4.547 4.786 9.513 8.8 12.88a4.974 4.974 0 006.4 0c4.014-3.367 8.8-8.333 8.8-12.88a6.8 6.8 0 00-6.5-7.05zm-3.585 18.4a2.973 2.973 0 01-3.83 0C4.947 15.006 2 10.87 2 7.967a4.8 4.8 0 014.5-5.05 4.8 4.8 0 014.5 5.05 1 1 0 002 0 4.8 4.8 0 014.5-5.05 4.8 4.8 0 014.5 5.05c0 2.903-2.947 7.039-8.085 11.346v.004z\"></path></g><defs><clippath id=\"heart-icon_svg__clip0\"><path d=\"M0 0h24v24H0z\" fill=\"#fff\"></path></clippath></defs></svg></div><div class=\"MsIWlpkC FBcTkhmK\"><button class=\"ant-btn ant-btn-primary ui-button\" data-testid=\"jobtitle-apply\" type=\"button\"><span>Apply now</span></button><div class=\"__3UUmP9fx\"><svg class=\"gXdJ3dEH pfjVW111\" height=\"12\" viewbox=\"0 0 24 24\" width=\"12\" xmlns=\"http://www.w3.org/2000/svg\"><g clip-path=\"url(#share-icon_svg__clip0)\"><path d=\"M19.333 14.667a4.66 4.66 0 00-3.839 2.024l-6.509-2.94a4.574 4.574 0 00.005-3.487l6.5-2.954a4.66 4.66 0 10-.827-2.643c.004.264.031.527.08.786l-6.91 3.14a4.668 4.668 0 10-.015 6.827l6.928 3.128a4.732 4.732 0 00-.079.785 4.667 4.667 0 104.666-4.666zm0-12.667a2.667 2.667 0 11.002 5.334A2.667 2.667 0 0119.333 2zM4.667 14.667a2.667 2.667 0 11-.002-5.335 2.667 2.667 0 01.002 5.335zM19.333 22a2.667 2.667 0 110-5.335 2.667 2.667 0 010 5.335z\"></path></g><defs><clippath id=\"share-icon_svg__clip0\"><path d=\"M0 0h24v24H0z\" fill=\"#fff\"></path></clippath></defs></svg><svg class=\"gXdJ3dEH\" data-testid=\"jobtitle-facebook\" fill=\"none\" height=\"12\" viewbox=\"0 0 48 48\" width=\"12\" xmlns=\"http://www.w3.org/2000/svg\"><path d=\"M48 24C48 10.744 37.256 0 24 0S0 10.744 0 24c0 11.981 8.775 21.91 20.25 23.71V30.936h-6.094V24h6.094v-5.288c0-6.014 3.581-9.337 9.066-9.337 2.625 0 5.372.469 5.372.469v5.906h-3.029c-2.98 0-3.909 1.852-3.909 3.75V24h6.656l-1.064 6.938H27.75v16.771C39.225 45.91 48 35.981 48 24z\" fill=\"#1877F2\"></path><path d=\"M33.342 30.938L34.406 24H27.75v-4.5c0-1.898.928-3.75 3.91-3.75h3.027V9.844s-2.746-.469-5.371-.469c-5.485 0-9.066 3.323-9.066 9.337V24h-6.094v6.938h6.094v16.771c1.223.193 2.475.291 3.75.291s2.527-.098 3.75-.29V30.936h5.592z\" fill=\"#fff\"></path></svg><svg class=\"gXdJ3dEH\" data-testid=\"jobtitle-linkedin\" fill=\"none\" height=\"12\" viewbox=\"0 0 48 48\" width=\"12\" xmlns=\"http://www.w3.org/2000/svg\"><path d=\"M0 24C0 10.745 10.745 0 24 0s24 10.745 24 24-10.745 24-24 24S0 37.255 0 24z\" fill=\"#0077B5\"></path><path clip-rule=\"evenodd\" d=\"M17.319 14.823c0 1.569-1.181 2.824-3.078 2.824h-.035c-1.825 0-3.006-1.255-3.006-2.824C11.2 13.22 12.416 12 14.277 12c1.86 0 3.007 1.22 3.042 2.823zm-.358 5.055V36.22h-5.44V19.878h5.44zM36.575 36.22v-9.37c0-5.02-2.683-7.356-6.262-7.356-2.888 0-4.18 1.586-4.902 2.699v-2.315h-5.44c.072 1.534 0 16.342 0 16.342h5.44v-9.127c0-.488.035-.975.179-1.325.393-.976 1.288-1.986 2.79-1.986 1.97 0 2.757 1.499 2.757 3.695v8.743h5.438z\" fill=\"#fff\" fill-rule=\"evenodd\"></path></svg><svg class=\"gXdJ3dEH\" data-testid=\"jobtitle-gmail\" fill=\"none\" viewbox=\"0 0 50 50\" xmlns=\"http://www.w3.org/2000/svg\"><path d=\"M1 25C1 11.745 11.745 1 25 1s24 10.745 24 24-10.745 24-24 24S1 38.255 1 25z\" fill=\"#fff\" stroke=\"#F0EDFF\"></path><path clip-rule=\"evenodd\" d=\"M25.555 16.572a1 1 0 00-1.11 0l-7 4.666a1 1 0 00-.304.32l7.304 4.87a1 1 0 001.11 0l7.304-4.87a1 1 0 00-.304-.32l-7-4.666zm9.44 5.328a3 3 0 00-1.33-2.326l-7-4.667a3 3 0 00-3.33 0l-7 4.667A3 3 0 0015 22.07V31a3 3 0 003 3h14a3 3 0 003-3v-8.93a3.028 3.028 0 00-.005-.17zM33 23.869L29.053 26.5 33 29.131V23.87zm-.112 7.591l-5.638-3.758-.586.39a3 3 0 01-3.328 0l-.586-.39-5.638 3.758A1 1 0 0018 32h14a1 1 0 00.888-.54zM17 29.131l3.947-2.631L17 23.869v5.262z\" fill=\"#96949F\" fill-rule=\"evenodd\"></path></svg><svg class=\"gXdJ3dEH\" data-testid=\"jobtitle-link\" fill=\"none\" height=\"24\" width=\"24\" xmlns=\"http://www.w3.org/2000/svg\"><circle cx=\"12\" cy=\"12\" fill=\"#fff\" r=\"12\"></circle><g clip-path=\"url(#link-icon-with-bg_svg__clip0)\" fill=\"#FF2458\"><path d=\"M12.922 14.633l-1.63 1.632a2.514 2.514 0 01-3.556-3.555l1.631-1.633a.5.5 0 10-.707-.707l-1.631 1.633A3.514 3.514 0 1012 16.971l1.631-1.63a.5.5 0 00-.707-.707h-.002zM16.972 7.03A3.49 3.49 0 0014.487 6a3.492 3.492 0 00-2.483 1.029L10.37 8.66a.5.5 0 10.707.708l1.633-1.631A2.497 2.497 0 0114.486 7a2.514 2.514 0 011.777 4.291l-1.63 1.631a.5.5 0 00.707.708L16.971 12a3.518 3.518 0 00.001-4.97z\"></path><path d=\"M13.146 10.146l-3 3a.5.5 0 10.707.707l3-3a.5.5 0 00-.707-.707z\"></path></g><defs><clippath id=\"link-icon-with-bg_svg__clip0\"><path d=\"M0 0h12v12H0z\" fill=\"#fff\" transform=\"translate(6 6)\"></path></clippath></defs></svg></div></div></div></div></div><div class=\"lMrDqtuv\"><div class=\"_Gn0UWhn\" style=\"top:0px\"><div class=\"ZbnZegP3\"><section class=\"v4zUUjfK\"><div class=\"dUZpm_xf\"><a class=\"__8_RJM1pE\" data-testid=\"companyName\" href=\"/en/companies/323\">TTEC</a><a class=\"small-caps-regular AJ5717NV __7tg2egV1\" data-testid=\"follow-link\" role=\"button\" tabindex=\"0\"><svg class=\"hKjg22jT Be4BEJdO\" height=\"8\" viewbox=\"0 0 24 24\" width=\"8\" xmlns=\"http://www.w3.org/2000/svg\"><g clip-path=\"url(#plus-icon_svg__clip0)\"><path d=\"M23 11H13V1a1 1 0 00-1-1 1 1 0 00-1 1v10H1a1 1 0 00-1 1 1 1 0 001 1h10v10a1 1 0 002 0V13h10a1 1 0 000-2z\"></path></g><defs><clippath id=\"plus-icon_svg__clip0\"><path d=\"M0 0h24v24H0z\" fill=\"#fff\"></path></clippath></defs></svg>FOLLOW</a></div><div class=\"KE_pbXHx\"><div class=\"__9f1ArBox GwU4NvbD __7EhrkN2M\" role=\"button\" tabindex=\"0\"><a class=\"kEVdqbh8\" data-testid=\"job-card-company-img-link\" href=\"/en/companies/323\"><span style=\"box-sizing:border-box;display:block;overflow:hidden;width:initial;height:initial;background:none;opacity:1;border:0;margin:0;padding:0;position:absolute;top:0;left:0;bottom:0;right:0\"><img alt=\"company logo\" class=\"__0xwq94A_\" data-nimg=\"fill\" data-testid=\"imageIdTest\" decoding=\"async\" src=\"data:image/gif;base64,R0lGODlhAQABAIAAAAAAAP///yH5BAEAAAAALAAAAAABAAEAAAIBRAA7\" style='position:absolute;top:0;left:0;bottom:0;right:0;box-sizing:border-box;padding:0;border:none;margin:auto;display:block;width:0;height:0;min-width:100%;max-width:100%;min-height:100%;max-height:100%;object-fit:contain;filter:blur(20px);background-size:contain;background-image:url(\"data:image/gif;base64,R0lGODlhAQABAIAAAP///wAAACH5BAEAAAAALAAAAAABAAEAAAICRAEAOw==\");background-position:0% 0%'/><noscript><img alt=\"company logo\" class=\"__0xwq94A_\" data-nimg=\"fill\" data-testid=\"imageIdTest\" decoding=\"async\" loading=\"lazy\" sizes=\"100vw\" src=\"/_next/image?url=https%3A%2F%2Femployerfilesprod.blob.core.windows.net%2Fuseruploads%2F689%2Fcompany%2F323%2Fimg-1649414853186&amp;w=3840&amp;q=75\" srcset=\"/_next/image?url=https%3A%2F%2Femployerfilesprod.blob.core.windows.net%2Fuseruploads%2F689%2Fcompany%2F323%2Fimg-1649414853186&amp;w=640&amp;q=75 640w, /_next/image?url=https%3A%2F%2Femployerfilesprod.blob.core.windows.net%2Fuseruploads%2F689%2Fcompany%2F323%2Fimg-1649414853186&amp;w=750&amp;q=75 750w, /_next/image?url=https%3A%2F%2Femployerfilesprod.blob.core.windows.net%2Fuseruploads%2F689%2Fcompany%2F323%2Fimg-1649414853186&amp;w=828&amp;q=75 828w, /_next/image?url=https%3A%2F%2Femployerfilesprod.blob.core.windows.net%2Fuseruploads%2F689%2Fcompany%2F323%2Fimg-1649414853186&amp;w=1080&amp;q=75 1080w, /_next/image?url=https%3A%2F%2Femployerfilesprod.blob.core.windows.net%2Fuseruploads%2F689%2Fcompany%2F323%2Fimg-1649414853186&amp;w=1200&amp;q=75 1200w, /_next/image?url=https%3A%2F%2Femployerfilesprod.blob.core.windows.net%2Fuseruploads%2F689%2Fcompany%2F323%2Fimg-1649414853186&amp;w=1920&amp;q=75 1920w, /_next/image?url=https%3A%2F%2Femployerfilesprod.blob.core.windows.net%2Fuseruploads%2F689%2Fcompany%2F323%2Fimg-1649414853186&amp;w=2048&amp;q=75 2048w, /_next/image?url=https%3A%2F%2Femployerfilesprod.blob.core.windows.net%2Fuseruploads%2F689%2Fcompany%2F323%2Fimg-1649414853186&amp;w=3840&amp;q=75 3840w\" style=\"position:absolute;top:0;left:0;bottom:0;right:0;box-sizing:border-box;padding:0;border:none;margin:auto;display:block;width:0;height:0;min-width:100%;max-width:100%;min-height:100%;max-height:100%;object-fit:contain\"/></noscript></span></a></div><section><div class=\"dRXv4E9A\"><div><svg class=\"JemuN732\" fill=\"none\" viewbox=\"0 0 13 12\" xmlns=\"http://www.w3.org/2000/svg\"><g clip-path=\"url(#users-icon_svg__clip0)\"><path d=\"M4.25 6.5a2.25 2.25 0 110-4.5 2.25 2.25 0 010 4.5zm0-3.5a1.25 1.25 0 100 2.5 1.25 1.25 0 000-2.5zM8 11.5v-.25a3.75 3.75 0 10-7.5 0v.25a.5.5 0 001 0v-.25a2.75 2.75 0 015.5 0v.25a.5.5 0 001 0zM12.5 9a3.5 3.5 0 00-5.833-2.609.5.5 0 10.667.745A2.5 2.5 0 0111.5 9a.5.5 0 001 0zM9.25 4.5a2.25 2.25 0 110-4.5 2.25 2.25 0 010 4.5zm0-3.5a1.25 1.25 0 100 2.5 1.25 1.25 0 000-2.5z\" fill=\"#B4B2BF\"></path></g><defs><clippath id=\"users-icon_svg__clip0\"><path d=\"M0 0h12v12H0z\" fill=\"#fff\" transform=\"translate(.5)\"></path></clippath></defs></svg><span class=\"__6clWOFuR M7AHbT3P\" data-testid=\"companySize\">2001-30000</span></div><div><svg fill=\"none\" height=\"12\" width=\"13\" xmlns=\"http://www.w3.org/2000/svg\"><g clip-path=\"url(#world-icon_svg__clip0)\"><path d=\"M6.5 0a6 6 0 106 6 6.006 6.006 0 00-6-6zm5 6c0 .98-.289 1.938-.831 2.754l-.596-.596A.25.25 0 0110 7.98V7.5A1.5 1.5 0 008.5 6H7a.5.5 0 01-.5-.5v-.25A.25.25 0 016.75 5 1.25 1.25 0 008 3.75v-.5A.25.25 0 018.25 3h.69c.33 0 .648-.132.883-.366l.188-.188A4.983 4.983 0 0111.5 6zm-9.976.481l1.58 1.58a1.489 1.489 0 001.06.439H5.5A.5.5 0 016 9v1.975A5.008 5.008 0 011.524 6.48zM7 10.976V9a1.5 1.5 0 00-1.5-1.5H4.165a.5.5 0 01-.354-.146l-2.23-2.23a4.989 4.989 0 017.647-3.309l-.112.112A.254.254 0 018.94 2h-.69A1.25 1.25 0 007 3.25v.5a.25.25 0 01-.25.25A1.25 1.25 0 005.5 5.25v.25A1.5 1.5 0 007 7h1.5a.5.5 0 01.5.5v.481c0 .331.132.649.366.883l.668.669A4.986 4.986 0 017 10.975z\" fill=\"#B4B2BF\"></path></g><defs><clippath id=\"world-icon_svg__clip0\"><path d=\"M0 0h12v12H0z\" fill=\"#fff\" transform=\"translate(.5)\"></path></clippath></defs></svg><span class=\"__6clWOFuR M7AHbT3P\" data-testid=\"companySection\">Customer service/Call center</span></div></div><div class=\"dRXv4E9A\"><div><a data-testid=\"companyLink\" href=\"https://www.ttecjobs.com\" rel=\"noreferrer noopener\" target=\"_blank\"><svg class=\"aS_HPtWq\" fill=\"none\" viewbox=\"0 0 8 8\" xmlns=\"http://www.w3.org/2000/svg\"><path clip-rule=\"evenodd\" d=\"M0 1.667C0 .747.746 0 1.667 0H3a.333.333 0 110 .667H1.667a1 1 0 00-1 1v4.666a1 1 0 001 1h4.666a1 1 0 001-1V5.167a.333.333 0 11.667 0v1.166C8 7.253 7.254 8 6.333 8H1.667C.747 8 0 7.254 0 6.333V1.667z\"></path><path clip-rule=\"evenodd\" d=\"M4.667 0a.333.333 0 100 .667h2.195L3.764 3.764a.333.333 0 10.472.472l3.097-3.098v2.195a.333.333 0 10.667 0V0H4.667z\"></path></svg><span class=\"__6clWOFuR\">Visit the website</span></a></div><a class=\"small-body-text\" data-testid=\"numOfJobs\" href=\"/en/companies/323\">View 11 jobs</a></div></section></div></section></div><div class=\"__0mHHouvJ\"><div class=\"z97rDrCT\"><div class=\"P2yIZg_9\"><div class=\"ZMsG7kfl\"><svg class=\"B6gDQqTZ\" data-testid=\"jobdetails-location\" height=\"12\" viewbox=\"0 0 24 24\" width=\"12\" xmlns=\"http://www.w3.org/2000/svg\"><g clip-path=\"url(#location-icon_svg__clip0)\"><path d=\"M12 16a3 3 0 001.342-.314l2-1A2.986 2.986 0 0017 12V9.033a2.985 2.985 0 00-1.658-2.683l-2-1a3.014 3.014 0 00-2.683 0l-2 1A2.985 2.985 0 007 9.033V12a2.986 2.986 0 001.658 2.684l2 1A3 3 0 0012 16zm-3-4V9.033a1 1 0 01.051-.3l2.18 1.09a1.72 1.72 0 001.538 0l2.18-1.09a1 1 0 01.051.3V12a.994.994 0 01-.553.895l-2 1a1.008 1.008 0 01-.895 0l-2-1A.994.994 0 019 12zm10 10h-2.709l3.487-3.222a11 11 0 10-15.528.028L7.709 22H5a1 1 0 000 2h14a1 1 0 100-2zM5.636 4.636a9 9 0 0112.757 12.7l-3.985 3.68A3.514 3.514 0 019.571 21l-3.935-3.636a9.01 9.01 0 010-12.728z\"></path></g><defs><clippath id=\"location-icon_svg__clip0\"><path d=\"M0 0h24v24H0z\" fill=\"#fff\"></path></clippath></defs></svg><div class=\"__30VEJtOH main-body-text\">Athina</div><span class=\"jSFsgQoG h6\">Location</span></div><div class=\"DllOEHb_ main-body-text\">Athina</div></div><div class=\"P2yIZg_9\"><div class=\"ZMsG7kfl\"><svg class=\"B6gDQqTZ\" data-testid=\"jobdetails-calendar\" height=\"12\" viewbox=\"0 0 24 24\" width=\"12\" xmlns=\"http://www.w3.org/2000/svg\"><g clip-path=\"url(#calendar-icon_svg__clip0)\"><path d=\"M19 2h-1V1a1 1 0 00-2 0v1H8V1a1 1 0 00-2 0v1H5a5.006 5.006 0 00-5 5v12a5.006 5.006 0 005 5h14a5.006 5.006 0 005-5V7a5.006 5.006 0 00-5-5zM2 7a3 3 0 013-3h14a3 3 0 013 3v1H2V7zm17 15H5a3 3 0 01-3-3v-9h20v9a3 3 0 01-3 3z\"></path><path d=\"M12 16.5a1.5 1.5 0 100-3 1.5 1.5 0 000 3zM7 16.5a1.5 1.5 0 100-3 1.5 1.5 0 000 3zM17 16.5a1.5 1.5 0 100-3 1.5 1.5 0 000 3z\"></path></g><defs><clippath id=\"calendar-icon_svg__clip0\"><path d=\"M0 0h24v24H0z\" fill=\"#fff\"></path></clippath></defs></svg><div class=\"__30VEJtOH main-body-text\">Nov 11</div><span class=\"jSFsgQoG h6\">Posted date</span></div><div class=\"DllOEHb_ main-body-text\">Nov 11</div></div><div class=\"P2yIZg_9\"><div class=\"ZMsG7kfl\"><svg class=\"B6gDQqTZ\" data-testid=\"jobdetails-diploma\" height=\"12\" viewbox=\"0 0 24 24\" width=\"12\" xmlns=\"http://www.w3.org/2000/svg\"><path d=\"M11 12a1 1 0 010 2H8a1 1 0 010-2h3zm6-3a1 1 0 00-1-1H8a1 1 0 000 2h8a1 1 0 001-1zM8 6h8a1 1 0 100-2H8a1 1 0 000 2zm12 13.444v3.833a.72.72 0 01-1.231.51L18 23.019l-.769.768a.721.721 0 01-1.231-.51v-3.833A3.987 3.987 0 0118 12c.338.004.674.052 1 .142V5a3 3 0 00-3-3H8a3 3 0 00-3 3v12a3 3 0 003 3h5a1 1 0 010 2H8a5.006 5.006 0 01-5-5V5a5.006 5.006 0 015-5h8a5.006 5.006 0 015 5v8.382a3.95 3.95 0 01-1 6.062zM20 16a2 2 0 10-4 0 2 2 0 004 0z\"></path></svg><div class=\"__30VEJtOH main-body-text\">Entry/Junior</div><span class=\"jSFsgQoG h6\">Minimum level</span></div><div class=\"DllOEHb_ main-body-text\">Entry/Junior</div></div><div class=\"P2yIZg_9\"><div class=\"ZMsG7kfl\"><svg class=\"B6gDQqTZ\" data-testid=\"jobdetails-user-time\" height=\"12\" viewbox=\"0 0 24 24\" width=\"12\" xmlns=\"http://www.w3.org/2000/svg\"><g clip-path=\"url(#user-time-icon_svg__clip0)\"><path d=\"M17 24a7 7 0 117-7 7.008 7.008 0 01-7 7zm0-12a5 5 0 100 10 5 5 0 000-10zm1.707 6.707a1 1 0 000-1.414L18 16.586V15a1 1 0 00-2 0v2a1 1 0 00.293.707l1 1a1 1 0 001.414 0zM2 23a8.3 8.3 0 016.221-8.024 1 1 0 10-.442-1.952A10.213 10.213 0 000 23a1 1 0 102 0zm6.474-12a5.5 5.5 0 115.5-5.5 5.506 5.506 0 01-5.5 5.5zm0-9a3.5 3.5 0 100 7 3.5 3.5 0 000-7z\"></path></g><defs><clippath id=\"user-time-icon_svg__clip0\"><path d=\"M0 0h24v24H0z\" fill=\"#fff\"></path></clippath></defs></svg><div class=\"__30VEJtOH main-body-text\">Full-time</div><span class=\"jSFsgQoG h6\">Job type</span></div><div class=\"DllOEHb_ main-body-text\">Full-time</div></div></div><div class=\"rKiU1UKQ\"><div class=\"P2yIZg_9\"><div class=\"ZMsG7kfl\"><svg class=\"B6gDQqTZ\" data-testid=\"jobdetails-category\" fill=\"none\" height=\"12\" width=\"12\" xmlns=\"http://www.w3.org/2000/svg\"><path d=\"M9.5 2h-2v-.5a1.5 1.5 0 00-3 0V2h-2A2.503 2.503 0 000 4.5v5A2.503 2.503 0 002.5 12h7A2.503 2.503 0 0012 9.5v-5A2.503 2.503 0 009.5 2zm-4-.5a.5.5 0 111 0v1a.5.5 0 11-1 0v-1zm5.5 8A1.5 1.5 0 019.5 11h-7A1.5 1.5 0 011 9.5v-5A1.5 1.5 0 012.5 3h2.092a1.491 1.491 0 002.816 0H9.5A1.5 1.5 0 0111 4.5v5zM5 5H2.5a.5.5 0 00-.5.5v4a.5.5 0 00.5.5H5a.5.5 0 00.5-.5v-4A.5.5 0 005 5zm-.5 4H3V6h1.5v3zM10 7.5a.5.5 0 01-.5.5H7a.5.5 0 110-1h2.5a.5.5 0 01.5.5zm0-2a.5.5 0 01-.5.5H7a.5.5 0 110-1h2.5a.5.5 0 01.5.5zm-1 4a.5.5 0 01-.5.5H7a.5.5 0 110-1h1.5a.5.5 0 01.5.5z\" fill=\"#596980\"></path></svg><div class=\"__30VEJtOH main-body-text\">Call Center / Customer Support</div><span class=\"jSFsgQoG h6\">Job category</span></div><div class=\"DllOEHb_ main-body-text\">Call Center / Customer Support</div></div></div></div></div><div class=\"__2DY4wJ3z hi8OBmAZ\" data-testid=\"html-renderer-job-main-body-text\"><p><strong>What You’ll be Doing </strong><br/>Looking to build your career in the travel industry? Whether it’s getting answers for customers quickly, consulting on products or resolving their issues with a smile, you’ll be the difference between their customer experience being just average or an exceptional one. Turn your passion for travel into action in customer service helping people find great places to stay and creating unique travel experiences. </p>\n",
       "<p><strong>During a Typical Day, You’ll </strong></p>\n",
       "<ul>\n",
       "<li>Answer incoming communications from customers  </li>\n",
       "<li>Conduct research to provide answers for customers to resolve their issues </li>\n",
       "<li>Be the first point of contact for the world's first-class accommodation partners by resolving basic questions and queries, such as modifications to rooms, rates, and availability, extranet tooling etc. </li>\n",
       "<li>Provide accurate, valid, and complete information by using the right tools, methods, and processes.  </li>\n",
       "<li>Ensure a high level of partner service and a positive partner experience  </li>\n",
       "</ul>\n",
       "<p><strong>What You Bring to the Role </strong></p>\n",
       "<ul>\n",
       "<li>Fluent in Romanian and English </li>\n",
       "<li>High school diploma or equivalent  </li>\n",
       "<li>6 months or more of customer services experience </li>\n",
       "<li>Recognize, apply and explain your product or service knowledge  </li>\n",
       "<li>Computer savvy </li>\n",
       "</ul>\n",
       "<p><strong>What You Can Expect </strong></p>\n",
       "<ul>\n",
       "<li>Knowledgeable, encouraging, supporting and present leadership </li>\n",
       "<li>Diverse and community minded organization </li>\n",
       "<li>Career-growth and lots of learning opportunities for aspiring minds </li>\n",
       "<li>25 days annual leave per year  </li>\n",
       "<li>Excellent premises during training and when you come to the site for employee engagement activities in Athens city center, Kerameikos metro station  </li>\n",
       "<li>Relocation assistance available </li>\n",
       "<li>And yes...all the competitive compensation, performance bonus opportunities and benefits you'd expect and maybe a few that would pleasantly surprise you </li>\n",
       "</ul>\n",
       "<p><strong>A Bit More About Your Role </strong><br/>We’ll train you to be a subject matter expert in your field, so you can be confident in providing the highest level of service possible whether through voice, chat or email interactions. We trust you already have the necessary ingredient that can’t be taught – a caring and supportive nature that will shine through as you help customers. You’ll also have a chance to make great new friends within the TTEC community and grow your career in a dynamic, family-friendly atmosphere. </p>\n",
       "<p>You'll report to a Team Lead. You’ll contribute to the success of the customer experience as well as the overall success of the team. </p>\n",
       "<p><strong>About TTEC </strong></p>\n",
       "<p>Our business is about making customers happy. That’s all we do. Since 1982, we’ve helped companies build engaged, pleased, profitable customer experiences powered by our combination of humanity and technology. On behalf of many of the world’s leading iconic and disruptive brands, we talk, message, text, and video chat with millions of customers every day. These exceptional customer experiences start with you. <br/> <br/>TTEC is proud to be an equal opportunity employer. TTEC embraces and is committed to building a diverse and inclusive workforce that respects and empowers the culture and perspectives within our global teams. We strive to reflect the communities we serve by not only delivering amazing service and technology, but also humanity. We make it a point to make sure all our employees feel valued and comfortable being their authentic selves at work. As a global company, we know diversity is our strength. It enables us to view projects and ideas from different vantage points and allows every individual to bring value to the table in their own unique way</p></div><div class=\"YnubBw8X\" data-testid=\"job-related-tags\"><div class=\"h5 __1kgRV30L\">Related tags</div><div class=\"E1tE0Y7E\"><div class=\"BdIV31IC\"><button class=\"JlkhZriQ\" type=\"button\"><span class=\"small-body-text EB4TJoiJ\">customer service</span></button></div><div class=\"BdIV31IC\"><button class=\"JlkhZriQ\" type=\"button\"><span class=\"small-body-text EB4TJoiJ\">english</span></button></div><div class=\"BdIV31IC\"><button class=\"JlkhZriQ\" type=\"button\"><span class=\"small-body-text EB4TJoiJ\">romanian</span></button></div></div></div></div></section><div class=\"ui-container undefined ui-container--padding-20-desktop-20-0 ui-container--white ui-container--align-center ui-container--max-width-720\"><div class=\"epgMvNrz\"><div class=\"h5 __45rU1_1C\">JOB SUMMARY</div><div><span class=\"h4 Mc6SrJys\">Bilingual Customer Service Representative - Romanian-English - Travel</span><div class=\"bfSLS0Ki\"><div class=\"xtKde3bM\"><div class=\"TyeOocxR GwU4NvbD B9HT90c1\" role=\"button\" tabindex=\"0\"><a class=\"kEVdqbh8\" data-testid=\"job-card-company-img-link\" href=\"/en/companies/323\"><span style=\"box-sizing:border-box;display:block;overflow:hidden;width:initial;height:initial;background:none;opacity:1;border:0;margin:0;padding:0;position:absolute;top:0;left:0;bottom:0;right:0\"><img alt=\"company logo\" class=\"__0xwq94A_\" data-nimg=\"fill\" data-testid=\"imageIdTest\" decoding=\"async\" src=\"data:image/gif;base64,R0lGODlhAQABAIAAAAAAAP///yH5BAEAAAAALAAAAAABAAEAAAIBRAA7\" style='position:absolute;top:0;left:0;bottom:0;right:0;box-sizing:border-box;padding:0;border:none;margin:auto;display:block;width:0;height:0;min-width:100%;max-width:100%;min-height:100%;max-height:100%;object-fit:contain;filter:blur(20px);background-size:contain;background-image:url(\"data:image/gif;base64,R0lGODlhAQABAIAAAP///wAAACH5BAEAAAAALAAAAAABAAEAAAICRAEAOw==\");background-position:0% 0%'/><noscript><img alt=\"company logo\" class=\"__0xwq94A_\" data-nimg=\"fill\" data-testid=\"imageIdTest\" decoding=\"async\" loading=\"lazy\" sizes=\"100vw\" src=\"/_next/image?url=https%3A%2F%2Femployerfilesprod.blob.core.windows.net%2Fuseruploads%2F689%2Fcompany%2F323%2Fimg-1649414853186&amp;w=3840&amp;q=75\" srcset=\"/_next/image?url=https%3A%2F%2Femployerfilesprod.blob.core.windows.net%2Fuseruploads%2F689%2Fcompany%2F323%2Fimg-1649414853186&amp;w=640&amp;q=75 640w, /_next/image?url=https%3A%2F%2Femployerfilesprod.blob.core.windows.net%2Fuseruploads%2F689%2Fcompany%2F323%2Fimg-1649414853186&amp;w=750&amp;q=75 750w, /_next/image?url=https%3A%2F%2Femployerfilesprod.blob.core.windows.net%2Fuseruploads%2F689%2Fcompany%2F323%2Fimg-1649414853186&amp;w=828&amp;q=75 828w, /_next/image?url=https%3A%2F%2Femployerfilesprod.blob.core.windows.net%2Fuseruploads%2F689%2Fcompany%2F323%2Fimg-1649414853186&amp;w=1080&amp;q=75 1080w, /_next/image?url=https%3A%2F%2Femployerfilesprod.blob.core.windows.net%2Fuseruploads%2F689%2Fcompany%2F323%2Fimg-1649414853186&amp;w=1200&amp;q=75 1200w, /_next/image?url=https%3A%2F%2Femployerfilesprod.blob.core.windows.net%2Fuseruploads%2F689%2Fcompany%2F323%2Fimg-1649414853186&amp;w=1920&amp;q=75 1920w, /_next/image?url=https%3A%2F%2Femployerfilesprod.blob.core.windows.net%2Fuseruploads%2F689%2Fcompany%2F323%2Fimg-1649414853186&amp;w=2048&amp;q=75 2048w, /_next/image?url=https%3A%2F%2Femployerfilesprod.blob.core.windows.net%2Fuseruploads%2F689%2Fcompany%2F323%2Fimg-1649414853186&amp;w=3840&amp;q=75 3840w\" style=\"position:absolute;top:0;left:0;bottom:0;right:0;box-sizing:border-box;padding:0;border:none;margin:auto;display:block;width:0;height:0;min-width:100%;max-width:100%;min-height:100%;max-height:100%;object-fit:contain\"/></noscript></span></a></div></div><a class=\"h5 rX0pv_W4\" href=\"/en/companies/323\">TTEC</a><a class=\"small-caps-regular AJ5717NV __7tg2egV1\" data-testid=\"follow-link\" role=\"button\" tabindex=\"0\"><svg class=\"hKjg22jT Be4BEJdO\" height=\"8\" viewbox=\"0 0 24 24\" width=\"8\" xmlns=\"http://www.w3.org/2000/svg\"><g clip-path=\"url(#plus-icon_svg__clip0)\"><path d=\"M23 11H13V1a1 1 0 00-1-1 1 1 0 00-1 1v10H1a1 1 0 00-1 1 1 1 0 001 1h10v10a1 1 0 002 0V13h10a1 1 0 000-2z\"></path></g><defs><clippath id=\"plus-icon_svg__clip0\"><path d=\"M0 0h24v24H0z\" fill=\"#fff\"></path></clippath></defs></svg>FOLLOW</a></div><div class=\"rSmfCQsV\"><div class=\"h6 __7bHmBsGG\"><svg class=\"x8Ihxwem\" height=\"12\" viewbox=\"0 0 24 24\" width=\"12\" xmlns=\"http://www.w3.org/2000/svg\"><g clip-path=\"url(#location-icon_svg__clip0)\"><path d=\"M12 16a3 3 0 001.342-.314l2-1A2.986 2.986 0 0017 12V9.033a2.985 2.985 0 00-1.658-2.683l-2-1a3.014 3.014 0 00-2.683 0l-2 1A2.985 2.985 0 007 9.033V12a2.986 2.986 0 001.658 2.684l2 1A3 3 0 0012 16zm-3-4V9.033a1 1 0 01.051-.3l2.18 1.09a1.72 1.72 0 001.538 0l2.18-1.09a1 1 0 01.051.3V12a.994.994 0 01-.553.895l-2 1a1.008 1.008 0 01-.895 0l-2-1A.994.994 0 019 12zm10 10h-2.709l3.487-3.222a11 11 0 10-15.528.028L7.709 22H5a1 1 0 000 2h14a1 1 0 100-2zM5.636 4.636a9 9 0 0112.757 12.7l-3.985 3.68A3.514 3.514 0 019.571 21l-3.935-3.636a9.01 9.01 0 010-12.728z\"></path></g><defs><clippath id=\"location-icon_svg__clip0\"><path d=\"M0 0h24v24H0z\" fill=\"#fff\"></path></clippath></defs></svg><span class=\"t4bg2aSk\">Athina</span></div><div class=\"h6 __7bHmBsGG\"><svg class=\"x8Ihxwem\" height=\"12\" viewbox=\"0 0 24 24\" width=\"12\" xmlns=\"http://www.w3.org/2000/svg\"><g clip-path=\"url(#calendar-icon_svg__clip0)\"><path d=\"M19 2h-1V1a1 1 0 00-2 0v1H8V1a1 1 0 00-2 0v1H5a5.006 5.006 0 00-5 5v12a5.006 5.006 0 005 5h14a5.006 5.006 0 005-5V7a5.006 5.006 0 00-5-5zM2 7a3 3 0 013-3h14a3 3 0 013 3v1H2V7zm17 15H5a3 3 0 01-3-3v-9h20v9a3 3 0 01-3 3z\"></path><path d=\"M12 16.5a1.5 1.5 0 100-3 1.5 1.5 0 000 3zM7 16.5a1.5 1.5 0 100-3 1.5 1.5 0 000 3zM17 16.5a1.5 1.5 0 100-3 1.5 1.5 0 000 3z\"></path></g><defs><clippath id=\"calendar-icon_svg__clip0\"><path d=\"M0 0h24v24H0z\" fill=\"#fff\"></path></clippath></defs></svg><span class=\"t4bg2aSk\" data-testid=\"job-summary-created-date\">Nov 11</span></div></div><div class=\"rSmfCQsV\"><div class=\"h6 __7bHmBsGG\"><svg class=\"x8Ihxwem\" height=\"12\" viewbox=\"0 0 24 24\" width=\"12\" xmlns=\"http://www.w3.org/2000/svg\"><path d=\"M11 12a1 1 0 010 2H8a1 1 0 010-2h3zm6-3a1 1 0 00-1-1H8a1 1 0 000 2h8a1 1 0 001-1zM8 6h8a1 1 0 100-2H8a1 1 0 000 2zm12 13.444v3.833a.72.72 0 01-1.231.51L18 23.019l-.769.768a.721.721 0 01-1.231-.51v-3.833A3.987 3.987 0 0118 12c.338.004.674.052 1 .142V5a3 3 0 00-3-3H8a3 3 0 00-3 3v12a3 3 0 003 3h5a1 1 0 010 2H8a5.006 5.006 0 01-5-5V5a5.006 5.006 0 015-5h8a5.006 5.006 0 015 5v8.382a3.95 3.95 0 01-1 6.062zM20 16a2 2 0 10-4 0 2 2 0 004 0z\"></path></svg><span class=\"t4bg2aSk\">Entry/Junior</span></div><div class=\"h6 __7bHmBsGG\"><svg class=\"x8Ihxwem\" height=\"12\" viewbox=\"0 0 24 24\" width=\"12\" xmlns=\"http://www.w3.org/2000/svg\"><g clip-path=\"url(#user-time-icon_svg__clip0)\"><path d=\"M17 24a7 7 0 117-7 7.008 7.008 0 01-7 7zm0-12a5 5 0 100 10 5 5 0 000-10zm1.707 6.707a1 1 0 000-1.414L18 16.586V15a1 1 0 00-2 0v2a1 1 0 00.293.707l1 1a1 1 0 001.414 0zM2 23a8.3 8.3 0 016.221-8.024 1 1 0 10-.442-1.952A10.213 10.213 0 000 23a1 1 0 102 0zm6.474-12a5.5 5.5 0 115.5-5.5 5.506 5.506 0 01-5.5 5.5zm0-9a3.5 3.5 0 100 7 3.5 3.5 0 000-7z\"></path></g><defs><clippath id=\"user-time-icon_svg__clip0\"><path d=\"M0 0h24v24H0z\" fill=\"#fff\"></path></clippath></defs></svg><span class=\"t4bg2aSk\">Full-time</span></div></div></div><div class=\"mzSf_Y8_\"><button class=\"ant-btn ant-btn-primary ant-btn-sm ui-button h6 pEVAD0zz\" data-testid=\"job-summary-apply-button\" type=\"button\"><span>Apply now</span></button><button class=\"ant-btn ant-btn-sm ui-button pEVAD0zz\" data-testid=\"job-summary-save-later-button\" type=\"button\"><svg height=\"12\" viewbox=\"0 0 24 24\" width=\"12\" xmlns=\"http://www.w3.org/2000/svg\"><g clip-path=\"url(#heart-icon_svg__clip0)\"><path d=\"M17.5.917a6.4 6.4 0 00-5.5 3.3 6.4 6.4 0 00-5.5-3.3A6.8 6.8 0 000 7.967c0 4.547 4.786 9.513 8.8 12.88a4.974 4.974 0 006.4 0c4.014-3.367 8.8-8.333 8.8-12.88a6.8 6.8 0 00-6.5-7.05zm-3.585 18.4a2.973 2.973 0 01-3.83 0C4.947 15.006 2 10.87 2 7.967a4.8 4.8 0 014.5-5.05 4.8 4.8 0 014.5 5.05 1 1 0 002 0 4.8 4.8 0 014.5-5.05 4.8 4.8 0 014.5 5.05c0 2.903-2.947 7.039-8.085 11.346v.004z\"></path></g><defs><clippath id=\"heart-icon_svg__clip0\"><path d=\"M0 0h24v24H0z\" fill=\"#fff\"></path></clippath></defs></svg><span>Save</span></button></div></div><div class=\"VILCuAZv\"><section class=\"OeUTWlse\"><button class=\"ant-btn ant-btn-link ant-btn-sm ui-button\" type=\"button\"><span>Report this job</span></button></section></div></div></main></section></section><div class=\"oMYVVReN\"><div class=\"D6joAIuS\"><div class=\"QqPe1ja1\"><span class=\"h5 uppercase\">One subscription, endless opportunities!</span><span class=\"main-body-text\">Sign up to our newsletter and be the first to receive job posts, career advice &amp; work-life tips!</span></div><form class=\"ant-form ant-form-horizontal RZ2ihxhh\"><div class=\"ant-row ant-form-item JpUz5I7O\"><div class=\"ant-col ant-form-item-control\"><div class=\"ant-form-item-control-input\"><div class=\"ant-form-item-control-input-content\"><span class=\"ant-input-affix-wrapper ant-input-affix-wrapper-sm\"><input class=\"ant-input ant-input-sm\" data-testid=\"newsletter-input\" id=\"email\" maxlength=\"255\" placeholder=\"Enter your email address\" type=\"text\" value=\"\"/><span class=\"ant-input-suffix\"><span aria-label=\"close-circle\" class=\"anticon anticon-close-circle ant-input-clear-icon-hidden ant-input-clear-icon\" role=\"button\" tabindex=\"-1\"><svg aria-hidden=\"true\" data-icon=\"close-circle\" fill=\"currentColor\" focusable=\"false\" height=\"1em\" viewbox=\"64 64 896 896\" width=\"1em\"><path d=\"M512 64C264.6 64 64 264.6 64 512s200.6 448 448 448 448-200.6 448-448S759.4 64 512 64zm165.4 618.2l-66-.3L512 563.4l-99.3 118.4-66.1.3c-4.4 0-8-3.5-8-8 0-1.9.7-3.7 1.9-5.2l130.1-155L340.5 359a8.32 8.32 0 01-1.9-5.2c0-4.4 3.6-8 8-8l66.1.3L512 464.6l99.3-118.4 66-.3c4.4 0 8 3.5 8 8 0 1.9-.7 3.7-1.9 5.2L553.5 514l130 155c1.2 1.5 1.9 3.3 1.9 5.2 0 4.4-3.6 8-8 8z\"></path></svg></span></span></span></div></div></div></div><div class=\"__1g5A7AsU\"><button class=\"ant-btn ant-btn-primary ant-btn-sm ui-button\" data-testid=\"newsletter-button\" type=\"submit\"><span>Subscribe</span></button></div></form><p class=\"small-body-text ZuceJk2c\" data-testid=\"newsletter-consent\">By clicking on the 'Subscribe' button, you agree to receive updates about jobs and work-life content. You know that you can unsubscribe at any time, by clicking on the 'Unsubscribe' button.</p></div></div><footer class=\"ant-layout-footer Mmh8xJg3\" data-testid=\"footer-comp\"><div class=\"BDsMrh58\"><div class=\"d8V8iSjD\"><h5 class=\"h5\">Job seekers</h5><a href=\"/en/jobs\" rel=\"noopener noreferrer\" target=\"_blank\">Browse jobs</a><a href=\"/en/companies\" rel=\"noopener noreferrer\" target=\"_blank\">Browse Companies</a><a role=\"button\" tabindex=\"0\">Upload Your Resume</a><a href=\"https://resources.kariera.gr/workatkariera/\" rel=\"noopener noreferrer\" target=\"_blank\">Work @kariera.gr</a><a href=\"https://resources.kariera.gr/events/\" rel=\"noopener noreferrer\" target=\"_blank\">Events</a><a href=\"https://resources.kariera.gr/blog/\" rel=\"noopener noreferrer\" target=\"_blank\">Blog</a><a href=\"https://kariera.helpscoutdocs.com/collection/5-collection\" rel=\"noopener noreferrer\" target=\"_blank\">FAQ Jobseeker</a></div><div class=\"d8V8iSjD\"><h5 class=\"h5\">Employers</h5><a href=\"https://resources.kariera.gr/employers/job-posts/\" rel=\"noopener noreferrer\" target=\"_blank\">Job Posts</a><a href=\"https://resources.kariera.gr/employers/cv-database/\" rel=\"noopener noreferrer\" target=\"_blank\">CV Database</a><a href=\"https://resources.kariera.gr/employers/screening-hiring-solutions/\" rel=\"noopener noreferrer\" target=\"_blank\">Screening &amp; Hiring Solutions</a><a href=\"https://resources.kariera.gr/employers/company-profile/\" rel=\"noopener noreferrer\" target=\"_blank\">Company Profile</a><a href=\"https://resources.kariera.gr/employers/career-guide/\" rel=\"noopener noreferrer\" target=\"_blank\">Career Guide</a><a href=\"https://resources.kariera.gr/blog/\" rel=\"noopener noreferrer\" target=\"_blank\">Blog</a><a href=\"https://kariera.helpscoutdocs.com/collection/1-collection\" rel=\"noopener noreferrer\" target=\"_blank\">FAQ Employer</a></div><div class=\"d8V8iSjD\"><h5 class=\"h5\">Legal</h5><a href=\"/contact\" rel=\"noopener noreferrer\" target=\"_blank\">Delete Account</a><a href=\"https://www.kariera.gr/contact\" rel=\"noopener noreferrer\" target=\"_blank\">Manage Personal Data</a><a href=\"https://resources.kariera.gr/financial-statements/\" rel=\"noopener noreferrer\" target=\"_blank\">Financial Information</a></div><div class=\"d8V8iSjD\"><h5 class=\"h5\">Company</h5><a href=\"https://resources.kariera.gr/about/\" rel=\"noopener noreferrer\" target=\"_blank\">About Us</a><a href=\"/en/contact\">Contact</a></div></div><div class=\"yq7pXS3h\"><h5 class=\"h5\">Search for</h5><div><a href=\"/en/sitedirectory/title-jobs\">Jobs</a><a href=\"/en/sitedirectory/location-jobs\">Locations</a><a href=\"/en/sitedirectory/company-jobs\">Companies</a></div></div><div class=\"bJFy3Eru\"><svg class=\"apJV2iHa\" fill=\"none\" height=\"51\" width=\"44\" xmlns=\"http://www.w3.org/2000/svg\"><g clip-path=\"url(#kariera_mini_logo_white_svg__clip0_41_8294)\"><path d=\"M32.657 45.295c0-1.65.546-3.027 1.64-4.131a5.452 5.452 0 011.83-1.243 5.4 5.4 0 012.168-.408 5.512 5.512 0 012.183.41 5.566 5.566 0 011.85 1.24c1.114 1.1 1.67 2.477 1.67 4.132a5.501 5.501 0 01-.412 2.206 5.445 5.445 0 01-1.258 1.85 5.57 5.57 0 01-1.85 1.238 5.519 5.519 0 01-2.183.41 5.526 5.526 0 01-2.166-.419 5.577 5.577 0 01-1.837-1.234 5.655 5.655 0 01-1.221-1.86 5.706 5.706 0 01-.414-2.191z\" fill=\"#FF2458\"></path><path d=\"M31.797 51h-9.969L8.766 32.636 8.773 51H0V0h8.773l-.007 31.94 11.687-15.752h10.485L18.905 32.55 31.796 51z\" fill=\"#fff\"></path></g><defs><clippath id=\"kariera_mini_logo_white_svg__clip0_41_8294\"><path d=\"M0 0h44v51H0z\" fill=\"#fff\"></path></clippath></defs></svg><div class=\"MZ1TTdll\"><a href=\"https://www.facebook.com/kariera.gr\" rel=\"noopener noreferrer\" target=\"_blank\"><svg fill=\"none\" height=\"32\" width=\"32\" xmlns=\"http://www.w3.org/2000/svg\"><path clip-rule=\"evenodd\" d=\"M0 16C0 7.163 7.163 0 16 0s16 7.163 16 16-7.163 16-16 16S0 24.837 0 16zm17.668 9.408v-8.705h2.403l.318-3h-2.721l.004-1.501c0-.783.074-1.202 1.198-1.202h1.502V8h-2.403c-2.887 0-3.903 1.455-3.903 3.902v1.801h-1.8v3h1.8v8.705h3.602z\" fill=\"#fff\" fill-rule=\"evenodd\"></path></svg></a><a href=\"https://www.linkedin.com/company/karieragr/mycompany/\" rel=\"noopener noreferrer\" target=\"_blank\"><svg fill=\"none\" height=\"32\" width=\"32\" xmlns=\"http://www.w3.org/2000/svg\"><path clip-rule=\"evenodd\" d=\"M0 16C0 7.163 7.163 0 16 0s16 7.163 16 16-7.163 16-16 16S0 24.837 0 16zm11.307-2.748H7.681v10.894h3.626V13.252zm.239-3.37C11.522 8.814 10.758 8 9.518 8s-2.051.814-2.051 1.882c0 1.046.787 1.883 2.004 1.883h.023c1.264 0 2.052-.837 2.052-1.883zM24.384 17.9c0-3.346-1.79-4.904-4.175-4.904-1.925 0-2.787 1.057-3.268 1.8v-1.544h-3.627c.048 1.022 0 10.895 0 10.895h3.627v-6.085c0-.325.023-.65.119-.883.262-.65.859-1.324 1.86-1.324 1.313 0 1.838.999 1.838 2.463v5.828h3.625V17.9z\" fill=\"#fff\" fill-rule=\"evenodd\"></path></svg></a><a href=\"https://www.instagram.com/kariera.gr/\" rel=\"noopener noreferrer\" target=\"_blank\"><svg fill=\"none\" height=\"32\" width=\"32\" xmlns=\"http://www.w3.org/2000/svg\"><path clip-rule=\"evenodd\" d=\"M0 16C0 7.163 7.163 0 16 0s16 7.163 16 16-7.163 16-16 16S0 24.837 0 16zm16-8.533c-2.317 0-2.608.01-3.518.051-.908.042-1.528.186-2.07.397a4.178 4.178 0 00-1.513.984c-.474.474-.766.95-.985 1.511-.211.543-.355 1.163-.396 2.071-.04.91-.051 1.202-.051 3.52 0 2.317.01 2.607.051 3.517.042.908.186 1.528.397 2.07.218.562.51 1.038.984 1.513.474.474.95.767 1.511.985.543.21 1.163.354 2.072.396.91.041 1.2.052 3.518.052 2.317 0 2.607-.01 3.518-.052.908-.042 1.529-.185 2.072-.396a4.175 4.175 0 001.51-.985c.475-.475.767-.95.985-1.512.21-.543.354-1.163.397-2.071.04-.91.051-1.2.051-3.518 0-2.317-.01-2.608-.051-3.518-.043-.909-.187-1.53-.397-2.072A4.187 4.187 0 0023.1 8.9a4.17 4.17 0 00-1.51-.984c-.545-.211-1.165-.355-2.074-.397-.91-.041-1.2-.051-3.518-.051h.003z\" fill=\"#fff\" fill-rule=\"evenodd\"></path><path clip-rule=\"evenodd\" d=\"M15.235 9.004h.766c2.278 0 2.548.009 3.448.05.832.038 1.284.177 1.584.293.399.155.682.34.981.639.299.298.484.583.639.981.116.3.256.752.294 1.584.04.9.05 1.17.05 3.447 0 2.278-.01 2.548-.05 3.447-.039.832-.178 1.284-.294 1.584-.155.398-.34.682-.639.98a2.64 2.64 0 01-.98.639c-.301.117-.753.256-1.585.294-.9.04-1.17.05-3.448.05-2.279 0-2.549-.01-3.448-.05-.832-.038-1.284-.178-1.585-.294a2.642 2.642 0 01-.981-.639 2.645 2.645 0 01-.639-.98c-.117-.3-.256-.752-.294-1.584-.04-.9-.049-1.17-.049-3.449s.008-2.548.05-3.447c.037-.832.176-1.284.293-1.585.155-.398.34-.682.639-.98.298-.3.583-.484.981-.64.3-.117.753-.255 1.585-.294.787-.035 1.092-.046 2.682-.048v.002zm5.32 1.417a1.024 1.024 0 100 2.048 1.024 1.024 0 000-2.048zm-4.554 1.197a4.383 4.383 0 100 8.765 4.383 4.383 0 000-8.765z\" fill=\"#fff\" fill-rule=\"evenodd\"></path><path clip-rule=\"evenodd\" d=\"M16 13.156a2.845 2.845 0 110 5.689 2.845 2.845 0 010-5.69z\" fill=\"#fff\" fill-rule=\"evenodd\"></path></svg></a></div></div><div class=\"__7mnhB_Qg\"><a href=\"https://www.kariera.gr/documents/terms-and-conditions\" rel=\"noopener noreferrer\" target=\"_blank\">Terms and Conditions</a><a href=\"https://www.kariera.gr/documents/privacy-policy\" rel=\"noopener noreferrer\" target=\"_blank\">Privacy Policy</a><div class=\"IOCY3YdN small-body-text\"><a class=\"small-body-text\" href=\"https://www.kariera.gr/documents/cookies-policy\" rel=\"noopener noreferrer\" target=\"_blank\">Cookies Policy</a><div data-testid=\"bottom-cookies-change\" role=\"link\" tabindex=\"0\">(change preferences)</div></div></div><div class=\"__9vSczPM_\"><div>© Copyright 2022 kariera.gr. All rights reserved. Various other company trademarks (logos, etc.) held by their respective owners &amp;/or uploaders.</div></div></footer><section class=\"eoCgRkmF\"><ul class=\"ant-menu ant-menu-light bottom-bar-container ant-menu-root ant-menu-horizontal\" data-testid=\"bottom-bar\" role=\"menu\"><li class=\"ant-menu-submenu ant-menu-submenu-horizontal ant-menu-overflowed-submenu\" role=\"menuitem\" style=\"display:none\"><div aria-expanded=\"false\" aria-haspopup=\"true\" class=\"ant-menu-submenu-title\" role=\"button\"><span>···</span><i class=\"ant-menu-submenu-arrow\"></i></div></li><li class=\"ant-menu-item\" data-testid=\"bottom-home-route\" role=\"menuitem\"><svg class=\"ant-menu-item-icon\" fill=\"none\" height=\"24\" width=\"24\" xmlns=\"http://www.w3.org/2000/svg\"><path d=\"M23.121 9.069l-7.585-7.586a5.008 5.008 0 00-7.072 0L.879 9.069A2.978 2.978 0 000 11.19v9.817a3 3 0 003 3h18a3 3 0 003-3V11.19a2.978 2.978 0 00-.879-2.121zM15 22.007H9v-3.934a3 3 0 116 0v3.934zm7-1a1 1 0 01-1 1h-4v-3.934a5 5 0 10-10 0v3.934H3a1 1 0 01-1-1V11.19c0-.265.106-.519.293-.707L9.878 2.9a3.008 3.008 0 014.244 0l7.585 7.586c.186.187.291.44.293.704v9.817z\" fill=\"#FF2458\"></path></svg><span>Home</span></li><li class=\"ant-menu-submenu ant-menu-submenu-horizontal ant-menu-overflowed-submenu\" role=\"menuitem\" style=\"display:none\"><div aria-expanded=\"false\" aria-haspopup=\"true\" class=\"ant-menu-submenu-title\" role=\"button\"><span>···</span><i class=\"ant-menu-submenu-arrow\"></i></div></li><li class=\"ant-menu-item\" data-testid=\"bottom-feed-route\" role=\"menuitem\"><svg class=\"ant-menu-item-icon\" fill=\"none\" viewbox=\"0 0 24 24\" xmlns=\"http://www.w3.org/2000/svg\"><g clip-path=\"url(#megaphone_svg__clip0)\"><path d=\"M17 0a1 1 0 00-1 1c0 2.949-2.583 4-5 4H4a4 4 0 00-4 4v2a3.98 3.98 0 001.514 3.109l3.572 7.972A3.233 3.233 0 008.039 24a2.982 2.982 0 002.72-4.2l-2.2-4.8H11c2.417 0 5 1.051 5 4a1 1 0 002 0V1a1 1 0 00-1-1zM8.937 20.619A.983.983 0 018.039 22a1.232 1.232 0 01-1.126-.734L4.105 15h2.254l2.578 5.619zM16 14.6a7.723 7.723 0 00-5-1.6H4a2 2 0 01-2-2V9a2 2 0 012-2h7a7.723 7.723 0 005-1.595V14.6zm7.9.852a1 1 0 01-1.342.448l-2-1a1 1 0 11.894-1.79l2 1a1 1 0 01.448 1.337v.005zm-3.79-9a1 1 0 01.448-1.342l2-1a1 1 0 01.894 1.79l-2 1a1 1 0 01-1.342-.448zM20 10a1 1 0 011-1h2a1 1 0 110 2h-2a1 1 0 01-1-1z\" fill=\"#000\"></path></g><defs><clippath id=\"megaphone_svg__clip0\"><path d=\"M0 0h24v24H0z\" fill=\"#fff\"></path></clippath></defs></svg><span>Feed</span></li><li class=\"ant-menu-submenu ant-menu-submenu-horizontal ant-menu-overflowed-submenu\" role=\"menuitem\" style=\"display:none\"><div aria-expanded=\"false\" aria-haspopup=\"true\" class=\"ant-menu-submenu-title\" role=\"button\"><span>···</span><i class=\"ant-menu-submenu-arrow\"></i></div></li><li class=\"ant-menu-item\" data-testid=\"bottom-jobs-route\" role=\"menuitem\"><svg class=\"ant-menu-item-icon\" fill=\"none\" viewbox=\"0 0 24 24\" xmlns=\"http://www.w3.org/2000/svg\"><g clip-path=\"url(#search-icon_svg__clip0)\"><path d=\"M23.707 22.293l-5.969-5.97a10.016 10.016 0 10-1.414 1.415l5.969 5.969a1 1 0 001.414-1.414zM10 18a8 8 0 118-8 8.009 8.009 0 01-8 8z\" fill=\"#000\"></path></g><defs><clippath id=\"search-icon_svg__clip0\"><path d=\"M0 0h24v24H0z\" fill=\"#fff\"></path></clippath></defs></svg><span>Search</span></li><li class=\"ant-menu-submenu ant-menu-submenu-horizontal ant-menu-overflowed-submenu\" role=\"menuitem\" style=\"display:none\"><div aria-expanded=\"false\" aria-haspopup=\"true\" class=\"ant-menu-submenu-title\" role=\"button\"><span>···</span><i class=\"ant-menu-submenu-arrow\"></i></div></li><li class=\"ant-menu-item\" data-testid=\"bottom-favourites-route\" role=\"menuitem\"><svg class=\"ant-menu-item-icon\" fill=\"none\" height=\"24\" width=\"24\" xmlns=\"http://www.w3.org/2000/svg\"><g clip-path=\"url(#saved_svg__clip0_883_3589)\" fill=\"#000\"><path d=\"M19.95 5.536L16.464 2.05A6.954 6.954 0 0011.515 0H7a5.006 5.006 0 00-5 5v14a5.006 5.006 0 005 5h10a5.006 5.006 0 005-5v-8.515a6.955 6.955 0 00-2.05-4.949zM18.536 6.95c.305.314.568.667.781 1.05H15a1 1 0 01-1-1V2.683c.383.213.736.476 1.05.781l3.486 3.486zM20 19a3 3 0 01-3 3H7a3 3 0 01-3-3V5a3 3 0 013-3h4.515c.165 0 .323.032.485.047V7a3 3 0 003 3h4.953c.015.162.047.32.047.485V19z\"></path><path d=\"M14.29 12a2.865 2.865 0 00-1.33.346c-.401.22-.733.532-.96.905a2.547 2.547 0 00-.96-.905A2.865 2.865 0 009.71 12a2.957 2.957 0 00-1.96.828 2.449 2.449 0 00-.748 1.846c0 1.724 1.993 3.607 3.665 4.884.373.285.845.442 1.333.442s.96-.157 1.333-.442c1.672-1.277 3.665-3.16 3.665-4.884a2.449 2.449 0 00-.748-1.846A2.956 2.956 0 0014.29 12z\"></path></g><defs><clippath id=\"saved_svg__clip0_883_3589\"><path d=\"M0 0h24v24H0z\" fill=\"#fff\"></path></clippath></defs></svg><span>Favourites</span></li><li class=\"ant-menu-submenu ant-menu-submenu-horizontal ant-menu-overflowed-submenu\" role=\"menuitem\" style=\"display:none\"><div aria-expanded=\"false\" aria-haspopup=\"true\" class=\"ant-menu-submenu-title\" role=\"button\"><span>···</span><i class=\"ant-menu-submenu-arrow\"></i></div></li><li class=\"ant-menu-item\" data-testid=\"bottom-profile\" role=\"menuitem\"><svg class=\"ant-menu-item-icon\" viewbox=\"0 0 16 16\" xmlns=\"http://www.w3.org/2000/svg\"><g clip-path=\"url(#user-icon_svg__clip0)\"><path clip-rule=\"evenodd\" d=\"M10.222 7.326A4 4 0 115.778.674a4 4 0 014.444 6.652zm-.74-5.543a2.667 2.667 0 10-2.963 4.434 2.667 2.667 0 002.963-4.434zm-5.723 9.31A6.007 6.007 0 018 9.333a6.007 6.007 0 016 6 .666.666 0 11-1.333 0 4.667 4.667 0 00-9.334 0 .667.667 0 11-1.333 0 6.007 6.007 0 011.76-4.24z\" fill-rule=\"evenodd\"></path></g><defs><clippath id=\"user-icon_svg__clip0\"><path d=\"M0 8a8 8 0 1116 0A8 8 0 010 8z\" fill=\"#fff\"></path></clippath></defs></svg><span>Profile</span></li><li class=\"ant-menu-submenu ant-menu-submenu-horizontal ant-menu-overflowed-submenu\" role=\"menuitem\" style=\"visibility:hidden;position:absolute\"><div aria-expanded=\"false\" aria-haspopup=\"true\" class=\"ant-menu-submenu-title\" role=\"button\"><span>···</span><i class=\"ant-menu-submenu-arrow\"></i></div></li></ul></section></section></div><script id=\"__NEXT_DATA__\" type=\"application/json\">{\"props\":{\"pageProps\":{\"user\":{},\"job\":{\"id\":32853,\"title\":\"Bilingual Customer Service Representative - Romanian-English - Travel\",\"seniority\":\"ENTRY_JUNIOR\",\"occupationType\":\"FULL_TIME\",\"status\":\"PUBLISHED\",\"description\":\"\\u003cp\\u003e\\u003cstrong\\u003eWhat You’ll be Doing \\u003c/strong\\u003e\\u003cbr /\\u003eLooking to build your career in the travel industry? Whether it’s getting answers for customers quickly, consulting on products or resolving their issues with a smile, you’ll be the difference between their customer experience being just average or an exceptional one. Turn your passion for travel into action in customer service helping people find great places to stay and creating unique travel experiences. \\u003c/p\\u003e\\n\\u003cp\\u003e\\u003cstrong\\u003eDuring a Typical Day, You’ll \\u003c/strong\\u003e\\u003c/p\\u003e\\n\\u003cul\\u003e\\n\\u003cli\\u003eAnswer incoming communications from customers  \\u003c/li\\u003e\\n\\u003cli\\u003eConduct research to provide answers for customers to resolve their issues \\u003c/li\\u003e\\n\\u003cli\\u003eBe the first point of contact for the world's first-class accommodation partners by resolving basic questions and queries, such as modifications to rooms, rates, and availability, extranet tooling etc. \\u003c/li\\u003e\\n\\u003cli\\u003eProvide accurate, valid, and complete information by using the right tools, methods, and processes.  \\u003c/li\\u003e\\n\\u003cli\\u003eEnsure a high level of partner service and a positive partner experience  \\u003c/li\\u003e\\n\\u003c/ul\\u003e\\n\\u003cp\\u003e\\u003cstrong\\u003eWhat You Bring to the Role \\u003c/strong\\u003e\\u003c/p\\u003e\\n\\u003cul\\u003e\\n\\u003cli\\u003eFluent in Romanian and English \\u003c/li\\u003e\\n\\u003cli\\u003eHigh school diploma or equivalent  \\u003c/li\\u003e\\n\\u003cli\\u003e6 months or more of customer services experience \\u003c/li\\u003e\\n\\u003cli\\u003eRecognize, apply and explain your product or service knowledge  \\u003c/li\\u003e\\n\\u003cli\\u003eComputer savvy \\u003c/li\\u003e\\n\\u003c/ul\\u003e\\n\\u003cp\\u003e\\u003cstrong\\u003eWhat You Can Expect \\u003c/strong\\u003e\\u003c/p\\u003e\\n\\u003cul\\u003e\\n\\u003cli\\u003eKnowledgeable, encouraging, supporting and present leadership \\u003c/li\\u003e\\n\\u003cli\\u003eDiverse and community minded organization \\u003c/li\\u003e\\n\\u003cli\\u003eCareer-growth and lots of learning opportunities for aspiring minds \\u003c/li\\u003e\\n\\u003cli\\u003e25 days annual leave per year  \\u003c/li\\u003e\\n\\u003cli\\u003eExcellent premises during training and when you come to the site for employee engagement activities in Athens city center, Kerameikos metro station  \\u003c/li\\u003e\\n\\u003cli\\u003eRelocation assistance available \\u003c/li\\u003e\\n\\u003cli\\u003eAnd yes...all the competitive compensation, performance bonus opportunities and benefits you'd expect and maybe a few that would pleasantly surprise you \\u003c/li\\u003e\\n\\u003c/ul\\u003e\\n\\u003cp\\u003e\\u003cstrong\\u003eA Bit More About Your Role \\u003c/strong\\u003e\\u003cbr /\\u003eWe’ll train you to be a subject matter expert in your field, so you can be confident in providing the highest level of service possible whether through voice, chat or email interactions. We trust you already have the necessary ingredient that can’t be taught – a caring and supportive nature that will shine through as you help customers. You’ll also have a chance to make great new friends within the TTEC community and grow your career in a dynamic, family-friendly atmosphere. \\u003c/p\\u003e\\n\\u003cp\\u003eYou'll report to a Team Lead. You’ll contribute to the success of the customer experience as well as the overall success of the team. \\u003c/p\\u003e\\n\\u003cp\\u003e\\u003cstrong\\u003eAbout TTEC \\u003c/strong\\u003e\\u003c/p\\u003e\\n\\u003cp\\u003eOur business is about making customers happy. That’s all we do. Since 1982, we’ve helped companies build engaged, pleased, profitable customer experiences powered by our combination of humanity and technology. On behalf of many of the world’s leading iconic and disruptive brands, we talk, message, text, and video chat with millions of customers every day. These exceptional customer experiences start with you. \\u003cbr /\\u003e \\u003cbr /\\u003eTTEC is proud to be an equal opportunity employer. TTEC embraces and is committed to building a diverse and inclusive workforce that respects and empowers the culture and perspectives within our global teams. We strive to reflect the communities we serve by not only delivering amazing service and technology, but also humanity. We make it a point to make sure all our employees feel valued and comfortable being their authentic selves at work. As a global company, we know diversity is our strength. It enables us to view projects and ideas from different vantage points and allows every individual to bring value to the table in their own unique way\\u003c/p\\u003e\",\"shortDescription\":\"Be a part of creating and delivering amazing customer experiences while you also #ExperienceTTEC, an award-winning employment experience and company culture as Romanian - English Customer Service Representative. \",\"externalApplyUrl\":null,\"companyRelatedJobs\":false,\"type\":\"DEFAULT\",\"location\":{\"id\":4,\"city\":\"Athina\",\"region\":\"Kentrikos Tomeas Athinon\",\"prefacture\":\"Attica\",\"country\":\"Greece\"},\"applied\":false,\"reportedDate\":null,\"createdDate\":1668200352000,\"expirationDate\":1670792352000,\"favourite\":false,\"tags\":[{\"id\":843,\"name\":\"customer service\"},{\"id\":1073,\"name\":\"english\"},{\"id\":1384,\"name\":\"romanian\"}],\"remote\":\"DISABLED\",\"category\":\"CALL_CENTER_CUSTOMER_SUPPORT\",\"company\":{\"id\":323,\"name\":\"TTEC\",\"imageUrl\":\"https://employerfilesprod.blob.core.windows.net/useruploads/689/company/323/img-1649414853186\",\"size\":\"ENTERPRICE\",\"section\":\"CUSTOMER_SERVICE_CALL_CENTER\",\"url\":\"https://www.ttecjobs.com\",\"numOfJobs\":11,\"follow\":false,\"simple\":false}},\"_nextI18Next\":{\"initialI18nStore\":{\"en\":{\"common\":{\"home\":\"Welcome to kariera\",\"connect_with_google\":\"Sign in with Google\",\"results\":\"results\",\"nav_bar\":{\"search_for_jobs\":\"Search for jobs\",\"for_employers\":\"For Employers\"},\"menuOptions\":{\"notifications\":\"Notifications\",\"my_saved_jobs\":\"My saved jobs\",\"favourites\":\"Favourites\",\"profile\":\"Profile\",\"logout\":\"Logout\"},\"sider\":{\"home\":\"Home\",\"feed\":\"Feed\",\"search\":\"Search\",\"favourites\":\"Favourites\",\"profile\":\"My Profile\",\"personalDetails\":\"Personal details\",\"myCvs\":\"Curriculum vitae (CVs)\",\"skills\":\"Education \\u0026 skills\",\"experience\":\"Experience\"},\"bottom\":{\"home\":\"Home\",\"feed\":\"Feed\",\"search\":\"Search\",\"profile\":\"Profile\",\"personalDetails\":\"Personal details\",\"myCvs\":\"Curriculum vitae (CVs)\",\"skills\":\"Education \\u0026 skills\",\"experience\":\"Experience\"},\"popConfirm\":{\"title\":\"Are you sure you want to delete it?\",\"positive\":\"Yes\",\"negative\":\"No\"},\"timeline\":{\"title\":\"Latest news\",\"description\":\"Find job posts, companies, trends and advice about your career. All in one place.\",\"new\":\"New\"},\"jobSearch\":{\"search_for_a_job\":\"Search for jobs or companies\",\"filters\":\"Filters\",\"industry\":\"Industry Sector\",\"category\":\"Job category\",\"location\":\"Location\",\"company\":\"Company\",\"remote\":\"Remote jobs\",\"remote_toggle\":\"Eligible for remote\",\"level\":\"Seniority level\",\"type\":\"Job type\",\"search\":\"Search\",\"clear\":\"Clear\",\"clear_all\":\"clear all\",\"city\":\"City\",\"region\":\"Region\",\"input_no_results\":\"no results yet\",\"in_jobs\":\"in jobs\",\"in_companies\":\"in companies\",\"show_all_jobs\":\"\\u003c0\\u003eShow all\\u003c/0\\u003e jobs\",\"show_all_companies\":\"\\u003c0\\u003eShow all\\u003c/0\\u003e companies\",\"no_results\":\"No results found\",\"available_jobs_with_search_one\":\"{{count}} available job post for\",\"available_jobs_with_search_other\":\"{{count}} available job posts for\",\"with_criteria\":\"according to your criteria\",\"available_jobs_without_filters_one\":\"{{count}} available job post\",\"available_jobs_without_filters_other\":\"{{count}} available job posts\",\"remote_results\":\"remote\",\"in\":\"in\",\"with\":\"that are\",\"in_company\":\"in Company\",\"relevance\":\"Most relevant\",\"published_new_first\":\"Newest first\",\"published_oldest_first\":\"Oldest first\",\"recent_searches\":\"Recent job searches\",\"close\":\"close\"},\"search_again\":\"Search again\",\"no_search_results\":\"Oops! No results found. Please change your search criteria and…\",\"jobs\":\"Jobs\",\"jobs_tab\":\"Job posts\",\"more_options\":\"More options\",\"less_options\":\"Less options\",\"view_results_one\":\"View {{count}} result\",\"view_results_other\":\"View {{count}} results\",\"companies\":\"Companies\",\"search_results\":\"Search results\",\"days_to_apply\":\"Days to apply\",\"saved_jobs\":\"Saved jobs\",\"readMore\":\"Read more\",\"copied\":\"Copied to clipboard\",\"follow\":\"FOLLOW\",\"following\":\"FOLLOWING\",\"locations\":\"Locations\",\"jobCategory\":{\"OTHER\":\"Other\",\"ACCOUNTING_AUDITING\":\"Accounting / Auditing\",\"ADMINISTRATIVE_SECRETARIAL\":\"Administrative Assistants / Secretaries\",\"AGRICULTURE\":\"Agriculture\",\"BEAUTY_SERVICES_FITNESS\":\"Beauty Services / Fitness\",\"BI_BUSINESS_ANALYSIS\":\"BI / Business Analysis \",\"CALL_CENTER_CUSTOMER_SUPPORT\":\"Call Center / Customer Support\",\"COMMUNITY_SOCIAL_SERVICE_VOLUNTARY\":\"Community / Social Services / Voluntary\",\"CONSULTING\":\"Consulting\",\"CONSTRUCTION_ENGINEERS_ARCHITECTS\":\"Construction / Engineers / Architects\",\"DESIGN_GRAPHIC_ARTS_CREATIVE\":\"Design / Graphic Αrts / Creative\",\"EDUCATION_TRAINING\":\"Education / Training\",\"ENGINEERING\":\"Engineering\",\"E_COMMERCE_DIGITAL_SERVICES\":\"E-commerce / Digital Services\",\"FINANCE\":\"Finance\",\"FOOD_CAFE\":\"Food / Cafe\",\"GENERAL_MANAGEMENT\":\"General Management\",\"HUMAN_RESOURCES\":\"Human Resources\",\"IT\":\"IT\",\"LEGAL\":\"Legal\",\"LOGISTICS_WAREHOUSE\":\"Logistics / Warehouse\",\"MARKETING_ADVERTISING\":\"Marketing / Advertising\",\"MEDICINE_HEALTHCARE\":\"Medicine / Healthcare\",\"OPERATIONS\":\"Operations\",\"PRESS_RADIO_TV\":\"Press / Radio / TV\",\"PRODUCTION\":\"Production\",\"PROCUREMENT_SUPPLY_CHAIN\":\"Procurement / Supply Chain\",\"PUBLIC_RELATIONS\":\"Public Relations\",\"QUALITY_ASSURANCE\":\"Quality Assurance\",\"REAL_ESTATE\":\"Real Estate\",\"RETAIL\":\"Retail\",\"RESEARCH_DEVELOPMENT\":\"Research \\u0026 Development\",\"SALES_BUSINESS_DEVELOPMENT_ACCOUNT_MANAGEMENT\":\"Sales / Business Development / Account Management\",\"SCIENCE_RESEARCH\":\"Science / Research\",\"SECURITY\":\"Security\",\"SPORTS_ART\":\"Sports / Art\",\"STRATEGY_PLANNING\":\"Strategy / Planning\",\"TECHNICIANS_SERVICE\":\"Technicians / Service\",\"TOURISM\":\"Tourism\",\"TRANSPORT_DRIVING\":\"Transport / Driving\",\"WORKERS\":\"Workers\"},\"seniorityLevel\":{\"NO_EXPERIENCE_NO_DEGREE\":\"No experience/No degree\",\"ENTRY_JUNIOR\":\"Entry/Junior\",\"MID_LEVEL\":\"Mid level\",\"SENIOR\":\"Senior\",\"EXECUTIVE\":\"C-level/Executive\"},\"occupationType\":{\"FULL_TIME\":\"Full-time\",\"PART_TIME\":\"Part-time\",\"FULL_TIME_PART_TIME\":\"Full-time/Part-time\",\"CONTRACT_FREELANCE_SELF_EMPLOYED\":\"Contract/Freelance/Self-employed\",\"INTERNSHIP_APPRENTICESHIP\":\"Internship/Apprenticeship\",\"SEASONAL\":\"Seasonal\",\"VOLUNTEER\":\"Volunteer\"},\"remoteType\":{\"FULLY_REMOTE\":\"Full remote\",\"PARTIALLY_REMOTE\":\"Part remote\",\"TEMPORARILY_REMOTE\":\"Temporarily remote\"},\"companyDetails\":{\"positions\":\"View {{jobPosts}} jobs\",\"visit_website\":\"Visit the website\"},\"non_logged_in_employer\":{\"connect_with_google\":\"Connect with your Google account\"},\"homepage\":{\"start_now\":\"Start now\",\"create_your_profile_and_start_applying\":\"Create your profile and start applying.\"},\"newsletter\":{\"newsletter_header\":\"One subscription, endless opportunities!\",\"newsletter_sh\":\"Sign up to our newsletter and be the first to receive job posts, career advice \\u0026 work-life tips!\",\"enter_mail\":\"Enter your email address\",\"register\":\"Subscribe\",\"registration_consent\":\"By clicking on the 'Subscribe' button, you agree to receive updates about jobs and work-life content. You know that you can unsubscribe at any time, by clicking on the 'Unsubscribe' button.\"},\"footer\":{\"job_seekers\":{\"title\":\"Job seekers\",\"browse_jobs\":\"Browse jobs\",\"browse_companies\":\"Browse Companies\",\"upload_cv\":\"Upload Your Resume\",\"work_@_kariera\":\"Work @kariera.gr\",\"events\":\"Events\",\"blog\":\"Blog\",\"faq\":\"FAQ Jobseeker\"},\"employers\":{\"title\":\"Employers\",\"job_posts\":\"Job Posts\",\"cv_database\":\"CV Database\",\"screening_hr_solutions\":\"Screening \\u0026 Hiring Solutions\",\"company_profile\":\"Company Profile\",\"career_profile\":\"Career Guide\",\"blog\":\"Blog\",\"faq\":\"FAQ Employer\"},\"legal\":{\"title\":\"Legal\",\"advertisement\":\"Advertisement\",\"delete_account\":\"Delete Account\",\"manage_personal_data\":\"Manage Personal Data\",\"financial_information\":\"Financial Information\",\"all_rights_reserved\":\"© Copyright 2022 kariera.gr. All rights reserved. Various other company trademarks (logos, etc.) held by their respective owners \\u0026/or uploaders.\"},\"company\":{\"title\":\"Company\",\"about_us\":\"About Us\",\"contact\":\"Contact\"},\"seo\":{\"search_for\":\"Search for\",\"jobs\":\"Jobs\",\"locations\":\"Locations\",\"companies\":\"Companies\"},\"terms_and_conditions\":\"Terms and Conditions\",\"privacy_policy\":\"Privacy Policy\",\"cookies_policy\":\"Cookies Policy\",\"change_preferences\":\"change preferences\"},\"quick_apply\":{\"button\":\"Quick apply\",\"done\":\"Just applied\"},\"messages\":{\"error\":{\"page_not_found\":\"Page not found\",\"something_went_wrong\":\"Something went wrong\",\"feed_not_loaded\":\"Feed could not be loaded\",\"jobs_not_loaded\":\"Jobs could not be loaded\",\"companies_not_loaded\":\"Companies could not be loaded\"},\"newsletter\":{\"success\":\"Successfully subscribed\",\"form_errors\":{\"email_not_valid\":\"Please enter a valid email address\",\"email_required\":\"Please enter your email\",\"too_many_characters\":\"This value must be less than 255 characters\"},\"validation\":{\"invalid_creds\":\"You have entered an invalid email. Please try again.\",\"recaptcha\":\"Invalid reCAPTCHA - please retry.\"}}}},\"notification\":{\"status\":{\"error\":\"Error\",\"warning\":\"Warning\",\"success\":\"Success\",\"info\":\"Info\"},\"frontend\":{\"failed\":\"Something went wrong, please try again later.\"},\"backend\":{\"unauthorized\":\"You are not authorised to access this resource.\",\"forbidden\":\"You are not authorised to access this resource.\",\"not_found\":\"Not found\",\"exceeded_limits\":\"You have exceeded the limits.\",\"validation\":{\"failed\":\"Something went wrong, please try again later.\",\"bad_request\":\"Something went wrong, please try again later.\"}}},\"job-post\":{\"jobTitle\":{\"job_title\":\"Job title\",\"apply_button\":\"Apply now\",\"refLabel\":\"Ref\"},\"applicationStatus\":{\"applied\":\"You applied to this job opening\",\"expired\":\"Job post no longer accept applications\",\"view\":\"View\"},\"jobRelatedTags\":{\"related_tag_title\":\"Related tags\",\"suggest_tag\":\"Suggest a tag\"},\"jobDetails\":{\"location\":\"Location\",\"posted\":\"Posted date\",\"category\":\"Job category\",\"level\":\"Minimum level\",\"type\":\"Job type\",\"remote\":\"Remote policy\"},\"jobSummary\":{\"job_summary_title\":\"JOB SUMMARY\",\"apply_button\":\"Apply now\",\"view_applications\":\"View Applications\"},\"reportJob\":{\"button\":\"Report this job\"},\"jobPost\":{\"sponsored_title\":\"Best match job opportunities for you\",\"best-match_title\":\"Other job openings you may be interested in\"},\"sponsored\":\"Sponsored\",\"top_picks_from_our_blog\":\"Top picks from kariera.gr blog\",\"save_later\":\"Save\",\"saved\":\"Saved\",\"view_job\":\"View job\",\"messages\":{\"error\":{\"not_found\":\"Job post not found.\"}}},\"login\":{\"salutation\":\"Hello,\",\"divider_wording\":\"or\",\"change_email\":\"Isn't this your email? Click here\",\"email_label\":\"Email\",\"email_not_valid\":\"The input is not a valid email. Please try a correct one.\",\"email_required\":\"Please enter your email\",\"email_placeholder\":\"Your email\",\"password_label\":\"Password\",\"password_required\":\"Please enter your password\",\"password_placeholder\":\"Your password\",\"next_button\":\"Next\",\"too_many_characters\":\"This value must be less than 255 characters.\",\"signup\":{\"label\":\"Sign up\",\"title\":\"Create an account at kariera.gr\",\"google_button\":\"Sign up with Google\",\"email_button\":\"Sign up with email\",\"already_account\":\"Already have an account?\",\"login_now\":\"Log in\",\"email_agree_to\":\"I agree to the \",\"email_privacy_policy\":\"Privacy Policy \",\"email_agree_and\":\"and acknowledge that I have read the \",\"email_terms\":\"Terms and Conditions \",\"of_kariera\":\"of kariera.gr.\",\"agreement_required\":\"Please indicate that you have read \\u0026 agree to the above terms.\",\"submit_button\":\"Create\",\"password_validity\":\"There is an error\",\"characters_required\":\"8 Characters\",\"letters_required\":\"Letters\",\"numbers_required\":\"1 Number\",\"special_required\":\"1 Special character\"},\"login\":{\"label\":\"Log in\",\"title\":\"Log in kariera.gr\",\"login_with_email\":\"Log in with email\",\"dont_have_account\":\"Don't have an account yet?\",\"create_account\":\"Sign up\",\"stay_connected\":\"Remember me\",\"forgot_password\":\"Forgot your password?\",\"password_recover\":\"Recover it here\",\"google_button\":\"Log in with Google\",\"failed\":{\"password_text\":\"Did you forget your password?\",\"password_recover\":\"Recover password\"}},\"messages\":{\"server\":{\"signup\":{\"validation\":{\"invalid_creds\":\"Something went wrong with your credentials. Please try again.\",\"recaptcha\":\"Invalid reCAPTCHA - please retry.\",\"password\":\"You have entered an invalid email or password. Please try again.\",\"email\":\"You have entered an invalid email or password. Please try again.\"}},\"login\":{\"validation\":{\"invalid_creds\":\"Welcome to the new kariera.gr! In case you cannot connect with your password,\",\"recaptcha\":\"Invalid reCAPTCHA - please retry.\"}}}}},\"cv\":{\"title\":\"My cv's\",\"subtitle\":\"You can upload up to {{numberOfFilesAllowed}} CVs.\",\"uploader\":{\"text\":\"Drag \\u0026 drop your CV or click here to upload one.\",\"hint\":\"File types supported: {{fileTypesToString}} | Max file size: {{numberOfMBAllowed}} MB.\",\"uploading\":\"Uploading\"},\"messages\":{\"success\":{\"delete\":\"Your CV was deleted successfully.\",\"upload\":\"Your new CV was uploaded successfully.\"},\"warning\":{\"max_files\":\"You can upload up to {{numberOfFilesAllowed}} files max, please delete an old one.\",\"max_size\":\"You can upload a file up to {{numberOfMBAllowed}} MB, please try resizing it.\",\"file_type_not_supported\":\"Τhis specific file type is not supported. Try uploading a {{fileTypesToString}} file.\"},\"error\":{\"file_already_exist\":\"A file with the same name already exists, please try renaming it \\u0026 try again.\",\"upload\":\"Something went wrong, please contact customer support.\"},\"server\":{\"not_found\":\"CV not found\",\"exceeded_limits\":\"There is a specified number of CVs you can upload.\"}}},\"application\":{\"title\":\"Apply now\",\"subtitle\":\"Select one of the CVs you have already uploaded.\",\"apply_btn\":\"Apply\",\"refresh\":\"Please refresh this page.\",\"upload_new\":\"Upload a new CV\",\"messages\":{\"error\":{\"not_loaded\":\"Applications could not be loaded, try again later\"},\"success\":{\"application\":\"You have successfully applied.\",\"details_update\":\"You have successfully updated your personal details.\"},\"server\":{\"cv_not_found\":\"You need to have at least one CV uploaded.\",\"profile_not_completed\":\"You need to complete your profile.\",\"job_not_found\":\"Job not found\",\"job_already_applied\":\"You have already applied for this job.\",\"unpublished_job\":\"The job post is not published anymore.\"}}},\"profile\":{\"personal_details\":{\"details\":\"Details\",\"profile_picture\":\"Profile picture\",\"delete_account\":\"Delete account\",\"delete_account_description_part_one\":\"If you want to delete your account, please send your request to our customer support group using this \",\"delete_account_description_part_two\":\"communication form\",\"personal_details\":\"Personal Details\",\"name\":\"Full name\",\"firstName\":\"First name\",\"lastName\":\"Last name\",\"email\":\"Email\",\"address\":\"Home Address\",\"telephone\":\"Phone number\",\"telephone_error\":\"Enter a 10-digit phone number where you can be reached.\",\"current_job_title\":\"Current job title\",\"current_job_title_placeholder\":\"Enter your current job title\",\"placeholder\":\"Enter your {{placeholder}}\",\"edit\":\"Edit\",\"save\":\"Save\",\"cancel\":\"Cancel\"},\"public_profile\":{\"public_profile\":\"Visible profile\",\"public_profile_sh\":\"By activating the Visible Profile, Employers will be able to see the information you have stored in your profile and contact you to offer you jobs that suit you.\",\"available_for_search\":\"Visible Profile to Employers\",\"public\":\"Activate\"},\"messages\":{\"success\":{\"profile_updated\":\"Your profile was successfully updated.\"},\"error\":{\"complete_your_profile\":\"You need to complete your profile.\"},\"server\":{\"telephone-error\":\"Please type the 10 digits of your mobile/fixed phone number (or leave it empty).\"}}},\"company\":{\"no_jobs_found\":\"Currently we don't have any open positions\",\"search_job\":\"Search for a job\",\"view_jobs\":\"View {{numOfJobs}} jobs\",\"view_job\":\"View {{numOfJobs}} job\",\"view_company\":\"View Company profile\",\"other_companies\":\"Other companies\",\"interested_in_company\":\"Company you may be interested\",\"title_one\":\"{{count}} διαθέσιμη εταιρεία\",\"title_other\":\"{{count}} διαθέσιμες εταιρείες\",\"results_one\":\"{{count}} available company\",\"results_other\":\"{{count}} available companies\",\"section\":{\"AIR_TRANSPORT\":\"Air transport\",\"AGRICULTURE\":\"Agriculture\",\"AUTOMOTIVE\":\"Automotive\",\"ADVERTISING_MARKETING_COMMUNICATION\":\"Advertising, Marketing \\u0026 Communication\",\"BIOTECHNOLOGY\":\"Biotechnology\",\"CHEMICALS\":\"Chemicals\",\"CONSTRUCTION\":\"Construction\",\"CONSULTING\":\"Consulting\",\"CONSUMER_GOODS_SERVICES\":\"Consumer Goods and Services\",\"CUSTOMER_SERVICE_CALL_CENTER\":\"Customer service/Call center\",\"DEFENSE\":\"Defense\",\"EDUCATION\":\"Education\",\"ENERGY\":\"Energy\",\"E_COMMERCE\":\"e-Commerce\",\"FINANCIAL_SERVICES\":\"Financial Services\",\"FOOD_BEVERAGE\":\"Food \\u0026 Beverage\",\"HEALTHCARE\":\"Healthcare\",\"HOSPITALITY\":\"Hospitality\",\"INSURANCE\":\"Insurance\",\"INDUSTRY\":\"Industry\",\"PHARMACEUTICAL_HEALTH_SECTOR\":\"Pharmaceutical \\u0026 Health sector\",\"MEDIA\":\"Media\",\"NOT_FOR_PROFIT\":\"Not for Profit\",\"OTHER\":\"Other\",\"REAL_ESTATE\":\"Real estate\",\"RETAIL\":\"Retail\",\"SECURITY\":\"Security\",\"SHIPPING\":\"Shipping\",\"SOFTWARE_VENDOR_INFORMATION_TECHNOLOGY\":\"Software Vendor \\u0026 Information Technology\",\"STAFFING_RECRUITMENT\":\"Staffing and Recruitment\",\"TELECOMMUNICATIONS\":\"Telecommunications\",\"TRANSPORTATION\":\"Transportation\",\"UTILITIES\":\"Utilities\",\"LOGISTICS\":\"Logistics\"},\"uncategorized\":\"Uncategorized\",\"messages\":{\"error\":{\"not_found\":\"This company was not found.\"}}},\"report-job\":{\"title\":\"please select a reason for this job post report\",\"more_details\":\"Please share more details (optional)\",\"OTHER_REASON\":\"Other reason\",\"OFFENSIVE_LANGUAGE\":\"Offensive language\",\"POOR_SPELLING_OR_GRAMMAR\":\"Poor spelling or grammar\",\"NOT_A_GENUINE_JOB_VACANCY\":\"Not a genuine job vacancy\",\"DISCRIMINATORY\":\"Discriminatory\",\"report_btn\":\"Report\",\"messages\":{\"success\":{\"reported\":\"Successfully reported job\"},\"warning\":{\"max_chars\":\"Please type up to 255 characters.\",\"reason_required\":\"Please select one reason\"},\"server\":{\"unauthorized\":\"You are not logged in, please refresh the page.\",\"not_found\":\"The job post was not found, please refresh the page.\",\"validation\":{\"bad_request\":\"Something went wrong, please try again later.\"}}}}},\"el\":{\"common\":{\"home\":\"Καλώς ήλθατε στο kariera\",\"connect_with_google\":\"Συνδέσου με Google\",\"results\":\"αποτελέσματα\",\"nav_bar\":{\"search_for_jobs\":\"Αναζητάς εργασία;\",\"for_employers\":\"Για εργοδότες\"},\"menuOptions\":{\"notifications\":\"Ειδοποιήσεις\",\"my_saved_jobs\":\"Αποθηκευμένες αγγελίες\",\"favourites\":\"Αγαπημένα\",\"profile\":\"Προφίλ\",\"logout\":\"Αποσύνδεση\"},\"sider\":{\"home\":\"Αρχική\",\"feed\":\"Ανακάλυψε\",\"search\":\"Αναζήτηση\",\"favourites\":\"Αγαπημένα\",\"profile\":\"Το Προφίλ μου\",\"personalDetails\":\"Προσωπικά στοιχεία\",\"myCvs\":\"Βιογραφικά\",\"skills\":\"Εκπαίδευση \\u0026 δεξιότητες\",\"experience\":\"Εργασιακή εμπειρία\"},\"bottom\":{\"home\":\"Αρχική\",\"feed\":\"Ανακάλυψε\",\"search\":\"Αναζήτηση\",\"profile\":\"Προφίλ\",\"personalDetails\":\"Προσωπικά στοιχεία\",\"myCvs\":\"Βιογραφικά\",\"skills\":\"Εκπαίδευση \\u0026 δεξιότητες\",\"experience\":\"Εργασιακή εμπειρία\"},\"popConfirm\":{\"title\":\"Σίγουρα θες να το διαγράψεις;\",\"positive\":\"Ναι\",\"negative\":\"Όχι\"},\"timeline\":{\"title\":\"Τελευταία νέα\",\"description\":\"Ανακάλυψε νέες αγγελίες, ακολούθησε εταιρείες και βρες συμβουλές για την καριέρα σου, τάσεις και νέα της αγοράς εργασίας, σε 1 σημείο!\",\"new\":\"Νέο\"},\"jobSearch\":{\"search_for_a_job\":\"Αναζήτησε θέσεις εργασίας ή εταιρείες\",\"filters\":\"Φίλτρα\",\"industry\":\"Κλάδος εταιρείας\",\"category\":\"Κατηγορία θέσης\",\"location\":\"Τοποθεσία\",\"company\":\"Εταιρεία\",\"level\":\"Επίπεδο εμπειρίας\",\"remote\":\"Τηλεργασία\",\"remote_toggle\":\"Αγγελίες με επιλογές τηλεργασίας\",\"type\":\"Τύπος απασχόλησης\",\"search\":\"Ψάξε\",\"clear\":\"Καθάρισμα\",\"clear_all\":\"καθάρισμα όλων\",\"city\":\"Πόλη\",\"region\":\"Περιοχή\",\"input_no_results\":\"χωρίς αποτελέσματα ακόμα\",\"in_jobs\":\"σε αγγελίες\",\"in_companies\":\"σε εταιρείες\",\"show_all_jobs\":\"\\u003c0\\u003eΕμφάνιση όλων\\u003c/0\\u003e των αγγελιών\",\"show_all_companies\":\"\\u003c0\\u003eΕμφάνιση όλων\\u003c/0\\u003e των εταιρειών\",\"no_results\":\"Δεν υπάρχουν αποτελέσματα\",\"available_jobs_with_search_one\":\"{{count}} διαθέσιμη θέση εργασίας για\",\"available_jobs_with_search_other\":\"{{count}} διαθέσιμες θέσεις εργασίας για\",\"with_criteria\":\"με τα κριτήριά σου\",\"available_jobs_without_filters_one\":\"{{count}} διαθέσιμη θέση εργασίας\",\"available_jobs_without_filters_other\":\"{{count}} διαθέσιμες θέσεις εργασίας\",\"remote_results\":\"τηλεργασία\",\"in\":\"σε\",\"with\":\"με\",\"in_company\":\"στην Εταιρεία\",\"relevance\":\"Πιο σχετικές\",\"published_new_first\":\"Νέες πρώτα\",\"published_oldest_first\":\"Παλιές πρώτα\",\"recent_searches\":\"Πρόσφατες αναζητήσεις αγγελιών\",\"close\":\"κλείσιμο\"},\"search_again\":\"Αναζήτησε ξανά\",\"no_search_results\":\"Ουπς! Δε βρήκαμε αποτελέσματα. Άλλαξε τα κριτήρα αναζήτησης και...\",\"jobs\":\"Θέσεις\",\"jobs_tab\":\"Αγγελίες εργασίας\",\"companies\":\"Εταιρείες\",\"more_options\":\"Περισσότερες επιλογές\",\"less_options\":\"Λιγότερες επιλογές\",\"view_results_one\":\"Δες {{count}} αποτέλεσμα\",\"view_results_other\":\"Δες {{count}} αποτελέσματα\",\"search_results\":\"Αποτελέσματα αναζήτησης\",\"days_to_apply\":\"Μέρες για να κάνεις αίτηση\",\"saved_jobs\":\"Αποθηκευμένες αγγελίες\",\"readMore\":\"Διάβασε περισσότερα\",\"copied\":\"Αντιγράφηκε στο πρόχειρο\",\"follow\":\"ΑΚΟΛΟΥΘΗΣΕ\",\"following\":\"ΑΚΟΛΟΥΘΕΙΣ\",\"locations\":\"Τοποθεσίες\",\"jobCategory\":{\"OTHER\":\"Άλλη κατηγορία\",\"ACCOUNTING_AUDITING\":\"Λογιστικά\",\"ADMINISTRATIVE_SECRETARIAL\":\"Γραμματειακή Υποστήριξη / Υπάλληλος Γραφείου\",\"AGRICULTURE\":\"Αγροτικά\",\"BEAUTY_SERVICES_FITNESS\":\"Υπηρεσίες Oμορφιάς / Φυσική Κατάσταση\",\"BI_BUSINESS_ANALYSIS\":\"Αναλυτής / BI\",\"CALL_CENTER_CUSTOMER_SUPPORT\":\"Τηλεφωνικό Κέντρο / Εξυπηρέτηση Πελατών\",\"COMMUNITY_SOCIAL_SERVICE_VOLUNTARY\":\"Κοινωνικές / Εθελοντικές Υπηρεσίες\",\"CONSULTING\":\"Σύμβουλος Επιχειρήσεων\",\"CONSTRUCTION_ENGINEERS_ARCHITECTS\":\"Κατασκευές / Μηχανικοί / Αρχιτέκτονες\",\"DESIGN_GRAPHIC_ARTS_CREATIVE\":\"Σχέδιο / Γραφικά / Δημιουργικά\",\"EDUCATION_TRAINING\":\"Εκπαίδευση\",\"ENGINEERING\":\"Μηχανικοί\",\"E_COMMERCE_DIGITAL_SERVICES\":\"Ηλεκτρονικό Εμπόριο / Ψηφιακές Υπηρεσίες\",\"FINANCE\":\"Οικονομικά\",\"FOOD_CAFE\":\"Εστίαση / Καφέ\",\"GENERAL_MANAGEMENT\":\"Γενική Διοίκηση\",\"HUMAN_RESOURCES\":\"Ανθρώπινο Δυναμικό\",\"IT\":\"Πληροφορική\",\"LEGAL\":\"Νομικά\",\"LOGISTICS_WAREHOUSE\":\"Αποθήκη / Logistics\",\"MARKETING_ADVERTISING\":\"Μάρκετινγκ / Διαφήμιση\",\"MEDICINE_HEALTHCARE\":\"Φαρμακευτικά / Υγεία\",\"OPERATIONS\":\"Επιχειρησιακά\",\"PRESS_RADIO_TV\":\"Μέσα Μαζικής Ενημέρωσης\",\"PRODUCTION\":\"Παραγωγή\",\"PROCUREMENT_SUPPLY_CHAIN\":\"Προμήθειες / Αγορές\",\"PUBLIC_RELATIONS\":\"Δημόσιες Σχέσεις\",\"QUALITY_ASSURANCE\":\"Διασφάλιση Ποιότητας\",\"REAL_ESTATE\":\"Επιχειρήσεις Real Estate\",\"RETAIL\":\"Λιανεμπόριο\",\"RESEARCH_DEVELOPMENT\":\"Έρευνα \\u0026 Ανάπτυξη\",\"SALES_BUSINESS_DEVELOPMENT_ACCOUNT_MANAGEMENT\":\"Πωλήσεις / Διαχείριση Πελατών\",\"SCIENCE_RESEARCH\":\"Επιστημονικός Κλάδος\",\"SECURITY\":\"Ασφάλεια\",\"SPORTS_ART\":\"Αθλητισμός / Τέχνες\",\"STRATEGY_PLANNING\":\"Στρατηγικός Σχεδιασμός\",\"TECHNICIANS_SERVICE\":\"Τεχνικοί / Service\",\"TOURISM\":\"Τουρισμός\",\"TRANSPORT_DRIVING\":\"Μεταφορές / Οδήγηση\",\"WORKERS\":\"Εργάτες\"},\"seniorityLevel\":{\"NO_EXPERIENCE_NO_DEGREE\":\"Χωρίς προϋπηρεσία/Χωρίς εμπειρία\",\"ENTRY_JUNIOR\":\"Entry/Αρχάριος\",\"MID_LEVEL\":\"Με κάποια εμπειρία\",\"SENIOR\":\"Με μεγάλη εμπειρία\",\"EXECUTIVE\":\"C-level/Executive\"},\"occupationType\":{\"FULL_TIME\":\"Πλήρης απασχόληση\",\"PART_TIME\":\"Μερική απασχόληση\",\"FULL_TIME_PART_TIME\":\"Πλήρης απασχόληση/Μερική απασχόληση\",\"CONTRACT_FREELANCE_SELF_EMPLOYED\":\"Συμβόλαιο/Ελεύθερος επαγγελματίας/Αυτοαπασχολούμενος/η\",\"INTERNSHIP_APPRENTICESHIP\":\"Πρακτική άσκηση/Μαθητευόμενος/η\",\"SEASONAL\":\"Εποχιακός/ή\",\"VOLUNTEER\":\"Εθελοντισμός\"},\"remoteType\":{\"FULLY_REMOTE\":\"Εργασία απο απόσταση\",\"PARTIALLY_REMOTE\":\"Εργασία από απόσταση κάποιες ημέρες\",\"TEMPORARILY_REMOTE\":\"Εργασία απο απόσταση για συγκεκριμένη διάρκεια\"},\"companyDetails\":{\"positions\":\"Δες {{jobPosts}} Θέσεις εργασίας\",\"visit_website\":\"Ιστοσελίδα\"},\"non_logged_in_employer\":{\"connect_with_google\":\"Συνδέσου με Google\"},\"homepage\":{\"start_now\":\"Ξεκίνα τώρα\",\"create_your_profile_and_start_applying\":\"Φτιάξε το προφίλ σου και ξεκίνα να κάνεις αιτήσεις.\"},\"newsletter\":{\"newsletter_header\":\"Μια εγγραφή, πολλές ευκαιρίες!\",\"newsletter_sh\":\"Εγγράψου στο newsletter μας, για να λαμβάνεις πρώτος/η συμβουλές για την καριέρα σου \\u0026 νέες θέσεις εργασίας.\",\"enter_mail\":\"Πληκτρολόγησε την διεύθυνση του ηλεκτρονικού ταχυδρομείου σου\",\"register\":\"Εγγραφή\",\"registration_consent\":\"Κάνοντας κλικ στο κουμπί «Εγγραφή», επιβεβαιώνω ότι το \\u003c1\\u003ekariera.gr\\u003c/1\\u003e να μπορεί να με πληροφορεί σχετικά με υπηρεσίες. Γνωρίζω πως μπορώ να σταματήσω το \\u003c3\\u003ekariera.gr\\u003c/3\\u003e να επικοινωνεί μαζί μου, πατώντας unsubscribe.\"},\"footer\":{\"job_seekers\":{\"title\":\"Υποψήφιοι\",\"browse_jobs\":\"Αναζήτηση Θέσεων Εργασίας\",\"browse_companies\":\"Αναζήτηση Ανά Εταιρεία\",\"upload_cv\":\"Ανέβασε το βιογραφικό σου\",\"work_@_kariera\":\"Work @kariera.gr\",\"events\":\"Events\",\"blog\":\"Blog\",\"faq\":\"FAQ Υποψηφίου\"},\"employers\":{\"title\":\"Εργοδότες\",\"job_posts\":\"Αγγελίες Εργασίας\",\"cv_database\":\"Βάση Βιογραφικών\",\"screening_hr_solutions\":\"Screening \\u0026 Hiring Solutions\",\"company_profile\":\"Εταιρικό Προφίλ\",\"career_profile\":\"Οδηγός Καριέρας\",\"blog\":\"Blog\",\"faq\":\"FAQ Εργοδότη\"},\"legal\":{\"title\":\"Νομικά\",\"advertisement\":\"Διαφήμιση\",\"delete_account\":\"Διαγραφή Λογαριασμού\",\"manage_personal_data\":\"Διαχείριση Προσωπικών Δεδομένων\",\"financial_information\":\"Οικονομικά Στοιχεία\",\"all_rights_reserved\":\"Πνευματικά δικαιώματα 2022 kariera.gr. Με την επιφύλαξη παντός δικαιώματος. Διάφορα άλλα εμπορικά σήματα εταιρειών (λογότυπα, κ.λπ.) κατέχονται από τους αντίστοιχους ιδιοκτήτες ή/και χρήστες οι οποίοι τα ανεβάζουν.\"},\"company\":{\"title\":\"Εταιρεία\",\"about_us\":\"Σχετικά με εμάς\",\"contact\":\"Επικοινωνία\"},\"seo\":{\"search_for\":\"Ψάξε για\",\"jobs\":\"Αγγελίες\",\"locations\":\"Τοποθεσίες\",\"companies\":\"Εταιρείες\"},\"terms_and_conditions\":\"Όροι και Προϋποθέσεις\",\"privacy_policy\":\"Πολιτική Απορρήτου\",\"cookies_policy\":\"Πολιτική Cookies\",\"change_preferences\":\"αλλαγή προτιμήσεων\"},\"quick_apply\":{\"button\":\"Γρήγορη αίτηση\",\"done\":\"Η αίτηση ολοκληρώθηκε\"},\"messages\":{\"error\":{\"page_not_found\":\"Η σελίδα δε βρέθηκε\",\"something_went_wrong\":\"Κάτι πήγε στραβά, δοκίμασε πάλι αργότερα.\",\"feed_not_loaded\":\"Απέτυχε η φόρτωση της ροής\",\"jobs_not_loaded\":\"Απέτυχε η φόρτωση των θέσεων\",\"companies_not_loaded\":\"Απέτυχε η φόρτωση των εταιριών\"},\"newsletter\":{\"success\":\"Επιτυχής εγγραφή\",\"form_errors\":{\"email_not_valid\":\"Συμπλήρωσε μια έγκυρη διεύθυνση ηλεκτρονικού ταχυδρομείου\",\"email_required\":\"Γράψε μία διεύθυνση ηλεκτρονικού ταχυδρομείου\",\"too_many_characters\":\"Το συγκεκριμένο πεδίο δεν μπορεί να ξεπερνά τους 255 χαρακτήρες\"},\"validation\":{\"invalid_creds\":\"Υπάρχει κάποιο λάθος με το email σου. Δοκίμασε πάλι.\",\"recaptcha\":\"Κάτι δεν πήγε καλά με το reCAPTCHA - δοκίμασε πάλι.\"}}}},\"notification\":{\"status\":{\"error\":\"Σφάλμα\",\"warning\":\"Προσοχή\",\"success\":\"Επιτυχία\",\"info\":\"Ενημέρωση\"},\"frontend\":{\"failed\":\"Κάτι πήγε στραβά, δοκίμασε πάλι αργότερα.\"},\"backend\":{\"unauthorized\":\"Δεν είσαι εξουσιοδοτημένος για πρόσβαση σε αυτή την πηγή.\",\"forbidden\":\"Δεν είσαι εξουσιοδοτημένος για πρόσβαση σε αυτή την πηγή.\",\"not_found\":\"Δεν βρέθηκε\",\"exceeded_limits\":\"Έχεις υπερβεί τα όρια.\",\"validation\":{\"failed\":\"Κάτι πήγε στραβά, δοκίμασε πάλι αργότερα.\",\"bad_request\":\"Κάτι πήγε στραβά, δοκίμασε πάλι αργότερα.\"}}},\"job-post\":{\"jobTitle\":{\"job_title\":\"Τίτλος θέσης\",\"apply_button\":\"Κάνε αίτηση τώρα\",\"refLabel\":\"Κωδ\"},\"applicationStatus\":{\"applied\":\"Έχεις κάνει αίτηση για αυτή τη θέση\",\"expired\":\"Η θέση δεν δέχεται πλέον αιτήσεις\",\"view\":\"Δες την\"},\"jobRelatedTags\":{\"related_tag_title\":\"Σχετικά tags\",\"suggest_tag\":\"Πρότεινε ένα tag\"},\"jobDetails\":{\"location\":\"Τοποθεσία\",\"posted\":\"Ημ. ανάρτησης\",\"category\":\"Κατηγορία θέσης\",\"level\":\"Επίπεδο εμπειρίας\",\"type\":\"Τύπος απασχόλησης\",\"remote\":\"Τηλεργασία\"},\"jobSummary\":{\"job_summary_title\":\"ΠΕΡΙΛΗΨΗ ΘΕΣΗΣ\",\"apply_button\":\"Κάνε αίτηση τώρα\",\"view_applications\":\"Δες τις αιτήσεις\"},\"reportJob\":{\"button\":\"Αναφορά θέσης εργασίας\"},\"jobPost\":{\"sponsored_title\":\"Θέσεις εργασίας που σου ταιριάζουν\",\"best-match_title\":\"Άλλες θέσεις εργασίας που μπορεί να σε ενδιαφέρουν\"},\"sponsored\":\"Χορηγούμενη\",\"top_picks_from_our_blog\":\"Σημαντικότερα άρθρα από το kariera.gr blog\",\"save_later\":\"Αποθήκευση\",\"saved\":\"Αποθηκευμένη\",\"view_job\":\"Δες τη θέση\",\"messages\":{\"error\":{\"not_found\":\"Η συγκεκριμένη θέση εργασίας δεν βρέθηκε.\"}}},\"login\":{\"salutation\":\"Γεια σου,\",\"divider_wording\":\"ή\",\"change_email\":\"Δεν είναι αυτό το email σου; Άλλαξέ το\",\"email_label\":\"Email\",\"email_not_valid\":\"Πρέπει να καταχωρίσεις έγκυρο email. Δοκίμασε πάλι.\",\"email_required\":\"Συμπλήρωσε το email.\",\"email_placeholder\":\"Το email σου\",\"password_label\":\"Κωδικός πρόσβασης\",\"password_required\":\"Συμπλήρωσε τον κωδικό πρόσβασής σου.\",\"password_placeholder\":\"Ο κωδικός σου\",\"next_button\":\"Επόμενο\",\"too_many_characters\":\"Το συγκεκριμένο πεδίο δεν μπορεί να ξεπερνά τους 255 χαρακτήρες.\",\"signup\":{\"label\":\"Εγγραφή\",\"title\":\"Δημιούργησε λογαριασμό στο kariera.gr\",\"google_button\":\"Εγγραφή με Google\",\"email_button\":\"Εγγραφή με email\",\"already_account\":\"'Εχεις ήδη λογαριασμό;\",\"login_now\":\"Σύνδεση\",\"email_agree_to\":\"Αποδέχομαι τους \",\"email_privacy_policy\":\"Πολιτική Απορρήτου \",\"email_agree_and\":\"και επιβεβαιώνω ότι διάβασα την \",\"email_terms\":\"Όρους Χρήσης \",\"of_kariera\":\"του kariera.gr.\",\"agreement_required\":\"Πρέπει να αποδεχτείς τους Όρους Χρήσης.\",\"submit_button\":\"Δημιουργία\",\"password_validity\":\"Υπάρχει κάποιο λάθος με τα στοιχεία σου. Δοκίμασε πάλι.\",\"characters_required\":\"8 Χαρακτήρες\",\"letters_required\":\"Γράμματα\",\"numbers_required\":\"1 Αριθμός\",\"special_required\":\"1 Ειδικός χαρακτήρας\"},\"login\":{\"label\":\"Σύνδεση\",\"title\":\"Συνδέσου στο kariera.gr\",\"login_with_email\":\"Σύνδεση με email\",\"dont_have_account\":\"Δεν έχεις λογαριασμό;\",\"create_account\":\"Φτιάξε λογαριασμό τώρα\",\"stay_connected\":\"Θέλω να μείνω συνδεδεμένος/η\",\"forgot_password\":\"Ξέχασες τον κωδικό πρόσβασής σου;\",\"password_recover\":\"Ανάκτησέ τον εδώ\",\"google_button\":\"Σύνδεση με Google\",\"failed\":{\"password_text\":\"Μήπως ξέχασες τον κωδικό σου;\",\"password_recover\":\"Ανάκτηση κωδικού\"}},\"messages\":{\"server\":{\"signup\":{\"validation\":{\"invalid_creds\":\"Υπάρχει κάποιο λάθος με τα στοιχεία σου. Δοκίμασε πάλι.\",\"recaptcha\":\"Υπάρχει κάποιο λάθος με το reCAPTCHA - δοκίμασε πάλι.\",\"password\":\"Υπάρχει κάποιο λάθος με το email ή τον κωδικό πρόσβασής σου. Δοκίμασε πάλι.\",\"email\":\"Υπάρχει κάποιο λάθος με το email ή τον κωδικό πρόσβασής σου. Δοκίμασε πάλι.\"}},\"login\":{\"validation\":{\"invalid_creds\":\"Καλωσήρθες στο νέο kariera.gr! Σε περίπτωση που δεν συνδέεσαι με τον κωδικό σου,\",\"recaptcha\":\"Κάτι δεν πήγε καλά με το reCAPTCHA - δοκίμασε πάλι.\"}}}}},\"cv\":{\"title\":\"Τα βιογραφικά μου\",\"subtitle\":\"Μπορείς να αποθηκεύσεις μέχρι {{numberOfFilesAllowed}} βιογραφικά.\",\"uploader\":{\"text\":\"Ανέβασε το βιογραφικό σου.\",\"hint\":\"Ο τύπος του αρχείου μπορεί να είναι: {{fileTypesToString}} | Μέγιστο μέγεθος αρχείου: {{numberOfMBAllowed}} MB.\",\"uploading\":\"Εν εξελίξει\"},\"messages\":{\"success\":{\"delete\":\"Το βιογραφικό σου διαγράφηκε με επιτυχία.\",\"upload\":\"Το βιογραφικό σου αποθηκεύτηκε με επιτυχία.\"},\"warning\":{\"max_files\":\"Μπορείς να αποθηκεύσεις έως {{numberOfFilesAllowed}} αρχεία, διέγραψε κάποιο πρώτα για να προχωρήσεις.\",\"max_size\":\"Μπορείς να ανεβάσεις αρχεία μεγέθους μέχρι {{numberOfMBAllowed}} MB, δοκίμασε να μειώσεις το μέγεθος.\",\"file_type_not_supported\":\"Ο τύπος του συγκεκριμένου αρχείου δεν υποστηρίζεται. Δοκίμασε να ανεβάσεις {{fileTypesToString}} τύπο αρχείων.\"},\"error\":{\"file_already_exist\":\"Αρχείο με αυτό το όνομα υπάρχει ήδη, δοκίμασε να το μετονομάσεις.\",\"upload\":\"Κάτι πήγε στραβά, επικοινώνησε μαζί μας για παραπάνω λεπτομέριες.\"},\"server\":{\"not_found\":\"Το συγκεκριμένο βιογραφικό δεν βρέθηκε.\",\"exceeded_limits\":\"Υπάρχει συγκεκριμένος αριθμός βιογραφικών που μπορείς να ανεβάσεις.\"}}},\"application\":{\"title\":\"Κάνε αίτηση τώρα\",\"subtitle\":\"Επίλεξε ένα βιογραφικό που έχεις ανεβάσει.\",\"apply_btn\":\"Κάνε αίτηση\",\"refresh\":\"Ανανέωσε τη σελίδα.\",\"upload_new\":\"Ανέβασε νέο βιογραφικό\",\"messages\":{\"error\":{\"not_loaded\":\"Οι αιτήσεις σου δεν φόρτωσαν σωστά, δοκίμασε αργότερα\"},\"success\":{\"application\":\"Η αίτηση ολοκληρώθηκε με επιτυχία.\",\"details_update\":\"Τα προσωπικά σου στοιχεία ενημερώθηκαν επιτυχώς.\"},\"server\":{\"cv_not_found\":\"Πρέπει να έχεις ανεβάσει τουλάχιστον ένα βιογραφικό στο προφίλ σου.\",\"profile_not_completed\":\"Πρέπει να συμπληρώσεις τα παρακάτω στοιχεία του προφίλ σου.\",\"job_not_found\":\"Δεν βρέθηκε η συγκεκριμένη θέση εργασίας.\",\"job_already_applied\":\"Έχεις κάνει ήδη αίτηση.\",\"unpublished_job\":\"Η θέση εργασίας δεν είναι ενεργή.\"}}},\"profile\":{\"personal_details\":{\"details\":\"Λεπτομέρειες\",\"profile_picture\":\"Εικόνα προφίλ\",\"delete_account\":\"Διαγραφή λογαριασμού\",\"delete_account_description_part_one\":\"Αν θες να διαγράψεις τον λογαρισμό σου, στείλε ένα αίτημα στο τμήμα εξυπηρέτησης πελατών χρησιμοποιώντας την \",\"delete_account_description_part_two\":\"φόρμα επικοινωνίας\",\"personal_details\":\"Προσωπικές πληροφορίες\",\"name\":\"Πλήρες όνομα\",\"firstName\":\"Όνομα\",\"lastName\":\"Επίθετο\",\"email\":\"Email\",\"address\":\"Διεύθυνση\",\"telephone\":\"Τηλέφωνο\",\"telephone_error\":\"Καταχώρισε έναν 10ψήφιο αριθμό, σταθερού ή κινητού τηλεφώνου.\",\"current_job_title\":\"Τίτλος εργασίας\",\"current_job_title_placeholder\":\"Συμπλήρωσε τον τωρινό τίτλο εργασίας σου\",\"placeholder\":\"Συμπλήρωσε {{placeholder}}\",\"edit\":\"Επεξεργασία\",\"save\":\"Αποθήκευση\",\"cancel\":\"Ακύρωση\"},\"public_profile\":{\"public_profile\":\"Ορατό προφίλ\",\"public_profile_sh\":\"Με την ενεργοποίηση του Ορατού Προφίλ, οι Εργοδότες θα μπορούν να βλέπουν τις πληροφορίες που έχεις αποθηκεύσει στο προφίλ σου και να επικοινωνούν μαζί σου για να σου προσφέρουν θέσεις εργασίας που σου ταιριάζουν.\",\"available_for_search\":\"Ορατό Προφίλ σε Εργοδότες\",\"public\":\"Ενεργοποίηση\"},\"messages\":{\"success\":{\"profile_updated\":\"Το προφίλ σου ανανεώθηκε επιτυχώς.\"},\"error\":{\"complete_your_profile\":\"Πρέπει να συμπληρώσεις το προφίλ σου.\"},\"server\":{\"telephone-error\":\"Συμπλήρωσε τα 10 ψηφία του σταθερού ή κινητού τηλεφωνικού σου αριθμού (ή άφησέ το κενό).\"}}},\"company\":{\"no_jobs_found\":\"Προσωρινά δεν έχουμε κάποια ανοιχτή θέση\",\"search_job\":\"Ψάξε για θέση εργασίας\",\"view_jobs\":\"Δες {{numOfJobs}} θέσεις εργασίας\",\"view_job\":\"Δες {{numOfJobs}} θέση εργασίας\",\"view_company\":\"Δες την εταιρεία\",\"other_companies\":\"Άλλες εταιρείες\",\"interested_in_company\":\"Εταιρεία που μπορεί να σε ενδιαφέρει\",\"title_one\":\"{{count}} διαθέσιμη εταιρεία\",\"title_other\":\"{{count}} διαθέσιμες εταιρείες\",\"results_one\":\"{{count}} διαθέσιμη εταιρεία\",\"results_other\":\"{{count}} διαθέσιμες εταιρείες\",\"section\":{\"AIR_TRANSPORT\":\"Αερομεταφορές\",\"AGRICULTURE\":\"Αγροτικά\",\"AUTOMOTIVE\":\"Κλάδος Αυτοκινήτου\",\"ADVERTISING_MARKETING_COMMUNICATION\":\"Διαφημιστικές Υπηρεσίες, Μάρκετινγκ \\u0026 Επικοινωνίας\",\"BIOTECHNOLOGY\":\"Βιοτεχνολογία\",\"CHEMICALS\":\"Χημικά\",\"CONSTRUCTION\":\"Κατασκευαστικός | Τεχνικός κλάδος\",\"CONSULTING\":\"Συμβουλευτικές Υπηρεσίες\",\"CONSUMER_GOODS_SERVICES\":\"Καταναλωτικά Αγαθά και Υπηρεσίες\",\"CUSTOMER_SERVICE_CALL_CENTER\":\"Εξυπηρέτηση πελατών/Τηλεφωνικό κέντρο\",\"DEFENSE\":\"Άμυνα\",\"EDUCATION\":\"Εκπαίδευση\",\"ENERGY\":\"Ενέργεια\",\"E_COMMERCE\":\"Ηλεκτρονικό εμπόριο\",\"FINANCIAL_SERVICES\":\"Οικονομικές Υπηρεσίες\",\"FOOD_BEVERAGE\":\"Φαγητό \\u0026 Ποτό\",\"HEALTHCARE\":\"Εστίαση\",\"HOSPITALITY\":\"Τουρισμός/Ξενοδοχεία\",\"INSURANCE\":\"Ασφαλιστικός Κλάδος\",\"INDUSTRY\":\"Βιομηχανία\",\"PHARMACEUTICAL_HEALTH_SECTOR\":\"Φαρμακευτικές \\u0026 Κλάδος Υγείας\",\"MEDIA\":\"ΜΜΕ\",\"NOT_FOR_PROFIT\":\"Μη Κερδοσκοπικοί Οργανισμοί\",\"OTHER\":\"Γενικός κλάδος\",\"REAL_ESTATE\":\"Επιχειρήσεις Real Estate\",\"RETAIL\":\"Λιανικό Εμπόριο\",\"SECURITY\":\"Εταιρείες Security\",\"SHIPPING\":\"Ναυτιλία\",\"SOFTWARE_VENDOR_INFORMATION_TECHNOLOGY\":\"Υπηρεσίες Λογισμικού και Πληροφορικής\",\"STAFFING_RECRUITMENT\":\"Εύρεση Προσωπικού (HR)\",\"TELECOMMUNICATIONS\":\"Τηλεπικοινωνίες\",\"TRANSPORTATION\":\"Μεταφορές\",\"UTILITIES\":\"Υπηρεσίες Κοινής Ωφέλειας\",\"LOGISTICS\":\"Υπηρεσίες Logistics\"},\"uncategorized\":\"Χωρίς κλάδο\",\"messages\":{\"error\":{\"not_found\":\"Η εταιρεία δεν βρέθηκε.\"}}},\"report-job\":{\"title\":\"Λόγος αναφοράς\",\"more_details\":\"Καταχώρισε παραπάνω πληροφορίες (προαιρετικά)\",\"OTHER_REASON\":\"Άλλος λόγος\",\"OFFENSIVE_LANGUAGE\":\"Προσβλητικό περιεχόμενο\",\"POOR_SPELLING_OR_GRAMMAR\":\"Γραμματικό/Ορθογραφικό λάθος\",\"NOT_A_GENUINE_JOB_VACANCY\":\"Μοιάζει με απάτη\",\"DISCRIMINATORY\":\"Διάκριση\",\"report_btn\":\"Αναφορά\",\"messages\":{\"success\":{\"reported\":\"Έγινε αναφορά επιτυχώς\"},\"warning\":{\"max_chars\":\"Καταχώρισε μέχρι 255 χαρακτήρες.\",\"reason_required\":\"Επίλεξε ένα λόγο\"},\"server\":{\"unauthorized\":\"Δεν είσαι συνδεδεμένος, προσπάθησε πάλι.\",\"not_found\":\"Η θέση εργασίας δεν βρέθηκε, προσπάθησε πάλι.\",\"validation\":{\"bad_request\":\"Κάτι πήγε στραβά, δοκίμασε πάλι αργότερα.\"}}}}}},\"initialLocale\":\"en\",\"userConfig\":{\"i18n\":{\"defaultLocale\":\"el\",\"locales\":[\"en\",\"el\"]},\"default\":{\"i18n\":{\"defaultLocale\":\"el\",\"locales\":[\"en\",\"el\"]}}}}},\"__N_SSP\":true},\"page\":\"/jobs/[id]\",\"query\":{\"id\":\"32853\"},\"buildId\":\"rwtlHtKUg9-qsFsbqMsKR\",\"runtimeConfig\":{\"FE_APP_URL\":\"https://www.kariera.gr\",\"BACKEND_URL\":\"https://www.kariera.gr\",\"GOOGLE_RECAPTCHA_KEY\":\"6LdpXascAAAAAMf0kgiTYoKVDlZGJTHzjs-WH9-i\",\"GOOGLE_CLIENT_ID\":\"1033928551574-bcbaurotq1pvelfv6al0dgdlbmvcvp70.apps.googleusercontent.com\",\"JOBSEEKER_BLOB_ENDPOINT\":\"https://jobseekerfilesprod.blob.core.windows.net\",\"JOBSEEKER_CONTAINER_NAME\":\"useruploads\",\"CAREER_DAYS_LIVESTREAM_URL\":\"https://www.youtube.com/embed/bqFwi-dhVoE\"},\"isFallback\":false,\"gssp\":true,\"appGip\":true,\"locale\":\"en\",\"locales\":[\"el\",\"en\"],\"defaultLocale\":\"el\",\"scriptLoader\":[]}</script></body></html>"
      ]
     },
     "execution_count": 25,
     "metadata": {},
     "output_type": "execute_result"
    }
   ],
   "source": [
    "headers = {'User-agent':'Mozilla/5.0 (Windows NT 6.1; Win64; x64; rv:47.0) Gecko/20100101 Firefox/47.0'}\n",
    "r = requests.get(test_link, headers=headers)\n",
    "soup = BeautifulSoup(r.content, 'html.parser')\n",
    "soup"
   ]
  },
  {
   "cell_type": "markdown",
   "id": "7b1f39f1",
   "metadata": {},
   "source": [
    "### job title"
   ]
  },
  {
   "cell_type": "code",
   "execution_count": 26,
   "id": "89144b18",
   "metadata": {},
   "outputs": [
    {
     "data": {
      "text/plain": [
       "'Bilingual Customer Service Representative - Romanian-English - Travel'"
      ]
     },
     "execution_count": 26,
     "metadata": {},
     "output_type": "execute_result"
    }
   ],
   "source": [
    "soup.find('div',class_='h4 UGhAL2CE').text"
   ]
  },
  {
   "cell_type": "markdown",
   "id": "966d3e0f",
   "metadata": {},
   "source": [
    "### company"
   ]
  },
  {
   "cell_type": "code",
   "execution_count": 27,
   "id": "026ffe52",
   "metadata": {},
   "outputs": [
    {
     "data": {
      "text/plain": [
       "'TTEC'"
      ]
     },
     "execution_count": 27,
     "metadata": {},
     "output_type": "execute_result"
    }
   ],
   "source": [
    "soup.find('a',class_='__8_RJM1pE').text"
   ]
  },
  {
   "cell_type": "markdown",
   "id": "0eaa580e",
   "metadata": {},
   "source": [
    "### location"
   ]
  },
  {
   "cell_type": "code",
   "execution_count": 28,
   "id": "2e6200d1",
   "metadata": {},
   "outputs": [
    {
     "data": {
      "text/plain": [
       "'Athina'"
      ]
     },
     "execution_count": 28,
     "metadata": {},
     "output_type": "execute_result"
    }
   ],
   "source": [
    "soup.findAll('div',class_='DllOEHb_ main-body-text')[0].text"
   ]
  },
  {
   "cell_type": "markdown",
   "id": "4cc0fbf2",
   "metadata": {},
   "source": [
    "### job occupation"
   ]
  },
  {
   "cell_type": "code",
   "execution_count": 29,
   "id": "c8f87867",
   "metadata": {},
   "outputs": [
    {
     "data": {
      "text/plain": [
       "'Call Center / Customer Support'"
      ]
     },
     "execution_count": 29,
     "metadata": {},
     "output_type": "execute_result"
    }
   ],
   "source": [
    "soup.findAll('div',class_='DllOEHb_ main-body-text')[-1].text"
   ]
  },
  {
   "cell_type": "markdown",
   "id": "3ce7ef9c",
   "metadata": {},
   "source": [
    "### level"
   ]
  },
  {
   "cell_type": "code",
   "execution_count": 30,
   "id": "d3210171",
   "metadata": {},
   "outputs": [
    {
     "data": {
      "text/plain": [
       "'Entry/Junior'"
      ]
     },
     "execution_count": 30,
     "metadata": {},
     "output_type": "execute_result"
    }
   ],
   "source": [
    "soup.findAll('div',class_='DllOEHb_ main-body-text')[2].text"
   ]
  },
  {
   "cell_type": "markdown",
   "id": "674132da",
   "metadata": {},
   "source": [
    "### job type"
   ]
  },
  {
   "cell_type": "code",
   "execution_count": 31,
   "id": "731b1880",
   "metadata": {},
   "outputs": [
    {
     "data": {
      "text/plain": [
       "'Full-time'"
      ]
     },
     "execution_count": 31,
     "metadata": {},
     "output_type": "execute_result"
    }
   ],
   "source": [
    "soup.findAll('div',class_='DllOEHb_ main-body-text')[-2].text"
   ]
  },
  {
   "cell_type": "markdown",
   "id": "6cd4dc5a",
   "metadata": {},
   "source": [
    "### content"
   ]
  },
  {
   "cell_type": "code",
   "execution_count": 32,
   "id": "801b4105",
   "metadata": {},
   "outputs": [
    {
     "data": {
      "text/plain": [
       "\"What You’ll be Doing Looking to build your career in the travel industry? Whether it’s getting answers for customers quickly, consulting on products or resolving their issues with a smile, you’ll be the difference between their customer experience being just average or an exceptional one. Turn your passion for travel into action in customer service helping people find great places to stay and creating unique travel experiences. During a Typical Day, You’ll Answer incoming communications from customers Conduct research to provide answers for customers to resolve their issues Be the first point of contact for the world's first-class accommodation partners by resolving basic questions and queries, such as modifications to rooms, rates, and availability, extranet tooling etc. Provide accurate, valid, and complete information by using the right tools, methods, and processes. Ensure a high level of partner service and a positive partner experience What You Bring to the Role Fluent in Romanian and English High school diploma or equivalent 6 months or more of customer services experience Recognize, apply and explain your product or service knowledge Computer savvy What You Can Expect Knowledgeable, encouraging, supporting and present leadership Diverse and community minded organization Career-growth and lots of learning opportunities for aspiring minds 25 days annual leave per year Excellent premises during training and when you come to the site for employee engagement activities in Athens city center,Kerameikosmetro station Relocation assistance available And yes...all the competitive compensation, performance bonus opportunities and benefits you'd expect and maybe a few that would pleasantly surprise you A Bit More About Your Role We’ll train you to be a subject matter expert in your field, so you can be confident in providing the highest level of service possible whether through voice, chat or email interactions. We trust you already have the necessary ingredient that can’t be taught – a caring and supportive nature that will shine through as you help customers. You’ll also have a chance to make great new friends within the TTEC community and grow your career in a dynamic, family-friendly atmosphere. You'll report to a Team Lead. You’ll contribute to the success of the customer experience as well as the overall success of the team. About TTEC Our business is about making customers happy. That’s all we do. Since 1982, we’ve helped companies build engaged, pleased, profitable customer experiences powered by our combination of humanity and technology. On behalf of many of the world’s leading iconic and disruptive brands, we talk, message, text, and video chat with millions of customers every day. These exceptional customer experiences start with you. TTEC is proud to be an equal opportunity employer. TTEC embraces and is committed to building a diverse and inclusive workforce that respects and empowers the culture and perspectives within our global teams. We strive to reflect the communities we serve by not only delivering amazing service and technology, but also humanity. We make it a point to make sure all our employees feel valued and comfortable being their authentic selves at work. As a global company, we know diversity is our strength. It enables us to view projects and ideas from different vantage points and allows every individual to bring value to the table in their own unique way\""
      ]
     },
     "execution_count": 32,
     "metadata": {},
     "output_type": "execute_result"
    }
   ],
   "source": [
    "result = soup.findAll('div',class_='__2DY4wJ3z hi8OBmAZ')\n",
    "a=''\n",
    "for res in result:\n",
    "    a= (res.get_text(strip=True,separator=' '))\n",
    "    a = a.replace('\\u202f','')\n",
    "a"
   ]
  },
  {
   "cell_type": "markdown",
   "id": "8e29c323",
   "metadata": {},
   "source": [
    "# building the loop"
   ]
  },
  {
   "cell_type": "code",
   "execution_count": 33,
   "id": "5f4f45ac",
   "metadata": {},
   "outputs": [],
   "source": [
    "df2 = pd.DataFrame()"
   ]
  },
  {
   "cell_type": "code",
   "execution_count": 34,
   "id": "901bdb63",
   "metadata": {},
   "outputs": [
    {
     "data": {
      "application/vnd.jupyter.widget-view+json": {
       "model_id": "9aab9eb292e34396985e55161774b156",
       "version_major": 2,
       "version_minor": 0
      },
      "text/plain": [
       "  0%|          | 0/3807 [00:00<?, ?it/s]"
      ]
     },
     "metadata": {},
     "output_type": "display_data"
    }
   ],
   "source": [
    "for i in tqdm(final_list):\n",
    "    link = i\n",
    "    a=''\n",
    "    r = requests.get(link, headers=headers)\n",
    "    soup = BeautifulSoup(r.content, 'html.parser')\n",
    "    x = soup.find('div',class_='h4 UGhAL2CE').text\n",
    "    if ('Data Analyst' in x) | ('Data Scientist' in x) | ('Data Engineer' in x):\n",
    "        try:\n",
    "            job_title = soup.find('div',class_='h4 UGhAL2CE').text\n",
    "        except:\n",
    "            job_title = np.nan\n",
    "        try:\n",
    "            company = soup.find('a',class_='__8_RJM1pE').text\n",
    "        except:\n",
    "            company = np.nan\n",
    "        try:\n",
    "            location = soup.findAll('div',class_='DllOEHb_ main-body-text')[0].text\n",
    "        except:\n",
    "            location = np.nan\n",
    "        try:\n",
    "            job_occupation = soup.findAll('div',class_='DllOEHb_ main-body-text')[-1].text\n",
    "        except:\n",
    "            job_occupation = np.nan\n",
    "        try:\n",
    "            level = soup.findAll('div',class_='DllOEHb_ main-body-text')[2].text\n",
    "        except:\n",
    "            level = np.nan\n",
    "        try:\n",
    "            job_type = soup.findAll('div',class_='DllOEHb_ main-body-text')[-2].text\n",
    "        except:\n",
    "            job_type = np.nan\n",
    "        try:\n",
    "            result = soup.findAll('div',class_='__2DY4wJ3z hi8OBmAZ')\n",
    "            for i in result:\n",
    "                a= i.get_text(strip=True,separator=' ')\n",
    "                a = a.replace('\\u202f','')\n",
    "        except:\n",
    "            content = np.nan\n",
    "        temp = pd.DataFrame([{\n",
    "                'job_title' : job_title,\n",
    "                'company' : company,\n",
    "                'location': location,\n",
    "                'job_occupation' : job_occupation,\n",
    "                'level' : level,\n",
    "                'job_type' : job_type,\n",
    "                'content' : a,\n",
    "                'date_scraped' : datetime.now().strftime(\"%Y-%m-%d %H:%M\")\n",
    "            }])\n",
    "        df2 = pd.concat([df2, temp], ignore_index=True)"
   ]
  },
  {
   "cell_type": "code",
   "execution_count": 35,
   "id": "ac9d31ae",
   "metadata": {},
   "outputs": [
    {
     "data": {
      "text/html": [
       "<div>\n",
       "<style scoped>\n",
       "    .dataframe tbody tr th:only-of-type {\n",
       "        vertical-align: middle;\n",
       "    }\n",
       "\n",
       "    .dataframe tbody tr th {\n",
       "        vertical-align: top;\n",
       "    }\n",
       "\n",
       "    .dataframe thead th {\n",
       "        text-align: right;\n",
       "    }\n",
       "</style>\n",
       "<table border=\"1\" class=\"dataframe\">\n",
       "  <thead>\n",
       "    <tr style=\"text-align: right;\">\n",
       "      <th></th>\n",
       "      <th>job_title</th>\n",
       "      <th>company</th>\n",
       "      <th>location</th>\n",
       "      <th>job_occupation</th>\n",
       "      <th>level</th>\n",
       "      <th>job_type</th>\n",
       "      <th>content</th>\n",
       "      <th>date_scraped</th>\n",
       "    </tr>\n",
       "  </thead>\n",
       "  <tbody>\n",
       "    <tr>\n",
       "      <th>0</th>\n",
       "      <td>IT Data Analyst / Thessaloniki</td>\n",
       "      <td>Sani/Ikos Group</td>\n",
       "      <td>Thessaloniki</td>\n",
       "      <td>IT</td>\n",
       "      <td>Mid level</td>\n",
       "      <td>Full-time</td>\n",
       "      <td>Who do you want to become? Are you our Future ...</td>\n",
       "      <td>2022-11-13 10:33</td>\n",
       "    </tr>\n",
       "    <tr>\n",
       "      <th>1</th>\n",
       "      <td>Data Analyst for Airbnb</td>\n",
       "      <td>WEBHELP HELLAS</td>\n",
       "      <td>Athina</td>\n",
       "      <td>Part remote</td>\n",
       "      <td>Mid level</td>\n",
       "      <td>General Management</td>\n",
       "      <td>Requirements SQL skills (for optimally queryin...</td>\n",
       "      <td>2022-11-13 10:40</td>\n",
       "    </tr>\n",
       "    <tr>\n",
       "      <th>2</th>\n",
       "      <td>Data Analyst</td>\n",
       "      <td>Mellon Technologies</td>\n",
       "      <td>Pireas</td>\n",
       "      <td>Part remote</td>\n",
       "      <td>Mid level</td>\n",
       "      <td>IT</td>\n",
       "      <td>Description Responsible for the quality and co...</td>\n",
       "      <td>2022-11-13 10:45</td>\n",
       "    </tr>\n",
       "    <tr>\n",
       "      <th>3</th>\n",
       "      <td>Data Engineer - Patras</td>\n",
       "      <td>Ernst and Young</td>\n",
       "      <td>Patras</td>\n",
       "      <td>IT</td>\n",
       "      <td>Mid level</td>\n",
       "      <td>Full-time</td>\n",
       "      <td>Requisition ID: 146677 At EY, you’ll have the ...</td>\n",
       "      <td>2022-11-13 10:48</td>\n",
       "    </tr>\n",
       "    <tr>\n",
       "      <th>4</th>\n",
       "      <td>Data &amp; Analytics Manager - Data Engineering</td>\n",
       "      <td>Ernst and Young</td>\n",
       "      <td>Athina</td>\n",
       "      <td>IT</td>\n",
       "      <td>Senior</td>\n",
       "      <td>Full-time</td>\n",
       "      <td>Requisition ID: 814902 At EY, you’ll have the ...</td>\n",
       "      <td>2022-11-13 10:49</td>\n",
       "    </tr>\n",
       "    <tr>\n",
       "      <th>5</th>\n",
       "      <td>Data Scientist - Patras</td>\n",
       "      <td>Ernst and Young</td>\n",
       "      <td>Patras</td>\n",
       "      <td>IT</td>\n",
       "      <td>Mid level</td>\n",
       "      <td>Full-time</td>\n",
       "      <td>Requisition ID: 147180 At EY, you’ll have the ...</td>\n",
       "      <td>2022-11-13 10:49</td>\n",
       "    </tr>\n",
       "    <tr>\n",
       "      <th>6</th>\n",
       "      <td>Junior Data Engineer</td>\n",
       "      <td>Ernst and Young</td>\n",
       "      <td>Athina</td>\n",
       "      <td>IT</td>\n",
       "      <td>Mid level</td>\n",
       "      <td>Full-time</td>\n",
       "      <td>Requisition ID: 127061 Junior Data Engineer At...</td>\n",
       "      <td>2022-11-13 10:49</td>\n",
       "    </tr>\n",
       "    <tr>\n",
       "      <th>7</th>\n",
       "      <td>Data Analyst</td>\n",
       "      <td>Tech4sGroup</td>\n",
       "      <td>Limassol</td>\n",
       "      <td>BI / Business Analysis</td>\n",
       "      <td>Mid level</td>\n",
       "      <td>Full-time</td>\n",
       "      <td>Tech4S Group, is a fast growing and innovative...</td>\n",
       "      <td>2022-11-13 10:49</td>\n",
       "    </tr>\n",
       "    <tr>\n",
       "      <th>8</th>\n",
       "      <td>Data Scientist - Business Intelligence Analyst</td>\n",
       "      <td>Celestino</td>\n",
       "      <td>Athina</td>\n",
       "      <td>IT</td>\n",
       "      <td>Entry/Junior</td>\n",
       "      <td>Full-time</td>\n",
       "      <td>Description We are looking for a Data Scientis...</td>\n",
       "      <td>2022-11-13 10:52</td>\n",
       "    </tr>\n",
       "    <tr>\n",
       "      <th>9</th>\n",
       "      <td>Data Engineer</td>\n",
       "      <td>Netcompany-Intrasoft</td>\n",
       "      <td>Athina</td>\n",
       "      <td>IT</td>\n",
       "      <td>Mid level</td>\n",
       "      <td>Full-time</td>\n",
       "      <td>Company Description We are Netcompany-Intrasof...</td>\n",
       "      <td>2022-11-13 10:56</td>\n",
       "    </tr>\n",
       "    <tr>\n",
       "      <th>10</th>\n",
       "      <td>Commercial Data Analyst</td>\n",
       "      <td>PwC Greece</td>\n",
       "      <td>Athina</td>\n",
       "      <td>Finance</td>\n",
       "      <td>Senior</td>\n",
       "      <td>Full-time</td>\n",
       "      <td>Description On behalf of our client, ELPEDISON...</td>\n",
       "      <td>2022-11-13 11:04</td>\n",
       "    </tr>\n",
       "    <tr>\n",
       "      <th>11</th>\n",
       "      <td>Data Engineer</td>\n",
       "      <td>PeopleCert</td>\n",
       "      <td>Athina</td>\n",
       "      <td>Part remote</td>\n",
       "      <td>Senior</td>\n",
       "      <td>IT</td>\n",
       "      <td>Description Are you interested in working with...</td>\n",
       "      <td>2022-11-13 11:04</td>\n",
       "    </tr>\n",
       "    <tr>\n",
       "      <th>12</th>\n",
       "      <td>Senior Data Scientist</td>\n",
       "      <td>SoftOne Technologies S.A.</td>\n",
       "      <td>Kallithea</td>\n",
       "      <td>IT</td>\n",
       "      <td>Senior</td>\n",
       "      <td>Full-time</td>\n",
       "      <td>SoftOne Technologies is a premier technology G...</td>\n",
       "      <td>2022-11-13 11:04</td>\n",
       "    </tr>\n",
       "  </tbody>\n",
       "</table>\n",
       "</div>"
      ],
      "text/plain": [
       "                                         job_title                    company  \\\n",
       "0                  IT Data Analyst / Thessaloniki             Sani/Ikos Group   \n",
       "1                         Data Analyst for Airbnb              WEBHELP HELLAS   \n",
       "2                                     Data Analyst        Mellon Technologies   \n",
       "3                           Data Engineer - Patras            Ernst and Young   \n",
       "4      Data & Analytics Manager - Data Engineering            Ernst and Young   \n",
       "5                          Data Scientist - Patras            Ernst and Young   \n",
       "6                             Junior Data Engineer            Ernst and Young   \n",
       "7                                     Data Analyst                Tech4sGroup   \n",
       "8   Data Scientist - Business Intelligence Analyst                  Celestino   \n",
       "9                                    Data Engineer       Netcompany-Intrasoft   \n",
       "10                         Commercial Data Analyst                 PwC Greece   \n",
       "11                                   Data Engineer                 PeopleCert   \n",
       "12                           Senior Data Scientist  SoftOne Technologies S.A.   \n",
       "\n",
       "        location           job_occupation         level            job_type  \\\n",
       "0   Thessaloniki                       IT     Mid level           Full-time   \n",
       "1         Athina              Part remote     Mid level  General Management   \n",
       "2         Pireas              Part remote     Mid level                  IT   \n",
       "3         Patras                       IT     Mid level           Full-time   \n",
       "4         Athina                       IT        Senior           Full-time   \n",
       "5         Patras                       IT     Mid level           Full-time   \n",
       "6         Athina                       IT     Mid level           Full-time   \n",
       "7       Limassol  BI / Business Analysis      Mid level           Full-time   \n",
       "8         Athina                       IT  Entry/Junior           Full-time   \n",
       "9         Athina                       IT     Mid level           Full-time   \n",
       "10        Athina                  Finance        Senior           Full-time   \n",
       "11        Athina              Part remote        Senior                  IT   \n",
       "12     Kallithea                       IT        Senior           Full-time   \n",
       "\n",
       "                                              content      date_scraped  \n",
       "0   Who do you want to become? Are you our Future ...  2022-11-13 10:33  \n",
       "1   Requirements SQL skills (for optimally queryin...  2022-11-13 10:40  \n",
       "2   Description Responsible for the quality and co...  2022-11-13 10:45  \n",
       "3   Requisition ID: 146677 At EY, you’ll have the ...  2022-11-13 10:48  \n",
       "4   Requisition ID: 814902 At EY, you’ll have the ...  2022-11-13 10:49  \n",
       "5   Requisition ID: 147180 At EY, you’ll have the ...  2022-11-13 10:49  \n",
       "6   Requisition ID: 127061 Junior Data Engineer At...  2022-11-13 10:49  \n",
       "7   Tech4S Group, is a fast growing and innovative...  2022-11-13 10:49  \n",
       "8   Description We are looking for a Data Scientis...  2022-11-13 10:52  \n",
       "9   Company Description We are Netcompany-Intrasof...  2022-11-13 10:56  \n",
       "10  Description On behalf of our client, ELPEDISON...  2022-11-13 11:04  \n",
       "11  Description Are you interested in working with...  2022-11-13 11:04  \n",
       "12  SoftOne Technologies is a premier technology G...  2022-11-13 11:04  "
      ]
     },
     "execution_count": 35,
     "metadata": {},
     "output_type": "execute_result"
    }
   ],
   "source": [
    "df2"
   ]
  },
  {
   "cell_type": "code",
   "execution_count": 36,
   "id": "24f3881e",
   "metadata": {},
   "outputs": [],
   "source": [
    "df.to_csv('simple', index=False)"
   ]
  },
  {
   "cell_type": "code",
   "execution_count": 37,
   "id": "0f2bee1e",
   "metadata": {},
   "outputs": [],
   "source": [
    "df2.to_csv('content', index=False)"
   ]
  }
 ],
 "metadata": {
  "kernelspec": {
   "display_name": "Python 3 (ipykernel)",
   "language": "python",
   "name": "python3"
  },
  "language_info": {
   "codemirror_mode": {
    "name": "ipython",
    "version": 3
   },
   "file_extension": ".py",
   "mimetype": "text/x-python",
   "name": "python",
   "nbconvert_exporter": "python",
   "pygments_lexer": "ipython3",
   "version": "3.8.10"
  }
 },
 "nbformat": 4,
 "nbformat_minor": 5
}
