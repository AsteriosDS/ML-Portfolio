{
 "cells": [
  {
   "cell_type": "code",
   "execution_count": 1,
   "id": "233d1bef",
   "metadata": {},
   "outputs": [],
   "source": [
    "import pandas as pd\n",
    "import streamlit as st\n",
    "import matplotlib.pyplot as plt\n",
    "import base64\n",
    "import folium\n",
    "from folium.plugins import HeatMap\n",
    "from streamlit_folium import st_folium"
   ]
  },
  {
   "cell_type": "code",
   "execution_count": 2,
   "id": "0d957a30",
   "metadata": {},
   "outputs": [],
   "source": [
    "df = pd.read_csv('job_board.csv')"
   ]
  },
  {
   "cell_type": "code",
   "execution_count": 3,
   "id": "1545b407",
   "metadata": {},
   "outputs": [],
   "source": [
    "st.set_page_config(\n",
    "    page_title=\"Ex-stream-ly Cool App\",\n",
    "    page_icon=\"🧊\",\n",
    "    layout=\"centered\",\n",
    "    initial_sidebar_state=\"expanded\",\n",
    "    menu_items={\n",
    "        'Get Help': 'https://www.extremelycoolapp.com/help',\n",
    "        'Report a bug': \"https://www.extremelycoolapp.com/bug\",\n",
    "        'About': \"# This is a header. This is an *extremely* cool app!\"\n",
    "    }\n",
    ")"
   ]
  },
  {
   "cell_type": "code",
   "execution_count": 4,
   "id": "f3e4d3d1",
   "metadata": {},
   "outputs": [
    {
     "name": "stderr",
     "output_type": "stream",
     "text": [
      "2023-01-09 02:36:25.289 \n",
      "  \u001b[33m\u001b[1mWarning:\u001b[0m to view this Streamlit app on a browser, run it with the following\n",
      "  command:\n",
      "\n",
      "    streamlit run C:\\Users\\aster\\miniconda3\\envs\\job_board\\lib\\site-packages\\ipykernel_launcher.py [ARGUMENTS]\n"
     ]
    },
    {
     "data": {
      "text/plain": [
       "DeltaGenerator(_root_container=0, _provided_cursor=None, _parent=None, _block_type=None, _form_data=None)"
      ]
     },
     "execution_count": 4,
     "metadata": {},
     "output_type": "execute_result"
    }
   ],
   "source": [
    "st.title('Web Scraped Job Board')\n",
    "\n",
    "st.markdown(\"\"\"\n",
    "### This app displays web scraped data science,analysis and engineering jobs!\n",
    "\"\"\")"
   ]
  },
  {
   "cell_type": "code",
   "execution_count": 5,
   "id": "b63fa275",
   "metadata": {},
   "outputs": [],
   "source": [
    "# Sidebar Area\n",
    "\n",
    "st.sidebar.header('User Input Features')\n",
    "\n",
    "categories = st.sidebar.multiselect('Job Category', df.categories.unique(), df.categories.unique())\n",
    "\n",
    "location = st.sidebar.multiselect('City', df.location.unique(), df.location.unique())\n",
    "\n",
    "level = st.sidebar.multiselect('Experience Level', df.level.unique(), df.level.unique())\n",
    "\n",
    "job_type = st.sidebar.multiselect('Job Type', df.job_type.unique(), df.job_type.unique())"
   ]
  },
  {
   "cell_type": "code",
   "execution_count": 6,
   "id": "0303b967",
   "metadata": {},
   "outputs": [
    {
     "data": {
      "image/png": "[encoded data removed]",
      "text/plain": [
       "<Figure size 500x300 with 1 Axes>"
      ]
     },
     "metadata": {},
     "output_type": "display_data"
    }
   ],
   "source": [
    "# Filtering data\n",
    "df_selected_jobs = df[(df.categories.isin(categories))\n",
    "                      & (df.location.isin(location)) & (df.level.isin(level)) &\n",
    "                      (df.job_type.isin(job_type))].copy()\n",
    "\n",
    "st.subheader('Display Selected Job(s)')\n",
    "st.write('Data Dimension: ' + str(df_selected_jobs.shape[0]) + ' rows and ' +\n",
    "         str(df_selected_jobs.shape[1]) + ' columns.')\n",
    "st.dataframe(df_selected_jobs.iloc[:,:6])\n",
    "\n",
    "# file download\n",
    "def filedownload(df):\n",
    "    csv = df.to_csv(index=False)\n",
    "    b64 = base64.b64encode(csv.encode()).decode()  # strings <-> bytes conversions\n",
    "    href = f'<a href=\"data:file/csv;base64,{b64}\" download=\"df_selected_jobs.csv\">Download CSV File</a>'\n",
    "    return href\n",
    "\n",
    "st.markdown(filedownload(df_selected_jobs), unsafe_allow_html=True)\n",
    "\n",
    "# pie chart\n",
    "plt.figure(figsize=(5,3))\n",
    "plt.pie(x=df.groupby('categories').count()['company'],\n",
    "        explode=(0.02, 0.02, 0.02), labels= df.groupby('categories').count()['company'].index, colors = ['#429EBD', '#9FE7F5','#053F5C'])\n",
    "\n",
    "# draw circle\n",
    "centre_circle = plt.Circle((0, 0), 0.70, fc='white')\n",
    "fig = plt.gcf()\n",
    "  \n",
    "# Adding Circle in Pie chart\n",
    "fig.gca().add_artist(centre_circle)\n",
    "  \n",
    "# Adding Title of chart\n",
    "st.header('Stake of categories in Greek market')\n",
    "st.pyplot(fig)\n",
    "\n",
    "# map\n",
    "\n",
    "st.header('The majority of the listings are in/near Athens')\n",
    "\n",
    "map = folium.Map(location=[37.983810, 23.727539], zoom_start=5, scrollWheelZoom=False, tiles='CartoDB positron')\n",
    "\n",
    "data = df[['latitude','longitude']].dropna().to_numpy().tolist()\n",
    "\n",
    "HeatMap(data = data).add_to(map)\n",
    "\n",
    "st_map = st_folium(map, width=700, height=450)"
   ]
  },
  {
   "cell_type": "code",
   "execution_count": null,
   "id": "c365554c",
   "metadata": {},
   "outputs": [],
   "source": []
  }
 ],
 "metadata": {
  "kernelspec": {
   "display_name": "Python 3 (ipykernel)",
   "language": "python",
   "name": "python3"
  },
  "language_info": {
   "codemirror_mode": {
    "name": "ipython",
    "version": 3
   },
   "file_extension": ".py",
   "mimetype": "text/x-python",
   "name": "python",
   "nbconvert_exporter": "python",
   "pygments_lexer": "ipython3",
   "version": "3.7.15"
  }
 },
 "nbformat": 4,
 "nbformat_minor": 5
}
