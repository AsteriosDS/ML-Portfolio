{
 "cells": [
  {
   "cell_type": "code",
   "execution_count": 1,
   "id": "b4403ec2",
   "metadata": {},
   "outputs": [],
   "source": [
    "import requests\n",
    "from bs4 import BeautifulSoup\n",
    "from tqdm.notebook import tqdm\n",
    "import pandas as pd\n",
    "from datetime import datetime\n",
    "import numpy as np\n",
    "from requests_html import HTMLSession\n",
    "import psycopg2 as pg2"
   ]
  },
  {
   "cell_type": "code",
   "execution_count": 2,
   "id": "e87b3d5d",
   "metadata": {},
   "outputs": [
    {
     "data": {
      "text/plain": [
       "<Response [200]>"
      ]
     },
     "execution_count": 2,
     "metadata": {},
     "output_type": "execute_result"
    }
   ],
   "source": [
    "main_link = 'https://www.kariera.gr/en/jobs?title=&page=0&limit=20'\n",
    "headers = {'User-agent':'Mozilla/5.0 (Windows NT 6.1; Win64; x64; rv:47.0) Gecko/20100101 Firefox/47.0'}\n",
    "r = requests.get(main_link, headers=headers)\n",
    "r"
   ]
  },
  {
   "cell_type": "markdown",
   "id": "ae2992d6",
   "metadata": {},
   "source": [
    "## Main Idea\n",
    "### scrape all main_link + sub_links where sub_links=data%20analyst,data%20scientist,data%20engineer"
   ]
  },
  {
   "cell_type": "code",
   "execution_count": 3,
   "id": "061921b6",
   "metadata": {},
   "outputs": [],
   "source": [
    "soup = BeautifulSoup(r.content, 'html.parser')"
   ]
  },
  {
   "cell_type": "code",
   "execution_count": 4,
   "id": "4130ee50",
   "metadata": {},
   "outputs": [],
   "source": [
    "max_page = soup.find('li',class_='ant-pagination-next').previous_sibling.text\n",
    "max_pages = int(max_page)"
   ]
  },
  {
   "cell_type": "code",
   "execution_count": 5,
   "id": "10eff259",
   "metadata": {},
   "outputs": [
    {
     "data": {
      "text/plain": [
       "160"
      ]
     },
     "execution_count": 5,
     "metadata": {},
     "output_type": "execute_result"
    }
   ],
   "source": [
    "max_pages"
   ]
  },
  {
   "cell_type": "markdown",
   "id": "f0538f8e",
   "metadata": {},
   "source": [
    "### working out how to turn pages:"
   ]
  },
  {
   "cell_type": "code",
   "execution_count": 6,
   "id": "dd324dc6",
   "metadata": {},
   "outputs": [],
   "source": [
    "page_link_list=[]\n",
    "for i in range(0,max_pages+1):\n",
    "    page_link_list.append('https://www.kariera.gr/en/jobs?title=&page={}&limit=20'.format(i))"
   ]
  },
  {
   "cell_type": "markdown",
   "id": "1e8121db",
   "metadata": {},
   "source": [
    "## getting all sub-links from all links"
   ]
  },
  {
   "cell_type": "code",
   "execution_count": 7,
   "id": "025944c0",
   "metadata": {},
   "outputs": [
    {
     "data": {
      "application/vnd.jupyter.widget-view+json": {
       "model_id": "712df45b25ee4bfe9a5a9ba62591ed5e",
       "version_major": 2,
       "version_minor": 0
      },
      "text/plain": [
       "  0%|          | 0/161 [00:00<?, ?it/s]"
      ]
     },
     "metadata": {},
     "output_type": "display_data"
    }
   ],
   "source": [
    "link_list=[]\n",
    "session = HTMLSession()\n",
    "for i in tqdm(page_link_list):\n",
    "    for y in session.get(i).html.links:\n",
    "        if '/en/jobs/' in y:\n",
    "            link_list.append(y)"
   ]
  },
  {
   "cell_type": "code",
   "execution_count": 11,
   "id": "5a934603",
   "metadata": {},
   "outputs": [
    {
     "data": {
      "text/plain": [
       "3122"
      ]
     },
     "execution_count": 11,
     "metadata": {},
     "output_type": "execute_result"
    }
   ],
   "source": [
    "len(link_list)"
   ]
  },
  {
   "cell_type": "code",
   "execution_count": 12,
   "id": "d2c76032",
   "metadata": {},
   "outputs": [],
   "source": [
    "final_list=[]\n",
    "main = 'https://www.kariera.gr/'\n",
    "for i in link_list:\n",
    "    final_list.append(main + i)"
   ]
  },
  {
   "cell_type": "code",
   "execution_count": 13,
   "id": "53348403",
   "metadata": {},
   "outputs": [],
   "source": [
    "test_link = final_list[1]"
   ]
  },
  {
   "cell_type": "code",
   "execution_count": 14,
   "id": "82b7189d",
   "metadata": {},
   "outputs": [],
   "source": [
    "headers = {'User-agent':'Mozilla/5.0 (Windows NT 6.1; Win64; x64; rv:47.0) Gecko/20100101 Firefox/47.0'}\n",
    "r = requests.get(test_link, headers=headers)\n",
    "soup = BeautifulSoup(r.content, 'html.parser')"
   ]
  },
  {
   "cell_type": "markdown",
   "id": "7b1f39f1",
   "metadata": {},
   "source": [
    "### job title"
   ]
  },
  {
   "cell_type": "code",
   "execution_count": 15,
   "id": "89144b18",
   "metadata": {},
   "outputs": [
    {
     "data": {
      "text/plain": [
       "'Λογιστής / ρια - Φοροτεχνικός'"
      ]
     },
     "execution_count": 15,
     "metadata": {},
     "output_type": "execute_result"
    }
   ],
   "source": [
    "soup.find('div',class_='h4 UGhAL2CE').text"
   ]
  },
  {
   "cell_type": "markdown",
   "id": "966d3e0f",
   "metadata": {},
   "source": [
    "### company"
   ]
  },
  {
   "cell_type": "code",
   "execution_count": 16,
   "id": "026ffe52",
   "metadata": {},
   "outputs": [
    {
     "data": {
      "text/plain": [
       "'CERTUS ΕΕ'"
      ]
     },
     "execution_count": 16,
     "metadata": {},
     "output_type": "execute_result"
    }
   ],
   "source": [
    "soup.find('a',class_='__8_RJM1pE').text"
   ]
  },
  {
   "cell_type": "markdown",
   "id": "0eaa580e",
   "metadata": {},
   "source": [
    "### location"
   ]
  },
  {
   "cell_type": "code",
   "execution_count": 17,
   "id": "2e6200d1",
   "metadata": {},
   "outputs": [
    {
     "data": {
      "text/plain": [
       "'Athina'"
      ]
     },
     "execution_count": 17,
     "metadata": {},
     "output_type": "execute_result"
    }
   ],
   "source": [
    "soup.findAll('a',class_='V_oVSppD main-body-text')[0].text"
   ]
  },
  {
   "cell_type": "markdown",
   "id": "4cc0fbf2",
   "metadata": {},
   "source": [
    "### job occupation"
   ]
  },
  {
   "cell_type": "code",
   "execution_count": 18,
   "id": "58ae6766",
   "metadata": {},
   "outputs": [
    {
     "data": {
      "text/plain": [
       "'Finance'"
      ]
     },
     "execution_count": 18,
     "metadata": {},
     "output_type": "execute_result"
    }
   ],
   "source": [
    "getattr(soup.findAll('a',class_='V_oVSppD main-body-text')[3],'text',None)"
   ]
  },
  {
   "cell_type": "code",
   "execution_count": 19,
   "id": "c8f87867",
   "metadata": {},
   "outputs": [
    {
     "data": {
      "text/plain": [
       "'Finance'"
      ]
     },
     "execution_count": 19,
     "metadata": {},
     "output_type": "execute_result"
    }
   ],
   "source": [
    "soup.findAll('a',class_='V_oVSppD main-body-text')[3].text"
   ]
  },
  {
   "cell_type": "markdown",
   "id": "3ce7ef9c",
   "metadata": {},
   "source": [
    "### level"
   ]
  },
  {
   "cell_type": "code",
   "execution_count": 20,
   "id": "d3210171",
   "metadata": {},
   "outputs": [
    {
     "data": {
      "text/plain": [
       "'Mid level'"
      ]
     },
     "execution_count": 20,
     "metadata": {},
     "output_type": "execute_result"
    }
   ],
   "source": [
    "soup.findAll('a',class_='V_oVSppD main-body-text')[1].text"
   ]
  },
  {
   "cell_type": "markdown",
   "id": "674132da",
   "metadata": {},
   "source": [
    "### job type"
   ]
  },
  {
   "cell_type": "code",
   "execution_count": 21,
   "id": "731b1880",
   "metadata": {},
   "outputs": [
    {
     "data": {
      "text/plain": [
       "'Full-time'"
      ]
     },
     "execution_count": 21,
     "metadata": {},
     "output_type": "execute_result"
    }
   ],
   "source": [
    "soup.findAll('a',class_='V_oVSppD main-body-text')[2].text"
   ]
  },
  {
   "cell_type": "markdown",
   "id": "6cd4dc5a",
   "metadata": {},
   "source": [
    "### content"
   ]
  },
  {
   "cell_type": "code",
   "execution_count": 22,
   "id": "801b4105",
   "metadata": {},
   "outputs": [],
   "source": [
    "result = soup.findAll('div',class_='__2DY4wJ3z hi8OBmAZ')\n",
    "a=''\n",
    "for res in result:\n",
    "    a= (res.get_text(strip=True,separator=' '))\n",
    "    a = a.replace('\\u202f','').replace('\\xa0','').replace('/','')"
   ]
  },
  {
   "cell_type": "markdown",
   "id": "8e29c323",
   "metadata": {},
   "source": [
    "# building the loop"
   ]
  },
  {
   "cell_type": "code",
   "execution_count": 23,
   "id": "5f4f45ac",
   "metadata": {},
   "outputs": [],
   "source": [
    "df2 = pd.DataFrame()"
   ]
  },
  {
   "cell_type": "code",
   "execution_count": 24,
   "id": "901bdb63",
   "metadata": {},
   "outputs": [
    {
     "data": {
      "application/vnd.jupyter.widget-view+json": {
       "model_id": "c1ef9d34b8354ebb835d1b21a10bd67d",
       "version_major": 2,
       "version_minor": 0
      },
      "text/plain": [
       "  0%|          | 0/3122 [00:00<?, ?it/s]"
      ]
     },
     "metadata": {},
     "output_type": "display_data"
    }
   ],
   "source": [
    "for i in tqdm(final_list):\n",
    "    link = i\n",
    "    unique_id = i[-5:]\n",
    "    a=''\n",
    "    r = requests.get(link, headers=headers)\n",
    "    soup = BeautifulSoup(r.content, 'html.parser')\n",
    "    if soup.find('div',class_='h4 UGhAL2CE') is not None:\n",
    "        x = soup.find('div',class_='h4 UGhAL2CE').text\n",
    "        if ('Data Analyst' in x) | ('Data Scientist' in x) | ('Data Engineer' in x): \n",
    "            try:\n",
    "                job_title = soup.find('div',class_='h4 UGhAL2CE').text\n",
    "            except:\n",
    "                job_title = np.nan\n",
    "            try:\n",
    "                company = soup.find('a',class_='__8_RJM1pE').text\n",
    "            except:\n",
    "                company = np.nan\n",
    "            try:\n",
    "                location = soup.findAll('a',class_='V_oVSppD main-body-text')[0].text\n",
    "            except:\n",
    "                location = np.nan\n",
    "            try:\n",
    "                job_occupation = soup.findAll('a',class_='V_oVSppD main-body-text')[3].text\n",
    "            except:\n",
    "                job_occupation = np.nan\n",
    "            try:\n",
    "                level = soup.findAll('a',class_='V_oVSppD main-body-text')[1].text\n",
    "            except:\n",
    "                level = np.nan\n",
    "            try:\n",
    "                job_type = soup.findAll('a',class_='V_oVSppD main-body-text')[2].text\n",
    "            except:\n",
    "                job_type = np.nan\n",
    "            try:\n",
    "                result = soup.findAll('div',class_='__2DY4wJ3z hi8OBmAZ')\n",
    "                for i in result:\n",
    "                    a= i.get_text(strip=True,separator=' ')\n",
    "                    a = a.replace('\\u202f','').replace('\\xa0','').replace('/','')\n",
    "            except:\n",
    "                content = np.nan\n",
    "            temp = pd.DataFrame([{\n",
    "                    'job_id' : unique_id,\n",
    "                    'job_title' : job_title,\n",
    "                    'company' : company,\n",
    "                    'location': location,\n",
    "                    'job_occupation' : job_occupation,\n",
    "                    'level' : level,\n",
    "                    'job_type' : job_type,\n",
    "                    'content' : a,\n",
    "                    'date_scraped' : datetime.now().strftime(\"%Y-%m-%d %H:%M\")\n",
    "                }])\n",
    "            df2 = pd.concat([df2, temp], ignore_index=True)"
   ]
  },
  {
   "cell_type": "code",
   "execution_count": 25,
   "id": "5ca12c97",
   "metadata": {},
   "outputs": [],
   "source": [
    "name1 = 'content' + '_' + str(datetime.now().strftime(\"%d-%m-%Y\") + '.csv')"
   ]
  },
  {
   "cell_type": "code",
   "execution_count": 26,
   "id": "0f2bee1e",
   "metadata": {},
   "outputs": [],
   "source": [
    "df2.to_csv(name1, index=False)"
   ]
  },
  {
   "cell_type": "markdown",
   "id": "f876eeab",
   "metadata": {},
   "source": [
    "## Connect to postgres"
   ]
  },
  {
   "cell_type": "code",
   "execution_count": 27,
   "id": "1ebff3ee",
   "metadata": {},
   "outputs": [],
   "source": [
    "conn = pg2.connect(database='Jobs',user='postgres',password='no_pwsd_here')"
   ]
  },
  {
   "cell_type": "code",
   "execution_count": 28,
   "id": "c7654c0f",
   "metadata": {},
   "outputs": [],
   "source": [
    "cur = conn.cursor()"
   ]
  },
  {
   "cell_type": "code",
   "execution_count": 29,
   "id": "2aab6bcf",
   "metadata": {},
   "outputs": [],
   "source": [
    "def create_table(cur):\n",
    "    create_table_command = (\"\"\" \n",
    "    CREATE TABLE IF NOT EXISTS jobs (\n",
    "    job_id int primary key NOT NULL,\n",
    "   job_title text NOT NULL,\n",
    "   company text,\n",
    "   location text,\n",
    "   job_occupation text,\n",
    "   level text,\n",
    "   job_type text,\n",
    "   content text,\n",
    "   date_scraped timestamp NOT NULL\n",
    "    );\n",
    "    \"\"\")\n",
    "    \n",
    "    cur.execute(create_table_command)"
   ]
  },
  {
   "cell_type": "code",
   "execution_count": 30,
   "id": "9522428f",
   "metadata": {},
   "outputs": [],
   "source": [
    "create_table(cur)"
   ]
  },
  {
   "cell_type": "code",
   "execution_count": 31,
   "id": "3d9dc7d2",
   "metadata": {},
   "outputs": [],
   "source": [
    "def check_if_job_exists(cur,job_id):\n",
    "    query = (\"\"\" select job_id from jobs where job_id = %s \"\"\")\n",
    "    cur.execute(query,(job_id,))\n",
    "    \n",
    "    return cur.fetchone() is not None"
   ]
  },
  {
   "cell_type": "code",
   "execution_count": 32,
   "id": "3709f97c",
   "metadata": {},
   "outputs": [],
   "source": [
    "def update_db(cur, df):\n",
    "\n",
    "    l = []\n",
    "    for row in df.iterrows():\n",
    "        if check_if_job_exists(cur, row[1][0]):\n",
    "            pass\n",
    "        else:\n",
    "            l.append(row[1][0])\n",
    "\n",
    "    return l"
   ]
  },
  {
   "cell_type": "markdown",
   "id": "0c7b83fe",
   "metadata": {},
   "source": [
    "# Create dataframe with new jobs"
   ]
  },
  {
   "cell_type": "code",
   "execution_count": 33,
   "id": "8ebf4988",
   "metadata": {},
   "outputs": [],
   "source": [
    "new_jobs = update_db(cur,df2)"
   ]
  },
  {
   "cell_type": "code",
   "execution_count": 34,
   "id": "a86a7a6f",
   "metadata": {},
   "outputs": [],
   "source": [
    "new_jobs = df2[df2['job_id'].apply(lambda x : x in new_jobs)]"
   ]
  },
  {
   "cell_type": "code",
   "execution_count": 35,
   "id": "75a0112c",
   "metadata": {},
   "outputs": [
    {
     "data": {
      "text/html": [
       "<div>\n",
       "<style scoped>\n",
       "    .dataframe tbody tr th:only-of-type {\n",
       "        vertical-align: middle;\n",
       "    }\n",
       "\n",
       "    .dataframe tbody tr th {\n",
       "        vertical-align: top;\n",
       "    }\n",
       "\n",
       "    .dataframe thead th {\n",
       "        text-align: right;\n",
       "    }\n",
       "</style>\n",
       "<table border=\"1\" class=\"dataframe\">\n",
       "  <thead>\n",
       "    <tr style=\"text-align: right;\">\n",
       "      <th></th>\n",
       "      <th>job_id</th>\n",
       "      <th>job_title</th>\n",
       "      <th>company</th>\n",
       "      <th>location</th>\n",
       "      <th>job_occupation</th>\n",
       "      <th>level</th>\n",
       "      <th>job_type</th>\n",
       "      <th>content</th>\n",
       "      <th>date_scraped</th>\n",
       "    </tr>\n",
       "  </thead>\n",
       "  <tbody>\n",
       "    <tr>\n",
       "      <th>0</th>\n",
       "      <td>41993</td>\n",
       "      <td>Data Engineer</td>\n",
       "      <td>Executive Level</td>\n",
       "      <td>Athina</td>\n",
       "      <td>IT</td>\n",
       "      <td>Mid level</td>\n",
       "      <td>Full-time</td>\n",
       "      <td>Data Engineer Responsibilities Identify data s...</td>\n",
       "      <td>2023-01-09 14:21</td>\n",
       "    </tr>\n",
       "  </tbody>\n",
       "</table>\n",
       "</div>"
      ],
      "text/plain": [
       "  job_id      job_title          company location job_occupation      level  \\\n",
       "0  41993  Data Engineer  Executive Level   Athina             IT  Mid level   \n",
       "\n",
       "    job_type                                            content  \\\n",
       "0  Full-time  Data Engineer Responsibilities Identify data s...   \n",
       "\n",
       "       date_scraped  \n",
       "0  2023-01-09 14:21  "
      ]
     },
     "execution_count": 35,
     "metadata": {},
     "output_type": "execute_result"
    }
   ],
   "source": [
    "new_jobs"
   ]
  },
  {
   "cell_type": "markdown",
   "id": "d1dea587",
   "metadata": {},
   "source": [
    "## Push new jobs to postgress"
   ]
  },
  {
   "cell_type": "code",
   "execution_count": 36,
   "id": "8a7206dc",
   "metadata": {},
   "outputs": [],
   "source": [
    "def insert_into_table(cur,job_id, job_title, company, location, job_occupation, level,job_type, content, date_scraped):\n",
    "    insert_new_jobs = (\n",
    "        \"\"\" INSERT INTO jobs (job_id, job_title, company, location, job_occupation, level,\n",
    "           job_type, content, date_scraped)\n",
    "            VALUES(%s,%s,%s,%s,%s,%s,%s,%s,%s);\"\"\")\n",
    "\n",
    "    job_to_insert = (job_id, job_title, company, location, job_occupation, level,\n",
    "                     job_type, content, date_scraped)\n",
    "\n",
    "    cur.execute(insert_new_jobs,job_to_insert)"
   ]
  },
  {
   "cell_type": "code",
   "execution_count": 37,
   "id": "6b871be7",
   "metadata": {},
   "outputs": [],
   "source": [
    "def push_from_df_to_db(cur, df):\n",
    "    for i, row in df.iterrows():\n",
    "        insert_into_table(cur, row['job_id'], row['job_title'], row['company'],\n",
    "                          row['location'], row['job_occupation'], row['level'],\n",
    "                          row['job_type'], row['content'], row['date_scraped'])"
   ]
  },
  {
   "cell_type": "code",
   "execution_count": 38,
   "id": "e8434d57",
   "metadata": {},
   "outputs": [],
   "source": [
    "push_from_df_to_db(cur, new_jobs)"
   ]
  },
  {
   "cell_type": "code",
   "execution_count": 39,
   "id": "69f626bb",
   "metadata": {},
   "outputs": [],
   "source": [
    "conn.commit()"
   ]
  },
  {
   "cell_type": "code",
   "execution_count": 40,
   "id": "dbfc4b2c",
   "metadata": {},
   "outputs": [],
   "source": [
    "conn.close()"
   ]
  },
  {
   "cell_type": "markdown",
   "id": "ea88a8d7",
   "metadata": {},
   "source": [
    "# Fetch jobs table and save to a df"
   ]
  },
  {
   "cell_type": "code",
   "execution_count": 41,
   "id": "cbaa3d11",
   "metadata": {},
   "outputs": [],
   "source": [
    "conn = pg2.connect(database='Jobs', user='postgres', password='new_password')\n",
    "\n",
    "with conn:\n",
    "\n",
    "    cur = conn.cursor()\n",
    "    cur.execute(\"SELECT * FROM jobs\")\n",
    "\n",
    "    rows = cur.fetchall()\n",
    "\n",
    "df = pd.DataFrame(rows).rename(\n",
    "    columns={\n",
    "        0: 'job_id',\n",
    "        1: 'job_title',\n",
    "        2: 'company',\n",
    "        3: 'location',\n",
    "        4: 'job_occupation',\n",
    "        5: 'level',\n",
    "        6: 'job_type',\n",
    "        7: 'content',\n",
    "        8: 'date_scraped'\n",
    "    })\n",
    "\n",
    "conn.close()"
   ]
  },
  {
   "cell_type": "code",
   "execution_count": 42,
   "id": "fa6bf05c",
   "metadata": {},
   "outputs": [
    {
     "data": {
      "text/html": [
       "<div>\n",
       "<style scoped>\n",
       "    .dataframe tbody tr th:only-of-type {\n",
       "        vertical-align: middle;\n",
       "    }\n",
       "\n",
       "    .dataframe tbody tr th {\n",
       "        vertical-align: top;\n",
       "    }\n",
       "\n",
       "    .dataframe thead th {\n",
       "        text-align: right;\n",
       "    }\n",
       "</style>\n",
       "<table border=\"1\" class=\"dataframe\">\n",
       "  <thead>\n",
       "    <tr style=\"text-align: right;\">\n",
       "      <th></th>\n",
       "      <th>job_id</th>\n",
       "      <th>job_title</th>\n",
       "      <th>company</th>\n",
       "      <th>location</th>\n",
       "      <th>job_occupation</th>\n",
       "      <th>level</th>\n",
       "      <th>job_type</th>\n",
       "      <th>content</th>\n",
       "      <th>date_scraped</th>\n",
       "    </tr>\n",
       "  </thead>\n",
       "  <tbody>\n",
       "    <tr>\n",
       "      <th>0</th>\n",
       "      <td>38344</td>\n",
       "      <td>Data Analyst</td>\n",
       "      <td>Mellon Technologies</td>\n",
       "      <td>Pireas</td>\n",
       "      <td>IT</td>\n",
       "      <td>Mid level</td>\n",
       "      <td>Full-time</td>\n",
       "      <td>Description Responsible for the quality and co...</td>\n",
       "      <td>2022-12-17 01:39:00</td>\n",
       "    </tr>\n",
       "    <tr>\n",
       "      <th>1</th>\n",
       "      <td>37348</td>\n",
       "      <td>Data Engineer - Patras</td>\n",
       "      <td>Ernst and Young</td>\n",
       "      <td>Patras</td>\n",
       "      <td>IT</td>\n",
       "      <td>Mid level</td>\n",
       "      <td>Full-time</td>\n",
       "      <td>Requisition ID: 146677 At EY, you’ll have the ...</td>\n",
       "      <td>2022-12-17 01:47:00</td>\n",
       "    </tr>\n",
       "    <tr>\n",
       "      <th>2</th>\n",
       "      <td>37357</td>\n",
       "      <td>Junior Data Engineer</td>\n",
       "      <td>Ernst and Young</td>\n",
       "      <td>Athina</td>\n",
       "      <td>IT</td>\n",
       "      <td>Mid level</td>\n",
       "      <td>Full-time</td>\n",
       "      <td>Requisition ID: 127061 Junior Data Engineer At...</td>\n",
       "      <td>2022-12-17 01:47:00</td>\n",
       "    </tr>\n",
       "    <tr>\n",
       "      <th>3</th>\n",
       "      <td>37349</td>\n",
       "      <td>Data &amp; Analytics Manager - Data Engineering</td>\n",
       "      <td>Ernst and Young</td>\n",
       "      <td>Athina</td>\n",
       "      <td>IT</td>\n",
       "      <td>Senior</td>\n",
       "      <td>Full-time</td>\n",
       "      <td>Requisition ID: 814902 At EY, you’ll have the ...</td>\n",
       "      <td>2022-12-17 01:47:00</td>\n",
       "    </tr>\n",
       "    <tr>\n",
       "      <th>4</th>\n",
       "      <td>37345</td>\n",
       "      <td>Data Scientist - Patras</td>\n",
       "      <td>Ernst and Young</td>\n",
       "      <td>Patras</td>\n",
       "      <td>IT</td>\n",
       "      <td>Mid level</td>\n",
       "      <td>Full-time</td>\n",
       "      <td>Requisition ID: 147180 At EY, you’ll have the ...</td>\n",
       "      <td>2022-12-17 01:47:00</td>\n",
       "    </tr>\n",
       "  </tbody>\n",
       "</table>\n",
       "</div>"
      ],
      "text/plain": [
       "   job_id                                    job_title              company  \\\n",
       "0   38344                                 Data Analyst  Mellon Technologies   \n",
       "1   37348                       Data Engineer - Patras      Ernst and Young   \n",
       "2   37357                         Junior Data Engineer      Ernst and Young   \n",
       "3   37349  Data & Analytics Manager - Data Engineering      Ernst and Young   \n",
       "4   37345                      Data Scientist - Patras      Ernst and Young   \n",
       "\n",
       "  location job_occupation      level   job_type  \\\n",
       "0   Pireas             IT  Mid level  Full-time   \n",
       "1   Patras             IT  Mid level  Full-time   \n",
       "2   Athina             IT  Mid level  Full-time   \n",
       "3   Athina             IT     Senior  Full-time   \n",
       "4   Patras             IT  Mid level  Full-time   \n",
       "\n",
       "                                             content        date_scraped  \n",
       "0  Description Responsible for the quality and co... 2022-12-17 01:39:00  \n",
       "1  Requisition ID: 146677 At EY, you’ll have the ... 2022-12-17 01:47:00  \n",
       "2  Requisition ID: 127061 Junior Data Engineer At... 2022-12-17 01:47:00  \n",
       "3  Requisition ID: 814902 At EY, you’ll have the ... 2022-12-17 01:47:00  \n",
       "4  Requisition ID: 147180 At EY, you’ll have the ... 2022-12-17 01:47:00  "
      ]
     },
     "execution_count": 42,
     "metadata": {},
     "output_type": "execute_result"
    }
   ],
   "source": [
    "df.head()"
   ]
  },
  {
   "cell_type": "markdown",
   "id": "4bd7700c",
   "metadata": {},
   "source": [
    "## Cleaning company names"
   ]
  },
  {
   "cell_type": "code",
   "execution_count": 43,
   "id": "861753df",
   "metadata": {},
   "outputs": [],
   "source": [
    "df['company'] = df['company'].apply(lambda x : x.replace('\\t','').strip())"
   ]
  },
  {
   "cell_type": "markdown",
   "id": "1d3a94e6",
   "metadata": {},
   "source": [
    "## Categorizing jobs"
   ]
  },
  {
   "cell_type": "code",
   "execution_count": 44,
   "id": "a69ecdb0",
   "metadata": {},
   "outputs": [],
   "source": [
    "df['categories'] = df['job_title'].apply(lambda x: 'Analytics' if 'Analyst' in x else\n",
    "                      ('Engineering' if 'Engineer' in x else 'Science'))"
   ]
  },
  {
   "cell_type": "markdown",
   "id": "ea1200c1",
   "metadata": {},
   "source": [
    "## Cleaning job_title"
   ]
  },
  {
   "cell_type": "code",
   "execution_count": 45,
   "id": "ccd75d52",
   "metadata": {},
   "outputs": [],
   "source": [
    "# removing spaces\n",
    "df['job_title'] = df['job_title'].apply(lambda x : x.strip())"
   ]
  },
  {
   "cell_type": "code",
   "execution_count": 46,
   "id": "7567497c",
   "metadata": {},
   "outputs": [],
   "source": [
    "# removing locations from job titles\n",
    "# it assumes that always all locations will be preceded by ' - '\n",
    "def clean_city_from_job(job,city):\n",
    "    titles = []\n",
    "    for i,j in zip(job,city):\n",
    "        if j in i:\n",
    "            title = i[:-(3+len(j))]\n",
    "            titles.append(title)\n",
    "        else:\n",
    "            title = i\n",
    "            titles.append(title)\n",
    "    return pd.DataFrame(titles).rename(columns={0:'job_title'})"
   ]
  },
  {
   "cell_type": "code",
   "execution_count": 47,
   "id": "e687c5ee",
   "metadata": {},
   "outputs": [],
   "source": [
    "df = clean_city_from_job(df['job_title'], df['location']).merge(\n",
    "    df, left_index=True,\n",
    "    right_index=True).drop('job_title_y',\n",
    "                           axis=1).rename(columns={'job_title_x': 'job_title'})"
   ]
  },
  {
   "cell_type": "code",
   "execution_count": 48,
   "id": "04bc17db",
   "metadata": {},
   "outputs": [
    {
     "data": {
      "text/html": [
       "<div>\n",
       "<style scoped>\n",
       "    .dataframe tbody tr th:only-of-type {\n",
       "        vertical-align: middle;\n",
       "    }\n",
       "\n",
       "    .dataframe tbody tr th {\n",
       "        vertical-align: top;\n",
       "    }\n",
       "\n",
       "    .dataframe thead th {\n",
       "        text-align: right;\n",
       "    }\n",
       "</style>\n",
       "<table border=\"1\" class=\"dataframe\">\n",
       "  <thead>\n",
       "    <tr style=\"text-align: right;\">\n",
       "      <th></th>\n",
       "      <th>job_title</th>\n",
       "      <th>job_id</th>\n",
       "      <th>company</th>\n",
       "      <th>location</th>\n",
       "      <th>job_occupation</th>\n",
       "      <th>level</th>\n",
       "      <th>job_type</th>\n",
       "      <th>content</th>\n",
       "      <th>date_scraped</th>\n",
       "      <th>categories</th>\n",
       "    </tr>\n",
       "  </thead>\n",
       "  <tbody>\n",
       "    <tr>\n",
       "      <th>0</th>\n",
       "      <td>Data Analyst</td>\n",
       "      <td>38344</td>\n",
       "      <td>Mellon Technologies</td>\n",
       "      <td>Pireas</td>\n",
       "      <td>IT</td>\n",
       "      <td>Mid level</td>\n",
       "      <td>Full-time</td>\n",
       "      <td>Description Responsible for the quality and co...</td>\n",
       "      <td>2022-12-17 01:39:00</td>\n",
       "      <td>Analytics</td>\n",
       "    </tr>\n",
       "    <tr>\n",
       "      <th>1</th>\n",
       "      <td>Data Engineer</td>\n",
       "      <td>37348</td>\n",
       "      <td>Ernst and Young</td>\n",
       "      <td>Patras</td>\n",
       "      <td>IT</td>\n",
       "      <td>Mid level</td>\n",
       "      <td>Full-time</td>\n",
       "      <td>Requisition ID: 146677 At EY, you’ll have the ...</td>\n",
       "      <td>2022-12-17 01:47:00</td>\n",
       "      <td>Engineering</td>\n",
       "    </tr>\n",
       "    <tr>\n",
       "      <th>2</th>\n",
       "      <td>Junior Data Engineer</td>\n",
       "      <td>37357</td>\n",
       "      <td>Ernst and Young</td>\n",
       "      <td>Athina</td>\n",
       "      <td>IT</td>\n",
       "      <td>Mid level</td>\n",
       "      <td>Full-time</td>\n",
       "      <td>Requisition ID: 127061 Junior Data Engineer At...</td>\n",
       "      <td>2022-12-17 01:47:00</td>\n",
       "      <td>Engineering</td>\n",
       "    </tr>\n",
       "    <tr>\n",
       "      <th>3</th>\n",
       "      <td>Data &amp; Analytics Manager - Data Engineering</td>\n",
       "      <td>37349</td>\n",
       "      <td>Ernst and Young</td>\n",
       "      <td>Athina</td>\n",
       "      <td>IT</td>\n",
       "      <td>Senior</td>\n",
       "      <td>Full-time</td>\n",
       "      <td>Requisition ID: 814902 At EY, you’ll have the ...</td>\n",
       "      <td>2022-12-17 01:47:00</td>\n",
       "      <td>Engineering</td>\n",
       "    </tr>\n",
       "    <tr>\n",
       "      <th>4</th>\n",
       "      <td>Data Scientist</td>\n",
       "      <td>37345</td>\n",
       "      <td>Ernst and Young</td>\n",
       "      <td>Patras</td>\n",
       "      <td>IT</td>\n",
       "      <td>Mid level</td>\n",
       "      <td>Full-time</td>\n",
       "      <td>Requisition ID: 147180 At EY, you’ll have the ...</td>\n",
       "      <td>2022-12-17 01:47:00</td>\n",
       "      <td>Science</td>\n",
       "    </tr>\n",
       "  </tbody>\n",
       "</table>\n",
       "</div>"
      ],
      "text/plain": [
       "                                     job_title  job_id              company  \\\n",
       "0                                 Data Analyst   38344  Mellon Technologies   \n",
       "1                                Data Engineer   37348      Ernst and Young   \n",
       "2                         Junior Data Engineer   37357      Ernst and Young   \n",
       "3  Data & Analytics Manager - Data Engineering   37349      Ernst and Young   \n",
       "4                               Data Scientist   37345      Ernst and Young   \n",
       "\n",
       "  location job_occupation      level   job_type  \\\n",
       "0   Pireas             IT  Mid level  Full-time   \n",
       "1   Patras             IT  Mid level  Full-time   \n",
       "2   Athina             IT  Mid level  Full-time   \n",
       "3   Athina             IT     Senior  Full-time   \n",
       "4   Patras             IT  Mid level  Full-time   \n",
       "\n",
       "                                             content        date_scraped  \\\n",
       "0  Description Responsible for the quality and co... 2022-12-17 01:39:00   \n",
       "1  Requisition ID: 146677 At EY, you’ll have the ... 2022-12-17 01:47:00   \n",
       "2  Requisition ID: 127061 Junior Data Engineer At... 2022-12-17 01:47:00   \n",
       "3  Requisition ID: 814902 At EY, you’ll have the ... 2022-12-17 01:47:00   \n",
       "4  Requisition ID: 147180 At EY, you’ll have the ... 2022-12-17 01:47:00   \n",
       "\n",
       "    categories  \n",
       "0    Analytics  \n",
       "1  Engineering  \n",
       "2  Engineering  \n",
       "3  Engineering  \n",
       "4      Science  "
      ]
     },
     "execution_count": 48,
     "metadata": {},
     "output_type": "execute_result"
    }
   ],
   "source": [
    "df.head()"
   ]
  },
  {
   "cell_type": "markdown",
   "id": "1db1e3d3",
   "metadata": {},
   "source": [
    "## Cleaning content"
   ]
  },
  {
   "cell_type": "code",
   "execution_count": 49,
   "id": "d72729c7",
   "metadata": {},
   "outputs": [],
   "source": [
    "df['content'] = df['content'].apply(\n",
    "    lambda x: x.replace('Description', '').replace('Company', '').replace(\n",
    "        'ΠΕΡΙΓΡΑΦΗ ΘΕΣΗΣ ΕΡΓΑΣΙΑΣ', '').replace('Job', '').replace(\n",
    "            '’s', '').replace('Purpose', '').strip())"
   ]
  },
  {
   "cell_type": "code",
   "execution_count": 50,
   "id": "f0af03d3",
   "metadata": {},
   "outputs": [],
   "source": [
    "import re"
   ]
  },
  {
   "cell_type": "code",
   "execution_count": 51,
   "id": "c23a176c",
   "metadata": {},
   "outputs": [],
   "source": [
    "df['content'] = df['content'].apply(lambda x : re.sub(r'Requisition ID: \\d+', '', x).strip())"
   ]
  },
  {
   "cell_type": "markdown",
   "id": "c6c7bd89",
   "metadata": {},
   "source": [
    "## Geolocate locations"
   ]
  },
  {
   "cell_type": "code",
   "execution_count": 52,
   "id": "eebfcb0b",
   "metadata": {},
   "outputs": [],
   "source": [
    "from geopy import geocoders\n",
    "import swifter\n",
    "gn = geocoders.GeoNames('asterios')"
   ]
  },
  {
   "cell_type": "code",
   "execution_count": 53,
   "id": "5fa4ad59",
   "metadata": {},
   "outputs": [
    {
     "data": {
      "application/vnd.jupyter.widget-view+json": {
       "model_id": "33b6c5f4d16447c39c9f356e30ba90d3",
       "version_major": 2,
       "version_minor": 0
      },
      "text/plain": [
       "Pandas Apply:   0%|          | 0/28 [00:00<?, ?it/s]"
      ]
     },
     "metadata": {},
     "output_type": "display_data"
    }
   ],
   "source": [
    "df['geo'] = df['location'].swifter.apply(lambda x : gn.geocode(x)).apply(lambda loc: tuple(loc.point) if loc else None)"
   ]
  },
  {
   "cell_type": "code",
   "execution_count": 54,
   "id": "b5b4c8f4",
   "metadata": {},
   "outputs": [],
   "source": [
    "df[['latitude', 'longitude', 'altitude']] = pd.DataFrame(df['geo'].tolist(), index=df.index)"
   ]
  },
  {
   "cell_type": "code",
   "execution_count": 55,
   "id": "8c5e48d6",
   "metadata": {},
   "outputs": [
    {
     "data": {
      "text/html": [
       "<div>\n",
       "<style scoped>\n",
       "    .dataframe tbody tr th:only-of-type {\n",
       "        vertical-align: middle;\n",
       "    }\n",
       "\n",
       "    .dataframe tbody tr th {\n",
       "        vertical-align: top;\n",
       "    }\n",
       "\n",
       "    .dataframe thead th {\n",
       "        text-align: right;\n",
       "    }\n",
       "</style>\n",
       "<table border=\"1\" class=\"dataframe\">\n",
       "  <thead>\n",
       "    <tr style=\"text-align: right;\">\n",
       "      <th></th>\n",
       "      <th>job_title</th>\n",
       "      <th>job_id</th>\n",
       "      <th>company</th>\n",
       "      <th>location</th>\n",
       "      <th>job_occupation</th>\n",
       "      <th>level</th>\n",
       "      <th>job_type</th>\n",
       "      <th>content</th>\n",
       "      <th>date_scraped</th>\n",
       "      <th>categories</th>\n",
       "      <th>geo</th>\n",
       "      <th>latitude</th>\n",
       "      <th>longitude</th>\n",
       "      <th>altitude</th>\n",
       "    </tr>\n",
       "  </thead>\n",
       "  <tbody>\n",
       "    <tr>\n",
       "      <th>0</th>\n",
       "      <td>Data Analyst</td>\n",
       "      <td>38344</td>\n",
       "      <td>Mellon Technologies</td>\n",
       "      <td>Pireas</td>\n",
       "      <td>IT</td>\n",
       "      <td>Mid level</td>\n",
       "      <td>Full-time</td>\n",
       "      <td>Responsible for the quality and completeness o...</td>\n",
       "      <td>2022-12-17 01:39:00</td>\n",
       "      <td>Analytics</td>\n",
       "      <td>(37.94203, 23.64619, 0.0)</td>\n",
       "      <td>37.94203</td>\n",
       "      <td>23.64619</td>\n",
       "      <td>0.0</td>\n",
       "    </tr>\n",
       "    <tr>\n",
       "      <th>1</th>\n",
       "      <td>Data Engineer</td>\n",
       "      <td>37348</td>\n",
       "      <td>Ernst and Young</td>\n",
       "      <td>Patras</td>\n",
       "      <td>IT</td>\n",
       "      <td>Mid level</td>\n",
       "      <td>Full-time</td>\n",
       "      <td>At EY, you’ll have the chance to build a caree...</td>\n",
       "      <td>2022-12-17 01:47:00</td>\n",
       "      <td>Engineering</td>\n",
       "      <td>(38.24444, 21.73444, 0.0)</td>\n",
       "      <td>38.24444</td>\n",
       "      <td>21.73444</td>\n",
       "      <td>0.0</td>\n",
       "    </tr>\n",
       "  </tbody>\n",
       "</table>\n",
       "</div>"
      ],
      "text/plain": [
       "       job_title  job_id              company location job_occupation  \\\n",
       "0   Data Analyst   38344  Mellon Technologies   Pireas             IT   \n",
       "1  Data Engineer   37348      Ernst and Young   Patras             IT   \n",
       "\n",
       "       level   job_type                                            content  \\\n",
       "0  Mid level  Full-time  Responsible for the quality and completeness o...   \n",
       "1  Mid level  Full-time  At EY, you’ll have the chance to build a caree...   \n",
       "\n",
       "         date_scraped   categories                        geo  latitude  \\\n",
       "0 2022-12-17 01:39:00    Analytics  (37.94203, 23.64619, 0.0)  37.94203   \n",
       "1 2022-12-17 01:47:00  Engineering  (38.24444, 21.73444, 0.0)  38.24444   \n",
       "\n",
       "   longitude  altitude  \n",
       "0   23.64619       0.0  \n",
       "1   21.73444       0.0  "
      ]
     },
     "execution_count": 55,
     "metadata": {},
     "output_type": "execute_result"
    }
   ],
   "source": [
    "df.head(2)"
   ]
  },
  {
   "cell_type": "markdown",
   "id": "86ce115f",
   "metadata": {},
   "source": [
    "### At this point we are done with the cleaning next up is droping unwanted columns and exporting  the csv for the main app"
   ]
  },
  {
   "cell_type": "code",
   "execution_count": 58,
   "id": "fc10ae4f",
   "metadata": {},
   "outputs": [
    {
     "data": {
      "text/html": [
       "<div>\n",
       "<style scoped>\n",
       "    .dataframe tbody tr th:only-of-type {\n",
       "        vertical-align: middle;\n",
       "    }\n",
       "\n",
       "    .dataframe tbody tr th {\n",
       "        vertical-align: top;\n",
       "    }\n",
       "\n",
       "    .dataframe thead th {\n",
       "        text-align: right;\n",
       "    }\n",
       "</style>\n",
       "<table border=\"1\" class=\"dataframe\">\n",
       "  <thead>\n",
       "    <tr style=\"text-align: right;\">\n",
       "      <th></th>\n",
       "      <th>job_title</th>\n",
       "      <th>company</th>\n",
       "      <th>location</th>\n",
       "      <th>level</th>\n",
       "      <th>job_type</th>\n",
       "      <th>content</th>\n",
       "      <th>categories</th>\n",
       "      <th>latitude</th>\n",
       "      <th>longitude</th>\n",
       "    </tr>\n",
       "  </thead>\n",
       "  <tbody>\n",
       "    <tr>\n",
       "      <th>0</th>\n",
       "      <td>Data Analyst</td>\n",
       "      <td>Mellon Technologies</td>\n",
       "      <td>Pireas</td>\n",
       "      <td>Mid level</td>\n",
       "      <td>Full-time</td>\n",
       "      <td>Responsible for the quality and completeness o...</td>\n",
       "      <td>Analytics</td>\n",
       "      <td>37.94203</td>\n",
       "      <td>23.64619</td>\n",
       "    </tr>\n",
       "    <tr>\n",
       "      <th>1</th>\n",
       "      <td>Data Engineer</td>\n",
       "      <td>Ernst and Young</td>\n",
       "      <td>Patras</td>\n",
       "      <td>Mid level</td>\n",
       "      <td>Full-time</td>\n",
       "      <td>At EY, you’ll have the chance to build a caree...</td>\n",
       "      <td>Engineering</td>\n",
       "      <td>38.24444</td>\n",
       "      <td>21.73444</td>\n",
       "    </tr>\n",
       "    <tr>\n",
       "      <th>2</th>\n",
       "      <td>Junior Data Engineer</td>\n",
       "      <td>Ernst and Young</td>\n",
       "      <td>Athina</td>\n",
       "      <td>Mid level</td>\n",
       "      <td>Full-time</td>\n",
       "      <td>Junior Data Engineer At EY, you’ll have the ch...</td>\n",
       "      <td>Engineering</td>\n",
       "      <td>37.98376</td>\n",
       "      <td>23.72784</td>\n",
       "    </tr>\n",
       "    <tr>\n",
       "      <th>3</th>\n",
       "      <td>Data &amp; Analytics Manager - Data Engineering</td>\n",
       "      <td>Ernst and Young</td>\n",
       "      <td>Athina</td>\n",
       "      <td>Senior</td>\n",
       "      <td>Full-time</td>\n",
       "      <td>At EY, you’ll have the chance to build a caree...</td>\n",
       "      <td>Engineering</td>\n",
       "      <td>37.98376</td>\n",
       "      <td>23.72784</td>\n",
       "    </tr>\n",
       "    <tr>\n",
       "      <th>4</th>\n",
       "      <td>Data Scientist</td>\n",
       "      <td>Ernst and Young</td>\n",
       "      <td>Patras</td>\n",
       "      <td>Mid level</td>\n",
       "      <td>Full-time</td>\n",
       "      <td>At EY, you’ll have the chance to build a caree...</td>\n",
       "      <td>Science</td>\n",
       "      <td>38.24444</td>\n",
       "      <td>21.73444</td>\n",
       "    </tr>\n",
       "    <tr>\n",
       "      <th>5</th>\n",
       "      <td>Senior Data Engineer</td>\n",
       "      <td>EUROPEAN DYNAMICS</td>\n",
       "      <td>Marousi</td>\n",
       "      <td>Senior</td>\n",
       "      <td>Full-time</td>\n",
       "      <td>We currently have vacancy position for a Senio...</td>\n",
       "      <td>Engineering</td>\n",
       "      <td>38.05000</td>\n",
       "      <td>23.80000</td>\n",
       "    </tr>\n",
       "    <tr>\n",
       "      <th>6</th>\n",
       "      <td>Data Engineer</td>\n",
       "      <td>PeopleCert</td>\n",
       "      <td>Athina</td>\n",
       "      <td>Senior</td>\n",
       "      <td>Full-time</td>\n",
       "      <td>Are you interested in working with a leading e...</td>\n",
       "      <td>Engineering</td>\n",
       "      <td>37.98376</td>\n",
       "      <td>23.72784</td>\n",
       "    </tr>\n",
       "    <tr>\n",
       "      <th>7</th>\n",
       "      <td>Data Engineer and Reporting Analyst</td>\n",
       "      <td>AEGEAN AIRLINES</td>\n",
       "      <td>Spata</td>\n",
       "      <td>Entry/Junior</td>\n",
       "      <td>Full-time</td>\n",
       "      <td>Data Engineer and Reporting Analyst Division: ...</td>\n",
       "      <td>Analytics</td>\n",
       "      <td>37.96163</td>\n",
       "      <td>23.91514</td>\n",
       "    </tr>\n",
       "    <tr>\n",
       "      <th>8</th>\n",
       "      <td>Data Analyst</td>\n",
       "      <td>Tech4sGroup</td>\n",
       "      <td>Limassol</td>\n",
       "      <td>Mid level</td>\n",
       "      <td>Full-time</td>\n",
       "      <td>Tech4S Group, is a fast growing and innovative...</td>\n",
       "      <td>Analytics</td>\n",
       "      <td>34.68406</td>\n",
       "      <td>33.03794</td>\n",
       "    </tr>\n",
       "    <tr>\n",
       "      <th>9</th>\n",
       "      <td>Python Developer and Data Scientist</td>\n",
       "      <td>NaN</td>\n",
       "      <td>Pireas</td>\n",
       "      <td>Mid level</td>\n",
       "      <td>Full-time</td>\n",
       "      <td>A financial services company is looking for a ...</td>\n",
       "      <td>Science</td>\n",
       "      <td>37.94203</td>\n",
       "      <td>23.64619</td>\n",
       "    </tr>\n",
       "    <tr>\n",
       "      <th>10</th>\n",
       "      <td>Data Analyst</td>\n",
       "      <td>Scorpios Mykonos</td>\n",
       "      <td>Athina</td>\n",
       "      <td>Mid level</td>\n",
       "      <td>Full-time</td>\n",
       "      <td>Scorpios is looking for a Data Analyst who wil...</td>\n",
       "      <td>Analytics</td>\n",
       "      <td>37.98376</td>\n",
       "      <td>23.72784</td>\n",
       "    </tr>\n",
       "    <tr>\n",
       "      <th>11</th>\n",
       "      <td>Data Analyst</td>\n",
       "      <td>Κ. Δ. ΜΠΑΚΑΛΑΡΟΣ ΑΕ</td>\n",
       "      <td>Patras</td>\n",
       "      <td>Mid level</td>\n",
       "      <td>Full-time</td>\n",
       "      <td>Bakalaros Group is a Leading Commercial Networ...</td>\n",
       "      <td>Analytics</td>\n",
       "      <td>38.24444</td>\n",
       "      <td>21.73444</td>\n",
       "    </tr>\n",
       "    <tr>\n",
       "      <th>12</th>\n",
       "      <td>Data Engineer/ Business Intelligence Expert</td>\n",
       "      <td>Netcompany-Intrasoft</td>\n",
       "      <td>Peania</td>\n",
       "      <td>Mid level</td>\n",
       "      <td>Full-time</td>\n",
       "      <td>We are Netcompany-Intrasoft, a leading Europea...</td>\n",
       "      <td>Engineering</td>\n",
       "      <td>15.76251</td>\n",
       "      <td>120.37453</td>\n",
       "    </tr>\n",
       "    <tr>\n",
       "      <th>13</th>\n",
       "      <td>Consumer Data Scientist</td>\n",
       "      <td>ΠΑΠΑΣΤΡΑΤΟΣ</td>\n",
       "      <td>Imeros Topos</td>\n",
       "      <td>Mid level</td>\n",
       "      <td>Full-time</td>\n",
       "      <td>Be a part of a revolutionary change At PMI, we...</td>\n",
       "      <td>Science</td>\n",
       "      <td>NaN</td>\n",
       "      <td>NaN</td>\n",
       "    </tr>\n",
       "    <tr>\n",
       "      <th>14</th>\n",
       "      <td>Loyalty Data Analyst</td>\n",
       "      <td>ΑΒ Βασιλόπουλος</td>\n",
       "      <td>Gerakas</td>\n",
       "      <td>Mid level</td>\n",
       "      <td>Full-time</td>\n",
       "      <td>The Loyalty Data Analyst will be part of the B...</td>\n",
       "      <td>Analytics</td>\n",
       "      <td>38.02277</td>\n",
       "      <td>23.85760</td>\n",
       "    </tr>\n",
       "    <tr>\n",
       "      <th>15</th>\n",
       "      <td>Data Analyst</td>\n",
       "      <td>Delfi Partners &amp; Company</td>\n",
       "      <td>Athina</td>\n",
       "      <td>Mid level</td>\n",
       "      <td>Full-time</td>\n",
       "      <td>This position requires a strong command of dat...</td>\n",
       "      <td>Analytics</td>\n",
       "      <td>37.98376</td>\n",
       "      <td>23.72784</td>\n",
       "    </tr>\n",
       "    <tr>\n",
       "      <th>16</th>\n",
       "      <td>Senior Data Scientist</td>\n",
       "      <td>Κωτσόβολος - Dixons South East Europe</td>\n",
       "      <td>Athina</td>\n",
       "      <td>Senior</td>\n",
       "      <td>Full-time/Part-time</td>\n",
       "      <td>In Kotsovolos, a member of Currys group, we be...</td>\n",
       "      <td>Science</td>\n",
       "      <td>37.98376</td>\n",
       "      <td>23.72784</td>\n",
       "    </tr>\n",
       "    <tr>\n",
       "      <th>17</th>\n",
       "      <td>Data Engineer</td>\n",
       "      <td>Κωτσόβολος - Dixons South East Europe</td>\n",
       "      <td>Athina</td>\n",
       "      <td>Mid level</td>\n",
       "      <td>Full-time/Part-time</td>\n",
       "      <td>In Kotsovolos, a member of Currys group, we be...</td>\n",
       "      <td>Engineering</td>\n",
       "      <td>37.98376</td>\n",
       "      <td>23.72784</td>\n",
       "    </tr>\n",
       "    <tr>\n",
       "      <th>18</th>\n",
       "      <td>Senior Data Engineer</td>\n",
       "      <td>Κωτσόβολος - Dixons South East Europe</td>\n",
       "      <td>Athina</td>\n",
       "      <td>Senior</td>\n",
       "      <td>Full-time/Part-time</td>\n",
       "      <td>In Kotsovolos, a member of Currys group, we be...</td>\n",
       "      <td>Engineering</td>\n",
       "      <td>37.98376</td>\n",
       "      <td>23.72784</td>\n",
       "    </tr>\n",
       "    <tr>\n",
       "      <th>19</th>\n",
       "      <td>Data Engineer</td>\n",
       "      <td>Executive Level</td>\n",
       "      <td>Athina</td>\n",
       "      <td>Mid level</td>\n",
       "      <td>Full-time</td>\n",
       "      <td>Data Engineer Responsibilities Identify data s...</td>\n",
       "      <td>Engineering</td>\n",
       "      <td>37.98376</td>\n",
       "      <td>23.72784</td>\n",
       "    </tr>\n",
       "    <tr>\n",
       "      <th>20</th>\n",
       "      <td>Senior BI &amp; Data Engineer</td>\n",
       "      <td>WATT AND VOLT A.E.</td>\n",
       "      <td>Marousi</td>\n",
       "      <td>Senior</td>\n",
       "      <td>Full-time</td>\n",
       "      <td>WATT+VOLT is one of the largest energy provide...</td>\n",
       "      <td>Engineering</td>\n",
       "      <td>38.05000</td>\n",
       "      <td>23.80000</td>\n",
       "    </tr>\n",
       "    <tr>\n",
       "      <th>21</th>\n",
       "      <td>Senior Mobile Data Engineer</td>\n",
       "      <td>Volton Ελληνική Ενεργειακή Α.Ε.</td>\n",
       "      <td>Metamorfosi</td>\n",
       "      <td>Senior</td>\n",
       "      <td>Full-time</td>\n",
       "      <td>Volton Hellenic Energy SA is a Greek company t...</td>\n",
       "      <td>Engineering</td>\n",
       "      <td>38.06576</td>\n",
       "      <td>23.76356</td>\n",
       "    </tr>\n",
       "    <tr>\n",
       "      <th>22</th>\n",
       "      <td>Senior Data Engineer</td>\n",
       "      <td>Κωτσόβολος - Dixons South East Europe</td>\n",
       "      <td>Athina</td>\n",
       "      <td>Senior</td>\n",
       "      <td>Full-time/Part-time</td>\n",
       "      <td>In Kotsovolos, a member of Currys group, we be...</td>\n",
       "      <td>Engineering</td>\n",
       "      <td>37.98376</td>\n",
       "      <td>23.72784</td>\n",
       "    </tr>\n",
       "    <tr>\n",
       "      <th>23</th>\n",
       "      <td>Senior Data Scientist</td>\n",
       "      <td>Κωτσόβολος - Dixons South East Europe</td>\n",
       "      <td>Athina</td>\n",
       "      <td>Senior</td>\n",
       "      <td>Full-time/Part-time</td>\n",
       "      <td>In Kotsovolos, a member of Currys group, we be...</td>\n",
       "      <td>Science</td>\n",
       "      <td>37.98376</td>\n",
       "      <td>23.72784</td>\n",
       "    </tr>\n",
       "    <tr>\n",
       "      <th>24</th>\n",
       "      <td>Data Engineer</td>\n",
       "      <td>Κωτσόβολος - Dixons South East Europe</td>\n",
       "      <td>Athina</td>\n",
       "      <td>Mid level</td>\n",
       "      <td>Full-time/Part-time</td>\n",
       "      <td>In Kotsovolos, a member of Currys group, we be...</td>\n",
       "      <td>Engineering</td>\n",
       "      <td>37.98376</td>\n",
       "      <td>23.72784</td>\n",
       "    </tr>\n",
       "    <tr>\n",
       "      <th>25</th>\n",
       "      <td>Data Engineer - Spark Developer</td>\n",
       "      <td>EUROPEAN DYNAMICS</td>\n",
       "      <td>Marousi</td>\n",
       "      <td>Mid level</td>\n",
       "      <td>Full-time</td>\n",
       "      <td>We currently have a vacancy position for a Dat...</td>\n",
       "      <td>Engineering</td>\n",
       "      <td>38.05000</td>\n",
       "      <td>23.80000</td>\n",
       "    </tr>\n",
       "    <tr>\n",
       "      <th>26</th>\n",
       "      <td>Data Engineer</td>\n",
       "      <td>DEMO AEBE</td>\n",
       "      <td>Krioneri</td>\n",
       "      <td>Mid level</td>\n",
       "      <td>Full-time</td>\n",
       "      <td>At Demo SA, one of the world largest pharmaceu...</td>\n",
       "      <td>Engineering</td>\n",
       "      <td>37.80476</td>\n",
       "      <td>20.90462</td>\n",
       "    </tr>\n",
       "    <tr>\n",
       "      <th>27</th>\n",
       "      <td>Data Engineer</td>\n",
       "      <td>Executive Level</td>\n",
       "      <td>Athina</td>\n",
       "      <td>Mid level</td>\n",
       "      <td>Full-time</td>\n",
       "      <td>Data Engineer Responsibilities Identify data s...</td>\n",
       "      <td>Engineering</td>\n",
       "      <td>37.98376</td>\n",
       "      <td>23.72784</td>\n",
       "    </tr>\n",
       "  </tbody>\n",
       "</table>\n",
       "</div>"
      ],
      "text/plain": [
       "                                      job_title  \\\n",
       "0                                  Data Analyst   \n",
       "1                                 Data Engineer   \n",
       "2                          Junior Data Engineer   \n",
       "3   Data & Analytics Manager - Data Engineering   \n",
       "4                                Data Scientist   \n",
       "5                          Senior Data Engineer   \n",
       "6                                 Data Engineer   \n",
       "7           Data Engineer and Reporting Analyst   \n",
       "8                                  Data Analyst   \n",
       "9           Python Developer and Data Scientist   \n",
       "10                                 Data Analyst   \n",
       "11                                 Data Analyst   \n",
       "12  Data Engineer/ Business Intelligence Expert   \n",
       "13                      Consumer Data Scientist   \n",
       "14                         Loyalty Data Analyst   \n",
       "15                                 Data Analyst   \n",
       "16                        Senior Data Scientist   \n",
       "17                                Data Engineer   \n",
       "18                         Senior Data Engineer   \n",
       "19                                Data Engineer   \n",
       "20                    Senior BI & Data Engineer   \n",
       "21                  Senior Mobile Data Engineer   \n",
       "22                         Senior Data Engineer   \n",
       "23                        Senior Data Scientist   \n",
       "24                                Data Engineer   \n",
       "25              Data Engineer - Spark Developer   \n",
       "26                                Data Engineer   \n",
       "27                                Data Engineer   \n",
       "\n",
       "                                  company      location         level  \\\n",
       "0                     Mellon Technologies        Pireas     Mid level   \n",
       "1                         Ernst and Young        Patras     Mid level   \n",
       "2                         Ernst and Young        Athina     Mid level   \n",
       "3                         Ernst and Young        Athina        Senior   \n",
       "4                         Ernst and Young        Patras     Mid level   \n",
       "5                       EUROPEAN DYNAMICS       Marousi        Senior   \n",
       "6                              PeopleCert        Athina        Senior   \n",
       "7                         AEGEAN AIRLINES         Spata  Entry/Junior   \n",
       "8                             Tech4sGroup      Limassol     Mid level   \n",
       "9                                     NaN        Pireas     Mid level   \n",
       "10                       Scorpios Mykonos        Athina     Mid level   \n",
       "11                    Κ. Δ. ΜΠΑΚΑΛΑΡΟΣ ΑΕ        Patras     Mid level   \n",
       "12                   Netcompany-Intrasoft        Peania     Mid level   \n",
       "13                            ΠΑΠΑΣΤΡΑΤΟΣ  Imeros Topos     Mid level   \n",
       "14                        ΑΒ Βασιλόπουλος       Gerakas     Mid level   \n",
       "15               Delfi Partners & Company        Athina     Mid level   \n",
       "16  Κωτσόβολος - Dixons South East Europe        Athina        Senior   \n",
       "17  Κωτσόβολος - Dixons South East Europe        Athina     Mid level   \n",
       "18  Κωτσόβολος - Dixons South East Europe        Athina        Senior   \n",
       "19                        Executive Level        Athina     Mid level   \n",
       "20                     WATT AND VOLT A.E.       Marousi        Senior   \n",
       "21        Volton Ελληνική Ενεργειακή Α.Ε.   Metamorfosi        Senior   \n",
       "22  Κωτσόβολος - Dixons South East Europe        Athina        Senior   \n",
       "23  Κωτσόβολος - Dixons South East Europe        Athina        Senior   \n",
       "24  Κωτσόβολος - Dixons South East Europe        Athina     Mid level   \n",
       "25                      EUROPEAN DYNAMICS       Marousi     Mid level   \n",
       "26                              DEMO AEBE      Krioneri     Mid level   \n",
       "27                        Executive Level        Athina     Mid level   \n",
       "\n",
       "               job_type                                            content  \\\n",
       "0             Full-time  Responsible for the quality and completeness o...   \n",
       "1             Full-time  At EY, you’ll have the chance to build a caree...   \n",
       "2             Full-time  Junior Data Engineer At EY, you’ll have the ch...   \n",
       "3             Full-time  At EY, you’ll have the chance to build a caree...   \n",
       "4             Full-time  At EY, you’ll have the chance to build a caree...   \n",
       "5             Full-time  We currently have vacancy position for a Senio...   \n",
       "6             Full-time  Are you interested in working with a leading e...   \n",
       "7             Full-time  Data Engineer and Reporting Analyst Division: ...   \n",
       "8             Full-time  Tech4S Group, is a fast growing and innovative...   \n",
       "9             Full-time  A financial services company is looking for a ...   \n",
       "10            Full-time  Scorpios is looking for a Data Analyst who wil...   \n",
       "11            Full-time  Bakalaros Group is a Leading Commercial Networ...   \n",
       "12            Full-time  We are Netcompany-Intrasoft, a leading Europea...   \n",
       "13            Full-time  Be a part of a revolutionary change At PMI, we...   \n",
       "14            Full-time  The Loyalty Data Analyst will be part of the B...   \n",
       "15            Full-time  This position requires a strong command of dat...   \n",
       "16  Full-time/Part-time  In Kotsovolos, a member of Currys group, we be...   \n",
       "17  Full-time/Part-time  In Kotsovolos, a member of Currys group, we be...   \n",
       "18  Full-time/Part-time  In Kotsovolos, a member of Currys group, we be...   \n",
       "19            Full-time  Data Engineer Responsibilities Identify data s...   \n",
       "20            Full-time  WATT+VOLT is one of the largest energy provide...   \n",
       "21            Full-time  Volton Hellenic Energy SA is a Greek company t...   \n",
       "22  Full-time/Part-time  In Kotsovolos, a member of Currys group, we be...   \n",
       "23  Full-time/Part-time  In Kotsovolos, a member of Currys group, we be...   \n",
       "24  Full-time/Part-time  In Kotsovolos, a member of Currys group, we be...   \n",
       "25            Full-time  We currently have a vacancy position for a Dat...   \n",
       "26            Full-time  At Demo SA, one of the world largest pharmaceu...   \n",
       "27            Full-time  Data Engineer Responsibilities Identify data s...   \n",
       "\n",
       "     categories  latitude  longitude  \n",
       "0     Analytics  37.94203   23.64619  \n",
       "1   Engineering  38.24444   21.73444  \n",
       "2   Engineering  37.98376   23.72784  \n",
       "3   Engineering  37.98376   23.72784  \n",
       "4       Science  38.24444   21.73444  \n",
       "5   Engineering  38.05000   23.80000  \n",
       "6   Engineering  37.98376   23.72784  \n",
       "7     Analytics  37.96163   23.91514  \n",
       "8     Analytics  34.68406   33.03794  \n",
       "9       Science  37.94203   23.64619  \n",
       "10    Analytics  37.98376   23.72784  \n",
       "11    Analytics  38.24444   21.73444  \n",
       "12  Engineering  15.76251  120.37453  \n",
       "13      Science       NaN        NaN  \n",
       "14    Analytics  38.02277   23.85760  \n",
       "15    Analytics  37.98376   23.72784  \n",
       "16      Science  37.98376   23.72784  \n",
       "17  Engineering  37.98376   23.72784  \n",
       "18  Engineering  37.98376   23.72784  \n",
       "19  Engineering  37.98376   23.72784  \n",
       "20  Engineering  38.05000   23.80000  \n",
       "21  Engineering  38.06576   23.76356  \n",
       "22  Engineering  37.98376   23.72784  \n",
       "23      Science  37.98376   23.72784  \n",
       "24  Engineering  37.98376   23.72784  \n",
       "25  Engineering  38.05000   23.80000  \n",
       "26  Engineering  37.80476   20.90462  \n",
       "27  Engineering  37.98376   23.72784  "
      ]
     },
     "execution_count": 58,
     "metadata": {},
     "output_type": "execute_result"
    }
   ],
   "source": [
    "df"
   ]
  },
  {
   "cell_type": "code",
   "execution_count": 56,
   "id": "56a7eb92",
   "metadata": {},
   "outputs": [],
   "source": [
    "df.drop(['job_id','job_occupation','date_scraped','geo','altitude'],axis=1,inplace=True)"
   ]
  },
  {
   "cell_type": "code",
   "execution_count": 57,
   "id": "9670775c",
   "metadata": {},
   "outputs": [],
   "source": [
    "df.to_csv('job_board.csv',index=False)"
   ]
  }
 ],
 "metadata": {
  "kernelspec": {
   "display_name": "Python 3 (ipykernel)",
   "language": "python",
   "name": "python3"
  },
  "language_info": {
   "codemirror_mode": {
    "name": "ipython",
    "version": 3
   },
   "file_extension": ".py",
   "mimetype": "text/x-python",
   "name": "python",
   "nbconvert_exporter": "python",
   "pygments_lexer": "ipython3",
   "version": "3.8.10"
  }
 },
 "nbformat": 4,
 "nbformat_minor": 5
}
